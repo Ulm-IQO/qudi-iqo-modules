{
 "cells": [
  {
   "cell_type": "markdown",
   "metadata": {},
   "source": [
    "# Import"
   ]
  },
  {
   "cell_type": "code",
   "execution_count": 1,
   "metadata": {
    "pycharm": {
     "is_executing": false,
     "name": "#%%\n"
    }
   },
   "outputs": [
    {
     "ename": "FileNotFoundError",
     "evalue": "[Errno 2] No such file or directory: 'user_scripts/Timo/from_Simon/script_logic_essentials.py'",
     "output_type": "error",
     "traceback": [
      "\u001b[1;31m---------------------------------------------------------------------------\u001b[0m",
      "\u001b[1;31mFileNotFoundError\u001b[0m                         Traceback (most recent call last)",
      "\u001b[1;32mC:\\Users\\SETUP3~1\\AppData\\Local\\Temp/ipykernel_14816/23813881.py\u001b[0m in \u001b[0;36m<module>\u001b[1;34m\u001b[0m\n\u001b[0;32m      6\u001b[0m \u001b[1;33m\u001b[0m\u001b[0m\n\u001b[0;32m      7\u001b[0m \u001b[1;31m# import essentials via run\u001b[0m\u001b[1;33m\u001b[0m\u001b[1;33m\u001b[0m\u001b[1;33m\u001b[0m\u001b[0m\n\u001b[1;32m----> 8\u001b[1;33m \u001b[0mexec\u001b[0m\u001b[1;33m(\u001b[0m\u001b[0mopen\u001b[0m\u001b[1;33m(\u001b[0m\u001b[0mpath_essentials\u001b[0m\u001b[1;33m)\u001b[0m\u001b[1;33m.\u001b[0m\u001b[0mread\u001b[0m\u001b[1;33m(\u001b[0m\u001b[1;33m)\u001b[0m\u001b[1;33m)\u001b[0m\u001b[1;33m\u001b[0m\u001b[1;33m\u001b[0m\u001b[0m\n\u001b[0m\u001b[0;32m      9\u001b[0m \u001b[1;31m# usual module imports\u001b[0m\u001b[1;33m\u001b[0m\u001b[1;33m\u001b[0m\u001b[1;33m\u001b[0m\u001b[0m\n\u001b[0;32m     10\u001b[0m \u001b[0msys\u001b[0m\u001b[1;33m.\u001b[0m\u001b[0mpath\u001b[0m\u001b[1;33m.\u001b[0m\u001b[0mappend\u001b[0m\u001b[1;33m(\u001b[0m\u001b[0mpath_curdir\u001b[0m\u001b[1;33m)\u001b[0m\u001b[1;33m\u001b[0m\u001b[1;33m\u001b[0m\u001b[0m\n",
      "\u001b[1;31mFileNotFoundError\u001b[0m: [Errno 2] No such file or directory: 'user_scripts/Timo/from_Simon/script_logic_essentials.py'"
     ]
    }
   ],
   "source": [
    "path_essentials = 'user_scripts/Timo/from_Simon/script_logic_essentials.py'\n",
    "path_curdir = 'jupyter/Timo/own/'\n",
    "\n",
    "import os, time, sys\n",
    "import numpy as np\n",
    "\n",
    "# import essentials via run\n",
    "exec(open(path_essentials).read())\n",
    "# usual module imports\n",
    "sys.path.append(path_curdir)\n",
    "\n",
    "import logging\n",
    "logging.basicConfig(filename='logfile.log', filemode='w', level=logging.DEBUG)\n",
    "logger = logging.getLogger(__name__)\n",
    "\n",
    "memory_dict = OrderedDict()\n",
    "\n",
    "config_matplotlib_jupyter()\n",
    "print_welcome_msg()"
   ]
  },
  {
   "cell_type": "code",
   "execution_count": 155,
   "metadata": {},
   "outputs": [
    {
     "data": {
      "text/plain": [
       "True"
      ]
     },
     "execution_count": 155,
     "metadata": {},
     "output_type": "execute_result"
    }
   ],
   "source": [
    "# check whether fastcounter is setup for gated aqcusition\n",
    "setup['gated']"
   ]
  },
  {
   "cell_type": "markdown",
   "metadata": {},
   "source": [
    "# Common parameters"
   ]
  },
  {
   "cell_type": "code",
   "execution_count": 161,
   "metadata": {
    "pycharm": {
     "is_executing": false,
     "name": "#%%\n"
    }
   },
   "outputs": [],
   "source": [
    "# MW parameters\n",
    "common_rabi_period = 56.0e-9 #M2 149.1e-9#760e-9#245.5e-9 #159.5e-9\n",
    "common_mw_freq =  2775.0e6#827.64e6 #M2 1503.592e6 #M15, 1507.455e6  #1507.747#7e6  #1503.336e6  #2656.5e6#NV M3 1.497129e9 #NV M2 1.503316e9 \n",
    "common_mw_amp = 0.25\n",
    "\n",
    "# Readout\n",
    "# RELOAD logic_essentials and upload new seq when changing!\n",
    "common_t_laser_pulsed = 3e-6   # for pulsed mes (non NI acq)\n",
    "\n",
    "# Ramsey\n",
    "common_mw_ramsey_offset = 1000e3   # Hz, detuning, \n",
    "common_mw_ramsey_off_from_calib = 1340e3 #0.1e6 #[0.66e6, 0.72e6]   # Hz, detuning,taken for checking valid\n",
    "\n",
    "\n"
   ]
  },
  {
   "cell_type": "markdown",
   "metadata": {},
   "source": [
    "# Library"
   ]
  },
  {
   "cell_type": "markdown",
   "metadata": {},
   "source": [
    "## Basics"
   ]
  },
  {
   "cell_type": "code",
   "execution_count": 152,
   "metadata": {},
   "outputs": [],
   "source": [
    "import pickle\n",
    "from scipy.optimize import curve_fit\n",
    "from scipy.stats import poisson\n",
    "\n",
    "def setup_podmr_params(f_res, p_scale=10, p_scale_onlyperiod=1, f_step=0.1e6, n_f=50, t_pi_manual=None,\n",
    "                      t_wait_2=0.0e-9):\n",
    "    # @param p_scale_onlyperiod: scales rabi period according to given power factor.\n",
    "    #                            useful, if externally controlling poewr\n",
    "    qmeas=OrderedDict()\n",
    "    qmeas['name'] = 'pulsedodmr'\n",
    "    setup['laser_length'] = common_t_laser_pulsed\n",
    "    \n",
    "    if t_pi_manual:\n",
    "        qmeas['rabi_period'] = 2*t_pi_manual\n",
    "    else:\n",
    "        qmeas['rabi_period'] = common_rabi_period*p_scale*p_scale_onlyperiod\n",
    "    qmeas['freq_step'] = f_step\n",
    "    qmeas['num_of_points'] = n_f\n",
    "    qmeas['freq_start'] = f_res - (qmeas['freq_step'] * qmeas['num_of_points'])/2.\n",
    "    if p_scale != 1:\n",
    "        qmeas['microwave_amplitude'] = common_mw_amp/(2.*p_scale)\n",
    "    else:\n",
    "        qmeas['microwave_amplitude'] = common_mw_amp\n",
    "    qmeas['measurement_time'] = 1500 \n",
    "    qmeas['optimize_time'] = None\n",
    "    qmeas['fit_experiment'] = 'lor_dip'\n",
    "    \n",
    "    return qmeas\n",
    "\n",
    "\n",
    "def setup_rabi_params(tau_step=None, p_scale=1):\n",
    "    \n",
    "    qmeas=OrderedDict()\n",
    "    qmeas['name'] = 'Rabi'\n",
    "    setup['laser_length'] = common_t_laser_pulsed\n",
    "    \n",
    "    if tau_step is None:   \n",
    "        tau_step = 5e-9\n",
    "    qmeas['tau_step'] = tau_step\n",
    "    qmeas['tau_start'] = 0e-9\n",
    "    qmeas['num_of_points'] = 50\n",
    "    qmeas['microwave_frequency'] = common_mw_freq #+ 0.5*3.03e6\n",
    "    if p_scale != 1:\n",
    "        qmeas['microwave_amplitude'] = common_mw_amp/(2.*p_scale)\n",
    "    else:\n",
    "        qmeas['microwave_amplitude'] = common_mw_amp\n",
    "    qmeas['measurement_time'] = None\n",
    "    qmeas['optimize_time'] = None\n",
    "    qmeas['freq_optimize_time'] = None\n",
    "    #qmeas['fit_experiment'] = None  #'cosine'\n",
    "    #qmeas['analysis_interval'] = 3\n",
    "    #qmeas['n_sweeps'] = 5\n",
    "    \n",
    "    return qmeas\n",
    "\n",
    "def setup_ramsey_params(tau_start=100e-9, n_tau=1, tau_step=None):\n",
    "    qmeas=OrderedDict()\n",
    "    qmeas['name'] = 'Ramsey'\n",
    "    setup['laser_length'] = common_t_laser_pulsed\n",
    "    \n",
    "    qmeas['rabi_period'] = common_rabi_period\n",
    "    qmeas['microwave_frequency'] = common_mw_freq + common_mw_ramsey_offset\n",
    "    qmeas['microwave_amplitude'] = common_mw_amp\n",
    "    qmeas['tau_start'] = tau_start\n",
    "    if tau_step is None:\n",
    "        qmeas['tau_step'] = 50e-9\n",
    "    else:\n",
    "        qmeas['tau_step'] = tau_step\n",
    "    qmeas['num_of_points'] = n_tau\n",
    "    qmeas['alternating'] = False\n",
    "    \n",
    "    qmeas['from_list'] = False\n",
    "    \n",
    "    qmeas['optimize_time'] = None\n",
    "    #qmeas['freq_optimization_time'] = None\n",
    "    #qmeas['analysis_interval'] = 3\n",
    "    if n_tau > 1:\n",
    "        qmeas['fit_experiment'] = 'sine_decay'\n",
    " \n",
    "    return qmeas\n",
    "\n",
    "def setup_xy8_tausweep_params(tau_start=100e-9, n_tau=20, tau_step=None, xy8_order=1, alternating=False):\n",
    "    qmeas=OrderedDict()\n",
    "    qmeas['name'] = 'xy8_tau'\n",
    "    setup['laser_length'] = common_t_laser_pulsed\n",
    "    \n",
    "    qmeas['rabi_period'] = common_rabi_period\n",
    "    qmeas['microwave_frequency'] = common_mw_freq \n",
    "    qmeas['microwave_amplitude'] = common_mw_amp\n",
    "    \n",
    "    qmeas['xy8_order'] = xy8_order\n",
    "    qmeas['tau_start'] = tau_start\n",
    "    if tau_step is None:\n",
    "        qmeas['tau_step'] = 100e-9\n",
    "    else:\n",
    "        qmeas['tau_step'] = tau_step\n",
    "        \n",
    "    \n",
    "    qmeas['num_of_points'] = n_tau\n",
    "    qmeas['alternating'] = alternating\n",
    "    \n",
    "    qmeas['from_list'] = False\n",
    "    \n",
    "    qmeas['optimize_time'] = None\n",
    "    #qmeas['freq_optimization_time'] = None\n",
    "    #qmeas['analysis_interval'] = 3\n",
    "    if n_tau > 1:\n",
    "        qmeas['fit_experiment'] = 'Lorentz dip'\n",
    " \n",
    "    return qmeas\n",
    "\n",
    "def setup_xy8_nsweep_params(tau=500e-9, n_n=20, xy8_start=1, xy8_step=1, alternating=False):\n",
    "    qmeas=OrderedDict()\n",
    "    qmeas['name'] = 'xy8_nsweep'\n",
    "    setup['laser_length'] = common_t_laser_pulsed\n",
    "    \n",
    "    qmeas['rabi_period'] = common_rabi_period\n",
    "    qmeas['microwave_frequency'] = common_mw_freq \n",
    "    qmeas['microwave_amplitude'] = common_mw_amp\n",
    "    \n",
    "    qmeas['tau'] = tau\n",
    "    qmeas['xy8_start'] = xy8_start\n",
    "    qmeas['xy8_step'] = xy8_step\n",
    "\n",
    "        \n",
    "    \n",
    "    qmeas['num_of_points'] = n_n\n",
    "    qmeas['alternating'] = alternating\n",
    "    \n",
    "    qmeas['from_list'] = False\n",
    "    \n",
    "    qmeas['optimize_time'] = None\n",
    "    #qmeas['freq_optimization_time'] = None\n",
    "    #qmeas['analysis_interval'] = 3\n",
    "    if n_n > 1:\n",
    "        qmeas['fit_experiment'] = 'sine_decay'\n",
    " \n",
    "    return qmeas\n",
    "\n",
    "def run_pdomr(mes_params, save_tag=None, generate_new=True):\n",
    "    \n",
    "    up_to = (mes_params['freq_start'] + mes_params['freq_step'] * mes_params['num_of_points'])\n",
    "    laser_off()\n",
    "    if save_tag is None:\n",
    "        save_tag='pOdmr_{:.2f}_{:.2f}MHz'.format(mes_params['freq_start']/1e6, up_to/1e6)\n",
    "    do_experiment(experiment='podmr_pentacene', qm_dict=mes_params, meas_type=conventional_measurement, meas_info=add_conventional_information, \n",
    "                  generate_new=generate_new, save_tag=save_tag, load_tag='')\n",
    "\n",
    "def run_generic(mes_params, save_tag=None, generate_new=True):\n",
    "    laser_off()\n",
    "    if save_tag is None:\n",
    "        save_tag=f\"{mes_params['name']}\"\n",
    "    mes_params['savetag'] = save_tag\n",
    "    do_experiment(experiment=mes_params['experiment'], qm_dict=mes_params, meas_type=conventional_measurement,\n",
    "                  meas_info=add_conventional_information,\n",
    "                  generate_new=generate_new, save_tag=save_tag, load_tag='')\n",
    "\n",
    "def run_generic_autoexp(qmeas_list, generate_new=False, optimize_between_exps=False, poi_list=None):\n",
    "        \n",
    "    autoexp = OrderedDict()\n",
    "    automeas = OrderedDict()\n",
    "\n",
    "    automeas['list_pois'] = poi_list if poi_list else [\"\"]\n",
    "    automeas['generate_new'] = generate_new\n",
    "    automeas['optimize_between_experiments'] = optimize_between_exps\n",
    "\n",
    "    for qmeas in qmeas_list:\n",
    "        exp_name = qmeas['name']\n",
    "        qmeas['type'] = qmeas['experiment']\n",
    "        qmeas['meas_type'] = conventional_measurement\n",
    "        qmeas['meas_info'] = add_conventional_information\n",
    "\n",
    "        autoexp[exp_name] = copy.deepcopy(qmeas)\n",
    "    \n",
    "    do_automized_measurements(qm_dict=automeas, autoexp=autoexp)\n",
    "    \n",
    "\n",
    "def create_temp_dir():\n",
    "    #qudi_dir = os.getcwd()\n",
    "    \n",
    "    folder_dir = 'temp'\n",
    "    try:\n",
    "        os.mkdir(folder_dir)\n",
    "    except FileExistsError as e:\n",
    "        pass   # already exists\n",
    "    \n",
    "    return folder_dir \n",
    "    \n",
    "def get_counts(t_avg_s=0.1):\n",
    "    \n",
    "    # stop refocusing for getting counts\n",
    "    refocus_running = True\n",
    "    try:\n",
    "        if poimanagerlogic.time_until_refocus == -1:\n",
    "            refocus_running = False\n",
    "        else:\n",
    "            poimanagerlogic.toggle_periodic_refocus(False)\n",
    "    except NameError:\n",
    "        refocus_running = False\n",
    "        \n",
    "    \n",
    "    f_count = counterlogic.get_count_frequency()\n",
    "    n_samples = int(t_avg_s * f_count)\n",
    "    n_samples_max = counterlogic.get_count_length()\n",
    "    if n_samples > n_samples_max:\n",
    "        n_samples = n_samples_max\n",
    "        \n",
    "    # wait until refocus done for sure\n",
    "    if refocus_running:\n",
    "        timeout = False\n",
    "        timeout_t_s = 5\n",
    "        t_start = time.time()\n",
    "\n",
    "        while(time.time() - poimanagerlogic._last_refocus < t_avg_s and not timeout):\n",
    "            time.sleep(0.1)\n",
    "            if time.time() - t_start > timeout_t_s:\n",
    "                timeout = True\n",
    "                \n",
    "    cts = np.median(counterlogic.countdata[0][-n_samples:])    # counts per s\n",
    "    \n",
    "    if refocus_running:\n",
    "        poimanagerlogic.toggle_periodic_refocus(True)\n",
    "    \n",
    "    return cts\n",
    "        \n"
   ]
  },
  {
   "cell_type": "markdown",
   "metadata": {},
   "source": [
    "# Laser options"
   ]
  },
  {
   "cell_type": "markdown",
   "metadata": {
    "pycharm": {
     "name": "#%% md\n"
    }
   },
   "source": [
    "## Optimize position"
   ]
  },
  {
   "cell_type": "code",
   "execution_count": null,
   "metadata": {
    "pycharm": {
     "name": "#%%\n"
    },
    "scrolled": true
   },
   "outputs": [],
   "source": [
    "laser_on()\n",
    "optimize_position()"
   ]
  },
  {
   "cell_type": "markdown",
   "metadata": {},
   "source": [
    "## Laser On"
   ]
  },
  {
   "cell_type": "code",
   "execution_count": 17,
   "metadata": {
    "pycharm": {
     "name": "#%%\n"
    },
    "scrolled": true
   },
   "outputs": [
    {
     "data": {
      "text/plain": [
       "0"
      ]
     },
     "execution_count": 17,
     "metadata": {},
     "output_type": "execute_result"
    }
   ],
   "source": [
    "#laser_on(pulser_on = False)\n",
    "laser_on()\n",
    "counterlogic.startCount()"
   ]
  },
  {
   "cell_type": "markdown",
   "metadata": {},
   "source": [
    "## Laser Off"
   ]
  },
  {
   "cell_type": "code",
   "execution_count": 20,
   "metadata": {
    "pycharm": {
     "name": "#%%\n"
    }
   },
   "outputs": [],
   "source": [
    "laser_off(pulser_on=False)\n",
    "counterlogic.stopCount()\n"
   ]
  },
  {
   "cell_type": "markdown",
   "metadata": {},
   "source": [
    "# Frequency Optimization parameters"
   ]
  },
  {
   "cell_type": "code",
   "execution_count": null,
   "metadata": {
    "pycharm": {
     "name": "#%%\n"
    }
   },
   "outputs": [],
   "source": [
    "optimize_freq_dict=OrderedDict()\n",
    "optimize_freq_dict['mw_optimization_method'] = 'pulsedodmr'\n",
    "optimize_freq_dict['optimize_generate_new'] = False\n",
    "optimize_freq_dict['save_tag'] = 'optimize_frequency'\n",
    "optimize_freq_dict['optimize_fit_method'] = 'N15'\n",
    "optimize_freq_dict['parameters2update'] = {'center': 'microwave_frequency'}\n",
    "\n",
    "optimize_freq_dict['name'] = 'Pulsed_ODMR'\n",
    "optimize_freq_dict['rabi_period'] = 1800e-9\n",
    "optimize_freq_dict['freq_start'] = 4.127e9\n",
    "optimize_freq_dict['freq_step'] = 0.2e6\n",
    "optimize_freq_dict['num_of_points'] = 50\n",
    "optimize_freq_dict['microwave_amplitude'] = common_mw_amp/15\n",
    "optimize_freq_dict['meas_type'] = conventional_measurement\n",
    "optimize_freq_dict['meas_info'] = add_conventional_information\n",
    "\n",
    "optimize_freq_dict['measurement_time'] = 30\n",
    "optimize_freq_dict['optimize_time'] = None\n",
    "optimize_freq_dict['optimize_generate_new'] = True"
   ]
  },
  {
   "cell_type": "markdown",
   "metadata": {},
   "source": [
    "#  Preperation mes"
   ]
  },
  {
   "cell_type": "markdown",
   "metadata": {},
   "source": [
    "## Pulsed ODMR"
   ]
  },
  {
   "cell_type": "code",
   "execution_count": 159,
   "metadata": {},
   "outputs": [],
   "source": [
    "p_scale_manual = 1\n",
    "uglobals.abort.clear()\n",
    "\n",
    "if p_scale_manual != 1:\n",
    "    logger.warning(\"Manually reduce AWG ampl / AMP gain by a factor of {} / {}!\".format(2*p_scale_manual, np.sqrt(2*p_scale_manual)))\n",
    "#qmeas = setup_podmr_params(f_res=common_mw_freq, p_scale=50, p_scale_onlyperiod=p_scale_manual, f_step=20e3) # range ~ 1 MHz\n",
    "\n",
    "#qmeas = setup_podmr_params(f_res=common_mw_freq, p_scale=1, f_step=3000e3, n_f=150)     # wide band, ~ 300 MHz\n",
    "#qmeas = setup_podmr_params(f_res=common_mw_freq, p_scale=1, f_step=1000e3, n_f=50)     # wide band, ~ 2.5 MHz\n",
    "qmeas = setup_podmr_params(f_res=common_mw_freq, p_scale=1, f_step=1000e3, n_f=50, t_wait_2=50e-6)     \n",
    "#qmeas = setup_podmr_params(f_res=common_mw_freq, p_scale=5, f_step=500e3, n_f=300)     # wide band, ~ 10 MHz\n",
    "#qmeas = setup_podmr_params(f_res=common_mw_freq, p_scale=5, f_step=500e3, n_f=75)\n",
    "#qmeas = setup_podmr_params(f_res=common_mw_freq, p_scale=10, f_step=50e3, n_f=75) # range ~ 5 MHz\n",
    "#qmeas = setup_podmr_params(f_res=common_mw_freq, p_scale=20, f_step=25e3, n_f=75, t_pi_manual=8e-6)\n",
    "#qmeas = setup_podmr_params(f_res=common_mw_freq, p_scale=30, n_f=75)\n",
    "#qmeas = setup_podmr_params(f_res=common_mw_freq, p_scale=40, f_step=40e3, n_f=450) # range ~ 3*6 MHz\n",
    "#qmeas = setup_podmr_params(f_res=common_mw_freq, p_scale=60, f_step=20e3, n_f=100) # range ~ 1 MHz, lowest AWG power\n",
    "\n",
    "run_generic(qmeas)"
   ]
  },
  {
   "cell_type": "markdown",
   "metadata": {},
   "source": [
    "## Rabi"
   ]
  },
  {
   "cell_type": "code",
   "execution_count": 37,
   "metadata": {},
   "outputs": [],
   "source": [
    "uglobals.abort.clear()\n",
    "qmeas = setup_rabi_params(tau_step=20e-9)   # 10e-9\n",
    "#qmeas = setup_rabi_params(tau_step=250e-9, p_scale=20)\n",
    "run_generic(qmeas)"
   ]
  },
  {
   "cell_type": "markdown",
   "metadata": {},
   "source": [
    "## Ramsey\n"
   ]
  },
  {
   "cell_type": "code",
   "execution_count": 43,
   "metadata": {},
   "outputs": [],
   "source": [
    "tau_start = 0.5e-6\n",
    "n_sweeps = 0#1e3\n",
    "\n",
    "uglobals.abort.clear()\n",
    "#qmeas = setup_ramsey_params(tau_start, n_tau=100, tau_step=100e-9)     \n",
    "qmeas = setup_ramsey_params(tau_start, n_tau=300, tau_step=100e-9)\n",
    "#qmeas = setup_ramsey_params(tau_start, n_tau=200, tau_step=250e-9)      # 75ns: res like mfl\n",
    "#qmeas = setup_ramsey_params(tau_start, n_tau=400, tau_step=50e-9)     # high res    \n",
    "#qmeas = setup_ramsey_params(tau_start, n_tau=400, tau_step=100e-9)     # high res  \n",
    "x, z = run_generic(qmeas, n_sweeps_stop=n_sweeps)\n",
    "z_binary = 0 #majority_vote(z[0], z_thres=common_mfl_z_thres)\n",
    "\n",
    "logger.info(\"Ramsey with offset {} MHz, {} sweeps: {} -> {}\".format(common_mw_ramsey_offset/1e6, n_sweeps, z, z_binary))\n"
   ]
  },
  {
   "cell_type": "markdown",
   "metadata": {},
   "source": [
    "## XY 8 "
   ]
  },
  {
   "cell_type": "markdown",
   "metadata": {},
   "source": [
    "tau sweep"
   ]
  },
  {
   "cell_type": "code",
   "execution_count": 43,
   "metadata": {},
   "outputs": [],
   "source": [
    "#tau_start = 0.2e-6\n",
    "tau_start = 0.415e-6\n",
    "\n",
    "uglobals.abort.clear()\n",
    "# narrow resonance NV M17\n",
    "qmeas = setup_xy8_tausweep_params(tau_start, n_tau=140, tau_step=0.5e-9, xy8_order=22, alternating=True)\n",
    "\n",
    "#qmeas = setup_xy8_tausweep_params(tau_start, n_tau=10, tau_step=25e-9, xy8_order=800, alternating=True)\n",
    "\n",
    "\n",
    "# larger sweeps\n",
    "#qmeas = setup_xy8_tausweep_params(tau_start, n_tau=75, tau_step=10e-9, xy8_order=4, alternating=True) \n",
    "#qmeas = setup_xy8_tausweep_params(tau_start, n_tau=75, tau_step=3e-9, xy8_order=4, alternating=True) \n",
    "#qmeas = setup_xy8_tausweep_params(tau_start, n_tau=250, tau_step=20e-9, xy8_order=4, alternating=True)\n",
    "#qmeas = setup_xy8_tausweep_params(tau_start, n_tau=75, tau_step=5e-9, xy8_order=8, alternating=True) \n",
    "\n",
    "run_generic(qmeas)"
   ]
  },
  {
   "cell_type": "markdown",
   "metadata": {},
   "source": [
    "n sweep"
   ]
  },
  {
   "cell_type": "code",
   "execution_count": 21,
   "metadata": {},
   "outputs": [],
   "source": [
    "tau = 300e-9#440.0e-9\n",
    "tau = 441.6e-9\n",
    "\n",
    "uglobals.abort.clear()\n",
    "#qmeas = setup_xy8_nsweep_params(tau, n_n=25, xy8_start=4, xy8_step=1, alternating=True)\n",
    "qmeas = setup_xy8_nsweep_params(tau, n_n=15, xy8_start=4, xy8_step=100, alternating=True)  # long t_evol, mem limit\n",
    "#qmeas = setup_xy8_nsweep_params(tau, n_n=25, xy8_start=1, xy8_step=1, alternating=True)  \n",
    "\n",
    "run_generic(qmeas)"
   ]
  },
  {
   "cell_type": "code",
   "execution_count": null,
   "metadata": {},
   "outputs": [],
   "source": [
    "a few xy8 tau sweeps"
   ]
  },
  {
   "cell_type": "code",
   "execution_count": 54,
   "metadata": {},
   "outputs": [],
   "source": [
    "uglobals.abort.clear()\n",
    "\n",
    "tau_start = 0.5e-6\n",
    "xy_orders = np.arange(5, 16, 1)\n",
    "\n",
    "for i, o in enumerate(xy_orders):\n",
    "    if uglobals.abort.is_set():\n",
    "        break\n",
    "    try:\n",
    "        #pass\n",
    "        #\"\"\"\n",
    "        laser_on()\n",
    "        time.sleep(1)\n",
    "        optimize_position()\n",
    "        optimize_position()\n",
    "        laser_off()\n",
    "        #\"\"\"\n",
    "    except Exception as e:\n",
    "        logger.warning(\"auto XY8 run {}, skipping failed tracking: {}\".format(i, str(e)))\n",
    "    if uglobals.abort.is_set():\n",
    "        break\n",
    "        \n",
    "    qmeas = setup_xy8_tausweep_params(tau_start, n_tau=50, tau_step=20e-9, xy8_order=o, alternating=True)     \n",
    "    qmeas['measurement_time'] = 180\n",
    "    run_generic(qmeas)"
   ]
  },
  {
   "cell_type": "markdown",
   "metadata": {},
   "source": [
    "# Auto pilot multiple NVs"
   ]
  },
  {
   "cell_type": "code",
   "execution_count": 164,
   "metadata": {},
   "outputs": [],
   "source": [
    "# In order to stop the automized measurement insert pulsedmasterlogic.break_variable = True into manager\n",
    "import copy\n",
    "uglobals.abort.clear()\n",
    "\n",
    "# for pois=None, all experiment will run on the current confocal pos\n",
    "pois = None\n",
    "# pois = poimanagerlogic.poi_names[:]\n",
    "logger.info(\"Autopilot is taking of for pois {}\".format(pois))\n",
    "\n",
    "\n",
    "qmeas_list = []\n",
    "\n",
    "qexp = setup_podmr_params(common_mw_freq)\n",
    "qexp['experiment'] = 'pulsedodmr'\n",
    "qexp['name'] = 'podmr'\n",
    "\n",
    "\n",
    "qexp['laser_length'] = common_t_laser_pulsed\n",
    "\n",
    "qexp['bin_width'] = 128e-9\n",
    "qexp['wait_time'] = 0.0e-9\n",
    "\n",
    "qexp['rabi_period'] = common_rabi_period#*4\n",
    "qexp['freq_start'] = common_mw_freq - 3e6\n",
    "qexp['freq_step'] = 1e6\n",
    "qexp['num_of_points'] = 30\n",
    "qexp['microwave_amplitude'] = common_mw_amp#/4\n",
    "qexp['measurement_time'] = 20\n",
    "qexp['optimize_time'] = None\n",
    "qexp['freq_optimize_time'] = None\n",
    "qexp['generate_new'] = False\n",
    "qexp['meas_type'] = conventional_measurement\n",
    "qexp['meas_info'] = add_conventional_information\n",
    "# if empty  or commented out, no fit is used\n",
    "qexp['fit_experiment'] = 'lor_dip'\n",
    "qexp['fit_parameter'] = 'Position'\n",
    "qexp['update_parameters'] = {'Rabi': 'microwave_frequency', 'xy8': 'microwave_frequency', 'xy8_2': 'microwave_frequency'}\n",
    "\n",
    "qmeas_list.append(copy.deepcopy(qexp))\n",
    "#\"\"\"\n",
    "\n",
    "#Experiment2\n",
    "#\"\"\"\n",
    "qexp = setup_rabi_params(tau_step=10e-9)\n",
    "qexp['experiment'] = 'rabi'\n",
    "qexp['measurement_time'] = 30\n",
    "qexp['optimize_time'] = None\n",
    "qexp['freq_optimize_time'] = None\n",
    "qexp['generate_new'] = True\n",
    "qexp['meas_type'] = conventional_measurement\n",
    "qexp['meas_info'] = add_conventional_information\n",
    "# if empty  or commented out, no fit is used\n",
    "qexp['fit_experiment'] = 'sine'\n",
    "qexp['fit_parameter'] = 'Period'\n",
    "qexp['update_parameters'] = {'ramsey': 'rabi_period'}  # feed forware parameters\n",
    "qmeas_list.append(copy.deepcopy(qexp))\n",
    "\n",
    "\"\"\"\n",
    "#Experiment3\n",
    "qexp = setup_ramsey_params(tau_start=50e-9, n_tau=400, tau_step=50e-9)  # res= 50 kHz \n",
    "qexp['experiment'] = 'ramsey'\n",
    "qexp['measurement_time'] = 120\n",
    "qexp['generate_new'] = True\n",
    "qexp['meas_type'] = conventional_measurement\n",
    "qexp['meas_info'] = add_conventional_information\n",
    "qexp['fit_experiment'] = 'double_sine_decay'\n",
    "qmeas_list.append(copy.deepcopy(qexp))\n",
    "\n",
    "\"\"\"\n",
    "\n",
    "laser_off()\n",
    "\n",
    "try:\n",
    "    run_generic_autoexp(qmeas_list,  generate_new=True, optimize_between_exps=False, poi_list=pois)\n",
    "except Exception as e:\n",
    "    stack_trace = traceback.format_exc()\n",
    "    logger.exception(\"auto run failed: {}.\\n\".format(stack_trace))\n",
    "\n",
    "\n"
   ]
  },
  {
   "cell_type": "code",
   "execution_count": 83,
   "metadata": {},
   "outputs": [
    {
     "data": {
      "text/plain": [
       "<module 'traceback' from 'C:\\\\ProgramData\\\\Anaconda3\\\\envs\\\\qudi\\\\lib\\\\traceback.py'>"
      ]
     },
     "execution_count": 83,
     "metadata": {},
     "output_type": "execute_result"
    }
   ],
   "source": [
    "traceback"
   ]
  },
  {
   "cell_type": "code",
   "execution_count": null,
   "metadata": {},
   "outputs": [],
   "source": []
  }
 ],
 "metadata": {
  "celltoolbar": "Raw Cell Format",
  "kernelspec": {
   "display_name": "qudi",
   "language": "python",
   "name": "qudi"
  },
  "language_info": {
   "codemirror_mode": {
    "name": "ipython",
    "version": 3
   },
   "file_extension": ".py",
   "mimetype": "text/x-python",
   "name": "python",
   "nbconvert_exporter": "python",
   "pygments_lexer": "ipython3",
   "version": "3.8.12"
  },
  "pycharm": {
   "stem_cell": {
    "cell_type": "raw",
    "metadata": {
     "collapsed": false
    },
    "source": []
   }
  },
  "toc": {
   "base_numbering": 1,
   "nav_menu": {},
   "number_sections": true,
   "sideBar": true,
   "skip_h1_title": false,
   "title_cell": "Table of Contents",
   "title_sidebar": "Contents",
   "toc_cell": false,
   "toc_position": {
    "height": "calc(100% - 180px)",
    "left": "10px",
    "top": "150px",
    "width": "341px"
   },
   "toc_section_display": true,
   "toc_window_display": true
  },
  "varInspector": {
   "cols": {
    "lenName": 16,
    "lenType": 16,
    "lenVar": 40
   },
   "kernels_config": {
    "python": {
     "delete_cmd_postfix": "",
     "delete_cmd_prefix": "del ",
     "library": "var_list.py",
     "varRefreshCmd": "print(var_dic_list())"
    },
    "r": {
     "delete_cmd_postfix": ") ",
     "delete_cmd_prefix": "rm(",
     "library": "var_list.r",
     "varRefreshCmd": "cat(var_dic_list()) "
    }
   },
   "position": {
    "height": "807px",
    "left": "1717px",
    "right": "20px",
    "top": "129px",
    "width": "350px"
   },
   "types_to_exclude": [
    "module",
    "function",
    "builtin_function_or_method",
    "instance",
    "_Feature"
   ],
   "window_display": true
  }
 },
 "nbformat": 4,
 "nbformat_minor": 1
}
