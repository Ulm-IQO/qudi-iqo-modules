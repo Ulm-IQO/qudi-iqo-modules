{
 "cells": [
  {
   "cell_type": "markdown",
   "metadata": {},
   "source": [
    "# Import"
   ]
  },
  {
   "cell_type": "code",
   "execution_count": 2,
   "metadata": {
    "ExecuteTime": {
     "end_time": "2024-12-22T18:32:18.250962Z",
     "start_time": "2024-12-22T18:32:17.142031Z"
    },
    "pycharm": {
     "is_executing": false,
     "name": "#%%\n"
    }
   },
   "outputs": [
    {
     "name": "stdout",
     "output_type": "stream",
     "text": [
      "[Sun Dec 22 19:32:18 2024] Hi, jupyter ready. working dir: C:\\Users\\Setup3-PC\\Desktop\\qudi_newrepo\\qudi-iqo-modules\\src\\user_scripts\\Timo\n"
     ]
    },
    {
     "data": {
      "text/plain": [
       "0"
      ]
     },
     "execution_count": 2,
     "metadata": {},
     "output_type": "execute_result"
    }
   ],
   "source": [
    "path_essentials = 'script_logic_essentials.py'\n",
    "path_toolkit = 'logic_toolkit.py'\n",
    "path_curdir = 'user_scripts/Timo/'\n",
    "import os, time, sys\n",
    "import numpy as np\n",
    "import copy as cp\n",
    "\n",
    "from qudi.logic.pulsed.predefined_generate_methods.pentacene_methods import DeerAltModes\n",
    "from qudi.logic.pulsed.predefined_generate_methods.multi_nv_methods import DQTAltModes, TomoRotations, TomoInit\n",
    "from qudi.logic.pulsed.sampling_functions import DDMethods\n",
    "from qudi.logic.pulsed.sampling_function_defs.sampling_functions_nvision import EnvelopeMethods as Evm\n",
    "from console_toolkit import Tk_file, Tk_string\n",
    "\n",
    "# import essentials via run\n",
    "exec(open(path_essentials).read())\n",
    "exec(open(path_toolkit).read())\n",
    "# usual module imports\n",
    "sys.path.append(path_curdir)\n",
    "\n",
    "\n",
    "import logging\n",
    "logging.basicConfig(filename='logfile.log', filemode='w', level=logging.DEBUG)\n",
    "logger = logging.getLogger(__name__)\n",
    "\n",
    "# configure this notebook\n",
    "config_matplotlib_jupyter()\n",
    "\n",
    "memory_dict=OrderedDict()\n",
    "print_welcome_msg()\n",
    "0"
   ]
  },
  {
   "cell_type": "code",
   "execution_count": 4,
   "metadata": {
    "ExecuteTime": {
     "end_time": "2024-12-22T18:13:22.209185Z",
     "start_time": "2024-12-22T18:13:22.109929Z"
    }
   },
   "outputs": [
    {
     "data": {
      "text/plain": [
       "<qudi.hardware.switches.digital_switch_ni.DigitalSwitchNI(0xf6737f9e00) at 0x000000F610638780>"
      ]
     },
     "execution_count": 4,
     "metadata": {},
     "output_type": "execute_result"
    }
   ],
   "source": [
    "nicard\n",
    "laser_switch_ni"
   ]
  },
  {
   "cell_type": "code",
   "execution_count": 14,
   "metadata": {},
   "outputs": [
    {
     "data": {
      "text/plain": [
       "'C:\\\\Users\\\\Setup3-PC\\\\Desktop\\\\qudi_newrepo\\\\qudi-iqo-modules\\\\user_scripts\\\\Timo'"
      ]
     },
     "execution_count": 14,
     "metadata": {},
     "output_type": "execute_result"
    }
   ],
   "source": [
    "import os, time, sys\n",
    "os.getcwd()"
   ]
  },
  {
   "cell_type": "code",
   "execution_count": 5,
   "metadata": {
    "ExecuteTime": {
     "end_time": "2024-12-22T17:05:00.812049Z",
     "start_time": "2024-12-22T17:05:00.778932Z"
    }
   },
   "outputs": [
    {
     "data": {
      "text/plain": [
       "16250000000.0"
      ]
     },
     "execution_count": 5,
     "metadata": {},
     "output_type": "execute_result"
    }
   ],
   "source": [
    "awg8195.get_sample_rate()"
   ]
  },
  {
   "cell_type": "markdown",
   "metadata": {},
   "source": [
    "# Common parameters"
   ]
  },
  {
   "cell_type": "code",
   "execution_count": 3,
   "metadata": {
    "ExecuteTime": {
     "end_time": "2024-12-22T18:32:44.650549Z",
     "start_time": "2024-12-22T18:32:44.606452Z"
    },
    "pycharm": {
     "is_executing": false,
     "name": "#%%\n"
    }
   },
   "outputs": [
    {
     "data": {
      "text/plain": [
       "{'shaped_on': False, 'period': 1.739e-07, 'env_type': <EnvelopeMethods.parabola: 'SinEnvelopeParabolaN'>, 'order_P': 1}"
      ]
     },
     "execution_count": 3,
     "metadata": {},
     "output_type": "execute_result"
    }
   ],
   "source": [
    "class Common(object):\n",
    "    def __init__(self):\n",
    "        \"\"\"\n",
    "        A | B | C | D\n",
    "        --------------\n",
    "        | 2838.1 | 2800  | 2772  | 2733 MHz\n",
    "        | 91     | 216   | 117   | 82.5 ns  (@ mw_amp= 0.15 V)\n",
    "        \"\"\"\n",
    "        \n",
    "        \n",
    "        # MW parameters\n",
    "        # rabi _37: C: 138.0ns, D: 162.8ns\n",
    "        #self.rabi_period_rect = 116.4e-9 #allOrientations~ 82.69e-9, shaped: \n",
    "        self.rabi_period_rect = 72.9e-9\n",
    "        #34.3e-9 #12.75e-9#57.2e-9#94.5e-9 # 87.0e-9 #118.1e-9 #M2 149.1e-9#760e-9#245.5e-9 #159.5e-9\n",
    "        #self.rabi_shaped = {'shaped_on':True, 'period': 83.4e-9, 'env_type': Evm.parabola, 'order_P':1}\n",
    "        self.rabi_shaped = {'shaped_on':True, 'period': 78.9e-9, 'env_type': Evm.parabola, 'order_P':1} #  3.5*0.25/10 # max= 0.25\n",
    "        self.rabi_shaped = {'shaped_on':False, 'period': 173.9e-9, 'env_type': Evm.parabola, 'order_P':1} #  3.5*0.25/10 # max= 0.25\n",
    "        #self.rabi_shaped = {'shaped_on':False, 'period': self.rabi_period_rect, 'env_type': Evm.parabola, 'order_P':1000} \n",
    "        \n",
    "        #self.rabi_shaped = {'shaped_on':True, 'period': 58.0e-9, 'env_type': Evm.parabola, 'order_P':6}\n",
    "        self.mw_freq = 2736.1e6 #2.780e9 # B:2832.1e6 #3086.1e6 #3026.7e6 #3087.7e6 \n",
    "        #nv1214.1: 2779.7 #nv1209.2: 2778.5e6 #nv1215.6:  2729.5e6#2784.1e6 #2732.0e6 # 2774.0e6# 2786.2e6 #2775.0e6#827.64e6 #M2 1503.592e6 #M15, 1507.455e6  #1507.747#7e6  #1503.336e6  #2656.5e6#NV M3 1.497129e9 #NV M2 1.503316e9 \n",
    "        #nv_sA_1221.1: \n",
    "        #self.mw_freq = 2313.90e6 # only right HFS line\n",
    "        #self.mw_amp = 3*0.25/10 # max= 0.25\n",
    "        self.mw_amp = 0.5*0.25 # max= 0.25\n",
    "\n",
    "        # Readout\n",
    "        # RELOAD logic_essentials and upload new seq when changing!\n",
    "        self.t_laser_pulsed = 3e-6   # for pulsed mes (non NI acq)\n",
    "        #self.t_laser_pulsed = 10e-6   \n",
    "        #self.t_laser_pulsed = 1.25e-6   # for pulsed mes (non NI acq)\n",
    "        self.t_wait_pulsed = 1e-6\n",
    "        self.t_laser = None\n",
    "        self.t_laser_green_init = 3e-6\n",
    "        self.t_laser_red_read = 1000e-9\n",
    "\n",
    "        # Ramsey\n",
    "        self.mw_ramsey_offset = 4000e3   # Hz, detuning, \n",
    "        self.mw_ramsey_off_from_calib = 0e3 #0.1e6 #[0.66e6, 0.72e6]   # Hz, detuning,taken for checking valid\n",
    "\n",
    "        # MFL XY8\n",
    "        self.gamma_n_c13 = 1.0705e3 * 2*np.pi # 13-C\n",
    "        \n",
    "        # multi NV\n",
    "        self.nv_order = [1,2]\n",
    "    \n",
    "    @property\n",
    "    def rabi_period(self):\n",
    "\n",
    "        if self.rabi_shaped['shaped_on']:\n",
    "            return self.rabi_shaped['period']\n",
    "        return self.rabi_period_rect\n",
    "        \n",
    "    @property\n",
    "    def rabi_period_2(self):\n",
    "        if self.rabi_shaped['shaped_on']:\n",
    "            return self.t_rabi_2_shaped\n",
    "        return self.t_rabi_2_rect\n",
    "            \n",
    "            \n",
    "    @staticmethod\n",
    "    def f_res_2_B_gauss(f_res):\n",
    "        # only true if B well aligned\n",
    "        return abs(f_res-2.87e9)/2.8e6\n",
    "    \n",
    "    def swap_nvs(self, order=[2,1]):\n",
    "        \n",
    "        if order == self.nv_order:\n",
    "            return self\n",
    "        if order == list(reversed(self.nv_order)):\n",
    "            new_common = cp.deepcopy(self)\n",
    "\n",
    "            new_common.nv_order = order\n",
    "            new_common.rabi_period_rect = self.t_rabi_2_rect[0]\n",
    "            new_common.t_rabi_2_rect = [self.rabi_period_rect]\n",
    "\n",
    "            new_common.mw_freq = self.mw_freq_2[0]\n",
    "            new_common.mw_freq_2 = [self.mw_freq]\n",
    "\n",
    "            new_common.mw_amp = self.mw_amps_2[0]\n",
    "            new_common.mw_amps_2 = [self.mw_amp]\n",
    "\n",
    "            new_common.rabi_shaped['period'] = self.t_rabi_2_shaped[0]\n",
    "            new_common.t_rabi_2_shaped = [self.rabi_shaped['period']]\n",
    "            \n",
    "        else:\n",
    "            raise ValueError()\n",
    "            \n",
    "        return new_common \n",
    "        \n",
    "    \n",
    "\n",
    "    \n",
    "common = Common()\n",
    "b_str = f\"B= {Common.f_res_2_B_gauss(common.mw_freq):.2f} G from common.mw_freq\"\n",
    "b_str\n",
    "logger.info(b_str)\n",
    "\n",
    "\"\"\"\n",
    "# MW parameters\n",
    "common.rabi_period_rect = 12.83e-9#57.2e-9#94.5e-9 # 87.0e-9 #118.1e-9 #M2 149.1e-9#760e-9#245.5e-9 #159.5e-9\n",
    "common.rabi_shaped = {'shaped_on':False, 'period': 18.55-9, 'env_type': Evm.parabola, 'order_P':1}\n",
    "common.mw_freq =  1507.23e6#2784.1e6 #2732.0e6 # 2774.0e6# 2786.2e6 #2775.0e6#827.64e6 #M2 1503.592e6 #M15, 1507.455e6  #1507.747#7e6  #1503.336e6  #2656.5e6#NV M3 1.497129e9 #NV M2 1.503316e9 \n",
    "#common.mw_freq = 2811.9e6 # only left HFS line\n",
    "common.mw_amp = 0.25\n",
    "\n",
    "# Readout\n",
    "# RELOAD logic_essentials and upload new seq when changing!\n",
    "common.t_laser_pulsed = 3e-6   # for pulsed mes (non NI acq)\n",
    "common.t_wait_pulsed = 1e-6\n",
    "common.t_laser = None\n",
    "common.t_laser_green_init = 3e-6\n",
    "common.t_laser_red_read = 1000e-9\n",
    "\n",
    "# Ramsey\n",
    "common.mw_ramsey_offset = 1000e3   # Hz, detuning, \n",
    "common.mw_ramsey_off_from_calib = 0e3 #0.1e6 #[0.66e6, 0.72e6]   # Hz, detuning,taken for checking valid\n",
    "\n",
    "\n",
    "# MFL XY8\n",
    "gamma_n_c13 = 1.0705e3 * 2*np.pi # 13-C\n",
    "\"\"\"\n",
    "\n",
    "common.rabi_shaped"
   ]
  },
  {
   "cell_type": "markdown",
   "metadata": {},
   "source": [
    "## for 2x NV experiments"
   ]
  },
  {
   "cell_type": "code",
   "execution_count": 4,
   "metadata": {
    "ExecuteTime": {
     "end_time": "2024-12-22T18:32:46.153806Z",
     "start_time": "2024-12-22T18:32:46.115706Z"
    }
   },
   "outputs": [
    {
     "data": {
      "text/plain": [
       "[8.54e-08]"
      ]
     },
     "execution_count": 4,
     "metadata": {},
     "output_type": "execute_result"
    }
   ],
   "source": [
    "common.mw_freq_2 = [2825.6e6]\n",
    "common.mw_amps_2 = [7/10*0.25] #7\n",
    "common.mw_amps_2 = [0.25]\n",
    "common.t_rabi_2_rect = [110.1e-9]\n",
    "common.t_rabi_2_rect = [85.4e-9]\n",
    "common.t_rabi_2_shaped = [165.0e-9]  ##[88.1e-9]  # p=1: [118.8e-9]\n",
    "#common.t_rabi_2_shaped = common.t_rabi_2_rect # debug only\n",
    "\n",
    "\n",
    "common.dd_tau = 0.75e-6\n",
    "common.dd_type = DDMethods.KDD4  #DDMethods.XY8\n",
    "common.dd_order = 2\n",
    "\n",
    "common.rabi_period_2"
   ]
  },
  {
   "cell_type": "code",
   "execution_count": 11,
   "metadata": {},
   "outputs": [
    {
     "data": {
      "text/plain": [
       "20"
      ]
     },
     "execution_count": 11,
     "metadata": {},
     "output_type": "execute_result"
    }
   ],
   "source": [
    "len(common.dd_type.value)"
   ]
  },
  {
   "cell_type": "markdown",
   "metadata": {},
   "source": [
    "# Library"
   ]
  },
  {
   "cell_type": "markdown",
   "metadata": {},
   "source": [
    "## nb specific"
   ]
  },
  {
   "cell_type": "code",
   "execution_count": 5,
   "metadata": {
    "ExecuteTime": {
     "end_time": "2024-12-22T18:32:50.809447Z",
     "start_time": "2024-12-22T18:32:50.624956Z"
    }
   },
   "outputs": [
    {
     "data": {
      "text/plain": [
       "0"
      ]
     },
     "execution_count": 5,
     "metadata": {},
     "output_type": "execute_result"
    }
   ],
   "source": [
    "def setup_podmr_rfpi_params(f_res, p_scale=10, f_step=0.1e6, n_f=50,\n",
    "                            f_rf=1e6, t_pi_rf=1e-6, ampl_rf=5e-3, alternating_no_rf=False):\n",
    "\n",
    "    qmeas=OrderedDict()\n",
    "\n",
    "    if common.rabi_shaped['shaped_on']:\n",
    "        raise ValueError\n",
    "    else:\n",
    "        qmeas['name'] = 'pulsedodmr_rf_pi'\n",
    "        qmeas['experiment'] = 'pulsedodmr_deer_pi'\n",
    "\n",
    "    setup['laser_length'] = common.t_laser_pulsed\n",
    "    setup['wait_time'] = common.t_wait_pulsed\n",
    "\n",
    "\n",
    "    qmeas['rabi_period'] = common.rabi_period*p_scale\n",
    "    qmeas['freq_step'] = f_step\n",
    "    qmeas['num_of_points'] = n_f\n",
    "    qmeas['freq_start'] = f_res - (qmeas['freq_step'] * qmeas['num_of_points'])/2.\n",
    "    qmeas['f_mw_deer'] = f_rf\n",
    "    qmeas['t_pi_deer'] = t_pi_rf\n",
    "    qmeas['deer_ampl'] = ampl_rf \n",
    "    qmeas['alternating_nodeerpi'] = alternating_no_rf\n",
    "    \n",
    "    if p_scale != 1:\n",
    "        qmeas['microwave_amplitude'] = common.mw_amp/(p_scale)\n",
    "    else:\n",
    "        qmeas['microwave_amplitude'] = common.mw_amp\n",
    "    qmeas['measurement_time'] = 9999 \n",
    "    qmeas['optimize_time'] = None\n",
    "    qmeas['fit_experiment'] = 'lor_dip'\n",
    "\n",
    "    qmeas = add_shaped(qmeas)\n",
    "\n",
    "    return qmeas\n",
    "\n",
    "\n",
    "def add_shaped(qmeas):\n",
    "    if common.rabi_shaped['shaped_on']:\n",
    "        qmeas['env_type'] = common.rabi_shaped['env_type']\n",
    "        qmeas['order_P'] = common.rabi_shaped['order_P']\n",
    "    else:\n",
    "        # to make sure that default of generate method is overwritten\n",
    "        qmeas['env_type'] = Evm.rectangle\n",
    "        \n",
    "    return qmeas\n",
    "    \n",
    "\n",
    "def calc_nuclear_rabi_hfs_boost(B_gauss, ms=-1, n_nuc=15):\n",
    "    # Chen (2015)\n",
    "    # Sangtawesin (2016)\n",
    "    \n",
    "    if n_nuc == 14:\n",
    "        q_quadro = -4.945e6\n",
    "        a_par = -2.162e6 # 14-n\n",
    "        a_perp = 2.62e6\n",
    "        gamma_n = -0.308e3  \n",
    "    elif n_nuc == 15:\n",
    "        q_quadro = 0  # spin=1/2 has no quadropolar moment\n",
    "        a_par = 3.03e6\n",
    "        a_perp = 3.65e6\n",
    "        gamma_n = 0.432e3\n",
    "        \n",
    "    else:\n",
    "        raise ValueError(\"Can only be 14-N or 15-N\")\n",
    "        \n",
    "    gamma_e = 2.8e6\n",
    "    delta = 2.87e9\n",
    "    \n",
    "    if ms == -1:\n",
    "        # in nuc_rabi need pi init of the nv spin\n",
    "        alpha = 1 + gamma_e/gamma_n* a_perp / (delta-gamma_e*B_gauss-a_par+gamma_n*B_gauss+q_quadro)\n",
    "    else:\n",
    "        raise ValueError(\"m_s can only be 0/1/-1\")\n",
    "    \n",
    "    return abs(alpha)\n",
    "\n",
    "def setup_ise_ramsey_dd_params(tau, n_tau, n_order_dd, f_rf, t_pi_rf, amp_rf=0.25, rf_ch='a_ch2', dd_type=DDMethods.SE,\n",
    "                               t_laser=1e-6, mw_sweep_speed=3e12, f_ise_res=1e9, df_mw_sweep=30e6, amp_mw_sweep=0.25,\n",
    "                               alternating=True, autosave=-1, red_readout=False):\n",
    "    qmeas=OrderedDict()\n",
    "    qmeas['name'] = 'ise+ramsey+rf_dd'\n",
    "    qmeas['experiment'] = 'pol_ramsey_rf_dd'\n",
    "    \n",
    "    if not red_readout:\n",
    "        setup['laser_length'] = common.t_laser_pulsed\n",
    "    else:\n",
    "        qmeas['t_laser_init'] = common.t_laser_green_init\n",
    "        qmeas['laser_read_ch'] = 'd_ch3'\n",
    "        setup['laser_length'] = common.t_laser_red_read\n",
    "    \n",
    "    setup['wait_time'] = common.t_wait_pulsed\n",
    "    \n",
    "    qmeas['microwave_frequency'] = common.mw_freq + common.mw_ramsey_offset \n",
    "    qmeas['microwave_amplitude'] = common.mw_amp\n",
    "    \n",
    "    qmeas['tau'] = tau\n",
    "    qmeas['n_tau'] = n_tau\n",
    "    qmeas['n_order_pi_rf'] = n_order_dd\n",
    "    qmeas['dd_type'] = dd_type\n",
    "    qmeas['f_rf'] = f_rf\n",
    "    qmeas['t_pi_rf'] = t_pi_rf\n",
    "    qmeas['amp_rf'] = amp_rf\n",
    "    qmeas['rf_channel'] = rf_ch\n",
    "    qmeas['t_laser'] = t_laser\n",
    "    qmeas['mw_sweep_speed'] = mw_sweep_speed\n",
    "    qmeas['amp_mw_sweep'] = amp_mw_sweep\n",
    "    qmeas['f_ise_res'] = f_ise_res\n",
    "    qmeas['df_mw_sweep'] = df_mw_sweep\n",
    "    \n",
    "    qmeas['measurement_time'] = 99999 \n",
    "    qmeas['optimize_time'] = None\n",
    "    qmeas['autosave_s'] = autosave\n",
    "    \n",
    "    qmeas['alternating'] = alternating\n",
    "    \n",
    "    return qmeas\n",
    "\n",
    "def setup_deer_dd_f_params(f_res, dd_tau=200e-9, f_step=2e6, n_f=50, t_rabi_2=None, deer_ampl=None,\n",
    "                           dd_type=DDMethods.SE, dd_order=2):\n",
    "    qmeas=OrderedDict()\n",
    "    \n",
    "    if not common.rabi_shaped['shaped_on']:\n",
    "        logger.error(\"DEER_dd via nvision method must use pulse shaping\")\n",
    "        return \n",
    "    \n",
    "    qmeas['experiment'] = 'DEER_DD_freq'\n",
    "    qmeas['name'] = 'deer_dd_spectrum'\n",
    "    \n",
    "    setup['laser_length'] = common.t_laser_pulsed\n",
    "    setup['wait_time'] = common.t_wait_pulsed\n",
    "    \n",
    "    qmeas['microwave_frequency'] = common.mw_freq \n",
    "    qmeas['microwave_amplitude'] = common.mw_amp\n",
    "    qmeas['freq_incr'] = f_step\n",
    "    qmeas['num_of_points'] = n_f\n",
    "    qmeas['freq_start'] = f_res - (f_step * qmeas['num_of_points'])/2.\n",
    "    qmeas['rabi_period'] = common.rabi_period\n",
    "    \n",
    "    qmeas['measurement_time'] = 150000 \n",
    "    qmeas['optimize_time'] = None\n",
    "    \n",
    "    qmeas['alternating'] = True\n",
    "\n",
    "    qmeas['tau'] = dd_tau\n",
    "    if not t_rabi_2:\n",
    "        qmeas['rabi_period2'] = common.rabi_period    \n",
    "    else:\n",
    "        qmeas['rabi_period2'] = t_rabi_2\n",
    "    if deer_ampl == None:\n",
    "        qmeas['mw_amp2'] = common.mw_amp\n",
    "    else:\n",
    "        qmeas['mw_amp2'] = deer_ampl\n",
    "    \n",
    "    # 1 ns safety between pi pulses\n",
    "    #qmeas['tau2'] = dd_tau/2 - qmeas['rabi_period2']/4 - common.rabi_period/4 - 1e-9\n",
    "    qmeas['tau2_rel_to_pi1'] = True\n",
    "    qmeas['tau2'] = 0e-9\n",
    "    \n",
    "    qmeas['DD_type'] = dd_type\n",
    "    qmeas['order'] = dd_order\n",
    "    \n",
    "    qmeas = add_shaped(qmeas)\n",
    "    return qmeas\n",
    "\n",
    "\n",
    "def setup_deer_dd_tau_params(f2, dd_tau=200e-9, tau2_start=0e-9, tau2_step=5e-9, n_tau=50,\n",
    "                             t_rabi_2=None, deer_ampl=None,\n",
    "                             dd_type=DDMethods.SE, dd_order=2, read_phase=0):                    \n",
    "    qmeas=OrderedDict()\n",
    "    \n",
    "    if common.rabi_shaped['shaped_on']:\n",
    "        qmeas['experiment'] = 'DEER_DD_tau'\n",
    "        qmeas['name'] = 'deer_dd_tau_shaped'\n",
    "    else:\n",
    "        if dd_tau>0:\n",
    "            qmeas['experiment'] = 'deer_dd_tau'\n",
    "            qmeas['name'] = 'deer_dd_rect_tau'\n",
    "        else:\n",
    "            qmeas['experiment'] = 'deer_dd_par_tau'\n",
    "            qmeas['name'] = 'deer_dd_rect_par_tau'\n",
    "            \n",
    "    \n",
    "    setup['laser_length'] = common.t_laser_pulsed\n",
    "    setup['wait_time'] = common.t_wait_pulsed\n",
    "    \n",
    "    qmeas['microwave_frequency'] = common.mw_freq \n",
    "    qmeas['microwave_amplitude'] = common.mw_amp\n",
    "    qmeas['rabi_period'] = common.rabi_period\n",
    "    \n",
    "    if common.rabi_shaped['shaped_on']:\n",
    "        # nvision method\n",
    "        qmeas['tau2_rel_to_pi1'] = True\n",
    "        qmeas['DD_type'] = dd_type\n",
    "        qmeas['order'] = dd_order\n",
    "\n",
    "        qmeas['mw_freq2'] = f2\n",
    "        qmeas['num_of_points'] = n_tau\n",
    "        qmeas['tau2_start'] = tau2_start\n",
    "        qmeas['tau2_incr'] = tau2_step\n",
    "        qmeas['tau'] = dd_tau\n",
    "        if not t_rabi_2:\n",
    "            qmeas['rabi_period2'] = common.rabi_period    \n",
    "        else:\n",
    "            qmeas['rabi_period2'] = t_rabi_2\n",
    "        if deer_ampl == None:\n",
    "            qmeas['mw_amp2'] = common.mw_amp\n",
    "        else:\n",
    "            qmeas['mw_amp2'] = deer_ampl\n",
    "            \n",
    "        qmeas['read_phase'] = read_phase\n",
    "    else:\n",
    "        # own, rect pulses    \n",
    "        # parallel pi pulses\n",
    "        qmeas['dd_type'] = dd_type\n",
    "        qmeas['dd_order'] = dd_order\n",
    "        \n",
    "        qmeas['num_of_points'] = n_tau\n",
    "        qmeas['tau_start'] = tau2_start\n",
    "        # old:\n",
    "        # shifting pulses in parallel, so negative values make no sense\n",
    "        # qmeas['tau_step'] = abs(tau2_step)\n",
    "        qmeas['tau_step'] = tau2_step\n",
    "        \n",
    "        qmeas['f_mw_2'] = list_2_csv(f2)\n",
    "        if not t_rabi_2:\n",
    "            qmeas['rabi_period_mw_2'] = list_2_csv(common.rabi_period)    \n",
    "        else:\n",
    "            qmeas['rabi_period_mw_2'] = list_2_csv(t_rabi_2)\n",
    "        if deer_ampl == None:\n",
    "            qmeas['ampl_mw_2'] = list_2_csv(common.mw_amp)\n",
    "        else:\n",
    "            qmeas['ampl_mw_2'] = list_2_csv(deer_ampl)\n",
    "            \n",
    "        qmeas['read_phase_deg'] = read_phase\n",
    "        \n",
    "        # sequential pi pulses\n",
    "        qmeas['tau1'] = dd_tau\n",
    "    \n",
    "    # 1 ns safety between pi pulses\n",
    "    #qmeas['tau2'] = dd_tau/2 - qmeas['rabi_period2']/4 - common.rabi_period/4 - 1e-9\n",
    "\n",
    "\n",
    "    \n",
    "    qmeas['measurement_time'] = 150000 \n",
    "    qmeas['optimize_time'] = None\n",
    "    \n",
    "    qmeas['alternating'] = True\n",
    "\n",
    "\n",
    "    qmeas = add_shaped(qmeas)\n",
    "    return qmeas\n",
    "\n",
    "def setup_deer_f_params(f_res, he_tau=200e-9, f_step=2e6, n_f=50, two_deer_pi=True, pi_len=None, read_phases='0, 180',\n",
    "                       deer_ampl=None):\n",
    "    qmeas=OrderedDict()\n",
    "    qmeas['name'] = 'deer_spectrum'\n",
    "    setup['laser_length'] = common.t_laser_pulsed\n",
    "    setup['wait_time'] = common.t_wait_pulsed\n",
    "\n",
    "    qmeas['freq_step'] = f_step\n",
    "    qmeas['num_of_points'] = n_f\n",
    "    qmeas['freq_start'] = f_res - (qmeas['freq_step'] * qmeas['num_of_points'])/2.\n",
    "    qmeas['rabi_period'] = common.rabi_period\n",
    "\n",
    "    qmeas['measurement_time'] = 150000 \n",
    "    qmeas['optimize_time'] = None\n",
    "    \n",
    "    qmeas['alternating'] = True\n",
    "    qmeas['two_deer_pi'] = two_deer_pi\n",
    "    qmeas['he_tau'] = he_tau\n",
    "    if not deer_ampl:\n",
    "        qmeas['deer_amp'] = common.mw_amp\n",
    "    else:\n",
    "        qmeas['deer_amp'] = deer_ampl\n",
    "    if not pi_len:\n",
    "        qmeas['pi_len'] = common.rabi_period/2\n",
    "    else:\n",
    "        qmeas['pi_len'] = pi_len\n",
    "    \n",
    "    qmeas['read_phase_degree'] = read_phases\n",
    "    \n",
    "    return qmeas\n",
    "\n",
    "def setup_deer_rabi_params(deer_freq, tau_start=10e-9, tau_step=1e-6, n_tau=50, \n",
    "                      he_tau=300e-9, read_phases='0, 180', deer_ampl=None,\n",
    "                      two_deer_pi=True):\n",
    "    qmeas=OrderedDict()\n",
    "    qmeas['name'] = 'deer_rabi'\n",
    "    setup['laser_length'] = common.t_laser_pulsed\n",
    "    setup['wait_time'] = common.t_wait_pulsed\n",
    "\n",
    "    qmeas['tau_start'] = tau_start\n",
    "    qmeas['num_of_taus'] = n_tau\n",
    "    qmeas['tau_step'] = tau_step\n",
    "\n",
    "    qmeas['measurement_time'] = 99999 \n",
    "    qmeas['optimize_time'] = None\n",
    "    \n",
    "\n",
    "    qmeas['he_tau'] = he_tau\n",
    "    qmeas['two_deer_pi'] = two_deer_pi\n",
    "    if not deer_ampl:\n",
    "        qmeas['deer_amp'] = common.mw_amp\n",
    "    else:\n",
    "        qmeas['deer_amp'] = deer_ampl\n",
    "    qmeas['deer_freq'] = deer_freq\n",
    "\n",
    "    \n",
    "    qmeas['alternating'] = True\n",
    "    qmeas['read_phase_degree'] = read_phases\n",
    "    \n",
    "    return qmeas\n",
    "\n",
    "\n",
    "def setup_deer_params(deer_freq, tau_start=10e-9, tau_step=1e-6, n_tau=50, \n",
    "                      he_tau=300e-9, second_rabi_period=None,\n",
    "                      two_deer_pi=True):\n",
    "    qmeas=OrderedDict()\n",
    "    qmeas['name'] = 'DEER'\n",
    "    setup['laser_length'] = common.t_laser_pulsed\n",
    "    setup['wait_time'] = common.t_wait_pulsed\n",
    "\n",
    "    qmeas['tau_start'] = tau_start\n",
    "    qmeas['num_of_points'] = n_tau\n",
    "    qmeas['tau_step'] = tau_step\n",
    "\n",
    "    qmeas['measurement_time'] = 99999 \n",
    "    qmeas['optimize_time'] = None\n",
    "    \n",
    "\n",
    "    qmeas['he_tau'] = he_tau\n",
    "    qmeas['two_deer_pi'] = two_deer_pi\n",
    "\n",
    "    qmeas['deer_amp'] = common.mw_amp\n",
    "    qmeas['deer_freq'] = deer_freq\n",
    "    if not second_rabi_period:\n",
    "        qmeas['second_rabi_period'] = common.rabi_period\n",
    "    else:\n",
    "        qmeas['second_rabi_period'] = second_rabi_period\n",
    "   \n",
    "    qmeas['alternating'] = True\n",
    "    \n",
    "    return qmeas\n",
    "\n",
    "\n",
    "def setup_ramsey_deer_pi_params(f_deer, t_pi_deer, \n",
    "                                tau_start=100e-9, n_tau=1, tau_step=None,\n",
    "                                alternating_mode=DeerAltModes.NVPi3Half,\n",
    "                                two_deer_pi=False):\n",
    "    qmeas=OrderedDict()\n",
    "    qmeas['name'] = 'Ramsey_deer_pi'\n",
    "    qmeas['experiment'] = 'ramsey_deer_pi'\n",
    "    setup['laser_length'] = common.t_laser_pulsed\n",
    "    \n",
    "    qmeas['rabi_period'] = common.rabi_period\n",
    "    qmeas['microwave_frequency'] = common.mw_freq \n",
    "    qmeas['microwave_amplitude'] = common.mw_amp\n",
    "    qmeas['tau_start'] = tau_start\n",
    "    if tau_step is None:\n",
    "        qmeas['tau_step'] = 50e-9\n",
    "    else:\n",
    "        qmeas['tau_step'] = tau_step\n",
    "    qmeas['num_of_points'] = n_tau\n",
    "    qmeas['alternating_mode'] = alternating_mode\n",
    "    \n",
    "    qmeas['from_list'] = False\n",
    "    \n",
    "    qmeas['optimize_time'] = None\n",
    "    #qmeas['freq_optimization_time'] = None\n",
    "    #qmeas['analysis_interval'] = 3\n",
    "    if n_tau > 1:\n",
    "        qmeas['fit_experiment'] = 'sine'\n",
    "     \n",
    "    qmeas['f_mw_deer'] = f_deer\n",
    "    qmeas['t_pi_deer'] = t_pi_deer\n",
    "    qmeas['two_deer_pi'] = two_deer_pi\n",
    "    \n",
    "    return qmeas\n",
    "\n",
    "def setup_podmr_deer_pi_params(f_res, f_deer, t_pi_deer, \n",
    "                               p_scale=10, p_scale_onlyperiod=1, f_step=0.1e6, n_f=50, t_pi_manual=None):\n",
    "    # @param p_scale_onlyperiod: scales rabi period according to given power factor.\n",
    "    #                            useful, if externally controlling poewr\n",
    "    qmeas=OrderedDict()\n",
    "    qmeas['name'] = 'pulsedodmr_deer_pi'\n",
    "    qmeas['experiment'] = 'pulsedodmr_deer_pi'\n",
    "    setup['laser_length'] = common.t_laser_pulsed\n",
    "    setup['wait_time'] = common.t_wait_pulsed\n",
    "    if t_pi_manual:\n",
    "        qmeas['rabi_period'] = 2*t_pi_manual\n",
    "    else:\n",
    "        qmeas['rabi_period'] = common.rabi_period*p_scale*p_scale_onlyperiod\n",
    "    qmeas['freq_step'] = f_step\n",
    "    qmeas['num_of_points'] = n_f\n",
    "    qmeas['freq_start'] = f_res - (qmeas['freq_step'] * qmeas['num_of_points'])/2.\n",
    "    if p_scale != 1:\n",
    "        qmeas['microwave_amplitude'] = common.mw_amp/(p_scale)\n",
    "        qmeas['deer_amplitude'] = common.mw_amp\n",
    "    else:\n",
    "        qmeas['microwave_amplitude'] = common.mw_amp\n",
    "        qmeas['deer_amplitude'] = common.mw_amp\n",
    "    qmeas['measurement_time'] = 1500 \n",
    "    qmeas['optimize_time'] = None\n",
    "    qmeas['fit_experiment'] = 'lor_dip'\n",
    "    \n",
    "    qmeas['f_mw_deer'] = f_deer\n",
    "    qmeas['t_pi_deer'] = t_pi_deer\n",
    "    \n",
    "    return qmeas\n",
    "\n",
    "\n",
    "\n",
    "def run_deer_f(mes_params, save_tag=None, generate_new=True):\n",
    "    laser_off()\n",
    "    if save_tag is None:\n",
    "        save_tag='deer_f'\n",
    "    do_experiment(experiment='deer_spectrum', qm_dict=mes_params, meas_type=conventional_measurement, meas_info=add_conventional_information, \n",
    "                  generate_new=generate_new, save_tag=save_tag, load_tag='')\n",
    "\n",
    "def run_deer(mes_params, save_tag=None, generate_new=True):\n",
    "    laser_off()\n",
    "    if save_tag is None:\n",
    "        save_tag='deer'\n",
    "    do_experiment(experiment='DEER', qm_dict=mes_params, meas_type=conventional_measurement, meas_info=add_conventional_information, \n",
    "                  generate_new=generate_new, save_tag=save_tag, load_tag='')\n",
    "\n",
    "\n",
    "def run_deer_rabi(mes_params, save_tag=None, generate_new=True):\n",
    "    laser_off()\n",
    "    if save_tag is None:\n",
    "        save_tag='deer_rabi'\n",
    "    do_experiment(experiment='deer_rabi', qm_dict=mes_params, meas_type=conventional_measurement, meas_info=add_conventional_information, \n",
    "                  generate_new=generate_new, save_tag=save_tag, load_tag='')\n",
    "\n",
    "\n",
    "    \n",
    "def run_deer_pi_start(mes_params, save_tag=None, generate_new=True):\n",
    "    laser_off()\n",
    "    if save_tag is None:\n",
    "        save_tag='deer_pi_start'\n",
    "    do_experiment(experiment='DEER_pi_start', qm_dict=mes_params, meas_type=conventional_measurement, meas_info=add_conventional_information, \n",
    "                  generate_new=generate_new, save_tag=save_tag, load_tag='')\n",
    "    \n",
    "def setup_double_hh_f_params(f_start=0e6, n_f=50, f_step=1e6, spinlock_length=100e-9,\n",
    "                             ampl_spinlock=0.25, ampl_dress2=0.25):\n",
    "    qmeas=OrderedDict()\n",
    "    qmeas['name'] = 'HH_double_f'\n",
    "    qmeas['experiment'] = 'HH_double_fsweep'\n",
    "    setup['laser_length'] = common.t_laser_pulsed\n",
    "    \n",
    "    qmeas['rabi_period'] = common.rabi_period\n",
    "    qmeas['microwave_frequency'] = common.mw_freq \n",
    "    qmeas['microwave_amplitude'] = common.mw_amp\n",
    "    qmeas['f_start'] = f_start\n",
    "    if f_step is None:\n",
    "        qmeas['f_step'] = 1e6\n",
    "    else:\n",
    "        qmeas['f_step'] = f_step\n",
    "    qmeas['num_of_points'] = n_f\n",
    "    \n",
    "    qmeas['spinlock_length'] = spinlock_length\n",
    "    qmeas['ampl_spinlock'] = ampl_spinlock\n",
    "    qmeas['ampl_dress2'] = ampl_dress2\n",
    "    qmeas['phase_dress2'] = 90\n",
    "    \n",
    "    qmeas['wait_time'] = common.t_wait_pulsed\n",
    "    \n",
    "    qmeas['optimize_time'] = None\n",
    "    #qmeas['freq_optimization_time'] = None\n",
    "    #qmeas['analysis_interval'] = 3\n",
    " \n",
    "    #qmeas = setup_penta_laser_analysis(qmeas)\n",
    "    #qmeas = setup_penta_fastcounter_settings(qmeas)\n",
    "    \n",
    "    return qmeas\n",
    "\n",
    "def setup_double_hh_tau_params(f_dress2=10e6, n_tau=50, tau_start=10e-9, tau_step=100e-9,\n",
    "                             ampl_spinlock=0.25, ampl_dress2=0.25):\n",
    "    qmeas=OrderedDict()\n",
    "    qmeas['name'] = 'HH_double_tau'\n",
    "    qmeas['experiment'] = 'HH_double_tau'\n",
    "    setup['laser_length'] = common.t_laser_pulsed\n",
    "    \n",
    "    qmeas['rabi_period'] = common.rabi_period\n",
    "    qmeas['microwave_frequency'] = common.mw_freq \n",
    "    qmeas['microwave_amplitude'] = common.mw_amp\n",
    "    qmeas['tau_start'] = tau_start\n",
    "    qmeas['tau_step'] = tau_step\n",
    "    qmeas['num_of_points'] = n_tau\n",
    "    \n",
    "    qmeas['dress2_f'] = f_dress2\n",
    "    qmeas['ampl_spinlock'] = ampl_spinlock\n",
    "    qmeas['ampl_dress2'] = ampl_dress2\n",
    "    qmeas['phase_dress2'] = 90\n",
    "    \n",
    "    qmeas['wait_time'] = common.t_wait_pulsed\n",
    "    \n",
    "    qmeas['optimize_time'] = None\n",
    "    #qmeas['freq_optimization_time'] = None\n",
    "    #qmeas['analysis_interval'] = 3\n",
    " \n",
    "    #qmeas = setup_penta_laser_analysis(qmeas)\n",
    "    #qmeas = setup_penta_fastcounter_settings(qmeas)\n",
    "    \n",
    "    return qmeas\n",
    "\n",
    "def setup_double_hh_dsl_tau_params(f_dress2=10e6, n_tau=50, tau_start=10e-9, tau_step=100e-9,\n",
    "                             ampl_spinlock=0.25, ampl_pi2_dress2=0.1, ampl_dress2=0.25, t_rabi_dress2=100e-9,\n",
    "                                  alternating_dress2_init=False):\n",
    "    qmeas=OrderedDict()\n",
    "    qmeas['name'] = 'HH_double_dsl_tau'\n",
    "    qmeas['experiment'] = 'HH_double_dsl_tau'\n",
    "    setup['laser_length'] = common.t_laser_pulsed\n",
    "    \n",
    "    qmeas['rabi_period'] = common.rabi_period\n",
    "    qmeas['microwave_frequency'] = common.mw_freq \n",
    "    qmeas['microwave_amplitude'] = common.mw_amp\n",
    "    qmeas['tau_start'] = tau_start\n",
    "    qmeas['tau_step'] = tau_step\n",
    "    qmeas['num_of_points'] = n_tau\n",
    "    \n",
    "    qmeas['dress2_f'] = f_dress2\n",
    "    qmeas['ampl_spinlock'] = ampl_spinlock\n",
    "    qmeas['ampl_dress2'] = ampl_dress2\n",
    "    qmeas['ampl_pi2_dress2'] = ampl_pi2_dress2\n",
    "    qmeas['t_rabi_dress2'] = t_rabi_dress2\n",
    "    qmeas['phase_dress2'] = 90\n",
    "    qmeas['alternating_pi2_dress2'] = alternating_dress2_init\n",
    "    \n",
    "    qmeas['wait_time'] = common.t_wait_pulsed\n",
    "    \n",
    "    qmeas['optimize_time'] = None\n",
    "    #qmeas['freq_optimization_time'] = None\n",
    "    #qmeas['analysis_interval'] = 3\n",
    " \n",
    "    #qmeas = setup_penta_laser_analysis(qmeas)\n",
    "    #qmeas = setup_penta_fastcounter_settings(qmeas)\n",
    "    \n",
    "    return qmeas\n",
    "\n",
    "\n",
    "def setup_double_hh_ise_tau_params(f_dress2=10e6, n_tau=50, tau_start=10e-9, tau_step=100e-9,\n",
    "                             ampl_spinlock=0.25, df_ise=300e3, ampl_ise=0.1, sweep_speed_ise=0.1e12,\n",
    "                                  alternating_depol=False):\n",
    "    qmeas=OrderedDict()\n",
    "    qmeas['name'] = 'HH_double_ise_tau'\n",
    "    qmeas['experiment'] = 'HH_double_ise_tau'\n",
    "    setup['laser_length'] = common.t_laser_pulsed\n",
    "    \n",
    "    qmeas['rabi_period'] = common.rabi_period\n",
    "    qmeas['microwave_frequency'] = common.mw_freq \n",
    "    qmeas['microwave_amplitude'] = common.mw_amp\n",
    "    qmeas['tau_start'] = tau_start\n",
    "    qmeas['tau_step'] = tau_step\n",
    "    qmeas['num_of_points'] = n_tau\n",
    "    \n",
    "    qmeas['dress2_f'] = f_dress2\n",
    "    qmeas['ampl_spinlock'] = ampl_spinlock\n",
    "    qmeas['ampl_ise'] = ampl_ise\n",
    "    qmeas['sweep_speed_ise'] = sweep_speed_ise\n",
    "    qmeas['df_ise'] = df_ise\n",
    "    qmeas['alternating_pol'] = alternating_depol\n",
    "    \n",
    "    qmeas['wait_time'] = common.t_wait_pulsed\n",
    "    \n",
    "    qmeas['optimize_time'] = None\n",
    "    #qmeas['freq_optimization_time'] = None\n",
    "    #qmeas['analysis_interval'] = 3\n",
    " \n",
    "    #qmeas = setup_penta_laser_analysis(qmeas)\n",
    "    #qmeas = setup_penta_fastcounter_settings(qmeas)\n",
    "    \n",
    "    return qmeas\n",
    "\n",
    "def setup_double_hh_ise_ramsey_params(f_dress2=10e6, n_tau=50, tau_start=10e-9, tau_step=100e-9, tau_ise=10e-6,\n",
    "                             ampl_spinlock=0.25, df_ise=300e3, ampl_ise=0.1, sweep_speed_ise=0.1e12,\n",
    "                                  alternating_depol=False):\n",
    "    qmeas=OrderedDict()\n",
    "    qmeas['name'] = 'HH_double_ise_ramsey'\n",
    "    qmeas['experiment'] = 'HH_double_ise_ramsey'\n",
    "    setup['laser_length'] = common.t_laser_pulsed\n",
    "    \n",
    "    qmeas['rabi_period'] = common.rabi_period\n",
    "    qmeas['microwave_frequency'] = common.mw_freq \n",
    "    qmeas['microwave_amplitude'] = common.mw_amp\n",
    "    qmeas['tau_ram_start'] = tau_start\n",
    "    qmeas['tau_ram_step'] = tau_step\n",
    "    qmeas['num_of_points'] = n_tau\n",
    "    \n",
    "    qmeas['tau_ise'] = tau_ise\n",
    "    qmeas['dress2_f'] = f_dress2\n",
    "    qmeas['ampl_spinlock'] = ampl_spinlock\n",
    "    qmeas['ampl_ise'] = ampl_ise\n",
    "    qmeas['sweep_speed_ise'] = sweep_speed_ise\n",
    "    qmeas['df_ise'] = df_ise\n",
    "    qmeas['alternating_pol'] = alternating_depol\n",
    "    \n",
    "    qmeas['wait_time'] = common.t_wait_pulsed\n",
    "    \n",
    "    qmeas['optimize_time'] = None\n",
    "    #qmeas['freq_optimization_time'] = None\n",
    "    #qmeas['analysis_interval'] = 3\n",
    " \n",
    "    #qmeas = setup_penta_laser_analysis(qmeas)\n",
    "    #qmeas = setup_penta_fastcounter_settings(qmeas)\n",
    "    \n",
    "    return qmeas\n",
    "\n",
    "def setup_double_hh_ise_dhh_f_params(f_dress2=10e6, n_tau=50, f_start=10e-9, f_step=100e-9, tau_ise=10e-6,\n",
    "                             ampl_spinlock=0.25, df_ise=300e3, ampl_ise=0.1, sweep_speed_ise=0.1e12,\n",
    "                             ampl_dhh_dress2=0.1, t_dhh_lock=10e-6,\n",
    "                             alternating_depol=False):\n",
    "    qmeas=OrderedDict()\n",
    "    qmeas['name'] = 'HH_double_ise_dhh_f'\n",
    "    qmeas['experiment'] = 'HH_double_ise_dhh_f'\n",
    "    setup['laser_length'] = common.t_laser_pulsed\n",
    "    \n",
    "    qmeas['rabi_period'] = common.rabi_period\n",
    "    qmeas['microwave_frequency'] = common.mw_freq \n",
    "    qmeas['microwave_amplitude'] = common.mw_amp\n",
    "    qmeas['f_dhh_start'] = f_start\n",
    "    qmeas['f_dhh_step'] = f_step\n",
    "    qmeas['num_of_points'] = n_tau\n",
    "    \n",
    "    qmeas['tau_ise'] = tau_ise\n",
    "    qmeas['dress2_f'] = f_dress2\n",
    "    qmeas['ampl_spinlock'] = ampl_spinlock\n",
    "    qmeas['ampl_ise'] = ampl_ise\n",
    "    qmeas['sweep_speed_ise'] = sweep_speed_ise\n",
    "    qmeas['df_ise'] = df_ise\n",
    "    qmeas['alternating_pol'] = alternating_depol\n",
    "    qmeas['ampl_dhh_dress2'] = ampl_dhh_dress2\n",
    "    qmeas['t_dhh_lock'] = t_dhh_lock\n",
    "    \n",
    "    qmeas['wait_time'] = common.t_wait_pulsed\n",
    "    \n",
    "    \n",
    "    qmeas['optimize_time'] = None\n",
    "    #qmeas['freq_optimization_time'] = None\n",
    "    #qmeas['analysis_interval'] = 3\n",
    " \n",
    "    #qmeas = setup_penta_laser_analysis(qmeas)\n",
    "    #qmeas = setup_penta_fastcounter_settings(qmeas)\n",
    "    \n",
    "    return qmeas\n",
    "\n",
    "def setup_hh_tau_params(tau_start=0e-6, tau_step=1e-6, n_tau=50, amp_sl=1e-3):\n",
    "    qmeas=OrderedDict()\n",
    "    qmeas['name'] = 'hh_tau'\n",
    "    qmeas['experiment'] = 'HHtau'\n",
    "    setup['laser_length'] = common.t_laser_pulsed\n",
    "    \n",
    "    qmeas['rabi_period'] = common.rabi_period\n",
    "    qmeas['microwave_frequency'] = common.mw_freq \n",
    "    qmeas['microwave_amplitude'] = common.mw_amp\n",
    "    qmeas['tau_start'] = tau_start\n",
    "    qmeas['tau_step'] = tau_step\n",
    "    qmeas['num_of_points'] = n_tau\n",
    "    \n",
    "    qmeas['spinlock_amp'] = amp_sl\n",
    "    \n",
    "    qmeas['wait_time'] = common.t_wait_pulsed\n",
    "    \n",
    "    qmeas['optimize_time'] = None\n",
    "    #qmeas['freq_optimization_time'] = None\n",
    "    #qmeas['analysis_interval'] = 3\n",
    " \n",
    "    #qmeas = setup_penta_laser_analysis(qmeas)\n",
    "    #qmeas = setup_penta_fastcounter_settings(qmeas)\n",
    "    \n",
    "    return qmeas\n",
    "\n",
    "def setup_dd_mollow_n_params(tau=500e-9, dd_start=1, dd_step=1, n_dd=20, dd_type=DDMethods.SE, \n",
    "                             ampl_mol=1.5e-3, f_mol=0e6, phase_mod='0',\n",
    "                             alternating=True):\n",
    "\n",
    "    qmeas=OrderedDict()\n",
    "    qmeas['experiment'] = 'dd_mollow_n'\n",
    "    qmeas['name'] = f\"dd_mollow_{str(dd_type).replace('DDMethods.','')}_n\"\n",
    "    setup['laser_length'] = common.t_laser_pulsed\n",
    "    \n",
    "    qmeas['rabi_period'] = common.rabi_period\n",
    "    qmeas['microwave_frequency'] = common.mw_freq \n",
    "    qmeas['microwave_amplitude'] = common.mw_amp\n",
    "    \n",
    "    qmeas['tau'] = tau\n",
    "    qmeas['dd_order_start'] = dd_start\n",
    "    qmeas['dd_step'] = dd_step\n",
    "    qmeas['dd_type'] = dd_type\n",
    "    qmeas['ampl_mol'] = ampl_mol\n",
    "    qmeas['f_mol'] = f_mol\n",
    "    qmeas['phase_mod'] = phase_mod\n",
    "        \n",
    "    \n",
    "    qmeas['num_of_points'] = n_dd\n",
    "    qmeas['alternating'] = alternating\n",
    "        \n",
    "    qmeas['optimize_time'] = None\n",
    "    #qmeas['freq_optimization_time'] = None\n",
    "    #qmeas['analysis_interval'] = 3\n",
    "    if n_dd > 1:\n",
    "        qmeas['fit_experiment'] = 'sine_decay'\n",
    "     \n",
    "    qmeas = add_shaped(qmeas)\n",
    "    \n",
    "    return qmeas\n",
    "\n",
    "def setup_rnovel_ppol_propi_params(dd_tau=500e-9, dd_order=1, dd_type=DDMethods.CPMG, \n",
    "                             ampl_mol=1.5e-3, n_pol=100, tau_ppol=0.5e-6, order_ppol=10, m_read_step=30,\n",
    "                             alternating=True, shape_only_ppol=False):\n",
    "\n",
    "    qmeas=OrderedDict()\n",
    "    qmeas['experiment'] = 'rnovel_ppol_propi'\n",
    "\n",
    "    qmeas['name'] = f\"rnovel_ppol_propi\"\n",
    "    qmeas['sequence_mode'] = True\n",
    "    setup['laser_length'] = common.t_laser_pulsed\n",
    "    \n",
    "    qmeas['rabi_period'] = common.rabi_period\n",
    "    if shape_only_ppol:\n",
    "        qmeas['dd_t_rabi_rect'] = common.rabi_period_rect\n",
    "    qmeas['microwave_frequency'] = common.mw_freq \n",
    "    qmeas['microwave_amplitude'] = common.mw_amp\n",
    "    \n",
    "    # rnovel params\n",
    "    qmeas['dd_mol_tau'] = tau\n",
    "    qmeas['dd_mol_order'] = dd_order\n",
    "    qmeas['dd_mol_ampl'] = ampl_mol\n",
    "    qmeas['dd_mol_type'] = dd_type\n",
    "    qmeas['n_pol'] = n_pol\n",
    "    # propi params\n",
    "    qmeas['m_read_step'] = m_read_step\n",
    "    qmeas['tau_ppol'] = tau_ppol\n",
    "    qmeas['order_ppol'] = order_ppol\n",
    "        \n",
    "\n",
    "    qmeas['alternating'] = alternating\n",
    "        \n",
    "    qmeas['optimize_time'] = None\n",
    "    #qmeas['freq_optimization_time'] = None\n",
    "    #qmeas['analysis_interval'] = 3\n",
    "    \n",
    "    qmeas = add_shaped(qmeas)\n",
    "        \n",
    "    if m_read_step > 1:\n",
    "        qmeas['fit_experiment'] = 'decay_exp'\n",
    " \n",
    "    return qmeas\n",
    "\n",
    "def setup_ppol_tau_params(tau_start=0.5e-6, tau_step=20e-9,\n",
    "                         num_of_points=50, order=8,\n",
    "                             alternating=True):\n",
    "\n",
    "    qmeas=OrderedDict()\n",
    "    qmeas['experiment'] = 'Poltau'\n",
    "\n",
    "    qmeas['name'] = f\"ppol_tau\"\n",
    "    setup['laser_length'] = common.t_laser_pulsed\n",
    "    \n",
    "    qmeas['rabi_period'] = common.rabi_period\n",
    "    qmeas['microwave_frequency'] = common.mw_freq \n",
    "    qmeas['microwave_amplitude'] = common.mw_amp\n",
    "    \n",
    "    qmeas['tau_start'] = tau_start\n",
    "    qmeas['tau_step'] = tau_step\n",
    "    qmeas['order'] = order\n",
    "    \n",
    "    qmeas['num_of_points'] = num_of_points\n",
    "    qmeas['alternating'] = alternating\n",
    "        \n",
    "    qmeas['optimize_time'] = None\n",
    "    #qmeas['freq_optimization_time'] = None\n",
    "    #qmeas['analysis_interval'] = 3\n",
    "    if num_of_points > 1:\n",
    "        qmeas['fit_experiment'] = 'lor_dip'\n",
    "     \n",
    "    \n",
    "    qmeas = add_shaped(qmeas)\n",
    "        \n",
    "    return qmeas\n",
    "\n",
    "def setup_ppol_n_params(tau=500e-9, n_start=1, n_step=1,\n",
    "                         num_of_points=50, alternating=True):\n",
    "\n",
    "    qmeas=OrderedDict()\n",
    "    qmeas['experiment'] = 'Pol20_order'\n",
    "    \n",
    "    qmeas['name'] = f\"ppol_n\"\n",
    "    setup['laser_length'] = common.t_laser_pulsed\n",
    "    \n",
    "    qmeas['rabi_period'] = common.rabi_period\n",
    "    qmeas['microwave_frequency'] = common.mw_freq \n",
    "    qmeas['microwave_amplitude'] = common.mw_amp\n",
    "    \n",
    "    qmeas['n_start'] = n_start\n",
    "    qmeas['n_step'] = n_start\n",
    "    qmeas['tau'] = tau\n",
    "    \n",
    "    qmeas['num_of_points'] = num_of_points\n",
    "    qmeas['alternating'] = alternating\n",
    "        \n",
    "    qmeas['optimize_time'] = None\n",
    "    #qmeas['freq_optimization_time'] = None\n",
    "    #qmeas['analysis_interval'] = 3\n",
    "    if num_of_points > 1:\n",
    "        qmeas['fit_experiment'] = 'sine'\n",
    "    \n",
    "    qmeas = add_shaped(qmeas)\n",
    " \n",
    "    return qmeas\n",
    "\n",
    "def setup_ppol_propi_params(tau=500e-9, n_start=1, n_step=1,\n",
    "                         num_of_points=50, alternating=True):\n",
    "\n",
    "    qmeas=OrderedDict()\n",
    "    qmeas['experiment'] = 'Pol20_order'\n",
    "    qmeas['name'] = f\"ppol_n\"\n",
    "    setup['laser_length'] = common.t_laser_pulsed\n",
    "    \n",
    "    qmeas['rabi_period'] = common.rabi_period\n",
    "    qmeas['microwave_frequency'] = common.mw_freq \n",
    "    qmeas['microwave_amplitude'] = common.mw_amp\n",
    "    \n",
    "    qmeas['n_start'] = n_start\n",
    "    qmeas['n_step'] = n_start\n",
    "    qmeas['tau'] = tau\n",
    "    \n",
    "    qmeas['num_of_points'] = num_of_points\n",
    "    qmeas['alternating'] = alternating\n",
    "        \n",
    "    qmeas['optimize_time'] = None\n",
    "    #qmeas['freq_optimization_time'] = None\n",
    "    #qmeas['analysis_interval'] = 3\n",
    "    if num_of_points > 1:\n",
    "        qmeas['fit_experiment'] = 'sine'\n",
    "     \n",
    "    qmeas = add_shaped(qmeas)\n",
    "        \n",
    "    return qmeas\n",
    "\n",
    "\n",
    "def setup_ppol_2x_propi_params(tau=500e-9, n_pol=100, m_read=20, order_ppol=8,\n",
    "                         alternating=True):\n",
    "\n",
    "    qmeas=OrderedDict()\n",
    "    qmeas['experiment'] = 'ppol_2x_propi'\n",
    "    qmeas['name'] = f\"ppol_2x_propi\"\n",
    "    qmeas['sequence_mode'] = True\n",
    "    setup['laser_length'] = common.t_laser_pulsed\n",
    "    \n",
    "    qmeas['rabi_period'] = common.rabi_period\n",
    "    qmeas['microwave_frequency'] = common.mw_freq \n",
    "    qmeas['microwave_amplitude'] = common.mw_amp\n",
    "    \n",
    "    qmeas['n_pol'] = n_pol\n",
    "    qmeas['m_read_step'] = m_read\n",
    "    qmeas['tau_ppol'] = tau\n",
    "    qmeas['order_ppol'] = order_ppol\n",
    "    \n",
    "    #qmeas['num_of_points'] = num_of_points\n",
    "    qmeas['alternating'] = alternating\n",
    "        \n",
    "    qmeas['optimize_time'] = None\n",
    "    #qmeas['freq_optimization_time'] = None\n",
    "    #qmeas['analysis_interval'] = 3\n",
    "    if m_read > 1:\n",
    "        qmeas['fit_experiment'] = 'decay_exp'\n",
    "     \n",
    "    qmeas = add_shaped(qmeas)\n",
    "        \n",
    "    return qmeas\n",
    "\n",
    "def setup_ise_propi_params(tau_ppol=500e-9, n_pol=100, m_read=20, order_ppol=8,\n",
    "                           df_mw_sweep=3e6, t_ise=1e-6, mw_sweep_speed=1e12, amp_mw_sweep=0.1,\n",
    "                           ppol_read_dir='down',\n",
    "                           alternating=True):\n",
    "\n",
    "    qmeas=OrderedDict()\n",
    "    qmeas['experiment'] = 'ise_ppol_propi'\n",
    "    qmeas['name'] = f\"ise_ppol_propi\"\n",
    "    qmeas['sequence_mode'] = True\n",
    "    setup['laser_length'] = common.t_laser_pulsed\n",
    "    \n",
    "    qmeas['rabi_period'] = common.rabi_period\n",
    "    qmeas['microwave_frequency'] = common.mw_freq \n",
    "    qmeas['microwave_amplitude'] = common.mw_amp\n",
    "    \n",
    "    qmeas['n_pol'] = n_pol\n",
    "    qmeas['m_read_step'] = m_read\n",
    "    qmeas['tau_ppol'] = tau_ppol\n",
    "    qmeas['order_ppol'] = order_ppol\n",
    "    qmeas['ppol_read_dir'] = ppol_read_dir\n",
    "    \n",
    "    qmeas['t_ise'] = t_ise\n",
    "    qmeas['df_mw_sweep'] = df_mw_sweep\n",
    "    qmeas['mw_sweep_speed'] = mw_sweep_speed\n",
    "    qmeas['amp_mw_sweep'] = amp_mw_sweep\n",
    "    \n",
    "    \n",
    "    #qmeas['num_of_points'] = num_of_points\n",
    "    qmeas['alternating'] = alternating\n",
    "        \n",
    "    qmeas['optimize_time'] = None\n",
    "    #qmeas['freq_optimization_time'] = None\n",
    "    #qmeas['analysis_interval'] = 3\n",
    "    if m_read > 1:\n",
    "        qmeas['fit_experiment'] = 'decay_exp'\n",
    "     \n",
    "    qmeas = add_shaped(qmeas)\n",
    "        \n",
    "    return qmeas\n",
    "\n",
    "\n",
    "def setup_dd_dqt_sigamp_params(tau=100e-9, n_amp=50, amp_step=0.01e-3,\n",
    "                               t_rabi1=None, t_rabi2=None,  \n",
    "                               f_mw1=[], f_mw2=[], ampl_mw2=0.0,\n",
    "                               dd_type=DDMethods.XY8, dd_order=1, alternating=True):\n",
    "\n",
    "    qmeas=OrderedDict()\n",
    "    \n",
    "    if not t_rabi1==None:\n",
    "        qmeas['rabi_period'] = t_rabi1\n",
    "    else:\n",
    "        qmeas['rabi_period'] = common.rabi_period \n",
    "    \n",
    "    is_multi_drive = False\n",
    "    if len(f_mw2) or len(f_mw1) > 1:\n",
    "        is_multi_drive = True\n",
    "        \n",
    "    \n",
    "    if common.rabi_shaped['shaped_on']:\n",
    "        raise ValueError(\"Shaping not supported\")\n",
    "    else:\n",
    "        qmeas['name'] = 'dd_dqt_sigamp'\n",
    "        qmeas['experiment'] = 'dd_dqt_sigamp'\n",
    "\n",
    "    setup['laser_length'] = common.t_laser_pulsed\n",
    "    qmeas['microwave_amplitude'] = common.mw_amp\n",
    " \n",
    "    qmeas['tau'] = tau\n",
    "    qmeas['amp_start'] = 0e-3\n",
    "    qmeas['amp_step'] = amp_step\n",
    "    qmeas['dd_type'] = dd_type\n",
    "    qmeas['dd_order'] = dd_order\n",
    "    qmeas['alternating'] = alternating\n",
    "    qmeas['num_of_points'] = n_amp\n",
    "    \n",
    "    \n",
    "    if is_multi_drive:\n",
    "        # currently drives 1,2 have same amplitude, respectively\n",
    "        qmeas['f_mw2'] = list_2_csv(f_mw2)\n",
    "        qmeas['t_rabi_mw2'] = t_rabi2 if t_rabi2 else t_rabi1\n",
    "        qmeas['ampl_mw2'] = ampl_mw2\n",
    "        if len(f_mw1) == 0:\n",
    "            qmeas['microwave_frequency'] = common.mw_freq\n",
    "        else:\n",
    "            qmeas['microwave_frequency'] = f_mw1[0]\n",
    "            qmeas['f_mw1_add'] = list_2_csv(f_mw1[1:])\n",
    "            \n",
    "    else:\n",
    "         qmeas['microwave_frequency'] = common.mw_freq #+ 0.5*3.03e6\n",
    "    \n",
    "\n",
    "    qmeas['measurement_time'] = None\n",
    "    qmeas['optimize_time'] = None\n",
    "    qmeas['freq_optimize_time'] = None\n",
    "\n",
    "\n",
    "    qmeas['fit_experiment'] = 'sine'\n",
    "    #qmeas['analysis_interval'] = 3\n",
    "    #qmeas['n_sweeps'] = 5\n",
    "\n",
    "    qmeas = add_shaped(qmeas)\n",
    "\n",
    "    return qmeas\n",
    "\n",
    "def setup_ent_create_bell_params(tau_start=0.5e-6, tau_step=0.01e-6, n_tau=50,\n",
    "                             f_mw_1=[], f_mw_2=[], ampl_mw_2=[], rabi_period_mw_2=[],\n",
    "                             dd_type=DDMethods.SE, dd_order=1, alternating=True):\n",
    "\n",
    "    qmeas=OrderedDict()\n",
    "\n",
    "    is_multi_drive = False\n",
    "    if len(f_mw_2) > 0 or len(f_mw_1) > 1:\n",
    "        is_multi_drive = True\n",
    "        \n",
    "    if common.rabi_shaped['shaped_on']:\n",
    "        raise ValueError(\"Shaping not supported\")\n",
    "    else:\n",
    "        qmeas['name'] = 'ent_create_bell'\n",
    "        qmeas['experiment'] = 'ent_create_bell'\n",
    "\n",
    "    setup['laser_length'] = common.t_laser_pulsed\n",
    "    qmeas['microwave_amplitude'] = common.mw_amp\n",
    "    qmeas['microwave_frequency'] = common.mw_freq\n",
    "    qmeas['rabi_period'] = common.rabi_period\n",
    " \n",
    "    qmeas['tau_start'] = tau_start\n",
    "    qmeas['tau_step'] = tau_step\n",
    "    qmeas['read_phase_deg'] = 90\n",
    "    qmeas['dd_type'] = dd_type\n",
    "    qmeas['dd_order'] = dd_order\n",
    "    qmeas['alternating'] = alternating\n",
    "    qmeas['num_of_points'] = n_tau\n",
    "\n",
    "    \n",
    "    if is_multi_drive:\n",
    "        # currently drives 1,2 have same amplitude, respectively\n",
    "        qmeas['f_mw_2'] = list_2_csv(f_mw_2)\n",
    "        qmeas['rabi_period_mw_2'] = list_2_csv(rabi_period_mw_2)\n",
    "        qmeas['ampl_mw_2'] = list_2_csv(ampl_mw_2)            \n",
    "    \n",
    "\n",
    "    qmeas['measurement_time'] = None\n",
    "    qmeas['optimize_time'] = None\n",
    "    qmeas['freq_optimize_time'] = None\n",
    "\n",
    "\n",
    "    qmeas['fit_experiment'] = 'sine'\n",
    "    #qmeas['analysis_interval'] = 3\n",
    "    #qmeas['n_sweeps'] = 5\n",
    "\n",
    "    qmeas = add_shaped(qmeas)\n",
    "\n",
    "    return qmeas\n",
    "\n",
    "def setup_bell_ramsey_params(tau_start=0.5e-6, tau_step=0.01e-6, n_tau=50, t_rabi_bell=100e-9,\n",
    "                             f_mw_1=[], f_mw_2=[], ampl_mw_2=[], rabi_period_mw_2=[],\n",
    "                             dd_type=DDMethods.SE, dd_order=1, alternating=True):\n",
    "\n",
    "    qmeas=OrderedDict()\n",
    "\n",
    "    is_multi_drive = False\n",
    "    if len(f_mw_2) > 0 or len(f_mw_1) > 1:\n",
    "        is_multi_drive = True\n",
    "        \n",
    "    if common.rabi_shaped['shaped_on']:\n",
    "        raise ValueError(\"Shaping not supported\")\n",
    "    else:\n",
    "        qmeas['name'] = 'bell_ramsey'\n",
    "        qmeas['experiment'] = 'bell_ramsey'\n",
    "\n",
    "    setup['laser_length'] = common.t_laser_pulsed\n",
    "    qmeas['microwave_amplitude'] = common.mw_amp\n",
    "    qmeas['microwave_frequency'] = common.mw_freq\n",
    "    qmeas['rabi_period'] = common.rabi_period\n",
    " \n",
    "    qmeas['tau_start'] = tau_start\n",
    "    qmeas['tau_step'] = tau_step\n",
    "    qmeas['t_rabi_bell'] = t_rabi_bell\n",
    "    qmeas['dd_type'] = dd_type\n",
    "    qmeas['dd_order'] = dd_order\n",
    "    qmeas['alternating'] = alternating\n",
    "    qmeas['num_of_points'] = n_tau\n",
    "\n",
    "    \n",
    "    if is_multi_drive:\n",
    "        # currently drives 1,2 have same amplitude, respectively\n",
    "        qmeas['f_mw_2'] = list_2_csv(f_mw_2)\n",
    "        qmeas['rabi_period_mw_2'] = list_2_csv(rabi_period_mw_2)\n",
    "        qmeas['ampl_mw_2'] = list_2_csv(ampl_mw_2)            \n",
    "    \n",
    "\n",
    "    qmeas['measurement_time'] = None\n",
    "    qmeas['optimize_time'] = None\n",
    "    qmeas['freq_optimize_time'] = None\n",
    "\n",
    "\n",
    "    qmeas['fit_experiment'] = 'sine'\n",
    "    #qmeas['analysis_interval'] = 3\n",
    "    #qmeas['n_sweeps'] = 5\n",
    "\n",
    "    qmeas = add_shaped(qmeas)\n",
    "\n",
    "    return qmeas\n",
    "\n",
    "def setup_tomography_params(tau_start=0e-9, tau_step=None, n_tau=50, \n",
    "                             read_rotation=TomoRotations.none, init_state=TomoInit.none,\n",
    "                             rabi_on_nv=1, rabi_phase_deg=0,\n",
    "                             f_mw_2=[], ampl_mw_2=[], rabi_period_mw_2=[],\n",
    "                             tau_cnot=100e-9, dd_type_cnot=DDMethods.SE, dd_order=1,\n",
    "                             use_shaped_cnot=False, tau_dd_fix=None,\n",
    "                             alternating=True):\n",
    "\n",
    "    qmeas=OrderedDict()\n",
    "\n",
    "    is_multi_drive = False\n",
    "    if len(f_mw_2) > 0:\n",
    "        is_multi_drive = True\n",
    "        \n",
    "    if common.rabi_shaped['shaped_on']:\n",
    "        raise ValueError(\"Shaping not supported\")\n",
    "    else:\n",
    "        # for awg8190 name must be < 32 chars incl ch extension\n",
    "        qmeas['name'] = f'tomo_rot={read_rotation.name}'  \n",
    "        qmeas['experiment'] = 'tomography'\n",
    "        qmeas['savetag'] = f'tomography_on{rabi_on_nv}_rot={read_rotation.name}_phi={rabi_phase_deg}'  \n",
    "\n",
    "    setup['laser_length'] = common.t_laser_pulsed\n",
    "    qmeas['microwave_amplitude'] = common.mw_amp\n",
    "    qmeas['microwave_frequency'] = common.mw_freq\n",
    "    qmeas['rabi_period'] = common.rabi_period\n",
    "    \n",
    "    qmeas['tau_start'] = tau_start\n",
    "    qmeas['tau_step'] = tau_step\n",
    "    if tau_step is None:\n",
    "        if rabi_on_nv == 1:\n",
    "            qmeas['tau_step'] = common.rabi_period/20\n",
    "        elif rabi_on_nv == 2:\n",
    "            qmeas['tau_step'] = common.rabi_period_2[0]/20\n",
    "        else:\n",
    "            raise ValueError\n",
    "        \n",
    "    qmeas['rabi_on_nv'] = rabi_on_nv\n",
    "    qmeas['rabi_phase_deg'] = rabi_phase_deg\n",
    "    qmeas['rotation'] = read_rotation\n",
    "    qmeas['init_state'] = init_state\n",
    "    qmeas['init_state_kwargs'] = {}   # todo, needed for cnot/ent state\n",
    "    #{'dd_type': DDMethods.CPMG}\n",
    "    \n",
    "    qmeas['cnot_kwargs'] = {'tau_dd_fix': tau_dd_fix}   \n",
    "    if use_shaped_cnot:\n",
    "        cnot_kwargs = {'env_type':Evm.parabola, \n",
    "                   'order_P': 1,\n",
    "                   'tau_dd_fix': tau_dd_fix,\n",
    "                   'rabi_period': common.rabi_shaped['period'],\n",
    "                   'rabi_period_mw_2': list_2_csv(common.t_rabi_2_shaped)}\n",
    "        qmeas['cnot_kwargs'] = cnot_kwargs\n",
    "    \n",
    "    \n",
    "    qmeas['tau_cnot'] = tau_cnot\n",
    "    qmeas['dd_type_cnot'] = dd_type_cnot\n",
    "    qmeas['dd_order'] = dd_order\n",
    "    qmeas['alternating'] = alternating\n",
    "    qmeas['num_of_points'] = n_tau\n",
    "    \n",
    "    if tau_cnot < 0 and tau_dd_fix == None:\n",
    "        raise ValueError(f\"Negative tau_cnot {tau_cnot} not allowed for cnot based on deer_dd_par!\")\n",
    "    \n",
    "    if is_multi_drive:\n",
    "        # currently drives 1,2 have same amplitude, respectively\n",
    "        qmeas['f_mw_2'] = list_2_csv(f_mw_2)\n",
    "        qmeas['rabi_period_mw_2'] = list_2_csv(rabi_period_mw_2)\n",
    "        qmeas['ampl_mw_2'] = list_2_csv(ampl_mw_2)            \n",
    "    \n",
    "\n",
    "    qmeas['measurement_time'] = None\n",
    "    qmeas['optimize_time'] = None\n",
    "    qmeas['freq_optimize_time'] = None\n",
    "\n",
    "\n",
    "    qmeas['fit_experiment'] = 'sine'\n",
    "    #qmeas['analysis_interval'] = 3\n",
    "    #qmeas['n_sweeps'] = 5\n",
    "\n",
    "    qmeas = add_shaped(qmeas)\n",
    "\n",
    "    return qmeas\n",
    "\n",
    "0"
   ]
  },
  {
   "cell_type": "markdown",
   "metadata": {},
   "source": [
    "## Basics"
   ]
  },
  {
   "cell_type": "code",
   "execution_count": 6,
   "metadata": {
    "ExecuteTime": {
     "end_time": "2024-12-22T18:32:52.956320Z",
     "start_time": "2024-12-22T18:32:52.481037Z"
    }
   },
   "outputs": [
    {
     "data": {
      "text/plain": [
       "0"
      ]
     },
     "execution_count": 6,
     "metadata": {},
     "output_type": "execute_result"
    }
   ],
   "source": [
    "\n",
    "import pickle\n",
    "from scipy.optimize import curve_fit\n",
    "from scipy.stats import poisson\n",
    "\n",
    "def setup_nuc_podmr_params(f_start=2.7e6,  f_step=5e3, n_f=50, t_nuc_rabi=50e6, rf_ampl=50e-3):\n",
    "    qmeas=OrderedDict()\n",
    "\n",
    "    if common.rabi_shaped['shaped_on']:\n",
    "        raise NotImplemented\n",
    "    else:\n",
    "        qmeas['name'] = 'nuc_pulsedodmr'\n",
    "        qmeas['experiment'] = 'nuc_pulsedodmr'\n",
    "\n",
    "    setup['laser_length'] = common.t_laser_pulsed\n",
    "    setup['wait_time'] = common.t_wait_pulsed\n",
    "    \n",
    "    qmeas['microwave_frequency'] = common.mw_freq #+ 0.5*3.03e6\n",
    "    qmeas['rabi_period'] = common.rabi_period\n",
    "    qmeas['freq_start'] = f_start\n",
    "    qmeas['freq_step'] = f_step\n",
    "    qmeas['num_of_points'] = n_f\n",
    "    \n",
    "    qmeas['rf_chnl'] = 'a_ch2'\n",
    "    qmeas['rf_ampl'] = rf_ampl\n",
    "    qmeas['t_nuc_rabi'] = t_nuc_rabi\n",
    "    qmeas['nv_pi_init'] = True\n",
    "    qmeas['alternating_no_rf'] = True\n",
    "    \n",
    "\n",
    "    qmeas['measurement_time'] = 1500 \n",
    "    qmeas['optimize_time'] = None\n",
    "    qmeas['fit_experiment'] = 'lor_dip'\n",
    "\n",
    "    return qmeas\n",
    "\n",
    "def setup_nuc_rabi_params(tau_step=1e-6, rf_freq=2.6e6, rf_ampl=50e-3, n_tau=50):\n",
    "\n",
    "    qmeas=OrderedDict()\n",
    "\n",
    "    if common.rabi_shaped['shaped_on']:\n",
    "        raise NotImplemented\n",
    "    else:\n",
    "        qmeas['name'] = 'nuc_rabi'\n",
    "        qmeas['experiment'] = 'nuc_rabi'\n",
    "\n",
    "    setup['laser_length'] = common.t_laser_pulsed\n",
    "    qmeas['rabi_period'] = common.rabi_period\n",
    "\n",
    "    qmeas['tau_step'] = tau_step\n",
    "    qmeas['tau_start'] = 1e-6    \n",
    "    qmeas['num_of_points'] = n_tau\n",
    "    qmeas['microwave_frequency'] = common.mw_freq #+ 0.5*3.03e6\n",
    "    qmeas['microwave_amplitude'] = common.mw_amp\n",
    "    \n",
    "    qmeas['rf_chnl'] = 'a_ch2'\n",
    "    qmeas['rf_ampl'] = rf_ampl\n",
    "    qmeas['rf_freq'] = rf_freq\n",
    "    qmeas['nv_pi_init'] = True\n",
    "    qmeas['alternating_no_rf'] = True\n",
    "    \n",
    "    qmeas['measurement_time'] = None\n",
    "    qmeas['optimize_time'] = None\n",
    "    qmeas['freq_optimize_time'] = None\n",
    "\n",
    "\n",
    "    qmeas['fit_experiment'] = 'sine'\n",
    "    #qmeas['analysis_interval'] = 3\n",
    "    #qmeas['n_sweeps'] = 5\n",
    "\n",
    "\n",
    "    return qmeas\n",
    "\n",
    "def setup_podmr_params(f_res, p_scale=10, p_scale_onlyperiod=1, f_step=0.1e6, n_f=50, t_pi_manual=None):\n",
    "    # @param p_scale_onlyperiod: scales rabi period according to given power factor.\n",
    "    #                            useful, if externally controlling poewr\n",
    "    qmeas=OrderedDict()\n",
    "\n",
    "    if common.rabi_shaped['shaped_on']:\n",
    "        qmeas['name'] = 'pulsedodmr_shaped'\n",
    "        qmeas['experiment'] = 'pulsedodmr_shaped'\n",
    "        # empirically, don't know where the scaling difference comes from\n",
    "        #p_scale_onlyperiod *= 0.5\n",
    "    else:\n",
    "        qmeas['name'] = 'pulsedodmr'\n",
    "        qmeas['experiment'] = 'pulsedodmr'\n",
    "\n",
    "    setup['laser_length'] = common.t_laser_pulsed\n",
    "    setup['wait_time'] = common.t_wait_pulsed\n",
    "\n",
    "    if t_pi_manual:\n",
    "        qmeas['rabi_period'] = 2*t_pi_manual\n",
    "    else:\n",
    "        qmeas['rabi_period'] = common.rabi_period*p_scale*p_scale_onlyperiod\n",
    "    qmeas['freq_step'] = f_step\n",
    "    qmeas['num_of_points'] = n_f\n",
    "    qmeas['freq_start'] = f_res - (qmeas['freq_step'] * qmeas['num_of_points'])/2.\n",
    "    if p_scale != 1:\n",
    "        qmeas['microwave_amplitude'] = common.mw_amp/(p_scale)\n",
    "    else:\n",
    "        qmeas['microwave_amplitude'] = common.mw_amp\n",
    "    qmeas['measurement_time'] = 1500 \n",
    "    qmeas['optimize_time'] = None\n",
    "    qmeas['fit_experiment'] = 'lor_dip'\n",
    "\n",
    "    qmeas = add_shaped(qmeas)\n",
    "\n",
    "    return qmeas\n",
    "\n",
    "def list_2_csv(in_list):\n",
    "    str_list = \"\"\n",
    "    \n",
    "    if type(in_list) != list:\n",
    "        in_list = [in_list]\n",
    "        \n",
    "    for el in in_list:\n",
    "        str_list += f\"{el}, \"\n",
    "    \n",
    "    if len(str_list) > 0:\n",
    "        str_list = str_list[:-2]\n",
    "        \n",
    "    return str_list\n",
    "    \n",
    "\n",
    "def setup_rabi_params(tau_step=None, p_scale=1, n_tau=50, leave_out_tau_idx='', \n",
    "                      f_mw1=[], f_mw2=[], ampl_mw2=0.0,\n",
    "                      alternating=True):\n",
    "\n",
    "    qmeas=OrderedDict()\n",
    "    \n",
    "    is_multi_drive = False\n",
    "    if len(f_mw2) > 0:\n",
    "        is_multi_drive = True\n",
    "        \n",
    "    \n",
    "    if common.rabi_shaped['shaped_on'] and not is_multi_drive:\n",
    "        qmeas['name'] = 'rabi_shaped'\n",
    "        qmeas['experiment'] = 'rabi_shaped'\n",
    "    elif is_multi_drive:\n",
    "        qmeas['name'] = 'rabi_multi'\n",
    "        qmeas['experiment'] = 'rabi_dqt_p'\n",
    "    else:\n",
    "        qmeas['name'] = 'rabi'\n",
    "        qmeas['experiment'] = 'rabi'\n",
    "\n",
    "    setup['laser_length'] = common.t_laser_pulsed\n",
    "    qmeas['rabi_period'] = common.rabi_period\n",
    "\n",
    "    if tau_step is None:   \n",
    "        tau_step = 5e-9\n",
    "    qmeas['tau_step'] = tau_step\n",
    "    qmeas['tau_start'] = 0e-9\n",
    "    qmeas['alternating'] = alternating\n",
    "    qmeas['leave_out_tau_idx'] = leave_out_tau_idx\n",
    "    if is_multi_drive:\n",
    "        # currently drives 1,2 have same amplitude, respectively\n",
    "        qmeas['f_mw_2'] = list_2_csv(f_mw2)\n",
    "        qmeas['ampl_mw_2'] = ampl_mw2\n",
    "        if alternating:\n",
    "            qmeas['alternating_mode'] = DQTAltModes.DQT_12_alternating\n",
    "        else:\n",
    "            qmeas['alternating_mode'] = DQTAltModes.DQT_both\n",
    "            \n",
    "        if len(f_mw1) == 0:\n",
    "            qmeas['microwave_frequency'] = common.mw_freq\n",
    "        else:\n",
    "            qmeas['microwave_frequency'] = f_mw1[0]\n",
    "            qmeas['f_mw_1_add'] = list_2_csv(f_mw1[1:])\n",
    "            \n",
    "    else:\n",
    "         qmeas['microwave_frequency'] = common.mw_freq #+ 0.5*3.03e6\n",
    "    \n",
    "    qmeas['num_of_points'] = n_tau\n",
    "    if p_scale != 1:\n",
    "        qmeas['microwave_amplitude'] = common.mw_amp/(p_scale)\n",
    "    else:\n",
    "        qmeas['microwave_amplitude'] = common.mw_amp\n",
    "    qmeas['measurement_time'] = None\n",
    "    qmeas['optimize_time'] = None\n",
    "    qmeas['freq_optimize_time'] = None\n",
    "\n",
    "\n",
    "    qmeas['fit_experiment'] = 'sine'\n",
    "    #qmeas['analysis_interval'] = 3\n",
    "    #qmeas['n_sweeps'] = 5\n",
    "\n",
    "    qmeas = add_shaped(qmeas)\n",
    "\n",
    "    return qmeas\n",
    "\n",
    "def setup_ramsey_params(tau_start=100e-9, n_tau=1, tau_step=None, alternating=False, read_phases='0, 180',\n",
    "                       red_readout=False):\n",
    "    qmeas=OrderedDict()\n",
    "    qmeas['name'] = 'Ramsey'\n",
    "    qmeas['experiment'] = 'ramsey_s3p'\n",
    "    if not red_readout:\n",
    "        setup['laser_length'] = common.t_laser_pulsed\n",
    "    else:\n",
    "        qmeas['t_laser_init'] = common.t_laser_green_init\n",
    "        qmeas['laser_read_ch'] = 'd_ch3'\n",
    "        setup['laser_length'] = common.t_laser_red_read\n",
    "\n",
    "    qmeas['rabi_period'] = common.rabi_period\n",
    "    qmeas['microwave_frequency'] = common.mw_freq + common.mw_ramsey_offset\n",
    "    qmeas['microwave_amplitude'] = common.mw_amp\n",
    "    qmeas['tau_start'] = tau_start\n",
    "    if tau_step is None:\n",
    "        qmeas['tau_step'] = 50e-9\n",
    "    else:\n",
    "        qmeas['tau_step'] = tau_step\n",
    "    qmeas['num_of_points'] = n_tau\n",
    "    qmeas['alternating'] = alternating\n",
    "\n",
    "    qmeas['from_list'] = False\n",
    "\n",
    "    qmeas['optimize_time'] = None\n",
    "    #qmeas['freq_optimization_time'] = None\n",
    "    #qmeas['analysis_interval'] = 3\n",
    "    if n_tau > 1:\n",
    "        qmeas['fit_experiment'] = 'sine_decay'\n",
    "\n",
    "    qmeas['read_phases_degree'] = read_phases\n",
    "\n",
    "    return qmeas\n",
    "\n",
    "def setup_hahn_params(tau_start=50e-9, n_tau=50, tau_step=0.5e-6, alternating=False):\n",
    "    qmeas=OrderedDict()\n",
    "    qmeas['name'] = 'hahnecho'\n",
    "    qmeas['experiment'] = 'hahnecho'\n",
    "    setup['laser_length'] = common.t_laser_pulsed\n",
    "\n",
    "    qmeas['rabi_period'] = common.rabi_period\n",
    "    qmeas['microwave_frequency'] = common.mw_freq\n",
    "    qmeas['microwave_amplitude'] = common.mw_amp\n",
    "    qmeas['tau_start'] = tau_start\n",
    "    if tau_step is None:\n",
    "        qmeas['tau_step'] = 50e-9\n",
    "    else:\n",
    "        qmeas['tau_step'] = tau_step\n",
    "    qmeas['num_of_points'] = n_tau\n",
    "    qmeas['alternating'] = alternating\n",
    "\n",
    "    qmeas['optimize_time'] = None\n",
    "    #qmeas['freq_optimization_time'] = None\n",
    "    #qmeas['analysis_interval'] = 3\n",
    "    if n_tau > 1:\n",
    "        qmeas['fit_experiment'] = 'exp'\n",
    "\n",
    "    return qmeas\n",
    "\n",
    "\n",
    "def setup_xy8_tausweep_params(tau_start=100e-9, n_tau=20, tau_step=None, xy8_order=1, alternating=False):\n",
    "    qmeas=OrderedDict()\n",
    "    qmeas['experiment'] = 'xy8_tau'\n",
    "    qmeas['name'] = 'xy8_tau'\n",
    "    setup['laser_length'] = common.t_laser_pulsed\n",
    "\n",
    "    qmeas['rabi_period'] = common.rabi_period\n",
    "    qmeas['microwave_frequency'] = common.mw_freq \n",
    "    qmeas['microwave_amplitude'] = common.mw_amp\n",
    "\n",
    "    qmeas['xy8_order'] = xy8_order\n",
    "    qmeas['tau_start'] = tau_start\n",
    "    if tau_step is None:\n",
    "        qmeas['tau_step'] = 100e-9\n",
    "    else:\n",
    "        qmeas['tau_step'] = tau_step\n",
    "\n",
    "\n",
    "    qmeas['num_of_points'] = n_tau\n",
    "    qmeas['alternating'] = alternating\n",
    "\n",
    "    qmeas['from_list'] = False\n",
    "\n",
    "    qmeas['optimize_time'] = None\n",
    "    #qmeas['freq_optimization_time'] = None\n",
    "    #qmeas['analysis_interval'] = 3\n",
    "    if n_tau > 1:\n",
    "        qmeas['fit_experiment'] = 'Lorentz dip'\n",
    "\n",
    "    return qmeas\n",
    "\n",
    "def setup_xy8_nsweep_params(tau=500e-9, n_n=20, xy8_start=1, xy8_step=1, alternating=False):\n",
    "    qmeas=OrderedDict()\n",
    "    qmeas['experiment'] = 'xy8_nsweep'\n",
    "    qmeas['name'] = 'xy8_nsweep'\n",
    "    setup['laser_length'] = common.t_laser_pulsed\n",
    "\n",
    "    qmeas['rabi_period'] = common.rabi_period\n",
    "    qmeas['microwave_frequency'] = common.mw_freq \n",
    "    qmeas['microwave_amplitude'] = common.mw_amp\n",
    "\n",
    "    qmeas['tau'] = tau\n",
    "    qmeas['xy8_start'] = xy8_start\n",
    "    qmeas['xy8_step'] = xy8_step\n",
    "\n",
    "\n",
    "\n",
    "    qmeas['num_of_points'] = n_n\n",
    "    qmeas['alternating'] = alternating\n",
    "\n",
    "    qmeas['from_list'] = False\n",
    "\n",
    "    qmeas['optimize_time'] = None\n",
    "    #qmeas['freq_optimization_time'] = None\n",
    "    #qmeas['analysis_interval'] = 3\n",
    "    if n_n > 1:\n",
    "        qmeas['fit_experiment'] = 'sine_decay'\n",
    "\n",
    "    return qmeas\n",
    "\n",
    "def run_generic(mes_params, save_tag=None, generate_new=True):\n",
    "    laser_off()\n",
    "    if save_tag is None and 'savetag' in mes_params.keys():\n",
    "        save_tag = mes_params['savetag']\n",
    "    if save_tag is None:\n",
    "        save_tag=f\"{mes_params['name']}\"\n",
    "    \n",
    "    mes_params['savetag'] = save_tag\n",
    "        \n",
    "    do_experiment(experiment=mes_params['experiment'], qm_dict=mes_params, meas_type=conventional_measurement,\n",
    "                  meas_info=add_conventional_information,\n",
    "                  generate_new=generate_new, save_tag=save_tag, load_tag='')\n",
    "\n",
    "def run_generic_autoexp(qmeas_list, generate_new=False, optimize_between_exps=False, opt_on_poi=None,\n",
    "                        poi_list=None):\n",
    "        \n",
    "    autoexp = OrderedDict()\n",
    "    automeas = OrderedDict()\n",
    "\n",
    "    automeas['list_pois'] = poi_list if poi_list else [\"\"]\n",
    "    automeas['generate_new'] = generate_new\n",
    "    automeas['optimize_between_experiments'] = optimize_between_exps\n",
    "    automeas['optimize_on_poi'] = opt_on_poi\n",
    "\n",
    "        \n",
    "\n",
    "    for qmeas in qmeas_list:\n",
    "        exp_name = qmeas['name']\n",
    "        qmeas['type'] = qmeas['experiment']\n",
    "        qmeas['meas_type'] = conventional_measurement\n",
    "        qmeas['meas_info'] = add_conventional_information\n",
    "\n",
    "        autoexp[exp_name] = copy.deepcopy(qmeas)\n",
    "    \n",
    "    do_automized_measurements(qm_dict=automeas, autoexp=autoexp)\n",
    "    \n",
    "\n",
    "def run_pdomr(mes_params, save_tag=None, generate_new=True):\n",
    "\n",
    "    up_to = (mes_params['freq_start'] + mes_params['freq_step'] * mes_params['num_of_points'])\n",
    "    laser_off()\n",
    "    if save_tag is None:\n",
    "        save_tag='pOdmr_{:.2f}_{:.2f}MHz'.format(mes_params['freq_start']/1e6, up_to/1e6)\n",
    "    do_experiment(experiment=mes_params['experiment'], qm_dict=mes_params, meas_type=conventional_measurement, meas_info=add_conventional_information, \n",
    "                  generate_new=generate_new, save_tag=save_tag, load_tag='')\n",
    "\n",
    "def run_rabi(mes_params):\n",
    "    laser_off()\n",
    "    do_experiment(experiment=mes_params['experiment'], qm_dict=mes_params, meas_type=conventional_measurement, meas_info=add_conventional_information,\n",
    "                  generate_new=True, save_tag='Rabi_'+str(round(mes_params['microwave_amplitude']*1000))+'mV',load_tag='')\n",
    "\n",
    "def run_xy8_tausweep(mes_params):\n",
    "    laser_off()\n",
    "    do_experiment(experiment='xy8_tau', qm_dict=mes_params, meas_type=conventional_measurement, meas_info=add_conventional_information,\n",
    "                  generate_new=True, save_tag='xy8-o={}_tau_'.format(mes_params['xy8_order']),load_tag='')\n",
    "\n",
    "def run_xy8_nsweep(mes_params):\n",
    "    laser_off()\n",
    "    do_experiment(experiment='xy8_nsweep', qm_dict=mes_params, meas_type=conventional_measurement, meas_info=add_conventional_information,\n",
    "                  generate_new=True, save_tag='xy8_tau={}_nsweep'.format(mes_params['tau']),load_tag='')\n",
    "\n",
    "\n",
    "\n",
    "def run_ramsey(mes_params, n_sweeps_stop=0):\n",
    "\n",
    "    if n_sweeps_stop > 0:\n",
    "        # else don't stop by sweeps\n",
    "        run_ramsey_pj_params['n_sweeps'] = n_sweeps_stop\n",
    "\n",
    "    laser_off()\n",
    "    do_experiment(experiment=mes_params['experiment'], qm_dict=mes_params, meas_type=conventional_measurement, \n",
    "        meas_info=add_conventional_information, generate_new=True, save_tag='Ramsey',load_tag='')   \n",
    "\n",
    "    if get_current_pulsed_mes_running():\n",
    "        logger.warning(\"Mes still running after do_experiment().\")\n",
    "        return (None, None)\n",
    "\n",
    "    else:\n",
    "        mes = get_current_pulsed_mes()\n",
    "        x = mes.signal_data[0]\n",
    "        y = mes.signal_data[1]\n",
    "\n",
    "    return (x,y)  \n",
    "\n",
    "\n",
    "def create_temp_dir():\n",
    "    #qudi_dir = os.getcwd()\n",
    "\n",
    "    folder_dir = 'temp'\n",
    "    try:\n",
    "        os.mkdir(folder_dir)\n",
    "    except FileExistsError as e:\n",
    "        pass   # already exists\n",
    "\n",
    "    return folder_dir \n",
    "\n",
    "def get_counts(t_avg_s=0.1):\n",
    "\n",
    "    # stop refocusing for getting counts\n",
    "    refocus_running = True\n",
    "    try:\n",
    "        if poimanagerlogic.time_until_refocus == -1:\n",
    "            refocus_running = False\n",
    "        else:\n",
    "            poimanagerlogic.toggle_periodic_refocus(False)\n",
    "    except NameError:\n",
    "        refocus_running = False\n",
    "\n",
    "\n",
    "    f_count = counterlogic.get_count_frequency()\n",
    "    n_samples = int(t_avg_s * f_count)\n",
    "    n_samples_max = counterlogic.get_count_length()\n",
    "    if n_samples > n_samples_max:\n",
    "        n_samples = n_samples_max\n",
    "\n",
    "    # wait until refocus done for sure\n",
    "    if refocus_running:\n",
    "        timeout = False\n",
    "        timeout_t_s = 5\n",
    "        t_start = time.time()\n",
    "\n",
    "        while(time.time() - poimanagerlogic._last_refocus < t_avg_s and not timeout):\n",
    "            time.sleep(0.1)\n",
    "            if time.time() - t_start > timeout_t_s:\n",
    "                timeout = True\n",
    "\n",
    "    cts = np.median(counterlogic.countdata[0][-n_samples:])    # counts per s\n",
    "\n",
    "    if refocus_running:\n",
    "        poimanagerlogic.toggle_periodic_refocus(True)\n",
    "\n",
    "    return cts\n",
    "\n",
    "0"
   ]
  },
  {
   "cell_type": "markdown",
   "metadata": {},
   "source": [
    "# Laser options"
   ]
  },
  {
   "cell_type": "markdown",
   "metadata": {
    "pycharm": {
     "name": "#%% md\n"
    }
   },
   "source": [
    "## Optimize position"
   ]
  },
  {
   "cell_type": "code",
   "execution_count": 22,
   "metadata": {
    "ExecuteTime": {
     "end_time": "2024-12-22T17:58:42.919851Z",
     "start_time": "2024-12-22T17:58:37.039971Z"
    },
    "pycharm": {
     "name": "#%%\n"
    },
    "scrolled": true
   },
   "outputs": [
    {
     "ename": "KeyError",
     "evalue": "'x'\n\n========= Remote Traceback (1) =========\nTraceback (most recent call last):\n  File \"C:\\Users\\Setup3-PC\\AppData\\Local\\conda\\conda\\envs\\qudi-newrepo\\lib\\site-packages\\rpyc\\core\\protocol.py\", line 324, in _dispatch_request\n    res = self._HANDLERS[handler](self, *args)\n  File \"C:\\Users\\Setup3-PC\\AppData\\Local\\conda\\conda\\envs\\qudi-newrepo\\lib\\site-packages\\rpyc\\core\\protocol.py\", line 618, in _handle_callattr\n    return self._handle_call(obj, args, kwargs)\n  File \"C:\\Users\\Setup3-PC\\AppData\\Local\\conda\\conda\\envs\\qudi-newrepo\\lib\\site-packages\\rpyc\\core\\protocol.py\", line 592, in _handle_call\n    return obj(*args, **dict(kwargs))\nKeyError: 'x'\n",
     "output_type": "error",
     "traceback": [
      "\u001B[1;31m---------------------------------------------------------------------------\u001B[0m",
      "\u001B[1;31mKeyError\u001B[0m                                  Traceback (most recent call last)",
      "\u001B[1;32mC:\\Users\\SETUP3~1\\AppData\\Local\\Temp/ipykernel_14512/114726866.py\u001B[0m in \u001B[0;36m<module>\u001B[1;34m\u001B[0m\n\u001B[0;32m      1\u001B[0m \u001B[0mlaser_on\u001B[0m\u001B[1;33m(\u001B[0m\u001B[1;33m)\u001B[0m\u001B[1;33m\u001B[0m\u001B[1;33m\u001B[0m\u001B[0m\n\u001B[0;32m      2\u001B[0m \u001B[0muglobals\u001B[0m\u001B[1;33m.\u001B[0m\u001B[0mabort\u001B[0m\u001B[1;33m.\u001B[0m\u001B[0mclear\u001B[0m\u001B[1;33m(\u001B[0m\u001B[1;33m)\u001B[0m\u001B[1;33m\u001B[0m\u001B[1;33m\u001B[0m\u001B[0m\n\u001B[1;32m----> 3\u001B[1;33m \u001B[0moptimize_position\u001B[0m\u001B[1;33m(\u001B[0m\u001B[1;33m)\u001B[0m\u001B[1;33m\u001B[0m\u001B[1;33m\u001B[0m\u001B[0m\n\u001B[0m",
      "\u001B[1;32m<string>\u001B[0m in \u001B[0;36moptimize_position\u001B[1;34m(optimize_ch)\u001B[0m\n",
      "\u001B[1;32m~\\AppData\\Local\\conda\\conda\\envs\\qudi-newrepo\\lib\\site-packages\\rpyc\\core\\netref.py\u001B[0m in \u001B[0;36mmethod\u001B[1;34m(_self, *args, **kwargs)\u001B[0m\n\u001B[0;32m    259\u001B[0m         \u001B[1;32mdef\u001B[0m \u001B[0mmethod\u001B[0m\u001B[1;33m(\u001B[0m\u001B[0m_self\u001B[0m\u001B[1;33m,\u001B[0m \u001B[1;33m*\u001B[0m\u001B[0margs\u001B[0m\u001B[1;33m,\u001B[0m \u001B[1;33m**\u001B[0m\u001B[0mkwargs\u001B[0m\u001B[1;33m)\u001B[0m\u001B[1;33m:\u001B[0m\u001B[1;33m\u001B[0m\u001B[1;33m\u001B[0m\u001B[0m\n\u001B[0;32m    260\u001B[0m             \u001B[0mkwargs\u001B[0m \u001B[1;33m=\u001B[0m \u001B[0mtuple\u001B[0m\u001B[1;33m(\u001B[0m\u001B[0mkwargs\u001B[0m\u001B[1;33m.\u001B[0m\u001B[0mitems\u001B[0m\u001B[1;33m(\u001B[0m\u001B[1;33m)\u001B[0m\u001B[1;33m)\u001B[0m\u001B[1;33m\u001B[0m\u001B[1;33m\u001B[0m\u001B[0m\n\u001B[1;32m--> 261\u001B[1;33m             \u001B[1;32mreturn\u001B[0m \u001B[0msyncreq\u001B[0m\u001B[1;33m(\u001B[0m\u001B[0m_self\u001B[0m\u001B[1;33m,\u001B[0m \u001B[0mconsts\u001B[0m\u001B[1;33m.\u001B[0m\u001B[0mHANDLE_CALLATTR\u001B[0m\u001B[1;33m,\u001B[0m \u001B[0mname\u001B[0m\u001B[1;33m,\u001B[0m \u001B[0margs\u001B[0m\u001B[1;33m,\u001B[0m \u001B[0mkwargs\u001B[0m\u001B[1;33m)\u001B[0m\u001B[1;33m\u001B[0m\u001B[1;33m\u001B[0m\u001B[0m\n\u001B[0m\u001B[0;32m    262\u001B[0m         \u001B[0mmethod\u001B[0m\u001B[1;33m.\u001B[0m\u001B[0m__name__\u001B[0m \u001B[1;33m=\u001B[0m \u001B[0mname\u001B[0m\u001B[1;33m\u001B[0m\u001B[1;33m\u001B[0m\u001B[0m\n\u001B[0;32m    263\u001B[0m         \u001B[0mmethod\u001B[0m\u001B[1;33m.\u001B[0m\u001B[0m__doc__\u001B[0m \u001B[1;33m=\u001B[0m \u001B[0mdoc\u001B[0m\u001B[1;33m\u001B[0m\u001B[1;33m\u001B[0m\u001B[0m\n",
      "\u001B[1;32m~\\AppData\\Local\\conda\\conda\\envs\\qudi-newrepo\\lib\\site-packages\\rpyc\\core\\netref.py\u001B[0m in \u001B[0;36msyncreq\u001B[1;34m(proxy, handler, *args)\u001B[0m\n\u001B[0;32m     61\u001B[0m     \"\"\"\n\u001B[0;32m     62\u001B[0m     \u001B[0mconn\u001B[0m \u001B[1;33m=\u001B[0m \u001B[0mobject\u001B[0m\u001B[1;33m.\u001B[0m\u001B[0m__getattribute__\u001B[0m\u001B[1;33m(\u001B[0m\u001B[0mproxy\u001B[0m\u001B[1;33m,\u001B[0m \u001B[1;34m\"____conn__\"\u001B[0m\u001B[1;33m)\u001B[0m\u001B[1;33m\u001B[0m\u001B[1;33m\u001B[0m\u001B[0m\n\u001B[1;32m---> 63\u001B[1;33m     \u001B[1;32mreturn\u001B[0m \u001B[0mconn\u001B[0m\u001B[1;33m.\u001B[0m\u001B[0msync_request\u001B[0m\u001B[1;33m(\u001B[0m\u001B[0mhandler\u001B[0m\u001B[1;33m,\u001B[0m \u001B[0mproxy\u001B[0m\u001B[1;33m,\u001B[0m \u001B[1;33m*\u001B[0m\u001B[0margs\u001B[0m\u001B[1;33m)\u001B[0m\u001B[1;33m\u001B[0m\u001B[1;33m\u001B[0m\u001B[0m\n\u001B[0m\u001B[0;32m     64\u001B[0m \u001B[1;33m\u001B[0m\u001B[0m\n\u001B[0;32m     65\u001B[0m \u001B[1;33m\u001B[0m\u001B[0m\n",
      "\u001B[1;32m~\\AppData\\Local\\conda\\conda\\envs\\qudi-newrepo\\lib\\site-packages\\rpyc\\core\\protocol.py\u001B[0m in \u001B[0;36msync_request\u001B[1;34m(self, handler, *args)\u001B[0m\n\u001B[0;32m    471\u001B[0m         \"\"\"\n\u001B[0;32m    472\u001B[0m         \u001B[0mtimeout\u001B[0m \u001B[1;33m=\u001B[0m \u001B[0mself\u001B[0m\u001B[1;33m.\u001B[0m\u001B[0m_config\u001B[0m\u001B[1;33m[\u001B[0m\u001B[1;34m\"sync_request_timeout\"\u001B[0m\u001B[1;33m]\u001B[0m\u001B[1;33m\u001B[0m\u001B[1;33m\u001B[0m\u001B[0m\n\u001B[1;32m--> 473\u001B[1;33m         \u001B[1;32mreturn\u001B[0m \u001B[0mself\u001B[0m\u001B[1;33m.\u001B[0m\u001B[0masync_request\u001B[0m\u001B[1;33m(\u001B[0m\u001B[0mhandler\u001B[0m\u001B[1;33m,\u001B[0m \u001B[1;33m*\u001B[0m\u001B[0margs\u001B[0m\u001B[1;33m,\u001B[0m \u001B[0mtimeout\u001B[0m\u001B[1;33m=\u001B[0m\u001B[0mtimeout\u001B[0m\u001B[1;33m)\u001B[0m\u001B[1;33m.\u001B[0m\u001B[0mvalue\u001B[0m\u001B[1;33m\u001B[0m\u001B[1;33m\u001B[0m\u001B[0m\n\u001B[0m\u001B[0;32m    474\u001B[0m \u001B[1;33m\u001B[0m\u001B[0m\n\u001B[0;32m    475\u001B[0m     \u001B[1;32mdef\u001B[0m \u001B[0m_async_request\u001B[0m\u001B[1;33m(\u001B[0m\u001B[0mself\u001B[0m\u001B[1;33m,\u001B[0m \u001B[0mhandler\u001B[0m\u001B[1;33m,\u001B[0m \u001B[0margs\u001B[0m\u001B[1;33m=\u001B[0m\u001B[1;33m(\u001B[0m\u001B[1;33m)\u001B[0m\u001B[1;33m,\u001B[0m \u001B[0mcallback\u001B[0m\u001B[1;33m=\u001B[0m\u001B[1;33m(\u001B[0m\u001B[1;32mlambda\u001B[0m \u001B[0ma\u001B[0m\u001B[1;33m,\u001B[0m \u001B[0mb\u001B[0m\u001B[1;33m:\u001B[0m \u001B[1;32mNone\u001B[0m\u001B[1;33m)\u001B[0m\u001B[1;33m)\u001B[0m\u001B[1;33m:\u001B[0m  \u001B[1;31m# serving\u001B[0m\u001B[1;33m\u001B[0m\u001B[1;33m\u001B[0m\u001B[0m\n",
      "\u001B[1;32m~\\AppData\\Local\\conda\\conda\\envs\\qudi-newrepo\\lib\\site-packages\\rpyc\\core\\async_.py\u001B[0m in \u001B[0;36mvalue\u001B[1;34m(self)\u001B[0m\n\u001B[0;32m    100\u001B[0m         \u001B[0mself\u001B[0m\u001B[1;33m.\u001B[0m\u001B[0mwait\u001B[0m\u001B[1;33m(\u001B[0m\u001B[1;33m)\u001B[0m\u001B[1;33m\u001B[0m\u001B[1;33m\u001B[0m\u001B[0m\n\u001B[0;32m    101\u001B[0m         \u001B[1;32mif\u001B[0m \u001B[0mself\u001B[0m\u001B[1;33m.\u001B[0m\u001B[0m_is_exc\u001B[0m\u001B[1;33m:\u001B[0m\u001B[1;33m\u001B[0m\u001B[1;33m\u001B[0m\u001B[0m\n\u001B[1;32m--> 102\u001B[1;33m             \u001B[1;32mraise\u001B[0m \u001B[0mself\u001B[0m\u001B[1;33m.\u001B[0m\u001B[0m_obj\u001B[0m\u001B[1;33m\u001B[0m\u001B[1;33m\u001B[0m\u001B[0m\n\u001B[0m\u001B[0;32m    103\u001B[0m         \u001B[1;32melse\u001B[0m\u001B[1;33m:\u001B[0m\u001B[1;33m\u001B[0m\u001B[1;33m\u001B[0m\u001B[0m\n\u001B[0;32m    104\u001B[0m             \u001B[1;32mreturn\u001B[0m \u001B[0mself\u001B[0m\u001B[1;33m.\u001B[0m\u001B[0m_obj\u001B[0m\u001B[1;33m\u001B[0m\u001B[1;33m\u001B[0m\u001B[0m\n",
      "\u001B[1;31mKeyError\u001B[0m: 'x'\n\n========= Remote Traceback (1) =========\nTraceback (most recent call last):\n  File \"C:\\Users\\Setup3-PC\\AppData\\Local\\conda\\conda\\envs\\qudi-newrepo\\lib\\site-packages\\rpyc\\core\\protocol.py\", line 324, in _dispatch_request\n    res = self._HANDLERS[handler](self, *args)\n  File \"C:\\Users\\Setup3-PC\\AppData\\Local\\conda\\conda\\envs\\qudi-newrepo\\lib\\site-packages\\rpyc\\core\\protocol.py\", line 618, in _handle_callattr\n    return self._handle_call(obj, args, kwargs)\n  File \"C:\\Users\\Setup3-PC\\AppData\\Local\\conda\\conda\\envs\\qudi-newrepo\\lib\\site-packages\\rpyc\\core\\protocol.py\", line 592, in _handle_call\n    return obj(*args, **dict(kwargs))\nKeyError: 'x'\n"
     ]
    }
   ],
   "source": [
    "laser_on()\n",
    "uglobals.abort.clear()\n",
    "optimize_position()"
   ]
  },
  {
   "cell_type": "code",
   "execution_count": 320,
   "metadata": {},
   "outputs": [
    {
     "data": {
      "text/plain": [
       "'nv_mayd_20220103_14'"
      ]
     },
     "execution_count": 320,
     "metadata": {},
     "output_type": "execute_result"
    }
   ],
   "source": [
    "opt_on_poi"
   ]
  },
  {
   "cell_type": "code",
   "execution_count": 341,
   "metadata": {},
   "outputs": [
    {
     "data": {
      "text/plain": [
       "18.721131086349487"
      ]
     },
     "execution_count": 341,
     "metadata": {},
     "output_type": "execute_result"
    }
   ],
   "source": [
    "optimize_poi(opt_on_poi, update_shift=True)"
   ]
  },
  {
   "cell_type": "code",
   "execution_count": 3,
   "metadata": {},
   "outputs": [
    {
     "ename": "EOFError",
     "evalue": "[WinError 10054] An existing connection was forcibly closed by the remote host",
     "output_type": "error",
     "traceback": [
      "\u001B[1;31m---------------------------------------------------------------------------\u001B[0m",
      "\u001B[1;31mConnectionResetError\u001B[0m                      Traceback (most recent call last)",
      "\u001B[1;32m~\\AppData\\Local\\conda\\conda\\envs\\qudi-newrepo\\lib\\site-packages\\rpyc\\core\\stream.py\u001B[0m in \u001B[0;36mread\u001B[1;34m(self, count)\u001B[0m\n\u001B[0;32m    247\u001B[0m             \u001B[1;32mtry\u001B[0m\u001B[1;33m:\u001B[0m\u001B[1;33m\u001B[0m\u001B[1;33m\u001B[0m\u001B[0m\n\u001B[1;32m--> 248\u001B[1;33m                 \u001B[0mbuf\u001B[0m \u001B[1;33m=\u001B[0m \u001B[0mself\u001B[0m\u001B[1;33m.\u001B[0m\u001B[0msock\u001B[0m\u001B[1;33m.\u001B[0m\u001B[0mrecv\u001B[0m\u001B[1;33m(\u001B[0m\u001B[0mmin\u001B[0m\u001B[1;33m(\u001B[0m\u001B[0mself\u001B[0m\u001B[1;33m.\u001B[0m\u001B[0mMAX_IO_CHUNK\u001B[0m\u001B[1;33m,\u001B[0m \u001B[0mcount\u001B[0m\u001B[1;33m)\u001B[0m\u001B[1;33m)\u001B[0m\u001B[1;33m\u001B[0m\u001B[1;33m\u001B[0m\u001B[0m\n\u001B[0m\u001B[0;32m    249\u001B[0m             \u001B[1;32mexcept\u001B[0m \u001B[0msocket\u001B[0m\u001B[1;33m.\u001B[0m\u001B[0mtimeout\u001B[0m\u001B[1;33m:\u001B[0m\u001B[1;33m\u001B[0m\u001B[1;33m\u001B[0m\u001B[0m\n",
      "\u001B[1;31mConnectionResetError\u001B[0m: [WinError 10054] An existing connection was forcibly closed by the remote host",
      "\nDuring handling of the above exception, another exception occurred:\n",
      "\u001B[1;31mEOFError\u001B[0m                                  Traceback (most recent call last)",
      "\u001B[1;32mC:\\Users\\SETUP3~1\\AppData\\Local\\Temp/ipykernel_9532/133033777.py\u001B[0m in \u001B[0;36m<module>\u001B[1;34m\u001B[0m\n\u001B[1;32m----> 1\u001B[1;33m \u001B[0mqudi\u001B[0m\u001B[1;33m.\u001B[0m\u001B[0mmodule_manager\u001B[0m\u001B[1;33m.\u001B[0m\u001B[0mactivate_module\u001B[0m\u001B[1;33m(\u001B[0m\u001B[1;34m'pulsed_gui'\u001B[0m\u001B[1;33m)\u001B[0m\u001B[1;33m\u001B[0m\u001B[1;33m\u001B[0m\u001B[0m\n\u001B[0m",
      "\u001B[1;32m~\\AppData\\Local\\conda\\conda\\envs\\qudi-newrepo\\lib\\site-packages\\rpyc\\core\\netref.py\u001B[0m in \u001B[0;36m__call__\u001B[1;34m(_self, *args, **kwargs)\u001B[0m\n\u001B[0;32m    238\u001B[0m         \u001B[1;32mdef\u001B[0m \u001B[0m__call__\u001B[0m\u001B[1;33m(\u001B[0m\u001B[0m_self\u001B[0m\u001B[1;33m,\u001B[0m \u001B[1;33m*\u001B[0m\u001B[0margs\u001B[0m\u001B[1;33m,\u001B[0m \u001B[1;33m**\u001B[0m\u001B[0mkwargs\u001B[0m\u001B[1;33m)\u001B[0m\u001B[1;33m:\u001B[0m\u001B[1;33m\u001B[0m\u001B[1;33m\u001B[0m\u001B[0m\n\u001B[0;32m    239\u001B[0m             \u001B[0mkwargs\u001B[0m \u001B[1;33m=\u001B[0m \u001B[0mtuple\u001B[0m\u001B[1;33m(\u001B[0m\u001B[0mkwargs\u001B[0m\u001B[1;33m.\u001B[0m\u001B[0mitems\u001B[0m\u001B[1;33m(\u001B[0m\u001B[1;33m)\u001B[0m\u001B[1;33m)\u001B[0m\u001B[1;33m\u001B[0m\u001B[1;33m\u001B[0m\u001B[0m\n\u001B[1;32m--> 240\u001B[1;33m             \u001B[1;32mreturn\u001B[0m \u001B[0msyncreq\u001B[0m\u001B[1;33m(\u001B[0m\u001B[0m_self\u001B[0m\u001B[1;33m,\u001B[0m \u001B[0mconsts\u001B[0m\u001B[1;33m.\u001B[0m\u001B[0mHANDLE_CALL\u001B[0m\u001B[1;33m,\u001B[0m \u001B[0margs\u001B[0m\u001B[1;33m,\u001B[0m \u001B[0mkwargs\u001B[0m\u001B[1;33m)\u001B[0m\u001B[1;33m\u001B[0m\u001B[1;33m\u001B[0m\u001B[0m\n\u001B[0m\u001B[0;32m    241\u001B[0m         \u001B[0m__call__\u001B[0m\u001B[1;33m.\u001B[0m\u001B[0m__doc__\u001B[0m \u001B[1;33m=\u001B[0m \u001B[0mdoc\u001B[0m\u001B[1;33m\u001B[0m\u001B[1;33m\u001B[0m\u001B[0m\n\u001B[0;32m    242\u001B[0m         \u001B[1;32mreturn\u001B[0m \u001B[0m__call__\u001B[0m\u001B[1;33m\u001B[0m\u001B[1;33m\u001B[0m\u001B[0m\n",
      "\u001B[1;32m~\\AppData\\Local\\conda\\conda\\envs\\qudi-newrepo\\lib\\site-packages\\rpyc\\core\\netref.py\u001B[0m in \u001B[0;36msyncreq\u001B[1;34m(proxy, handler, *args)\u001B[0m\n\u001B[0;32m     61\u001B[0m     \"\"\"\n\u001B[0;32m     62\u001B[0m     \u001B[0mconn\u001B[0m \u001B[1;33m=\u001B[0m \u001B[0mobject\u001B[0m\u001B[1;33m.\u001B[0m\u001B[0m__getattribute__\u001B[0m\u001B[1;33m(\u001B[0m\u001B[0mproxy\u001B[0m\u001B[1;33m,\u001B[0m \u001B[1;34m\"____conn__\"\u001B[0m\u001B[1;33m)\u001B[0m\u001B[1;33m\u001B[0m\u001B[1;33m\u001B[0m\u001B[0m\n\u001B[1;32m---> 63\u001B[1;33m     \u001B[1;32mreturn\u001B[0m \u001B[0mconn\u001B[0m\u001B[1;33m.\u001B[0m\u001B[0msync_request\u001B[0m\u001B[1;33m(\u001B[0m\u001B[0mhandler\u001B[0m\u001B[1;33m,\u001B[0m \u001B[0mproxy\u001B[0m\u001B[1;33m,\u001B[0m \u001B[1;33m*\u001B[0m\u001B[0margs\u001B[0m\u001B[1;33m)\u001B[0m\u001B[1;33m\u001B[0m\u001B[1;33m\u001B[0m\u001B[0m\n\u001B[0m\u001B[0;32m     64\u001B[0m \u001B[1;33m\u001B[0m\u001B[0m\n\u001B[0;32m     65\u001B[0m \u001B[1;33m\u001B[0m\u001B[0m\n",
      "\u001B[1;32m~\\AppData\\Local\\conda\\conda\\envs\\qudi-newrepo\\lib\\site-packages\\rpyc\\core\\protocol.py\u001B[0m in \u001B[0;36msync_request\u001B[1;34m(self, handler, *args)\u001B[0m\n\u001B[0;32m    471\u001B[0m         \"\"\"\n\u001B[0;32m    472\u001B[0m         \u001B[0mtimeout\u001B[0m \u001B[1;33m=\u001B[0m \u001B[0mself\u001B[0m\u001B[1;33m.\u001B[0m\u001B[0m_config\u001B[0m\u001B[1;33m[\u001B[0m\u001B[1;34m\"sync_request_timeout\"\u001B[0m\u001B[1;33m]\u001B[0m\u001B[1;33m\u001B[0m\u001B[1;33m\u001B[0m\u001B[0m\n\u001B[1;32m--> 473\u001B[1;33m         \u001B[1;32mreturn\u001B[0m \u001B[0mself\u001B[0m\u001B[1;33m.\u001B[0m\u001B[0masync_request\u001B[0m\u001B[1;33m(\u001B[0m\u001B[0mhandler\u001B[0m\u001B[1;33m,\u001B[0m \u001B[1;33m*\u001B[0m\u001B[0margs\u001B[0m\u001B[1;33m,\u001B[0m \u001B[0mtimeout\u001B[0m\u001B[1;33m=\u001B[0m\u001B[0mtimeout\u001B[0m\u001B[1;33m)\u001B[0m\u001B[1;33m.\u001B[0m\u001B[0mvalue\u001B[0m\u001B[1;33m\u001B[0m\u001B[1;33m\u001B[0m\u001B[0m\n\u001B[0m\u001B[0;32m    474\u001B[0m \u001B[1;33m\u001B[0m\u001B[0m\n\u001B[0;32m    475\u001B[0m     \u001B[1;32mdef\u001B[0m \u001B[0m_async_request\u001B[0m\u001B[1;33m(\u001B[0m\u001B[0mself\u001B[0m\u001B[1;33m,\u001B[0m \u001B[0mhandler\u001B[0m\u001B[1;33m,\u001B[0m \u001B[0margs\u001B[0m\u001B[1;33m=\u001B[0m\u001B[1;33m(\u001B[0m\u001B[1;33m)\u001B[0m\u001B[1;33m,\u001B[0m \u001B[0mcallback\u001B[0m\u001B[1;33m=\u001B[0m\u001B[1;33m(\u001B[0m\u001B[1;32mlambda\u001B[0m \u001B[0ma\u001B[0m\u001B[1;33m,\u001B[0m \u001B[0mb\u001B[0m\u001B[1;33m:\u001B[0m \u001B[1;32mNone\u001B[0m\u001B[1;33m)\u001B[0m\u001B[1;33m)\u001B[0m\u001B[1;33m:\u001B[0m  \u001B[1;31m# serving\u001B[0m\u001B[1;33m\u001B[0m\u001B[1;33m\u001B[0m\u001B[0m\n",
      "\u001B[1;32m~\\AppData\\Local\\conda\\conda\\envs\\qudi-newrepo\\lib\\site-packages\\rpyc\\core\\async_.py\u001B[0m in \u001B[0;36mvalue\u001B[1;34m(self)\u001B[0m\n\u001B[0;32m     98\u001B[0m         \u001B[0mhere\u001B[0m\u001B[1;33m.\u001B[0m \u001B[0mOtherwise\u001B[0m\u001B[1;33m,\u001B[0m \u001B[0mthe\u001B[0m \u001B[0mresult\u001B[0m \u001B[1;32mis\u001B[0m \u001B[0mreturned\u001B[0m \u001B[0mdirectly\u001B[0m\u001B[1;33m.\u001B[0m\u001B[1;33m\u001B[0m\u001B[1;33m\u001B[0m\u001B[0m\n\u001B[0;32m     99\u001B[0m         \"\"\"\n\u001B[1;32m--> 100\u001B[1;33m         \u001B[0mself\u001B[0m\u001B[1;33m.\u001B[0m\u001B[0mwait\u001B[0m\u001B[1;33m(\u001B[0m\u001B[1;33m)\u001B[0m\u001B[1;33m\u001B[0m\u001B[1;33m\u001B[0m\u001B[0m\n\u001B[0m\u001B[0;32m    101\u001B[0m         \u001B[1;32mif\u001B[0m \u001B[0mself\u001B[0m\u001B[1;33m.\u001B[0m\u001B[0m_is_exc\u001B[0m\u001B[1;33m:\u001B[0m\u001B[1;33m\u001B[0m\u001B[1;33m\u001B[0m\u001B[0m\n\u001B[0;32m    102\u001B[0m             \u001B[1;32mraise\u001B[0m \u001B[0mself\u001B[0m\u001B[1;33m.\u001B[0m\u001B[0m_obj\u001B[0m\u001B[1;33m\u001B[0m\u001B[1;33m\u001B[0m\u001B[0m\n",
      "\u001B[1;32m~\\AppData\\Local\\conda\\conda\\envs\\qudi-newrepo\\lib\\site-packages\\rpyc\\core\\async_.py\u001B[0m in \u001B[0;36mwait\u001B[1;34m(self)\u001B[0m\n\u001B[0;32m     45\u001B[0m         an :class:`AsyncResultTimeout` exception is raised\"\"\"\n\u001B[0;32m     46\u001B[0m         \u001B[1;32mwhile\u001B[0m \u001B[1;32mnot\u001B[0m \u001B[0mself\u001B[0m\u001B[1;33m.\u001B[0m\u001B[0m_is_ready\u001B[0m \u001B[1;32mand\u001B[0m \u001B[1;32mnot\u001B[0m \u001B[0mself\u001B[0m\u001B[1;33m.\u001B[0m\u001B[0m_ttl\u001B[0m\u001B[1;33m.\u001B[0m\u001B[0mexpired\u001B[0m\u001B[1;33m(\u001B[0m\u001B[1;33m)\u001B[0m\u001B[1;33m:\u001B[0m\u001B[1;33m\u001B[0m\u001B[1;33m\u001B[0m\u001B[0m\n\u001B[1;32m---> 47\u001B[1;33m             \u001B[0mself\u001B[0m\u001B[1;33m.\u001B[0m\u001B[0m_conn\u001B[0m\u001B[1;33m.\u001B[0m\u001B[0mserve\u001B[0m\u001B[1;33m(\u001B[0m\u001B[0mself\u001B[0m\u001B[1;33m.\u001B[0m\u001B[0m_ttl\u001B[0m\u001B[1;33m)\u001B[0m\u001B[1;33m\u001B[0m\u001B[1;33m\u001B[0m\u001B[0m\n\u001B[0m\u001B[0;32m     48\u001B[0m         \u001B[1;32mif\u001B[0m \u001B[1;32mnot\u001B[0m \u001B[0mself\u001B[0m\u001B[1;33m.\u001B[0m\u001B[0m_is_ready\u001B[0m\u001B[1;33m:\u001B[0m\u001B[1;33m\u001B[0m\u001B[1;33m\u001B[0m\u001B[0m\n\u001B[0;32m     49\u001B[0m             \u001B[1;32mraise\u001B[0m \u001B[0mAsyncResultTimeout\u001B[0m\u001B[1;33m(\u001B[0m\u001B[1;34m\"result expired\"\u001B[0m\u001B[1;33m)\u001B[0m\u001B[1;33m\u001B[0m\u001B[1;33m\u001B[0m\u001B[0m\n",
      "\u001B[1;32m~\\AppData\\Local\\conda\\conda\\envs\\qudi-newrepo\\lib\\site-packages\\rpyc\\core\\protocol.py\u001B[0m in \u001B[0;36mserve\u001B[1;34m(self, timeout, wait_for_lock)\u001B[0m\n\u001B[0;32m    384\u001B[0m                 \u001B[1;32mreturn\u001B[0m \u001B[0mwait_for_lock\u001B[0m \u001B[1;32mand\u001B[0m \u001B[0mself\u001B[0m\u001B[1;33m.\u001B[0m\u001B[0m_recv_event\u001B[0m\u001B[1;33m.\u001B[0m\u001B[0mwait\u001B[0m\u001B[1;33m(\u001B[0m\u001B[0mtimeout\u001B[0m\u001B[1;33m.\u001B[0m\u001B[0mtimeleft\u001B[0m\u001B[1;33m(\u001B[0m\u001B[1;33m)\u001B[0m\u001B[1;33m)\u001B[0m\u001B[1;33m\u001B[0m\u001B[1;33m\u001B[0m\u001B[0m\n\u001B[0;32m    385\u001B[0m         \u001B[1;32mtry\u001B[0m\u001B[1;33m:\u001B[0m\u001B[1;33m\u001B[0m\u001B[1;33m\u001B[0m\u001B[0m\n\u001B[1;32m--> 386\u001B[1;33m             \u001B[0mdata\u001B[0m \u001B[1;33m=\u001B[0m \u001B[0mself\u001B[0m\u001B[1;33m.\u001B[0m\u001B[0m_channel\u001B[0m\u001B[1;33m.\u001B[0m\u001B[0mpoll\u001B[0m\u001B[1;33m(\u001B[0m\u001B[0mtimeout\u001B[0m\u001B[1;33m)\u001B[0m \u001B[1;32mand\u001B[0m \u001B[0mself\u001B[0m\u001B[1;33m.\u001B[0m\u001B[0m_channel\u001B[0m\u001B[1;33m.\u001B[0m\u001B[0mrecv\u001B[0m\u001B[1;33m(\u001B[0m\u001B[1;33m)\u001B[0m\u001B[1;33m\u001B[0m\u001B[1;33m\u001B[0m\u001B[0m\n\u001B[0m\u001B[0;32m    387\u001B[0m             \u001B[1;32mif\u001B[0m \u001B[1;32mnot\u001B[0m \u001B[0mdata\u001B[0m\u001B[1;33m:\u001B[0m\u001B[1;33m\u001B[0m\u001B[1;33m\u001B[0m\u001B[0m\n\u001B[0;32m    388\u001B[0m                 \u001B[1;32mreturn\u001B[0m \u001B[1;32mFalse\u001B[0m\u001B[1;33m\u001B[0m\u001B[1;33m\u001B[0m\u001B[0m\n",
      "\u001B[1;32m~\\AppData\\Local\\conda\\conda\\envs\\qudi-newrepo\\lib\\site-packages\\rpyc\\core\\channel.py\u001B[0m in \u001B[0;36mrecv\u001B[1;34m(self)\u001B[0m\n\u001B[0;32m     53\u001B[0m         \u001B[1;33m:\u001B[0m\u001B[0mreturns\u001B[0m\u001B[1;33m:\u001B[0m \u001B[0mstring\u001B[0m \u001B[0mof\u001B[0m \u001B[0mdata\u001B[0m\u001B[1;33m\u001B[0m\u001B[1;33m\u001B[0m\u001B[0m\n\u001B[0;32m     54\u001B[0m         \"\"\"\n\u001B[1;32m---> 55\u001B[1;33m         \u001B[0mheader\u001B[0m \u001B[1;33m=\u001B[0m \u001B[0mself\u001B[0m\u001B[1;33m.\u001B[0m\u001B[0mstream\u001B[0m\u001B[1;33m.\u001B[0m\u001B[0mread\u001B[0m\u001B[1;33m(\u001B[0m\u001B[0mself\u001B[0m\u001B[1;33m.\u001B[0m\u001B[0mFRAME_HEADER\u001B[0m\u001B[1;33m.\u001B[0m\u001B[0msize\u001B[0m\u001B[1;33m)\u001B[0m\u001B[1;33m\u001B[0m\u001B[1;33m\u001B[0m\u001B[0m\n\u001B[0m\u001B[0;32m     56\u001B[0m         \u001B[0mlength\u001B[0m\u001B[1;33m,\u001B[0m \u001B[0mcompressed\u001B[0m \u001B[1;33m=\u001B[0m \u001B[0mself\u001B[0m\u001B[1;33m.\u001B[0m\u001B[0mFRAME_HEADER\u001B[0m\u001B[1;33m.\u001B[0m\u001B[0munpack\u001B[0m\u001B[1;33m(\u001B[0m\u001B[0mheader\u001B[0m\u001B[1;33m)\u001B[0m\u001B[1;33m\u001B[0m\u001B[1;33m\u001B[0m\u001B[0m\n\u001B[0;32m     57\u001B[0m         \u001B[0mdata\u001B[0m \u001B[1;33m=\u001B[0m \u001B[0mself\u001B[0m\u001B[1;33m.\u001B[0m\u001B[0mstream\u001B[0m\u001B[1;33m.\u001B[0m\u001B[0mread\u001B[0m\u001B[1;33m(\u001B[0m\u001B[0mlength\u001B[0m \u001B[1;33m+\u001B[0m \u001B[0mlen\u001B[0m\u001B[1;33m(\u001B[0m\u001B[0mself\u001B[0m\u001B[1;33m.\u001B[0m\u001B[0mFLUSHER\u001B[0m\u001B[1;33m)\u001B[0m\u001B[1;33m)\u001B[0m\u001B[1;33m[\u001B[0m\u001B[1;33m:\u001B[0m\u001B[1;33m-\u001B[0m\u001B[0mlen\u001B[0m\u001B[1;33m(\u001B[0m\u001B[0mself\u001B[0m\u001B[1;33m.\u001B[0m\u001B[0mFLUSHER\u001B[0m\u001B[1;33m)\u001B[0m\u001B[1;33m]\u001B[0m\u001B[1;33m\u001B[0m\u001B[1;33m\u001B[0m\u001B[0m\n",
      "\u001B[1;32m~\\AppData\\Local\\conda\\conda\\envs\\qudi-newrepo\\lib\\site-packages\\rpyc\\core\\stream.py\u001B[0m in \u001B[0;36mread\u001B[1;34m(self, count)\u001B[0m\n\u001B[0;32m    255\u001B[0m                     \u001B[1;32mcontinue\u001B[0m\u001B[1;33m\u001B[0m\u001B[1;33m\u001B[0m\u001B[0m\n\u001B[0;32m    256\u001B[0m                 \u001B[0mself\u001B[0m\u001B[1;33m.\u001B[0m\u001B[0mclose\u001B[0m\u001B[1;33m(\u001B[0m\u001B[1;33m)\u001B[0m\u001B[1;33m\u001B[0m\u001B[1;33m\u001B[0m\u001B[0m\n\u001B[1;32m--> 257\u001B[1;33m                 \u001B[1;32mraise\u001B[0m \u001B[0mEOFError\u001B[0m\u001B[1;33m(\u001B[0m\u001B[0mex\u001B[0m\u001B[1;33m)\u001B[0m\u001B[1;33m\u001B[0m\u001B[1;33m\u001B[0m\u001B[0m\n\u001B[0m\u001B[0;32m    258\u001B[0m             \u001B[1;32mif\u001B[0m \u001B[1;32mnot\u001B[0m \u001B[0mbuf\u001B[0m\u001B[1;33m:\u001B[0m\u001B[1;33m\u001B[0m\u001B[1;33m\u001B[0m\u001B[0m\n\u001B[0;32m    259\u001B[0m                 \u001B[0mself\u001B[0m\u001B[1;33m.\u001B[0m\u001B[0mclose\u001B[0m\u001B[1;33m(\u001B[0m\u001B[1;33m)\u001B[0m\u001B[1;33m\u001B[0m\u001B[1;33m\u001B[0m\u001B[0m\n",
      "\u001B[1;31mEOFError\u001B[0m: [WinError 10054] An existing connection was forcibly closed by the remote host"
     ]
    }
   ],
   "source": [
    "qudi.module_manager.activate_module('pulsed_gui')"
   ]
  },
  {
   "cell_type": "markdown",
   "metadata": {},
   "source": [
    "## Laser On"
   ]
  },
  {
   "cell_type": "code",
   "execution_count": 7,
   "metadata": {
    "ExecuteTime": {
     "end_time": "2024-12-22T18:33:01.369911Z",
     "start_time": "2024-12-22T18:32:59.177479Z"
    },
    "pycharm": {
     "name": "#%%\n"
    },
    "scrolled": true
   },
   "outputs": [],
   "source": [
    "#laser_on(pulser_on = False)\n",
    "laser_on()\n",
    "counter_logic.start_reading()\n",
    "wait_for_cts()"
   ]
  },
  {
   "cell_type": "markdown",
   "metadata": {},
   "source": [
    "## Laser Off"
   ]
  },
  {
   "cell_type": "code",
   "execution_count": 17,
   "metadata": {
    "ExecuteTime": {
     "end_time": "2024-12-22T17:54:57.591947Z",
     "start_time": "2024-12-22T17:54:57.447535Z"
    },
    "pycharm": {
     "name": "#%%\n"
    }
   },
   "outputs": [],
   "source": [
    "laser_off(pulser_on=False)\n",
    "counter_logic.stop_reading()"
   ]
  },
  {
   "cell_type": "markdown",
   "metadata": {},
   "source": [
    "# Frequency Optimization parameters"
   ]
  },
  {
   "cell_type": "code",
   "execution_count": null,
   "metadata": {
    "pycharm": {
     "name": "#%%\n"
    }
   },
   "outputs": [],
   "source": [
    "optimize_freq_dict=OrderedDict()\n",
    "optimize_freq_dict['mw_optimization_method'] = 'pulsedodmr'\n",
    "optimize_freq_dict['optimize_generate_new'] = False\n",
    "optimize_freq_dict['save_tag'] = 'optimize_frequency'\n",
    "optimize_freq_dict['optimize_fit_method'] = 'N15'\n",
    "optimize_freq_dict['parameters2update'] = {'center': 'microwave_frequency'}\n",
    "\n",
    "optimize_freq_dict['name'] = 'Pulsed_ODMR'\n",
    "optimize_freq_dict['rabi_period'] = 1800e-9\n",
    "optimize_freq_dict['freq_start'] = 4.127e9\n",
    "optimize_freq_dict['freq_step'] = 0.2e6\n",
    "optimize_freq_dict['num_of_points'] = 50\n",
    "optimize_freq_dict['microwave_amplitude'] = common.mw_amp/15\n",
    "optimize_freq_dict['meas_type'] = conventional_measurement\n",
    "optimize_freq_dict['meas_info'] = add_conventional_information\n",
    "\n",
    "optimize_freq_dict['measurement_time'] = 30\n",
    "optimize_freq_dict['optimize_time'] = None\n",
    "optimize_freq_dict['optimize_generate_new'] = True"
   ]
  },
  {
   "cell_type": "markdown",
   "metadata": {},
   "source": [
    "#  Preperation mes"
   ]
  },
  {
   "cell_type": "markdown",
   "metadata": {},
   "source": [
    "## Pulsed ODMR"
   ]
  },
  {
   "cell_type": "code",
   "execution_count": 282,
   "metadata": {},
   "outputs": [],
   "source": [
    "p_scale_manual = 1\n",
    "f_center = 2.780e9\n",
    "\n",
    "\"\"\"\n",
    "common.rabi_shaped['shaped_on'] = False\n",
    "if common.rabi_shaped['shaped_on']:\n",
    "    logger.warning(\"pODMR does not support shaped pulses yet. Using potentially wrong calibrated pi pulse.\")\n",
    "\"\"\"\n",
    "\n",
    "if p_scale_manual != 1:\n",
    "    logger.warning(\"Manually reduce AWG ampl / AMP gain by a factor of {} / {}!\".format(2*p_scale_manual, np.sqrt(2*p_scale_manual)))\n",
    "    #qmeas = setup_podmr_params(f_res=common.mw_freq, p_scale=50, p_scale_onlyperiod=p_scale_manual, f_step=20e3) # range ~ 1 MHz\n",
    "#qmeas = setup_podmr_params(f_res=800e6, p_scale=1, f_step=4e6, n_f=100)\n",
    "#qmeas = setup_podmr_params(f_res=3e9, p_scale=1, f_step=3e6, n_f=150)     # wide band, ~ 150 MHz\n",
    "\n",
    "qmeas = setup_podmr_params(f_res=common.mw_freq, p_scale=1, f_step=3e6, n_f=100)\n",
    "qmeas = setup_podmr_params(f_res=f_center, p_scale=1, f_step=2e6, n_f=100)\n",
    "#qmeas = setup_podmr_params(f_res=common.mw_freq, p_scale=1, f_step=2000e3, n_f=200)     # wide band\n",
    "#qmeas = setup_podmr_params(f_res=2.87e9, p_scale=1, f_step=3000e3, n_f=200)\n",
    "#qmeas = setup_podmr_params(f_res=common.mw_freq, p_scale=1, f_step=3000e3, n_f=100)     \n",
    "#qmeas = setup_podmr_params(f_res=common.mw_freq, p_scale=1, f_step=1000e3, n_f=150)\n",
    "#qmeas =  setup_podmr_params(f_res=f_center, p_scale=1, f_step=3000e3, n_f=70)\n",
    "\n",
    "#common.rabi_shaped['period'] = 80e-9\n",
    "#qmeas = setup_podmr_params(f_res=2.77e9, p_scale=1, f_step=3000e3, n_f=100)\n",
    "#qmeas = setup_podmr_params(f_res=2.88e9, p_scale=3, f_step=3000e3, n_f=200)\n",
    "#qmeas = setup_podmr_params(f_res=common.mw_freq, p_scale=1, f_step=500e3, n_f=75)\n",
    "\n",
    "#qmeas = setup_podmr_params(f_res=common.mw_freq, p_scale=5, f_step=1000e3, n_f=75)     # wide band, ~ 150 MHz\n",
    "#qmeas = setup_podmr_params(f_res=common.mw_freq, p_scale=5, f_step=500e3, n_f=75)\n",
    "\n",
    "#qmeas = setup_podmr_params(f_res=common.mw_freq, p_scale=20, f_step=250e3, n_f=100) # range ~ 5 MHz\n",
    "#qmeas = setup_podmr_params(f_res=2.78e9, p_scale=20, f_step=200e3, n_f=100)#, t_pi_manual=8e-6)\n",
    "#qmeas = setup_podmr_params(f_res=common.mw_freq, p_scale=30, f_step=100e3, n_f=120)\n",
    "\n",
    "#qmeas = setup_podmr_params(f_res=common.mw_freq, p_scale=40, f_step=250e3, n_f=75) # range ~ 5 MHz\n",
    "#qmeas = setup_podmr_params(f_res=common.mw_freq, p_scale=40, f_step=100e3, n_f=100) # range ~ 3*6 MHz\n",
    "#qmeas = setup_podmr_params(f_res=common.mw_freq, p_scale=60, f_step=50e3, n_f=100) # range ~ 1 MHz, \n",
    "#qmeas = setup_podmr_params(f_res=common.mw_freq, p_scale=60, f_step=100e3, n_f=150) # range ~ 1 MHz, \n",
    "\n",
    "# for extremely good T2* / Rabi drive efficiency\n",
    "#qmeas = setup_podmr_params(f_res=common.mw_freq, p_scale=500, f_step=20e3, n_f=150) # range ~ 1 MHz, \n",
    "#qmeas = setup_podmr_params(f_res=common.mw_freq, p_scale=250, f_step=20e3, n_f=150) # range ~ 1 MHz, \n",
    "#qmeas = setup_podmr_params(f_res=common.mw_freq, p_scale=1500, f_step=20e3, n_f=250)\n",
    "\n",
    "\n",
    "uglobals.abort.clear()\n",
    "run_pdomr(qmeas)\n",
    "\n"
   ]
  },
  {
   "cell_type": "markdown",
   "metadata": {},
   "source": [
    "### fine pODMR on 2x NVs"
   ]
  },
  {
   "cell_type": "code",
   "execution_count": 90,
   "metadata": {},
   "outputs": [
    {
     "name": "stderr",
     "output_type": "stream",
     "text": [
      "Exception ignored in: <generator object Cycler.__iter__.<locals>.<genexpr> at 0x00000014BBB7E888>\n",
      "Traceback (most recent call last):\n",
      "  File \"C:\\ProgramData\\Anaconda3\\envs\\qudi\\lib\\site-packages\\cycler.py\", line 227, in <genexpr>\n",
      "    return iter(dict(l) for l in self._left)\n",
      "SystemError: error return without exception set\n",
      "Exception ignored in: <generator object Cycler.__iter__.<locals>.<genexpr> at 0x00000014BBB7E200>\n",
      "Traceback (most recent call last):\n",
      "  File \"C:\\ProgramData\\Anaconda3\\envs\\qudi\\lib\\site-packages\\cycler.py\", line 227, in <genexpr>\n",
      "    return iter(dict(l) for l in self._left)\n",
      "SystemError: error return without exception set\n",
      "Exception ignored in: <generator object Cycler.__iter__.<locals>.<genexpr> at 0x00000014BBB7E200>\n",
      "Traceback (most recent call last):\n",
      "  File \"C:\\ProgramData\\Anaconda3\\envs\\qudi\\lib\\site-packages\\cycler.py\", line 227, in <genexpr>\n",
      "    return iter(dict(l) for l in self._left)\n",
      "SystemError: error return without exception set\n",
      "Exception ignored in: <generator object Cycler.__iter__.<locals>.<genexpr> at 0x00000014BBB7E200>\n",
      "Traceback (most recent call last):\n",
      "  File \"C:\\ProgramData\\Anaconda3\\envs\\qudi\\lib\\site-packages\\cycler.py\", line 227, in <genexpr>\n",
      "    return iter(dict(l) for l in self._left)\n",
      "SystemError: error return without exception set\n",
      "Exception ignored in: <generator object Cycler.__iter__.<locals>.<genexpr> at 0x00000014BBB7E200>\n",
      "Traceback (most recent call last):\n",
      "  File \"C:\\ProgramData\\Anaconda3\\envs\\qudi\\lib\\site-packages\\cycler.py\", line 227, in <genexpr>\n",
      "    return iter(dict(l) for l in self._left)\n",
      "SystemError: error return without exception set\n",
      "Exception ignored in: <generator object Cycler.__iter__.<locals>.<genexpr> at 0x00000014BBB7E200>\n",
      "Traceback (most recent call last):\n",
      "  File \"C:\\ProgramData\\Anaconda3\\envs\\qudi\\lib\\site-packages\\cycler.py\", line 227, in <genexpr>\n",
      "    return iter(dict(l) for l in self._left)\n",
      "SystemError: error return without exception set\n",
      "Exception ignored in: <generator object Cycler.__iter__.<locals>.<genexpr> at 0x00000014BBB7E200>\n",
      "Traceback (most recent call last):\n",
      "  File \"C:\\ProgramData\\Anaconda3\\envs\\qudi\\lib\\site-packages\\cycler.py\", line 227, in <genexpr>\n",
      "    return iter(dict(l) for l in self._left)\n",
      "SystemError: error return without exception set\n",
      "Exception ignored in: <generator object Cycler.__iter__.<locals>.<genexpr> at 0x00000014BBB7E200>\n",
      "Traceback (most recent call last):\n",
      "  File \"C:\\ProgramData\\Anaconda3\\envs\\qudi\\lib\\site-packages\\cycler.py\", line 227, in <genexpr>\n",
      "    return iter(dict(l) for l in self._left)\n",
      "SystemError: error return without exception set\n",
      "Exception ignored in: <generator object Cycler.__iter__.<locals>.<genexpr> at 0x00000014BBB7E200>\n",
      "Traceback (most recent call last):\n",
      "  File \"C:\\ProgramData\\Anaconda3\\envs\\qudi\\lib\\site-packages\\cycler.py\", line 227, in <genexpr>\n",
      "    return iter(dict(l) for l in self._left)\n",
      "SystemError: error return without exception set\n",
      "Exception ignored in: <generator object Cycler.__iter__.<locals>.<genexpr> at 0x00000014BBB7E200>\n",
      "Traceback (most recent call last):\n",
      "  File \"C:\\ProgramData\\Anaconda3\\envs\\qudi\\lib\\site-packages\\cycler.py\", line 227, in <genexpr>\n",
      "    return iter(dict(l) for l in self._left)\n",
      "SystemError: error return without exception set\n",
      "Exception ignored in: <generator object Cycler.__iter__.<locals>.<genexpr> at 0x00000014BBB7EBA0>\n",
      "Traceback (most recent call last):\n",
      "  File \"C:\\ProgramData\\Anaconda3\\envs\\qudi\\lib\\site-packages\\cycler.py\", line 227, in <genexpr>\n",
      "    return iter(dict(l) for l in self._left)\n",
      "SystemError: error return without exception set\n",
      "Exception ignored in: <generator object Cycler.__iter__.<locals>.<genexpr> at 0x00000014BBB7EBA0>\n",
      "Traceback (most recent call last):\n",
      "  File \"C:\\ProgramData\\Anaconda3\\envs\\qudi\\lib\\site-packages\\cycler.py\", line 227, in <genexpr>\n",
      "    return iter(dict(l) for l in self._left)\n",
      "SystemError: error return without exception set\n",
      "Exception ignored in: <generator object Cycler.__iter__.<locals>.<genexpr> at 0x00000014BBB7EBA0>\n",
      "Traceback (most recent call last):\n",
      "  File \"C:\\ProgramData\\Anaconda3\\envs\\qudi\\lib\\site-packages\\cycler.py\", line 227, in <genexpr>\n",
      "    return iter(dict(l) for l in self._left)\n",
      "SystemError: error return without exception set\n",
      "Exception ignored in: <generator object Cycler.__iter__.<locals>.<genexpr> at 0x00000014BBB7EBA0>\n",
      "Traceback (most recent call last):\n",
      "  File \"C:\\ProgramData\\Anaconda3\\envs\\qudi\\lib\\site-packages\\cycler.py\", line 227, in <genexpr>\n",
      "    return iter(dict(l) for l in self._left)\n",
      "SystemError: error return without exception set\n",
      "Exception ignored in: <generator object Cycler.__iter__.<locals>.<genexpr> at 0x00000014BBB7EBA0>\n",
      "Traceback (most recent call last):\n",
      "  File \"C:\\ProgramData\\Anaconda3\\envs\\qudi\\lib\\site-packages\\cycler.py\", line 227, in <genexpr>\n",
      "    return iter(dict(l) for l in self._left)\n",
      "SystemError: error return without exception set\n",
      "Exception ignored in: <generator object Cycler.__iter__.<locals>.<genexpr> at 0x00000014BBB7EBA0>\n",
      "Traceback (most recent call last):\n",
      "  File \"C:\\ProgramData\\Anaconda3\\envs\\qudi\\lib\\site-packages\\cycler.py\", line 227, in <genexpr>\n",
      "    return iter(dict(l) for l in self._left)\n",
      "SystemError: error return without exception set\n",
      "Exception ignored in: <generator object Cycler.__iter__.<locals>.<genexpr> at 0x00000014BBB7EBA0>\n",
      "Traceback (most recent call last):\n",
      "  File \"C:\\ProgramData\\Anaconda3\\envs\\qudi\\lib\\site-packages\\cycler.py\", line 227, in <genexpr>\n",
      "    return iter(dict(l) for l in self._left)\n",
      "SystemError: error return without exception set\n",
      "Exception ignored in: <generator object Cycler.__iter__.<locals>.<genexpr> at 0x00000014BBB7EBA0>\n",
      "Traceback (most recent call last):\n",
      "  File \"C:\\ProgramData\\Anaconda3\\envs\\qudi\\lib\\site-packages\\cycler.py\", line 227, in <genexpr>\n",
      "    return iter(dict(l) for l in self._left)\n",
      "SystemError: error return without exception set\n",
      "Exception ignored in: <generator object Cycler.__iter__.<locals>.<genexpr> at 0x00000014BBB7EBA0>\n",
      "Traceback (most recent call last):\n",
      "  File \"C:\\ProgramData\\Anaconda3\\envs\\qudi\\lib\\site-packages\\cycler.py\", line 227, in <genexpr>\n",
      "    return iter(dict(l) for l in self._left)\n",
      "SystemError: error return without exception set\n",
      "Exception ignored in: <generator object Cycler.__iter__.<locals>.<genexpr> at 0x00000014BBB7EBA0>\n",
      "Traceback (most recent call last):\n",
      "  File \"C:\\ProgramData\\Anaconda3\\envs\\qudi\\lib\\site-packages\\cycler.py\", line 227, in <genexpr>\n",
      "    return iter(dict(l) for l in self._left)\n",
      "SystemError: error return without exception set\n",
      "Exception ignored in: <generator object Cycler.__iter__.<locals>.<genexpr> at 0x00000014BB11ABA0>\n",
      "Traceback (most recent call last):\n",
      "  File \"C:\\ProgramData\\Anaconda3\\envs\\qudi\\lib\\site-packages\\cycler.py\", line 227, in <genexpr>\n",
      "    return iter(dict(l) for l in self._left)\n",
      "SystemError: error return without exception set\n",
      "Exception ignored in: <generator object Cycler.__iter__.<locals>.<genexpr> at 0x00000014BB11ABA0>\n",
      "Traceback (most recent call last):\n",
      "  File \"C:\\ProgramData\\Anaconda3\\envs\\qudi\\lib\\site-packages\\cycler.py\", line 227, in <genexpr>\n",
      "    return iter(dict(l) for l in self._left)\n",
      "SystemError: error return without exception set\n",
      "Exception ignored in: <generator object Transform._iter_break_from_left_to_right at 0x00000014BB11ABF8>\n",
      "Traceback (most recent call last):\n",
      "  File \"C:\\ProgramData\\Anaconda3\\envs\\qudi\\lib\\site-packages\\matplotlib\\transforms.py\", line 1324, in _iter_break_from_left_to_right\n",
      "    yield IdentityTransform(), self\n",
      "SystemError: error return without exception set\n",
      "Exception ignored in: <generator object CompositeGenericTransform._iter_break_from_left_to_right at 0x00000014BBB7EBA0>\n",
      "Traceback (most recent call last):\n",
      "  File \"C:\\ProgramData\\Anaconda3\\envs\\qudi\\lib\\site-packages\\matplotlib\\transforms.py\", line 2457, in _iter_break_from_left_to_right\n",
      "    yield lh_compliment, rh_compliment + self._b\n",
      "SystemError: error return without exception set\n",
      "Exception ignored in: <generator object Transform._iter_break_from_left_to_right at 0x00000014BB11ABF8>\n",
      "Traceback (most recent call last):\n",
      "  File \"C:\\ProgramData\\Anaconda3\\envs\\qudi\\lib\\site-packages\\matplotlib\\transforms.py\", line 1324, in _iter_break_from_left_to_right\n",
      "    yield IdentityTransform(), self\n",
      "SystemError: error return without exception set\n",
      "Exception ignored in: <generator object CompositeGenericTransform._iter_break_from_left_to_right at 0x00000014BBB7EBA0>\n",
      "Traceback (most recent call last):\n",
      "  File \"C:\\ProgramData\\Anaconda3\\envs\\qudi\\lib\\site-packages\\matplotlib\\transforms.py\", line 2457, in _iter_break_from_left_to_right\n",
      "    yield lh_compliment, rh_compliment + self._b\n",
      "SystemError: error return without exception set\n",
      "Exception ignored in: <generator object Transform._iter_break_from_left_to_right at 0x00000014BB11ABA0>\n",
      "Traceback (most recent call last):\n",
      "  File \"C:\\ProgramData\\Anaconda3\\envs\\qudi\\lib\\site-packages\\matplotlib\\transforms.py\", line 1324, in _iter_break_from_left_to_right\n",
      "    yield IdentityTransform(), self\n",
      "SystemError: error return without exception set\n",
      "Exception ignored in: <generator object CompositeGenericTransform._iter_break_from_left_to_right at 0x00000014BBB7EBA0>\n",
      "Traceback (most recent call last):\n",
      "  File \"C:\\ProgramData\\Anaconda3\\envs\\qudi\\lib\\site-packages\\matplotlib\\transforms.py\", line 2457, in _iter_break_from_left_to_right\n",
      "    yield lh_compliment, rh_compliment + self._b\n",
      "SystemError: error return without exception set\n",
      "Exception ignored in: <generator object _process_plot_var_args._getdefaults.<locals>.<genexpr>.<genexpr> at 0x00000014BB11ABA0>\n",
      "Traceback (most recent call last):\n",
      "  File \"C:\\ProgramData\\Anaconda3\\envs\\qudi\\lib\\site-packages\\matplotlib\\axes\\_base.py\", line 272, in <genexpr>\n",
      "    if any(all(kw.get(k, None) is None for kw in kwargs)\n",
      "SystemError: error return without exception set\n",
      "Exception ignored in: <generator object _process_plot_var_args._getdefaults.<locals>.<genexpr>.<genexpr> at 0x00000014BB11ABA0>\n",
      "Traceback (most recent call last):\n",
      "  File \"C:\\ProgramData\\Anaconda3\\envs\\qudi\\lib\\site-packages\\matplotlib\\axes\\_base.py\", line 272, in <genexpr>\n",
      "    if any(all(kw.get(k, None) is None for kw in kwargs)\n",
      "SystemError: error return without exception set\n",
      "Exception ignored in: <generator object Transform._iter_break_from_left_to_right at 0x00000014BB11ABA0>\n",
      "Traceback (most recent call last):\n",
      "  File \"C:\\ProgramData\\Anaconda3\\envs\\qudi\\lib\\site-packages\\matplotlib\\transforms.py\", line 1324, in _iter_break_from_left_to_right\n",
      "    yield IdentityTransform(), self\n",
      "SystemError: error return without exception set\n",
      "Exception ignored in: <generator object CompositeGenericTransform._iter_break_from_left_to_right at 0x00000014BB11ABF8>\n",
      "Traceback (most recent call last):\n",
      "  File \"C:\\ProgramData\\Anaconda3\\envs\\qudi\\lib\\site-packages\\matplotlib\\transforms.py\", line 2457, in _iter_break_from_left_to_right\n",
      "    yield lh_compliment, rh_compliment + self._b\n",
      "SystemError: error return without exception set\n",
      "Exception ignored in: <generator object _process_plot_var_args._getdefaults.<locals>.<genexpr>.<genexpr> at 0x00000014BB11A518>\n",
      "Traceback (most recent call last):\n",
      "  File \"C:\\ProgramData\\Anaconda3\\envs\\qudi\\lib\\site-packages\\matplotlib\\axes\\_base.py\", line 272, in <genexpr>\n",
      "    if any(all(kw.get(k, None) is None for kw in kwargs)\n",
      "SystemError: error return without exception set\n",
      "Exception ignored in: <generator object _process_plot_var_args._getdefaults.<locals>.<genexpr>.<genexpr> at 0x00000014BB11A518>\n",
      "Traceback (most recent call last):\n",
      "  File \"C:\\ProgramData\\Anaconda3\\envs\\qudi\\lib\\site-packages\\matplotlib\\axes\\_base.py\", line 272, in <genexpr>\n",
      "    if any(all(kw.get(k, None) is None for kw in kwargs)\n",
      "SystemError: error return without exception set\n",
      "Exception ignored in: <generator object Transform._iter_break_from_left_to_right at 0x00000014BB11A518>\n",
      "Traceback (most recent call last):\n",
      "  File \"C:\\ProgramData\\Anaconda3\\envs\\qudi\\lib\\site-packages\\matplotlib\\transforms.py\", line 1324, in _iter_break_from_left_to_right\n",
      "    yield IdentityTransform(), self\n",
      "SystemError: error return without exception set\n",
      "Exception ignored in: <generator object CompositeGenericTransform._iter_break_from_left_to_right at 0x00000014BB11A410>\n",
      "Traceback (most recent call last):\n",
      "  File \"C:\\ProgramData\\Anaconda3\\envs\\qudi\\lib\\site-packages\\matplotlib\\transforms.py\", line 2457, in _iter_break_from_left_to_right\n",
      "    yield lh_compliment, rh_compliment + self._b\n",
      "SystemError: error return without exception set\n",
      "Exception ignored in: <generator object ScalarFormatter._compute_offset.<locals>.<genexpr> at 0x00000014BB11A830>\n",
      "Traceback (most recent call last):\n",
      "  File \"C:\\ProgramData\\Anaconda3\\envs\\qudi\\lib\\site-packages\\matplotlib\\ticker.py\", line 696, in <genexpr>\n"
     ]
    },
    {
     "name": "stderr",
     "output_type": "stream",
     "text": [
      "    if abs_min // 10 ** oom != abs_max // 10 ** oom)\n",
      "SystemError: error return without exception set\n",
      "Exception ignored in: <generator object ScalarFormatter._compute_offset.<locals>.<genexpr> at 0x00000014BB11A830>\n",
      "Traceback (most recent call last):\n",
      "  File \"C:\\ProgramData\\Anaconda3\\envs\\qudi\\lib\\site-packages\\matplotlib\\ticker.py\", line 696, in <genexpr>\n",
      "    if abs_min // 10 ** oom != abs_max // 10 ** oom)\n",
      "SystemError: error return without exception set\n",
      "Exception ignored in: <generator object ScalarFormatter._compute_offset.<locals>.<genexpr> at 0x00000014BB11AD58>\n",
      "Traceback (most recent call last):\n",
      "  File \"C:\\ProgramData\\Anaconda3\\envs\\qudi\\lib\\site-packages\\matplotlib\\ticker.py\", line 696, in <genexpr>\n",
      "    if abs_min // 10 ** oom != abs_max // 10 ** oom)\n",
      "SystemError: error return without exception set\n",
      "Exception ignored in: <generator object ScalarFormatter._compute_offset.<locals>.<genexpr> at 0x00000014BB11AD58>\n",
      "Traceback (most recent call last):\n",
      "  File \"C:\\ProgramData\\Anaconda3\\envs\\qudi\\lib\\site-packages\\matplotlib\\ticker.py\", line 703, in <genexpr>\n",
      "    if abs_max // 10 ** oom - abs_min // 10 ** oom > 1)\n",
      "SystemError: error return without exception set\n",
      "Exception ignored in: <generator object ScalarFormatter._compute_offset.<locals>.<genexpr> at 0x00000014BB11ABA0>\n",
      "Traceback (most recent call last):\n",
      "  File \"C:\\ProgramData\\Anaconda3\\envs\\qudi\\lib\\site-packages\\matplotlib\\ticker.py\", line 696, in <genexpr>\n",
      "    if abs_min // 10 ** oom != abs_max // 10 ** oom)\n",
      "SystemError: error return without exception set\n",
      "Exception ignored in: <generator object ScalarFormatter._compute_offset.<locals>.<genexpr> at 0x00000014BB11ABA0>\n",
      "Traceback (most recent call last):\n",
      "  File \"C:\\ProgramData\\Anaconda3\\envs\\qudi\\lib\\site-packages\\matplotlib\\ticker.py\", line 703, in <genexpr>\n",
      "    if abs_max // 10 ** oom - abs_min // 10 ** oom > 1)\n",
      "SystemError: error return without exception set\n",
      "Exception ignored in: <generator object Cycler.__iter__.<locals>.<genexpr> at 0x00000014BB11A518>\n",
      "Traceback (most recent call last):\n",
      "  File \"C:\\ProgramData\\Anaconda3\\envs\\qudi\\lib\\site-packages\\cycler.py\", line 227, in <genexpr>\n",
      "    return iter(dict(l) for l in self._left)\n",
      "SystemError: error return without exception set\n",
      "Exception ignored in: <generator object ScalarFormatter._compute_offset.<locals>.<genexpr> at 0x00000014B5FA1620>\n",
      "Traceback (most recent call last):\n",
      "  File \"C:\\ProgramData\\Anaconda3\\envs\\qudi\\lib\\site-packages\\matplotlib\\ticker.py\", line 696, in <genexpr>\n",
      "    if abs_min // 10 ** oom != abs_max // 10 ** oom)\n",
      "SystemError: error return without exception set\n",
      "Exception ignored in: <generator object ScalarFormatter._compute_offset.<locals>.<genexpr> at 0x00000014B5FA1518>\n",
      "Traceback (most recent call last):\n",
      "  File \"C:\\ProgramData\\Anaconda3\\envs\\qudi\\lib\\site-packages\\matplotlib\\ticker.py\", line 696, in <genexpr>\n",
      "    if abs_min // 10 ** oom != abs_max // 10 ** oom)\n",
      "SystemError: error return without exception set\n",
      "Exception ignored in: <generator object ScalarFormatter._compute_offset.<locals>.<genexpr> at 0x00000014B5FA17D8>\n",
      "Traceback (most recent call last):\n",
      "  File \"C:\\ProgramData\\Anaconda3\\envs\\qudi\\lib\\site-packages\\matplotlib\\ticker.py\", line 696, in <genexpr>\n",
      "    if abs_min // 10 ** oom != abs_max // 10 ** oom)\n",
      "SystemError: error return without exception set\n",
      "Exception ignored in: <generator object ScalarFormatter._compute_offset.<locals>.<genexpr> at 0x00000014B5FA1620>\n",
      "Traceback (most recent call last):\n",
      "  File \"C:\\ProgramData\\Anaconda3\\envs\\qudi\\lib\\site-packages\\matplotlib\\ticker.py\", line 696, in <genexpr>\n",
      "    if abs_min // 10 ** oom != abs_max // 10 ** oom)\n",
      "SystemError: error return without exception set\n",
      "Exception ignored in: <generator object ScalarFormatter._compute_offset.<locals>.<genexpr> at 0x00000014BB11A518>\n",
      "Traceback (most recent call last):\n",
      "  File \"C:\\ProgramData\\Anaconda3\\envs\\qudi\\lib\\site-packages\\matplotlib\\ticker.py\", line 696, in <genexpr>\n",
      "    if abs_min // 10 ** oom != abs_max // 10 ** oom)\n",
      "SystemError: error return without exception set\n",
      "Exception ignored in: <generator object ScalarFormatter._compute_offset.<locals>.<genexpr> at 0x00000014BB11A518>\n",
      "Traceback (most recent call last):\n",
      "  File \"C:\\ProgramData\\Anaconda3\\envs\\qudi\\lib\\site-packages\\matplotlib\\ticker.py\", line 696, in <genexpr>\n",
      "    if abs_min // 10 ** oom != abs_max // 10 ** oom)\n",
      "SystemError: error return without exception set\n",
      "Exception ignored in: <generator object ScalarFormatter._compute_offset.<locals>.<genexpr> at 0x00000014BB11A200>\n",
      "Traceback (most recent call last):\n",
      "  File \"C:\\ProgramData\\Anaconda3\\envs\\qudi\\lib\\site-packages\\matplotlib\\ticker.py\", line 696, in <genexpr>\n",
      "    if abs_min // 10 ** oom != abs_max // 10 ** oom)\n",
      "SystemError: error return without exception set\n",
      "Exception ignored in: <generator object ScalarFormatter._compute_offset.<locals>.<genexpr> at 0x00000014BB11A200>\n",
      "Traceback (most recent call last):\n",
      "  File \"C:\\ProgramData\\Anaconda3\\envs\\qudi\\lib\\site-packages\\matplotlib\\ticker.py\", line 696, in <genexpr>\n",
      "    if abs_min // 10 ** oom != abs_max // 10 ** oom)\n",
      "SystemError: error return without exception set\n",
      "Exception ignored in: <generator object ScalarFormatter._compute_offset.<locals>.<genexpr> at 0x00000014B5FA15C8>\n",
      "Traceback (most recent call last):\n",
      "  File \"C:\\ProgramData\\Anaconda3\\envs\\qudi\\lib\\site-packages\\matplotlib\\ticker.py\", line 696, in <genexpr>\n",
      "    if abs_min // 10 ** oom != abs_max // 10 ** oom)\n",
      "SystemError: error return without exception set\n",
      "Exception ignored in: <generator object ScalarFormatter._compute_offset.<locals>.<genexpr> at 0x00000014B5FA15C8>\n",
      "Traceback (most recent call last):\n",
      "  File \"C:\\ProgramData\\Anaconda3\\envs\\qudi\\lib\\site-packages\\matplotlib\\ticker.py\", line 696, in <genexpr>\n",
      "    if abs_min // 10 ** oom != abs_max // 10 ** oom)\n",
      "SystemError: error return without exception set\n",
      "Exception ignored in: <generator object ScalarFormatter._compute_offset.<locals>.<genexpr> at 0x00000014B5FA15C8>\n",
      "Traceback (most recent call last):\n",
      "  File \"C:\\ProgramData\\Anaconda3\\envs\\qudi\\lib\\site-packages\\matplotlib\\ticker.py\", line 696, in <genexpr>\n",
      "    if abs_min // 10 ** oom != abs_max // 10 ** oom)\n",
      "SystemError: error return without exception set\n",
      "Exception ignored in: <generator object ScalarFormatter._compute_offset.<locals>.<genexpr> at 0x00000014B5FA15C8>\n",
      "Traceback (most recent call last):\n",
      "  File \"C:\\ProgramData\\Anaconda3\\envs\\qudi\\lib\\site-packages\\matplotlib\\ticker.py\", line 696, in <genexpr>\n",
      "    if abs_min // 10 ** oom != abs_max // 10 ** oom)\n",
      "SystemError: error return without exception set\n",
      "Exception ignored in: <generator object Gcf.destroy_fig.<locals>.<genexpr> at 0x00000014898933B8>\n",
      "Traceback (most recent call last):\n",
      "  File \"C:\\ProgramData\\Anaconda3\\envs\\qudi\\lib\\site-packages\\matplotlib\\_pylab_helpers.py\", line 67, in <genexpr>\n",
      "    if manager.canvas.figure == fig), None)\n",
      "SystemError: error return without exception set\n"
     ]
    }
   ],
   "source": [
    "uglobals.abort.clear()\n",
    "\n",
    "qmeas = setup_podmr_params(f_res=common.mw_freq, p_scale=1, f_step=1.0e6, n_f=70)\n",
    "qmeas['measurement_time'] = 1.5*60\n",
    "qmeas['name'] = 'podmr_fine_A'\n",
    "\n",
    "#run_generic(qmeas)\n",
    "\n",
    "\n",
    "qmeas = setup_podmr_params(f_res=common.mw_freq_2[0], p_scale=3, f_step=1.0e6, n_f=100)\n",
    "#qmeas = setup_podmr_params(f_res=common.mw_freq_2[0], p_scale=1, f_step=0.8e6, n_f=150)\n",
    "qmeas['measurement_time'] = 10.5*60\n",
    "qmeas['rabi_period'] = common.rabi_period_2[0] /(qmeas['microwave_amplitude']/common.mw_amp)\n",
    "qmeas['microwave_amplitude'] = common.mw_amps_2[0] *qmeas['microwave_amplitude']/common.mw_amp\n",
    "qmeas['name'] = 'podmr_fine_B'\n",
    "\n",
    "run_generic(qmeas)\n",
    "#qmeas"
   ]
  },
  {
   "cell_type": "code",
   "execution_count": 238,
   "metadata": {},
   "outputs": [
    {
     "data": {
      "text/plain": [
       "2735400000.0"
      ]
     },
     "execution_count": 238,
     "metadata": {},
     "output_type": "execute_result"
    }
   ],
   "source": [
    "common.mw_freq"
   ]
  },
  {
   "cell_type": "markdown",
   "metadata": {},
   "source": [
    "### power series"
   ]
  },
  {
   "cell_type": "code",
   "execution_count": 363,
   "metadata": {},
   "outputs": [],
   "source": [
    "uglobals.abort.clear()\n",
    "pscales = np.linspace(1, 25, 10)[::]\n",
    "common.mw_amp = 0.25\n",
    "p_start = 1\n",
    "\n",
    "for i, p in enumerate(pscales):\n",
    "    if uglobals.abort.is_set():\n",
    "        break\n",
    "    try:\n",
    "        p_phys = p_start*p\n",
    "        qmeas = setup_podmr_params(f_res=common.mw_freq, p_scale=p_phys, f_step=500e3, n_f=75)\n",
    "\n",
    "        #qmeas = setup_rabi_params(tau_step=250e-9, p_scale=10)\n",
    "        qmeas['measurement_time'] = 40\n",
    "        savetag = f\"podmr_idx={i}_pscale={p_phys:.2f}\"\n",
    "        run_generic(qmeas, save_tag=savetag)\n",
    "    except Exception as e:\n",
    "        stack_trace = traceback.format_exc()\n",
    "        logger.warning(\"auto run {} failed: {}.\\n{}\".format(i, str(e), stack_trace))\n",
    "\n",
    "logger.info(\"Autopilot has landed.\")\n",
    "            "
   ]
  },
  {
   "cell_type": "code",
   "execution_count": 361,
   "metadata": {},
   "outputs": [
    {
     "data": {
      "text/plain": [
       "array([1.        , 0.91111111, 0.82222222, 0.73333333, 0.64444444,\n",
       "       0.55555556, 0.46666667, 0.37777778, 0.28888889, 0.2       ])"
      ]
     },
     "execution_count": 361,
     "metadata": {},
     "output_type": "execute_result"
    }
   ],
   "source": [
    "pscales"
   ]
  },
  {
   "cell_type": "markdown",
   "metadata": {},
   "source": [
    "### pODMR + pi RF"
   ]
  },
  {
   "cell_type": "code",
   "execution_count": 29,
   "metadata": {},
   "outputs": [],
   "source": [
    "uglobals.abort.clear()\n",
    "qmeas = setup_podmr_rfpi_params(f_res=common.mw_freq, p_scale=60, f_step=100e3, n_f=20,\n",
    "                            f_rf=366.82e3, t_pi_rf=4.554e-6, ampl_rf=0.125, alternating_no_rf=True)\n",
    "run_generic(qmeas)"
   ]
  },
  {
   "cell_type": "code",
   "execution_count": 179,
   "metadata": {
    "scrolled": true
   },
   "outputs": [
    {
     "data": {
      "text/plain": [
       "array([0.5  , 0.625, 0.75 , 0.875, 1.   , 1.125, 1.25 , 1.375, 1.5  ])"
      ]
     },
     "execution_count": 179,
     "metadata": {},
     "output_type": "execute_result"
    }
   ],
   "source": [
    "np.linspace(0.5, 1.5, 9)[::]"
   ]
  },
  {
   "cell_type": "markdown",
   "metadata": {},
   "source": [
    "### t_pi series"
   ]
  },
  {
   "cell_type": "code",
   "execution_count": null,
   "metadata": {},
   "outputs": [],
   "source": [
    "uglobals.abort.clear()\n",
    "tscales = np.linspace(0.2, 1.8, 9)[::]\n",
    "t_start = 4.554e-6\n",
    "\n",
    "for i, t in enumerate(tscales):\n",
    "    if uglobals.abort.is_set():\n",
    "        break\n",
    "    try:\n",
    "        t_phys = t_start*t\n",
    "        qmeas = setup_podmr_rfpi_params(f_res=common.mw_freq, p_scale=60, f_step=100e3, n_f=20,\n",
    "                                    f_rf=366.82e3, t_pi_rf=4.554e-6, ampl_rf=0.125, alternating_no_rf=True)\n",
    "        #qmeas = setup_rabi_params(tau_step=250e-9, p_scale=10)\n",
    "        qmeas['measurement_time'] = 10*60\n",
    "        savetag = f\"podmr_rfpi_idx={i}_tpi={1e6*t_phys:.2f}uV\"\n",
    "        run_generic(qmeas, save_tag=savetag)\n",
    "    except Exception as e:\n",
    "        stack_trace = traceback.format_exc()\n",
    "        logger.warning(\"auto run {} failed: {}.\\n{}\".format(i, str(e), stack_trace))\n",
    "\n",
    "logger.info(\"Autopilot has landed.\")\n",
    "            "
   ]
  },
  {
   "cell_type": "markdown",
   "metadata": {},
   "source": [
    "## Rabi"
   ]
  },
  {
   "cell_type": "code",
   "execution_count": 8,
   "metadata": {
    "ExecuteTime": {
     "end_time": "2024-12-22T18:33:52.540163Z",
     "start_time": "2024-12-22T18:33:12.862377Z"
    }
   },
   "outputs": [],
   "source": [
    "uglobals.abort.clear()\n",
    "#uglobals.abort.set()\n",
    "\n",
    "#qmeas = setup_rabi_params(tau_step=500*1e-9, p_scale=250, alternating=False, n_tau=200)   # 10e-9\n",
    "#qmeas = setup_rabi_params(tau_step=25*1e-9, p_scale=25, alternating=False)   # 10e-9\n",
    "#qmeas = setup_rabi_params(tau_step=1e-9, p_scale=1, alternating=False)   # 10e-9\n",
    "\n",
    "#qmeas = setup_rabi_params(tau_step=common.rabi_period/20, n_tau=40, alternating=True) \n",
    "#qmeas = setup_rabi_params(tau_step=common.rabi_period/20, n_tau=75, alternating=True) \n",
    "\n",
    "\"\"\"\n",
    "leave_out_idx = np.asarray([np.arange(20,100), np.arange(120,200), np.arange(220,300)]).flatten() \n",
    "qmeas = setup_rabi_params(tau_step=2.5e-9*2, n_tau=320, p_scale=2, leave_out_tau_idx=np.array2string(leave_out_idx,\n",
    "                                                                                                      separator=',',\n",
    "                                                                                                      max_line_width=9999))   # 10e-9\n",
    "\"\"\"\n",
    "\n",
    "qmeas = setup_rabi_params(tau_step=common.rabi_period/20, n_tau=75, alternating=False) \n",
    "\n",
    "# on nv2\n",
    "#qmeas = setup_rabi_params(tau_step=common.t_rabi_2[0]/20, n_tau=75, alternating=False) \n",
    "#qmeas['microwave_frequency'] = common.mw_freq_2[0]\n",
    "#qmeas['name'] = \"rabi_B\"\n",
    "\n",
    "run_rabi(qmeas)\n",
    "\n",
    "\n",
    "#qmeas\n"
   ]
  },
  {
   "cell_type": "code",
   "execution_count": 35,
   "metadata": {},
   "outputs": [
    {
     "data": {
      "text/plain": [
       "\"OrderedDict([('name', 'rabi'), ('experiment', 'rabi'), ('rabi_period', 7.29e-08), ('tau_step', 3.6449999999999997e-09), ('tau_start', 0.0), ('alternating', False), ('leave_out_tau_idx', ''), ('microwave_frequency', 2736100000.0), ('num_of_points', 75), ('microwave_amplitude', 0.125), ('measurement_time', None), ('optimize_time', None), ('freq_optimize_time', None), ('fit_experiment', 'sine'), ('gated', False), ('sequence_mode', False), ('ctr_single_sweeps', False), ('ctr_n_sweeps', 0), ('ctr_n_cycles', 0), ('analysis_interval', None), ('sampling_freq', 8000000000.0), ('bin_width', 4e-09), ('wait_time', 1e-06), ('laser_delay', 2e-07), ('laser_safety', 2e-07), ('sync_channel', 'd_ch1'), ('gate_channel', ''), ('laser_channel', 'd_ch2'), ('laser_length', 3e-06), ('wait_length', 1e-06), ('trigger_length', 2e-08), ('delay_length', 1.7e-07), ('channel_amp', 1.0), ('microwave_channel', 'a_ch1'), ('optimize_channel', '/Dev1/PFI0'), ('readout_end', 3e-07), ('max_tau', 0.001), ('max_tau_start', 0.001), ('max_rabi_period', 0.001), ('min_microwave_frequency', 1), ('max_microwave_amplitude', 0.25), ('params', {'alternating': False, 'laser_ignore_list': [], 'controlled_variable': array([0.00000e+00, 3.64500e-09, 7.29000e-09, 1.09350e-08, 1.45800e-08,\\n       1.82250e-08, 2.18700e-08, 2.55150e-08, 2.91600e-08, 3.28050e-08,\\n       3.64500e-08, 4.00950e-08, 4.37400e-08, 4.73850e-08, 5.10300e-08,\\n       5.46750e-08, 5.83200e-08, 6.19650e-08, 6.56100e-08, 6.92550e-08,\\n       7.29000e-08, 7.65450e-08, 8.01900e-08, 8.38350e-08, 8.74800e-08,\\n       9.11250e-08, 9.47700e-08, 9.84150e-08, 1.02060e-07, 1.05705e-07,\\n       1.09350e-07, 1.12995e-07, 1.16640e-07, 1.20285e-07, 1.23930e-07,\\n       1.27575e-07, 1.31220e-07, 1.34865e-07, 1.38510e-07, 1.42155e-07,\\n       1.45800e-07, 1.49445e-07, 1.53090e-07, 1.56735e-07, 1.60380e-07,\\n       1.64025e-07, 1.67670e-07, 1.71315e-07, 1.74960e-07, 1.78605e-07,\\n       1.82250e-07, 1.85895e-07, 1.89540e-07, 1.93185e-07, 1.96830e-07,\\n       2.00475e-07, 2.04120e-07, 2.07765e-07, 2.11410e-07, 2.15055e-07,\\n       2.18700e-07, 2.22345e-07, 2.25990e-07, 2.29635e-07, 2.33280e-07,\\n       2.36925e-07, 2.40570e-07, 2.44215e-07, 2.47860e-07, 2.51505e-07,\\n       2.55150e-07, 2.58795e-07, 2.62440e-07, 2.66085e-07, 2.69730e-07]), 'units': ('s', ''), 'labels': ('Tau<sub>pulse spacing</sub>', 'Signal'), 'number_of_lasers': 75, 'counting_length': 0.00032516487499999994})])\""
      ]
     },
     "execution_count": 35,
     "metadata": {},
     "output_type": "execute_result"
    }
   ],
   "source": [
    "str(qmeas)"
   ]
  },
  {
   "cell_type": "markdown",
   "metadata": {},
   "source": [
    "### on 2x NVs"
   ]
  },
  {
   "cell_type": "code",
   "execution_count": 126,
   "metadata": {},
   "outputs": [
    {
     "name": "stderr",
     "output_type": "stream",
     "text": [
      "Traceback (most recent call last):\n",
      "  File \"C:\\Users\\Setup3-PC\\Desktop\\qudi\\logic\\jupyterkernel\\qzmqkernel.py\", line 679, in run_code\n",
      "    exec(code_obj, self.user_global_ns, self.user_ns)\n",
      "  File \"<ipython-input-126-18a0d1d5d320>\", line 12, in <module>\n",
      "    qmeas = setup_rabi_params(tau_step=common.rabi_period_2[0]/20, n_tau=75, alternating=False)\n",
      "  File \"<ipython-input-123-f955e108bb2f>\", line 60, in rabi_period_2\n",
      "    return self.t_rabi_2_rect\n",
      "AttributeError: 'Common' object has no attribute 't_rabi_2_rect'\n"
     ]
    }
   ],
   "source": [
    "uglobals.abort.clear()\n",
    "\n",
    "qmeas = setup_rabi_params(tau_step=common.rabi_period/20, n_tau=75, alternating=False) \n",
    "qmeas['name'] = \"rabi_A\"\n",
    "if common.rabi_shaped['shaped_on']:\n",
    "    qmeas['name'] += \"_shaped\" \n",
    "qmeas['measurement_time'] = 2.5*60\n",
    "\n",
    "run_generic(qmeas)\n",
    "\n",
    "# on nv2\n",
    "qmeas = setup_rabi_params(tau_step=common.rabi_period_2[0]/20, n_tau=75, alternating=False) \n",
    "qmeas['microwave_frequency'] = common.mw_freq_2[0]\n",
    "qmeas['microwave_amplitude'] = common.mw_amps_2[0]\n",
    "qmeas['name'] = \"rabi_B\"\n",
    "if common.rabi_shaped['shaped_on']:\n",
    "    qmeas['name'] += \"_shaped\" \n",
    "qmeas['measurement_time'] = 2.5*60\n",
    "\n",
    "#run_generic(qmeas)"
   ]
  },
  {
   "cell_type": "code",
   "execution_count": 119,
   "metadata": {},
   "outputs": [],
   "source": [
    "common.rabi_period_2[0]/20"
   ]
  },
  {
   "cell_type": "markdown",
   "metadata": {},
   "source": [
    "### drive on mutliple transitions"
   ]
  },
  {
   "cell_type": "code",
   "execution_count": 309,
   "metadata": {},
   "outputs": [],
   "source": [
    "# drive all HFS lines\n",
    "common.mw_freq = 2735.99e6\n",
    "common.mw_amp = 0.25/2.2\n",
    "\n",
    "ampl_mw2 = 0.25/1.8#[common.mw_amp]\n",
    "\n",
    "f_mw1_add = [2725.11e6, 2729.41e6]\n",
    "f_mw1 = sorted([common.mw_freq] + f_mw1_add)\n",
    "f_mw2 = [2946.45e6, 2948.6e6, 2950.75e6]\n",
    "\n",
    "# drive in left, right middle between 3 HFS lines\n",
    "f_mw2 = [np.mean(f_mw2[0:2]), np.mean(f_mw2[1:])]\n",
    "f_mw1 = [np.mean(f_mw1[0:2]), np.mean(f_mw1[1:])]\n",
    "\n"
   ]
  },
  {
   "cell_type": "code",
   "execution_count": 383,
   "metadata": {},
   "outputs": [
    {
     "data": {
      "text/plain": [
       "0.25240384615384615"
      ]
     },
     "execution_count": 383,
     "metadata": {},
     "output_type": "execute_result"
    }
   ],
   "source": [
    "common.mw_freq = 2735.99e6\n",
    "common.mw_amp = 0.25/(2*1.3)\n",
    "\n",
    "mw_freq_nv2 = 2820.47e6\n",
    "mw_amp_nv2 = 0.25/1.6\n",
    "t_rabi_nv2 = 162.1e-9#common.rabi_period\n",
    "\n",
    "ampl_mw2 = mw_amp_nv2#[common.mw_amp]\n",
    "f_mw2 = [mw_freq_nv2]\n",
    "f_mw1 = [common.mw_freq]\n",
    "\n",
    "mw_amp_nv2 + common.mw_amp"
   ]
  },
  {
   "cell_type": "code",
   "execution_count": 385,
   "metadata": {},
   "outputs": [],
   "source": [
    "# for calibration, drive transition 1,2 alternating\n",
    "qmeas = setup_rabi_params(tau_step=1.5*0.5*common.rabi_period/20, n_tau=75,\n",
    "                          f_mw2=f_mw2, f_mw1=f_mw1, ampl_mw2=ampl_mw2,\n",
    "                          alternating=True)\n",
    "\n",
    "# do DQT\n",
    "#qmeas = setup_rabi_params(tau_step=3*common.rabi_period/20, n_tau=75,\n",
    "#                          f_mw2=f_mw2, ampl_mw2=ampl_mw2,\n",
    "#                          alternating=False)\n",
    "\n",
    "uglobals.abort.clear()\n",
    "run_rabi(qmeas)\n",
    "#qmeas"
   ]
  },
  {
   "cell_type": "code",
   "execution_count": 335,
   "metadata": {},
   "outputs": [
    {
     "data": {
      "text/plain": [
       "[2727260000.0]"
      ]
     },
     "execution_count": 335,
     "metadata": {},
     "output_type": "execute_result"
    }
   ],
   "source": [
    "f_mw1"
   ]
  },
  {
   "cell_type": "code",
   "execution_count": 35,
   "metadata": {},
   "outputs": [],
   "source": [
    "\n",
    "uglobals.abort.clear()\n",
    "pscales = np.linspace(1, 0.05, 75)#[::-1]\n",
    "\n",
    "\n",
    "common.mw_freq = 2727.26e6\n",
    "common.mw_amp = 0.25/1.8\n",
    "\n",
    "f_mw1_add = [2725.11e6, 2729.41e6]\n",
    "f_mw2 = [2946.45e6, 2948.6e6, 2950.75e6]\n",
    "ampl_mw2 = 0.25#[common.mw_amp]\n",
    "\n",
    "p_start_1 = common.mw_amp\n",
    "p_start_2 = ampl_mw2\n",
    "\n",
    "\n",
    "for i, p in enumerate(pscales):\n",
    "    if uglobals.abort.is_set():\n",
    "        break\n",
    "    try:\n",
    "        p_phys_1 = p_start_1*p\n",
    "        common.mw_amp = p_phys_1\n",
    "        p_phys_2 = p_start_2*p\n",
    "        \n",
    "        #qmeas = setup_rabi_params(tau_step=2*common.rabi_period/20, n_tau=75,\n",
    "        #                  f_mw2=f_mw2, ampl_mw2=p_phys_2,\n",
    "        #                  alternating=False)\n",
    "        \n",
    "        qmeas = setup_rabi_params(tau_step=2*common.rabi_period/20, n_tau=200,\n",
    "                           f_mw2=f_mw2, ampl_mw2=p_phys_2, f_mw1_add=f_mw1_add,\n",
    "                           alternating=True)\n",
    "        \n",
    "        #qmeas = setup_rabi_params(tau_step=250e-9, p_scale=10)\n",
    "        qmeas['measurement_time'] = 300\n",
    "        qmeas['fit_experiment'] = \"sine_2x\"\n",
    "        savetag = f\"rabi_multi_idx={i}_ampl1={1e3*p_phys_1:.2f}mV_ampl2={1e3*p_phys_2:.2f}mV\"\n",
    "        run_generic(qmeas, save_tag=savetag)\n",
    "        \n",
    "    except Exception as e:\n",
    "        stack_trace = traceback.format_exc()\n",
    "        logger.warning(\"auto run {} failed: {}.\\n{}\".format(i, str(e), stack_trace))\n",
    "\n",
    "logger.info(\"Autopilot has landed.\")\n",
    "            "
   ]
  },
  {
   "cell_type": "code",
   "execution_count": null,
   "metadata": {},
   "outputs": [],
   "source": [
    "\n",
    "uglobals.abort.clear()\n",
    "dfs = np.linspace(-5e6, 5e6, 20)#[::-1]\n",
    "p_start = common.mw_amp\n",
    "\n",
    "for i, df in enumerate(dfs):\n",
    "    if uglobals.abort.is_set():\n",
    "        break\n",
    "    try:\n",
    "        f2 = f_mw2[0] + df\n",
    "        qmeas = setup_rabi_params(tau_step=2*common.rabi_period/20, n_tau=75,\n",
    "                          f_mw2=[f2], ampl_mw2=ampl_mw2,\n",
    "                          alternating=False)\n",
    "        del(qmeas['alternating_mode'])\n",
    "        #qmeas = setup_rabi_params(tau_step=250e-9, p_scale=10)\n",
    "        qmeas['measurement_time'] = 60\n",
    "        qmeas['fit_experiment'] = \"sine_2x\"\n",
    "        savetag = f\"rabi_multi_idx={i}_df2={1e-3*df:.2f}MHz\"\n",
    "        run_generic(qmeas, save_tag=savetag)\n",
    "        \n",
    "    except Exception as e:\n",
    "        stack_trace = traceback.format_exc()\n",
    "        logger.warning(\"auto run {} failed: {}.\\n{}\".format(i, str(e), stack_trace))\n",
    "\n",
    "logger.info(\"Autopilot has landed.\")\n",
    "            "
   ]
  },
  {
   "cell_type": "markdown",
   "metadata": {
    "scrolled": false
   },
   "source": [
    "### power series"
   ]
  },
  {
   "cell_type": "code",
   "execution_count": 263,
   "metadata": {},
   "outputs": [],
   "source": [
    "uglobals.abort.clear()\n",
    "pscales = np.linspace(1, 0.05, 8)[::-1]\n",
    "p_start = common.mw_amp\n",
    "\n",
    "for i, p in enumerate(pscales):\n",
    "    if uglobals.abort.is_set():\n",
    "        break\n",
    "    try:\n",
    "        p_phys = p_start*p\n",
    "        qmeas = setup_rabi_params(tau_step=common.rabi_period/20*common.mw_amp/p_phys,\n",
    "                                  n_tau=75, p_scale=common.mw_amp/p_phys)   # 10e-9\n",
    "        #qmeas = setup_rabi_params(tau_step=250e-9, p_scale=10)\n",
    "        qmeas['measurement_time'] = 15\n",
    "        savetag = f\"rabi_idx={i}_ampl={1e3*p_phys:.2f}mV\"\n",
    "        run_generic(qmeas, save_tag=savetag)\n",
    "    except Exception as e:\n",
    "        stack_trace = traceback.format_exc()\n",
    "        logger.warning(\"auto run {} failed: {}.\\n{}\".format(i, str(e), stack_trace))\n",
    "\n",
    "logger.info(\"Autopilot has landed.\")\n",
    "            "
   ]
  },
  {
   "cell_type": "code",
   "execution_count": 47,
   "metadata": {},
   "outputs": [
    {
     "data": {
      "text/plain": [
       "OrderedDict([('name', 'rabi_shaped'), ('experiment', 'rabi_shaped'), ('rabi_period', 7.42e-08), ('tau_step', 3.7100000000000002e-09), ('tau_start', 0.0), ('alternating', False), ('leave_out_tau_idx', ''), ('num_of_points', 75), ('microwave_frequency', 2766530000.0), ('microwave_amplitude', 0.15), ('measurement_time', None), ('optimize_time', None), ('freq_optimize_time', None), ('fit_experiment', 'sine'), ('env_type', <EnvelopeMethods.parabola: 'SinEnvelopeParabolaN'>), ('order_P', 1)])"
      ]
     },
     "execution_count": 47,
     "metadata": {},
     "output_type": "execute_result"
    }
   ],
   "source": [
    "add_shaped(qmeas)"
   ]
  },
  {
   "cell_type": "markdown",
   "metadata": {},
   "source": [
    "## Nuclear (15-N)"
   ]
  },
  {
   "cell_type": "markdown",
   "metadata": {},
   "source": [
    "### nuclear pODMR"
   ]
  },
  {
   "cell_type": "code",
   "execution_count": 233,
   "metadata": {},
   "outputs": [],
   "source": [
    "t_nuc_rabi = 15.8e-6\n",
    "rf_ampl = 40e-3\n",
    "\n",
    "qmeas = setup_nuc_podmr_params(f_start=2.6e6,  f_step=10e3, n_f=50, t_nuc_rabi=t_nuc_rabi, rf_ampl=rf_ampl)\n",
    "\n",
    "uglobals.abort.clear()\n",
    "run_generic(qmeas)"
   ]
  },
  {
   "cell_type": "code",
   "execution_count": 161,
   "metadata": {},
   "outputs": [
    {
     "data": {
      "text/plain": [
       "OrderedDict([('name', 'nuc_pulsedodmr'), ('experiment', 'nuc_pulsedodmr'), ('microwave_frequency', 1490708000.0), ('rabi_period', 3.762e-08), ('freq_start', 2700000.0), ('freq_step', 5000.0), ('num_of_points', 50), ('rf_chnl', 'a_ch2'), ('rf_ampl', 0.05), ('t_nuc_rabi', 5e-05), ('nv_pi_init', True), ('alternating_no_rf', True), ('measurement_time', 1500), ('optimize_time', None), ('fit_experiment', 'lor_dip'), ('savetag', 'nuc_pulsedodmr'), ('gated', False), ('sequence_mode', False), ('ctr_single_sweeps', False), ('ctr_n_sweeps', 0), ('ctr_n_cycles', 0), ('freq_optimize_time', None), ('analysis_interval', None)])"
      ]
     },
     "execution_count": 161,
     "metadata": {},
     "output_type": "execute_result"
    }
   ],
   "source": [
    "qmeas"
   ]
  },
  {
   "cell_type": "markdown",
   "metadata": {},
   "source": [
    "### nuclear Rabi"
   ]
  },
  {
   "cell_type": "code",
   "execution_count": 236,
   "metadata": {},
   "outputs": [],
   "source": [
    "f_nuc_rabi = 2814e3\n",
    "\n",
    "qmeas = setup_nuc_rabi_params(tau_step=1e-6, rf_freq=2.81e6, rf_ampl=rf_ampl, n_tau=50)\n",
    "savetag = f\"nucRabi_{round(qmeas['rf_ampl']*1000)}mV\"\n",
    "\n",
    "uglobals.abort.clear()\n"
   ]
  },
  {
   "cell_type": "code",
   "execution_count": 107,
   "metadata": {},
   "outputs": [
    {
     "data": {
      "text/plain": [
       "'nucRabi_40mV'"
      ]
     },
     "execution_count": 107,
     "metadata": {},
     "output_type": "execute_result"
    }
   ],
   "source": [
    "#run_generic(qmeas, save_tag=savetag)"
   ]
  },
  {
   "cell_type": "markdown",
   "metadata": {},
   "source": [
    "### power series"
   ]
  },
  {
   "cell_type": "code",
   "execution_count": 239,
   "metadata": {},
   "outputs": [],
   "source": [
    "uglobals.abort.clear()\n",
    "pscales = np.linspace(1, 0.1, 8)[::]\n",
    "p_start = 60e-3 #common.mw_amp\n",
    "\n",
    "for i, p in enumerate(pscales):\n",
    "    if uglobals.abort.is_set():\n",
    "        break\n",
    "    try:\n",
    "        p_phys = p_start*p\n",
    "        qmeas = setup_nuc_rabi_params(tau_step=t_nuc_rabi/20*rf_ampl/p_phys,\n",
    "                                     rf_freq=f_nuc_rabi, rf_ampl=p_phys, n_tau=50)   # 10e-9\n",
    "        #qmeas = setup_rabi_params(tau_step=250e-9, p_scale=10)\n",
    "        qmeas['measurement_time'] = 40\n",
    "        savetag = f\"nucRabi_idx={i}_ampl={1e3*p_phys:.2f}mV\"\n",
    "        run_generic(qmeas, save_tag=savetag)\n",
    "    except Exception as e:\n",
    "        stack_trace = traceback.format_exc()\n",
    "        logger.warning(\"auto run {} failed: {}.\\n{}\".format(i, str(e), stack_trace))\n",
    "\n",
    "logger.info(\"Autopilot has landed.\")\n",
    "            "
   ]
  },
  {
   "cell_type": "markdown",
   "metadata": {},
   "source": [
    "## Ramsey\n"
   ]
  },
  {
   "cell_type": "code",
   "execution_count": 108,
   "metadata": {},
   "outputs": [],
   "source": [
    "tau_start = 0.05e-6\n",
    "n_sweeps = 0#1e3\n",
    "\n",
    "uglobals.abort.clear()\n",
    "qmeas = setup_ramsey_params(tau_start, n_tau=125, tau_step=25e-9, alternating=True)\n",
    "#qmeas = setup_ramsey_params(tau_start, n_tau=70, tau_step=25e-9, alternating=True, read_phases='-90, +90', red_readout=False)\n",
    "#qmeas = setup_ramsey_params(tau_start, n_tau=50, tau_step=50e-9, alternating=True, read_phases='-90, +90', red_readout=False)\n",
    "\n",
    "#qmeas = setup_ramsey_params(tau_start, n_tau=50, tau_step=20e-9, alternating=True, read_phases='0, 180', red_readout=False)\n",
    "\n",
    "#qmeas = setup_ramsey_params(tau_start, n_tau=100, tau_step=100e-9)     \n",
    "#qmeas = setup_ramsey_params(tau_start, n_tau=120, tau_step=20e-9, alternating=True)\n",
    "#qmeas = setup_ramsey_params(tau_start, n_tau=200, tau_step=250e-9)      # 75ns: res like mfl\n",
    "#qmeas = setup_ramsey_params(tau_start, n_tau=400, tau_step=50e-9)     # high res    \n",
    "#qmeas = setup_ramsey_params(tau_start, n_tau=400, tau_step=100e-9)     # high res  \n",
    "\n",
    "# debug\n",
    "#qmeas = setup_ramsey_params(300e-9, n_tau=1, tau_step=20e-9, alternating=True, read_phases='-90, +90', red_readout=False)\n",
    "\n",
    "\n",
    "x, z = run_ramsey(qmeas, n_sweeps_stop=n_sweeps)\n",
    "z_binary = 0 #majority_vote(z[0], z_thres=common.mfl_z_thres)\n",
    "\n",
    "logger.info(\"Ramsey with offset {} MHz, {} sweeps: {} -> {}\".format(common.mw_ramsey_offset/1e6, n_sweeps, z, z_binary))\n"
   ]
  },
  {
   "cell_type": "markdown",
   "metadata": {},
   "source": [
    "### Ramsey for (AC Stark) crosstalk"
   ]
  },
  {
   "cell_type": "code",
   "execution_count": 991,
   "metadata": {},
   "outputs": [
    {
     "data": {
      "text/plain": [
       "OrderedDict([('name', 'Ramsey'), ('experiment', 'ramsey_s3p'), ('rabi_period', 1.207e-07), ('microwave_frequency', 2740000000.0), ('microwave_amplitude', 0.075), ('tau_start', 5e-08), ('tau_step', 1.5e-08), ('num_of_points', 100), ('alternating', True), ('from_list', False), ('optimize_time', None), ('fit_experiment', 'sine_decay'), ('read_phases_degree', '0, 180'), ('measurement_time', 900), ('savetag', 'Ramsey'), ('gated', False), ('sequence_mode', False), ('ctr_single_sweeps', False), ('ctr_n_sweeps', 0), ('ctr_n_cycles', 0), ('freq_optimize_time', None), ('analysis_interval', None), ('sampling_freq', 12000000000.0), ('bin_width', 4e-09), ('wait_time', 1e-06), ('laser_delay', 2e-07), ('laser_safety', 2e-07), ('sync_channel', 'd_ch1'), ('gate_channel', ''), ('laser_channel', 'd_ch2'), ('laser_length', 3e-06), ('wait_length', 1e-06), ('trigger_length', 2e-08), ('delay_length', 1.7e-07), ('channel_amp', 1.0), ('microwave_channel', 'a_ch1'), ('optimize_channel', '/Dev1/PFI0'), ('readout_end', 3e-07), ('max_tau', 0.001), ('max_tau_start', 0.001), ('max_rabi_period', 0.001), ('min_microwave_frequency', 1), ('max_microwave_amplitude', 0.25), ('params', {'alternating': True, 'laser_ignore_list': [], 'controlled_variable': array([5.000e-08, 6.500e-08, 8.000e-08, 9.500e-08, 1.100e-07, 1.250e-07,\n",
       "       1.400e-07, 1.550e-07, 1.700e-07, 1.850e-07, 2.000e-07, 2.150e-07,\n",
       "       2.300e-07, 2.450e-07, 2.600e-07, 2.750e-07, 2.900e-07, 3.050e-07,\n",
       "       3.200e-07, 3.350e-07, 3.500e-07, 3.650e-07, 3.800e-07, 3.950e-07,\n",
       "       4.100e-07, 4.250e-07, 4.400e-07, 4.550e-07, 4.700e-07, 4.850e-07,\n",
       "       5.000e-07, 5.150e-07, 5.300e-07, 5.450e-07, 5.600e-07, 5.750e-07,\n",
       "       5.900e-07, 6.050e-07, 6.200e-07, 6.350e-07, 6.500e-07, 6.650e-07,\n",
       "       6.800e-07, 6.950e-07, 7.100e-07, 7.250e-07, 7.400e-07, 7.550e-07,\n",
       "       7.700e-07, 7.850e-07, 8.000e-07, 8.150e-07, 8.300e-07, 8.450e-07,\n",
       "       8.600e-07, 8.750e-07, 8.900e-07, 9.050e-07, 9.200e-07, 9.350e-07,\n",
       "       9.500e-07, 9.650e-07, 9.800e-07, 9.950e-07, 1.010e-06, 1.025e-06,\n",
       "       1.040e-06, 1.055e-06, 1.070e-06, 1.085e-06, 1.100e-06, 1.115e-06,\n",
       "       1.130e-06, 1.145e-06, 1.160e-06, 1.175e-06, 1.190e-06, 1.205e-06,\n",
       "       1.220e-06, 1.235e-06, 1.250e-06, 1.265e-06, 1.280e-06, 1.295e-06,\n",
       "       1.310e-06, 1.325e-06, 1.340e-06, 1.355e-06, 1.370e-06, 1.385e-06,\n",
       "       1.400e-06, 1.415e-06, 1.430e-06, 1.445e-06, 1.460e-06, 1.475e-06,\n",
       "       1.490e-06, 1.505e-06, 1.520e-06, 1.535e-06]), 'units': ('s', ''), 'labels': ('Tau', 'Signal'), 'number_of_lasers': 200, 'counting_length': 0.00101062})])"
      ]
     },
     "execution_count": 991,
     "metadata": {},
     "output_type": "execute_result"
    }
   ],
   "source": [
    "tau_start = 0.05e-6\n",
    "\n",
    "f_mw_2 = common.mw_freq_2[0] - 20e6  # can't use NV2, as we're also reading it!\n",
    "ampls_2 = np.linspace(0, common.mw_amps_2[0], 8)[::-1]\n",
    "t_rabi_2 = common.rabi_period_2[0]\n",
    "\n",
    "\n",
    "uglobals.abort.clear()\n",
    "try:\n",
    "    for ampl_2 in ampls_2:\n",
    "                \n",
    "        qmeas = setup_ramsey_params(tau_start, n_tau=int(0.75*100), tau_step=1/0.75*15e-9, alternating=True)\n",
    "        qmeas['experiment'] = 'ramsey_crosstalk'\n",
    "        qmeas['savetag'] = f'ramsey_crosstalk_ampl2={1e3*ampl_2:.1f}mV'\n",
    "        qmeas['measurement_time'] = 10*60\n",
    "\n",
    "\n",
    "        qmeas['f_mw_2'] = list_2_csv(f_mw_2)\n",
    "        qmeas['ampl_mw_2'] = list_2_csv(ampl_2)\n",
    "\n",
    "        run_generic(qmeas)\n",
    "\n",
    "    # reference Ramsey\n",
    "    qmeas = setup_ramsey_params(tau_start, n_tau=100, tau_step=15e-9, alternating=True)\n",
    "    qmeas['measurement_time'] = 15*60\n",
    "    run_generic(qmeas)\n",
    "except:\n",
    "    logger.exception(\"\")\n",
    "qmeas"
   ]
  },
  {
   "cell_type": "markdown",
   "metadata": {},
   "source": [
    "### Compensation of AC Stark"
   ]
  },
  {
   "cell_type": "code",
   "execution_count": 1669,
   "metadata": {},
   "outputs": [
    {
     "data": {
      "text/plain": [
       "OrderedDict([('name', 'Ramsey'), ('experiment', 'ramsey_crosstalk'), ('rabi_period', 1.162e-07), ('microwave_frequency', 2740500000.0), ('microwave_amplitude', 0.075), ('tau_start', 5e-08), ('tau_step', 1.9999999999999997e-08), ('num_of_points', 80), ('alternating', True), ('from_list', False), ('optimize_time', None), ('fit_experiment', 'sine_decay'), ('read_phases_degree', '0, 180'), ('measurement_time', 60000), ('f_mw_2', '2834900000.0, 2810300000.0, 2711900000.0'), ('ampl_mw_2', '0, 0.175, 0.04525483399593905'), ('rabi_period_mw_2', '1.162e-07, 0.175, 0.175'), ('savetag', 'ramsey_crosstalk_ampl2=175.0mV_amplComp=45.3mV'), ('gated', False), ('sequence_mode', False), ('ctr_single_sweeps', False), ('ctr_n_sweeps', 0), ('ctr_n_cycles', 0), ('freq_optimize_time', None), ('analysis_interval', None), ('sampling_freq', 12000000000.0), ('bin_width', 4e-09), ('wait_time', 1e-06), ('laser_delay', 2e-07), ('laser_safety', 2e-07), ('sync_channel', 'd_ch1'), ('gate_channel', ''), ('laser_channel', 'd_ch2'), ('laser_length', 3e-06), ('wait_length', 1e-06), ('trigger_length', 2e-08), ('delay_length', 1.7e-07), ('channel_amp', 1.0), ('microwave_channel', 'a_ch1'), ('optimize_channel', '/Dev1/PFI0'), ('readout_end', 3e-07), ('max_tau', 0.001), ('max_tau_start', 0.001), ('max_rabi_period', 0.001), ('min_microwave_frequency', 1), ('max_microwave_amplitude', 0.25), ('params', {'alternating': True, 'laser_ignore_list': [], 'controlled_variable': array([5.00e-08, 7.00e-08, 9.00e-08, 1.10e-07, 1.30e-07, 1.50e-07,\n",
       "       1.70e-07, 1.90e-07, 2.10e-07, 2.30e-07, 2.50e-07, 2.70e-07,\n",
       "       2.90e-07, 3.10e-07, 3.30e-07, 3.50e-07, 3.70e-07, 3.90e-07,\n",
       "       4.10e-07, 4.30e-07, 4.50e-07, 4.70e-07, 4.90e-07, 5.10e-07,\n",
       "       5.30e-07, 5.50e-07, 5.70e-07, 5.90e-07, 6.10e-07, 6.30e-07,\n",
       "       6.50e-07, 6.70e-07, 6.90e-07, 7.10e-07, 7.30e-07, 7.50e-07,\n",
       "       7.70e-07, 7.90e-07, 8.10e-07, 8.30e-07, 8.50e-07, 8.70e-07,\n",
       "       8.90e-07, 9.10e-07, 9.30e-07, 9.50e-07, 9.70e-07, 9.90e-07,\n",
       "       1.01e-06, 1.03e-06, 1.05e-06, 1.07e-06, 1.09e-06, 1.11e-06,\n",
       "       1.13e-06, 1.15e-06, 1.17e-06, 1.19e-06, 1.21e-06, 1.23e-06,\n",
       "       1.25e-06, 1.27e-06, 1.29e-06, 1.31e-06, 1.33e-06, 1.35e-06,\n",
       "       1.37e-06, 1.39e-06, 1.41e-06, 1.43e-06, 1.45e-06, 1.47e-06,\n",
       "       1.49e-06, 1.51e-06, 1.53e-06, 1.55e-06, 1.57e-06, 1.59e-06,\n",
       "       1.61e-06, 1.63e-06]), 'units': ('s', ''), 'labels': ('Tau', 'Signal'), 'number_of_lasers': 160, 'counting_length': 0.0008157460000000001})])"
      ]
     },
     "execution_count": 1669,
     "metadata": {},
     "output_type": "execute_result"
    }
   ],
   "source": [
    "def add_ac_stark_compensation(qmeas, f_mw_2=None, ampl_comp=[0,0], df_offset=[0e6,0e6], fac_comp=5):\n",
    "    \"\"\"\n",
    "    @param list ampl_comp: amplitude for [0] compensation of effect of f2 on f1. [1] f1 on f2.\n",
    "    @param float df_offset: linearly add offset to compensation, eg. to balance calibration taken at different f2\n",
    "    \"\"\"\n",
    "    if not 'f_mw_2' in qmeas.keys() or not 'ampl_mw_2' in qmeas.keys():\n",
    "        raise ValueError(\"Supplied mes dict doesn't support multi frequency pulses.\")\n",
    "\n",
    "    f_mw_1 = common.mw_freq\n",
    "    if f_mw_2 == None:\n",
    "        f_mw_2 = csv_2_list(qmeas['f_mw_2']) \n",
    "    if len(f_mw_2) > 1:\n",
    "        raise NotImplementedError(\"Jupyter notebook atm only supports 1 frequency per NV\")\n",
    "    f_mw_2 = f_mw_2[0] \n",
    "    \n",
    "    delta_stark_symm_2on1 = f_mw_2 - f_mw_1 \n",
    "    delta_stark_2on1 = delta_stark_symm_2on1/fac_comp\n",
    "    f_compensation_2on1 = f_mw_1 - delta_stark_2on1 + df_offset[0]\n",
    "    \n",
    "    delta_stark_symm_1on2 = f_mw_1 - f_mw_2 \n",
    "    delta_stark_1on2 = delta_stark_symm_1on2/fac_comp\n",
    "    f_compensation_1on2 = f_mw_2 - delta_stark_1on2 + df_offset[1]\n",
    "    \n",
    "    # order of fs is important to match t_rabi in pulse generation\n",
    "    # pi_on_1 requires in parallel f_comp_1on2\n",
    "    qmeas['f_mw_2'] = list_2_csv([f_compensation_1on2, f_mw_2, f_compensation_2on1])\n",
    "    ampl_2 = csv_2_list(qmeas['ampl_mw_2'])[0]\n",
    "    t_rabi_2 = csv_2_list(qmeas['rabi_period_mw_2'])[0]\n",
    "    \n",
    "    qmeas['ampl_mw_2'] = list_2_csv([ampl_comp[1], ampl_2, ampl_comp[0]])\n",
    "    # same length for compensation pulse and actually intended pulse\n",
    "    qmeas['rabi_period_mw_2'] = list_2_csv([common.rabi_period, t_rabi_2, t_rabi_2])\n",
    "    \n",
    "    return qmeas\n",
    "\n",
    "tau_start = 0.05e-6\n",
    "\n",
    "common = common.swap_nvs([1,2])\n",
    "\n",
    "df_calib_offet = -15e6\n",
    "f_mw_2 = common.mw_freq_2[0] + df_calib_offet\n",
    "ampl_2 = common.mw_amps_2[0]\n",
    "\n",
    "ampl_acstark_comp = np.sqrt(2)*0.032\n",
    "fac_comp = 3\n",
    "\n",
    "uglobals.abort.clear()\n",
    "try:\n",
    "    qmeas = setup_ramsey_params(tau_start, n_tau=int(80), tau_step=1/0.75*15e-9, alternating=True)\n",
    "    qmeas['experiment'] = 'ramsey_crosstalk'\n",
    "   \n",
    "    qmeas['measurement_time'] = 1000*60\n",
    "    # create AC Stark bias field (at some offset from NV2 resonance)\n",
    "    qmeas['f_mw_2'] = list_2_csv([f_mw_2])\n",
    "    qmeas['ampl_mw_2'] = list_2_csv([ampl_2])\n",
    "    qmeas['rabi_period_mw_2'] = list_2_csv([ampl_2])\n",
    " \n",
    "    qmeas = add_ac_stark_compensation(qmeas, ampl_comp=[ampl_acstark_comp,0], \n",
    "                                  fac_comp=fac_comp, df_offset=[0,0])\n",
    "    qmeas['savetag'] = f'ramsey_crosstalk_ampl2={1e3*ampl_2:.1f}mV_amplComp={1e3*ampl_acstark_comp:.1f}mV'\n",
    "\n",
    "    run_generic(qmeas)\n",
    "\n",
    "except:\n",
    "    logger.exception(\"\")\n",
    "qmeas"
   ]
  },
  {
   "cell_type": "code",
   "execution_count": 1585,
   "metadata": {},
   "outputs": [
    {
     "data": {
      "text/plain": [
       "-29.52"
      ]
     },
     "execution_count": 1585,
     "metadata": {},
     "output_type": "execute_result"
    }
   ],
   "source": [
    "# compensation from resonance\n",
    "(csv_2_list(qmeas['f_mw_2'])[2] - common.mw_freq)/1e6"
   ]
  },
  {
   "cell_type": "code",
   "execution_count": null,
   "metadata": {},
   "outputs": [],
   "source": [
    "# power series (of compensation)"
   ]
  },
  {
   "cell_type": "code",
   "execution_count": 1928,
   "metadata": {},
   "outputs": [
    {
     "data": {
      "text/plain": [
       "array([0.068 , 0.0724, 0.0768, 0.0812, 0.0856, 0.09  ])"
      ]
     },
     "execution_count": 1928,
     "metadata": {},
     "output_type": "execute_result"
    }
   ],
   "source": [
    "(np.concatenate([np.linspace(4/5*ampl_comp_max, ampl_comp_max, 6)])-5*0.004)"
   ]
  },
  {
   "cell_type": "code",
   "execution_count": 1935,
   "metadata": {},
   "outputs": [
    {
     "data": {
      "text/plain": [
       "OrderedDict([('name', 'Ramsey'), ('experiment', 'ramsey_crosstalk'), ('rabi_period', 1.11e-07), ('microwave_frequency', 2829300000.0), ('microwave_amplitude', 0.175), ('tau_start', 5e-08), ('tau_step', 1.9999999999999997e-08), ('num_of_points', 100), ('alternating', True), ('from_list', False), ('optimize_time', None), ('fit_experiment', 'sine_decay'), ('read_phases_degree', '0, 180'), ('savetag', 'ramsey_crosstalk_ampl2=75.0mV_amplComp=66.0mV'), ('measurement_time', 1200), ('f_mw_2', '0, 2721500000.0, 2859900000.0'), ('ampl_mw_2', '0, 0.075, 0.066'), ('gated', False), ('sequence_mode', False), ('ctr_single_sweeps', False), ('ctr_n_sweeps', 0), ('ctr_n_cycles', 0), ('freq_optimize_time', None), ('analysis_interval', None), ('sampling_freq', 12000000000.0), ('bin_width', 4e-09), ('wait_time', 1e-06), ('laser_delay', 2e-07), ('laser_safety', 2e-07), ('sync_channel', 'd_ch1'), ('gate_channel', ''), ('laser_channel', 'd_ch2'), ('laser_length', 3e-06), ('wait_length', 1e-06), ('trigger_length', 2e-08), ('delay_length', 1.7e-07), ('channel_amp', 1.0), ('microwave_channel', 'a_ch1'), ('optimize_channel', '/Dev1/PFI0'), ('readout_end', 3e-07), ('max_tau', 0.001), ('max_tau_start', 0.001), ('max_rabi_period', 0.001), ('min_microwave_frequency', 1), ('max_microwave_amplitude', 0.25), ('params', {'alternating': True, 'laser_ignore_list': [], 'controlled_variable': array([5.00e-08, 7.00e-08, 9.00e-08, 1.10e-07, 1.30e-07, 1.50e-07,\n",
       "       1.70e-07, 1.90e-07, 2.10e-07, 2.30e-07, 2.50e-07, 2.70e-07,\n",
       "       2.90e-07, 3.10e-07, 3.30e-07, 3.50e-07, 3.70e-07, 3.90e-07,\n",
       "       4.10e-07, 4.30e-07, 4.50e-07, 4.70e-07, 4.90e-07, 5.10e-07,\n",
       "       5.30e-07, 5.50e-07, 5.70e-07, 5.90e-07, 6.10e-07, 6.30e-07,\n",
       "       6.50e-07, 6.70e-07, 6.90e-07, 7.10e-07, 7.30e-07, 7.50e-07,\n",
       "       7.70e-07, 7.90e-07, 8.10e-07, 8.30e-07, 8.50e-07, 8.70e-07,\n",
       "       8.90e-07, 9.10e-07, 9.30e-07, 9.50e-07, 9.70e-07, 9.90e-07,\n",
       "       1.01e-06, 1.03e-06, 1.05e-06, 1.07e-06, 1.09e-06, 1.11e-06,\n",
       "       1.13e-06, 1.15e-06, 1.17e-06, 1.19e-06, 1.21e-06, 1.23e-06,\n",
       "       1.25e-06, 1.27e-06, 1.29e-06, 1.31e-06, 1.33e-06, 1.35e-06,\n",
       "       1.37e-06, 1.39e-06, 1.41e-06, 1.43e-06, 1.45e-06, 1.47e-06,\n",
       "       1.49e-06, 1.51e-06, 1.53e-06, 1.55e-06, 1.57e-06, 1.59e-06,\n",
       "       1.61e-06, 1.63e-06, 1.65e-06, 1.67e-06, 1.69e-06, 1.71e-06,\n",
       "       1.73e-06, 1.75e-06, 1.77e-06, 1.79e-06, 1.81e-06, 1.83e-06,\n",
       "       1.85e-06, 1.87e-06, 1.89e-06, 1.91e-06, 1.93e-06, 1.95e-06,\n",
       "       1.97e-06, 1.99e-06, 2.01e-06, 2.03e-06]), 'units': ('s', ''), 'labels': ('Tau', 'Signal'), 'number_of_lasers': 200, 'counting_length': 0.0010591499999999998})])"
      ]
     },
     "execution_count": 1935,
     "metadata": {},
     "output_type": "execute_result"
    }
   ],
   "source": [
    "tau_start = 0.05e-6\n",
    "\n",
    "common = common.swap_nvs([2,1])\n",
    "\n",
    "\n",
    "\n",
    "\n",
    "# place the compensation with low power close to f_mw1 (instead of same power with opposite detuning)\n",
    "# in this way, ac stark on other nv will be lower (due to fraction of delta_starks)\n",
    "fac_comp_stark = 3\n",
    "df_calib_offet = -15e6\n",
    "\n",
    "f_mw_2 = common.mw_freq_2[0] + df_calib_offet\n",
    "ampl_2 = common.mw_amps_2[0]\n",
    "t_rabi_2 = common.rabi_period_2[0]\n",
    "\n",
    "# set up compensation\n",
    "delta_stark_symm = f_mw_2 - common.mw_freq\n",
    "delta_stark = delta_stark_symm/fac_comp_stark\n",
    "f_compensation = common.mw_freq - delta_stark\n",
    "ampl_comp_max = 0.25 - ampl_2\n",
    "ampl_comp_max = 0.11\n",
    "ampls_comp = np.linspace(0, ampl_comp_max, 12)#[::-1]\n",
    "ampls_comp = np.linspace(4/5*ampl_comp_max, ampl_comp_max, 6)#[::-1]\n",
    "ampls_comp = (np.linspace(4/5*ampl_comp_max, ampl_comp_max, 6)-5*0.0044)[::-1]\n",
    "#ampls_comp = np.ravel([ampls_comp[::2], ampls_comp[1::2][::-1]],order='F')\n",
    "# this is the expected point of good compensation\n",
    "ampl_comp_theo = np.sqrt(1/fac_comp_stark)*ampl_2\n",
    "\n",
    "logger.info(f\"AC Stark compensation at delta= {delta_stark/1e6:.1f} MHz, \"\\\n",
    "            f\"ampl_theo={1e3*ampl_comp_theo:.1f} mV, ampl<= {1e3*ampl_comp_max:.1f} mV\")\n",
    "\n",
    "uglobals.abort.clear()\n",
    "try:\n",
    "    for ampl_3 in ampls_comp:  \n",
    "        \n",
    "        qmeas = setup_ramsey_params(tau_start, n_tau=int(100), tau_step=1/0.75*15e-9, alternating=True)\n",
    "        qmeas['experiment'] = 'ramsey_crosstalk'\n",
    "        qmeas['savetag'] = f'ramsey_crosstalk_ampl2={1e3*ampl_2:.1f}mV_amplComp={1e3*ampl_3:.1f}mV'\n",
    "        qmeas['measurement_time'] = 20*60\n",
    "        # create AC Stark bias field (at some offset from NV2 resonance)\n",
    "        qmeas['f_mw_2'] = list_2_csv([f_mw_2])\n",
    "        qmeas['ampl_mw_2'] = list_2_csv([ampl_2])\n",
    "        # turn compensation on\n",
    "        qmeas['f_mw_2'] = list_2_csv([0, f_mw_2, f_compensation])\n",
    "        qmeas['ampl_mw_2'] = list_2_csv([0, ampl_2, ampl_3])\n",
    "\n",
    "        run_generic(qmeas)\n",
    "\n",
    "    # reference Ramsey\n",
    "    #qmeas = setup_ramsey_params(tau_start, n_tau=int(0.75*100), tau_step=1/0.75*15e-9, alternating=True)\n",
    "    #qmeas['measurement_time'] = 15*60\n",
    "    #run_generic(qmeas)\n",
    "except:\n",
    "    logger.exception(\"\")\n",
    "qmeas"
   ]
  },
  {
   "cell_type": "code",
   "execution_count": 1333,
   "metadata": {},
   "outputs": [
    {
     "data": {
      "text/plain": [
       "(-17.183333333333334, 2824400000.0, 2721300000.0)"
      ]
     },
     "execution_count": 1333,
     "metadata": {},
     "output_type": "execute_result"
    }
   ],
   "source": [
    "delta_stark/1e6, common.mw_freq, f_mw_2"
   ]
  },
  {
   "cell_type": "markdown",
   "metadata": {},
   "source": [
    "## Hahn\n"
   ]
  },
  {
   "cell_type": "code",
   "execution_count": 68,
   "metadata": {},
   "outputs": [],
   "source": []
  },
  {
   "cell_type": "code",
   "execution_count": 389,
   "metadata": {},
   "outputs": [],
   "source": [
    "uglobals.abort.clear()\n",
    "\n",
    "he_tau_step = 0.250e-6\n",
    "he_n_tau = 25\n",
    "#he_n_tau = 50\n",
    "\n",
    "logger.info(f\"Tau max= {he_tau_step*he_n_tau}\")\n",
    "\n",
    "qmeas = setup_hahn_params(tau_start=100e-9, n_tau=he_n_tau, tau_step=he_tau_step, alternating=True)\n",
    "#qmeas = setup_hahn_params(tau_start=14e-6, n_tau=he_n_tau, tau_step=he_tau_step, alternating=True)\n",
    "run_generic(qmeas)"
   ]
  },
  {
   "cell_type": "markdown",
   "metadata": {},
   "source": [
    "## XY 8 "
   ]
  },
  {
   "cell_type": "code",
   "execution_count": 111,
   "metadata": {},
   "outputs": [
    {
     "data": {
      "text/plain": [
       "{'rabi_period_rect': 9.06e-08, 'rabi_shaped': {'shaped_on': False, 'period': 1.101e-07, 'env_type': <EnvelopeMethods.parabola: 'SinEnvelopeParabolaN'>, 'order_P': 1}, 'mw_freq': 2727260000.0, 'mw_amp': 0.1388888888888889, 't_laser_pulsed': 3e-06, 't_wait_pulsed': 1e-06, 't_laser': None, 't_laser_green_init': 3e-06, 't_laser_red_read': 1e-06, 'mw_ramsey_offset': -1000000.0, 'mw_ramsey_off_from_calib': 0.0, 'gamma_n_c13': 6726.149871335747}"
      ]
     },
     "execution_count": 111,
     "metadata": {},
     "output_type": "execute_result"
    }
   ],
   "source": [
    "common.__dict__"
   ]
  },
  {
   "cell_type": "markdown",
   "metadata": {},
   "source": []
  },
  {
   "cell_type": "markdown",
   "metadata": {},
   "source": [
    "tau sweep"
   ]
  },
  {
   "cell_type": "code",
   "execution_count": 206,
   "metadata": {},
   "outputs": [
    {
     "name": "stderr",
     "output_type": "stream",
     "text": [
      "Exception ignored in: <generator object Cycler.__iter__.<locals>.<genexpr> at 0x0000002B2D024EB8>\n",
      "Traceback (most recent call last):\n",
      "  File \"C:\\ProgramData\\Anaconda3\\envs\\qudi\\lib\\site-packages\\cycler.py\", line 227, in <genexpr>\n",
      "    return iter(dict(l) for l in self._left)\n",
      "SystemError: error return without exception set\n",
      "Exception ignored in: <generator object Cycler.__iter__.<locals>.<genexpr> at 0x0000002AE5F60D00>\n",
      "Traceback (most recent call last):\n",
      "  File \"C:\\ProgramData\\Anaconda3\\envs\\qudi\\lib\\site-packages\\cycler.py\", line 227, in <genexpr>\n",
      "    return iter(dict(l) for l in self._left)\n",
      "SystemError: error return without exception set\n",
      "Exception ignored in: <generator object Cycler.__iter__.<locals>.<genexpr> at 0x0000002AE5F60D00>\n",
      "Traceback (most recent call last):\n",
      "  File \"C:\\ProgramData\\Anaconda3\\envs\\qudi\\lib\\site-packages\\cycler.py\", line 227, in <genexpr>\n",
      "    return iter(dict(l) for l in self._left)\n",
      "SystemError: error return without exception set\n",
      "Exception ignored in: <generator object Cycler.__iter__.<locals>.<genexpr> at 0x0000002AE5F60D00>\n",
      "Traceback (most recent call last):\n",
      "  File \"C:\\ProgramData\\Anaconda3\\envs\\qudi\\lib\\site-packages\\cycler.py\", line 227, in <genexpr>\n",
      "    return iter(dict(l) for l in self._left)\n",
      "SystemError: error return without exception set\n",
      "Exception ignored in: <generator object Cycler.__iter__.<locals>.<genexpr> at 0x0000002AE5F60D00>\n",
      "Traceback (most recent call last):\n",
      "  File \"C:\\ProgramData\\Anaconda3\\envs\\qudi\\lib\\site-packages\\cycler.py\", line 227, in <genexpr>\n",
      "    return iter(dict(l) for l in self._left)\n",
      "SystemError: error return without exception set\n",
      "Exception ignored in: <generator object Cycler.__iter__.<locals>.<genexpr> at 0x0000002AE5F60D00>\n",
      "Traceback (most recent call last):\n",
      "  File \"C:\\ProgramData\\Anaconda3\\envs\\qudi\\lib\\site-packages\\cycler.py\", line 227, in <genexpr>\n",
      "    return iter(dict(l) for l in self._left)\n",
      "SystemError: error return without exception set\n",
      "Exception ignored in: <generator object Cycler.__iter__.<locals>.<genexpr> at 0x0000002AE5F60D00>\n",
      "Traceback (most recent call last):\n",
      "  File \"C:\\ProgramData\\Anaconda3\\envs\\qudi\\lib\\site-packages\\cycler.py\", line 227, in <genexpr>\n",
      "    return iter(dict(l) for l in self._left)\n",
      "SystemError: error return without exception set\n",
      "Exception ignored in: <generator object Cycler.__iter__.<locals>.<genexpr> at 0x0000002AE5F60D00>\n",
      "Traceback (most recent call last):\n",
      "  File \"C:\\ProgramData\\Anaconda3\\envs\\qudi\\lib\\site-packages\\cycler.py\", line 227, in <genexpr>\n",
      "    return iter(dict(l) for l in self._left)\n",
      "SystemError: error return without exception set\n",
      "Exception ignored in: <generator object Cycler.__iter__.<locals>.<genexpr> at 0x0000002AE5F60D00>\n",
      "Traceback (most recent call last):\n",
      "  File \"C:\\ProgramData\\Anaconda3\\envs\\qudi\\lib\\site-packages\\cycler.py\", line 227, in <genexpr>\n",
      "    return iter(dict(l) for l in self._left)\n",
      "SystemError: error return without exception set\n",
      "Exception ignored in: <generator object Cycler.__iter__.<locals>.<genexpr> at 0x0000002AE5F60D00>\n",
      "Traceback (most recent call last):\n",
      "  File \"C:\\ProgramData\\Anaconda3\\envs\\qudi\\lib\\site-packages\\cycler.py\", line 227, in <genexpr>\n",
      "    return iter(dict(l) for l in self._left)\n",
      "SystemError: error return without exception set\n",
      "Exception ignored in: <generator object Cycler.__iter__.<locals>.<genexpr> at 0x0000002B2D024D00>\n",
      "Traceback (most recent call last):\n",
      "  File \"C:\\ProgramData\\Anaconda3\\envs\\qudi\\lib\\site-packages\\cycler.py\", line 227, in <genexpr>\n",
      "    return iter(dict(l) for l in self._left)\n",
      "SystemError: error return without exception set\n",
      "Exception ignored in: <generator object Cycler.__iter__.<locals>.<genexpr> at 0x0000002B2D024D00>\n",
      "Traceback (most recent call last):\n",
      "  File \"C:\\ProgramData\\Anaconda3\\envs\\qudi\\lib\\site-packages\\cycler.py\", line 227, in <genexpr>\n",
      "    return iter(dict(l) for l in self._left)\n",
      "SystemError: error return without exception set\n",
      "Exception ignored in: <generator object Cycler.__iter__.<locals>.<genexpr> at 0x0000002B2D024D00>\n",
      "Traceback (most recent call last):\n",
      "  File \"C:\\ProgramData\\Anaconda3\\envs\\qudi\\lib\\site-packages\\cycler.py\", line 227, in <genexpr>\n",
      "    return iter(dict(l) for l in self._left)\n",
      "SystemError: error return without exception set\n",
      "Exception ignored in: <generator object Cycler.__iter__.<locals>.<genexpr> at 0x0000002B2D024D00>\n",
      "Traceback (most recent call last):\n",
      "  File \"C:\\ProgramData\\Anaconda3\\envs\\qudi\\lib\\site-packages\\cycler.py\", line 227, in <genexpr>\n",
      "    return iter(dict(l) for l in self._left)\n",
      "SystemError: error return without exception set\n",
      "Exception ignored in: <generator object Cycler.__iter__.<locals>.<genexpr> at 0x0000002B2D024D00>\n",
      "Traceback (most recent call last):\n",
      "  File \"C:\\ProgramData\\Anaconda3\\envs\\qudi\\lib\\site-packages\\cycler.py\", line 227, in <genexpr>\n",
      "    return iter(dict(l) for l in self._left)\n",
      "SystemError: error return without exception set\n",
      "Exception ignored in: <generator object Cycler.__iter__.<locals>.<genexpr> at 0x0000002B2D024D00>\n",
      "Traceback (most recent call last):\n",
      "  File \"C:\\ProgramData\\Anaconda3\\envs\\qudi\\lib\\site-packages\\cycler.py\", line 227, in <genexpr>\n",
      "    return iter(dict(l) for l in self._left)\n",
      "SystemError: error return without exception set\n",
      "Exception ignored in: <generator object Cycler.__iter__.<locals>.<genexpr> at 0x0000002B2D024D00>\n",
      "Traceback (most recent call last):\n",
      "  File \"C:\\ProgramData\\Anaconda3\\envs\\qudi\\lib\\site-packages\\cycler.py\", line 227, in <genexpr>\n",
      "    return iter(dict(l) for l in self._left)\n",
      "SystemError: error return without exception set\n",
      "Exception ignored in: <generator object Cycler.__iter__.<locals>.<genexpr> at 0x0000002B2D024D00>\n",
      "Traceback (most recent call last):\n",
      "  File \"C:\\ProgramData\\Anaconda3\\envs\\qudi\\lib\\site-packages\\cycler.py\", line 227, in <genexpr>\n",
      "    return iter(dict(l) for l in self._left)\n",
      "SystemError: error return without exception set\n",
      "Exception ignored in: <generator object Cycler.__iter__.<locals>.<genexpr> at 0x0000002B2D024D00>\n",
      "Traceback (most recent call last):\n",
      "  File \"C:\\ProgramData\\Anaconda3\\envs\\qudi\\lib\\site-packages\\cycler.py\", line 227, in <genexpr>\n",
      "    return iter(dict(l) for l in self._left)\n",
      "SystemError: error return without exception set\n",
      "Exception ignored in: <generator object Cycler.__iter__.<locals>.<genexpr> at 0x0000002B2D024D00>\n",
      "Traceback (most recent call last):\n",
      "  File \"C:\\ProgramData\\Anaconda3\\envs\\qudi\\lib\\site-packages\\cycler.py\", line 227, in <genexpr>\n",
      "    return iter(dict(l) for l in self._left)\n",
      "SystemError: error return without exception set\n",
      "Exception ignored in: <generator object Cycler.__iter__.<locals>.<genexpr> at 0x0000002B2D024CA8>\n",
      "Traceback (most recent call last):\n",
      "  File \"C:\\ProgramData\\Anaconda3\\envs\\qudi\\lib\\site-packages\\cycler.py\", line 227, in <genexpr>\n",
      "    return iter(dict(l) for l in self._left)\n",
      "SystemError: error return without exception set\n",
      "Exception ignored in: <generator object Cycler.__iter__.<locals>.<genexpr> at 0x0000002B2D024CA8>\n",
      "Traceback (most recent call last):\n",
      "  File \"C:\\ProgramData\\Anaconda3\\envs\\qudi\\lib\\site-packages\\cycler.py\", line 227, in <genexpr>\n",
      "    return iter(dict(l) for l in self._left)\n",
      "SystemError: error return without exception set\n",
      "Exception ignored in: <generator object Transform._iter_break_from_left_to_right at 0x0000002B2D0248E0>\n",
      "Traceback (most recent call last):\n",
      "  File \"C:\\ProgramData\\Anaconda3\\envs\\qudi\\lib\\site-packages\\matplotlib\\transforms.py\", line 1324, in _iter_break_from_left_to_right\n",
      "    yield IdentityTransform(), self\n",
      "SystemError: error return without exception set\n",
      "Exception ignored in: <generator object CompositeGenericTransform._iter_break_from_left_to_right at 0x0000002B2D024D00>\n",
      "Traceback (most recent call last):\n",
      "  File \"C:\\ProgramData\\Anaconda3\\envs\\qudi\\lib\\site-packages\\matplotlib\\transforms.py\", line 2457, in _iter_break_from_left_to_right\n",
      "    yield lh_compliment, rh_compliment + self._b\n",
      "SystemError: error return without exception set\n",
      "Exception ignored in: <generator object Transform._iter_break_from_left_to_right at 0x0000002B2D024CA8>\n",
      "Traceback (most recent call last):\n",
      "  File \"C:\\ProgramData\\Anaconda3\\envs\\qudi\\lib\\site-packages\\matplotlib\\transforms.py\", line 1324, in _iter_break_from_left_to_right\n",
      "    yield IdentityTransform(), self\n",
      "SystemError: error return without exception set\n",
      "Exception ignored in: <generator object CompositeGenericTransform._iter_break_from_left_to_right at 0x0000002B2D024D00>\n",
      "Traceback (most recent call last):\n",
      "  File \"C:\\ProgramData\\Anaconda3\\envs\\qudi\\lib\\site-packages\\matplotlib\\transforms.py\", line 2457, in _iter_break_from_left_to_right\n",
      "    yield lh_compliment, rh_compliment + self._b\n",
      "SystemError: error return without exception set\n",
      "Exception ignored in: <generator object Transform._iter_break_from_left_to_right at 0x0000002B2D024AF0>\n",
      "Traceback (most recent call last):\n",
      "  File \"C:\\ProgramData\\Anaconda3\\envs\\qudi\\lib\\site-packages\\matplotlib\\transforms.py\", line 1324, in _iter_break_from_left_to_right\n",
      "    yield IdentityTransform(), self\n",
      "SystemError: error return without exception set\n",
      "Exception ignored in: <generator object CompositeGenericTransform._iter_break_from_left_to_right at 0x0000002B2D024D00>\n",
      "Traceback (most recent call last):\n",
      "  File \"C:\\ProgramData\\Anaconda3\\envs\\qudi\\lib\\site-packages\\matplotlib\\transforms.py\", line 2457, in _iter_break_from_left_to_right\n",
      "    yield lh_compliment, rh_compliment + self._b\n",
      "SystemError: error return without exception set\n",
      "Exception ignored in: <generator object Transform._iter_break_from_left_to_right at 0x0000002B2D024AF0>\n",
      "Traceback (most recent call last):\n",
      "  File \"C:\\ProgramData\\Anaconda3\\envs\\qudi\\lib\\site-packages\\matplotlib\\transforms.py\", line 1324, in _iter_break_from_left_to_right\n",
      "    yield IdentityTransform(), self\n",
      "SystemError: error return without exception set\n",
      "Exception ignored in: <generator object CompositeGenericTransform._iter_break_from_left_to_right at 0x0000002B2D024D00>\n",
      "Traceback (most recent call last):\n",
      "  File \"C:\\ProgramData\\Anaconda3\\envs\\qudi\\lib\\site-packages\\matplotlib\\transforms.py\", line 2457, in _iter_break_from_left_to_right\n",
      "    yield lh_compliment, rh_compliment + self._b\n",
      "SystemError: error return without exception set\n",
      "Exception ignored in: <generator object Transform._iter_break_from_left_to_right at 0x0000002B2D0248E0>\n",
      "Traceback (most recent call last):\n",
      "  File \"C:\\ProgramData\\Anaconda3\\envs\\qudi\\lib\\site-packages\\matplotlib\\transforms.py\", line 1324, in _iter_break_from_left_to_right\n",
      "    yield IdentityTransform(), self\n",
      "SystemError: error return without exception set\n",
      "Exception ignored in: <generator object CompositeGenericTransform._iter_break_from_left_to_right at 0x0000002B2D024D00>\n",
      "Traceback (most recent call last):\n",
      "  File \"C:\\ProgramData\\Anaconda3\\envs\\qudi\\lib\\site-packages\\matplotlib\\transforms.py\", line 2457, in _iter_break_from_left_to_right\n"
     ]
    },
    {
     "name": "stderr",
     "output_type": "stream",
     "text": [
      "    yield lh_compliment, rh_compliment + self._b\n",
      "SystemError: error return without exception set\n",
      "Exception ignored in: <generator object Transform._iter_break_from_left_to_right at 0x0000002B2D024AF0>\n",
      "Traceback (most recent call last):\n",
      "  File \"C:\\ProgramData\\Anaconda3\\envs\\qudi\\lib\\site-packages\\matplotlib\\transforms.py\", line 1324, in _iter_break_from_left_to_right\n",
      "    yield IdentityTransform(), self\n",
      "SystemError: error return without exception set\n",
      "Exception ignored in: <generator object CompositeGenericTransform._iter_break_from_left_to_right at 0x0000002B2D024D00>\n",
      "Traceback (most recent call last):\n",
      "  File \"C:\\ProgramData\\Anaconda3\\envs\\qudi\\lib\\site-packages\\matplotlib\\transforms.py\", line 2457, in _iter_break_from_left_to_right\n",
      "    yield lh_compliment, rh_compliment + self._b\n",
      "SystemError: error return without exception set\n",
      "Exception ignored in: <generator object _process_plot_var_args._getdefaults.<locals>.<genexpr>.<genexpr> at 0x0000002B2D024AF0>\n",
      "Traceback (most recent call last):\n",
      "  File \"C:\\ProgramData\\Anaconda3\\envs\\qudi\\lib\\site-packages\\matplotlib\\axes\\_base.py\", line 272, in <genexpr>\n",
      "    if any(all(kw.get(k, None) is None for kw in kwargs)\n",
      "SystemError: error return without exception set\n",
      "Exception ignored in: <generator object _process_plot_var_args._getdefaults.<locals>.<genexpr>.<genexpr> at 0x0000002B2D024AF0>\n",
      "Traceback (most recent call last):\n",
      "  File \"C:\\ProgramData\\Anaconda3\\envs\\qudi\\lib\\site-packages\\matplotlib\\axes\\_base.py\", line 272, in <genexpr>\n",
      "    if any(all(kw.get(k, None) is None for kw in kwargs)\n",
      "SystemError: error return without exception set\n",
      "Exception ignored in: <generator object Transform._iter_break_from_left_to_right at 0x0000002B2D024AF0>\n",
      "Traceback (most recent call last):\n",
      "  File \"C:\\ProgramData\\Anaconda3\\envs\\qudi\\lib\\site-packages\\matplotlib\\transforms.py\", line 1324, in _iter_break_from_left_to_right\n",
      "    yield IdentityTransform(), self\n",
      "SystemError: error return without exception set\n",
      "Exception ignored in: <generator object CompositeGenericTransform._iter_break_from_left_to_right at 0x0000002B2D024E08>\n",
      "Traceback (most recent call last):\n",
      "  File \"C:\\ProgramData\\Anaconda3\\envs\\qudi\\lib\\site-packages\\matplotlib\\transforms.py\", line 2457, in _iter_break_from_left_to_right\n",
      "    yield lh_compliment, rh_compliment + self._b\n",
      "SystemError: error return without exception set\n",
      "Exception ignored in: <generator object ScalarFormatter._compute_offset.<locals>.<genexpr> at 0x0000002AF00E75C8>\n",
      "Traceback (most recent call last):\n",
      "  File \"C:\\ProgramData\\Anaconda3\\envs\\qudi\\lib\\site-packages\\matplotlib\\ticker.py\", line 696, in <genexpr>\n",
      "    if abs_min // 10 ** oom != abs_max // 10 ** oom)\n",
      "SystemError: error return without exception set\n",
      "Exception ignored in: <generator object ScalarFormatter._compute_offset.<locals>.<genexpr> at 0x0000002B2D024E60>\n",
      "Traceback (most recent call last):\n",
      "  File \"C:\\ProgramData\\Anaconda3\\envs\\qudi\\lib\\site-packages\\matplotlib\\ticker.py\", line 696, in <genexpr>\n",
      "    if abs_min // 10 ** oom != abs_max // 10 ** oom)\n",
      "SystemError: error return without exception set\n",
      "Exception ignored in: <generator object Cycler.__iter__.<locals>.<genexpr> at 0x0000002AF00E74C0>\n",
      "Traceback (most recent call last):\n",
      "  File \"C:\\ProgramData\\Anaconda3\\envs\\qudi\\lib\\site-packages\\cycler.py\", line 227, in <genexpr>\n",
      "    return iter(dict(l) for l in self._left)\n",
      "SystemError: error return without exception set\n",
      "Exception ignored in: <generator object Cycler.__iter__.<locals>.<genexpr> at 0x0000002AF00E74C0>\n",
      "Traceback (most recent call last):\n",
      "  File \"C:\\ProgramData\\Anaconda3\\envs\\qudi\\lib\\site-packages\\cycler.py\", line 227, in <genexpr>\n",
      "    return iter(dict(l) for l in self._left)\n",
      "SystemError: error return without exception set\n",
      "Exception ignored in: <generator object ScalarFormatter._compute_offset.<locals>.<genexpr> at 0x0000002AC8477C50>\n",
      "Traceback (most recent call last):\n",
      "  File \"C:\\ProgramData\\Anaconda3\\envs\\qudi\\lib\\site-packages\\matplotlib\\ticker.py\", line 696, in <genexpr>\n",
      "    if abs_min // 10 ** oom != abs_max // 10 ** oom)\n",
      "SystemError: error return without exception set\n",
      "Exception ignored in: <generator object ScalarFormatter._compute_offset.<locals>.<genexpr> at 0x0000002AC8477C50>\n",
      "Traceback (most recent call last):\n",
      "  File \"C:\\ProgramData\\Anaconda3\\envs\\qudi\\lib\\site-packages\\matplotlib\\ticker.py\", line 696, in <genexpr>\n",
      "    if abs_min // 10 ** oom != abs_max // 10 ** oom)\n",
      "SystemError: error return without exception set\n",
      "Exception ignored in: <generator object ScalarFormatter._compute_offset.<locals>.<genexpr> at 0x0000002AEA2C3AF0>\n",
      "Traceback (most recent call last):\n",
      "  File \"C:\\ProgramData\\Anaconda3\\envs\\qudi\\lib\\site-packages\\matplotlib\\ticker.py\", line 696, in <genexpr>\n",
      "    if abs_min // 10 ** oom != abs_max // 10 ** oom)\n",
      "SystemError: error return without exception set\n",
      "Exception ignored in: <generator object ScalarFormatter._compute_offset.<locals>.<genexpr> at 0x0000002AEA2C3AF0>\n",
      "Traceback (most recent call last):\n",
      "  File \"C:\\ProgramData\\Anaconda3\\envs\\qudi\\lib\\site-packages\\matplotlib\\ticker.py\", line 696, in <genexpr>\n",
      "    if abs_min // 10 ** oom != abs_max // 10 ** oom)\n",
      "SystemError: error return without exception set\n",
      "Exception ignored in: <generator object ScalarFormatter._compute_offset.<locals>.<genexpr> at 0x0000002AE5F609E8>\n",
      "Traceback (most recent call last):\n",
      "  File \"C:\\ProgramData\\Anaconda3\\envs\\qudi\\lib\\site-packages\\matplotlib\\ticker.py\", line 696, in <genexpr>\n",
      "    if abs_min // 10 ** oom != abs_max // 10 ** oom)\n",
      "SystemError: error return without exception set\n",
      "Exception ignored in: <generator object ScalarFormatter._compute_offset.<locals>.<genexpr> at 0x0000002AEA2C3E08>\n",
      "Traceback (most recent call last):\n",
      "  File \"C:\\ProgramData\\Anaconda3\\envs\\qudi\\lib\\site-packages\\matplotlib\\ticker.py\", line 696, in <genexpr>\n",
      "    if abs_min // 10 ** oom != abs_max // 10 ** oom)\n",
      "SystemError: error return without exception set\n",
      "Exception ignored in: <generator object Gcf.destroy_fig.<locals>.<genexpr> at 0x0000002AF00E74C0>\n",
      "Traceback (most recent call last):\n",
      "  File \"C:\\ProgramData\\Anaconda3\\envs\\qudi\\lib\\site-packages\\matplotlib\\_pylab_helpers.py\", line 67, in <genexpr>\n",
      "    if manager.canvas.figure == fig), None)\n",
      "SystemError: error return without exception set\n"
     ]
    }
   ],
   "source": [
    "#tau_start = 0.2e-6\n",
    "tau_start = 50e-9\n",
    "tau_start = 10e-9\n",
    "\n",
    "uglobals.abort.clear()\n",
    "# narrow resonance NV M17\n",
    "qmeas = setup_xy8_tausweep_params(tau_start, n_tau=100, tau_step=10e-9, xy8_order=7, alternating=True)\n",
    "\n",
    "\n",
    "#qmeas = setup_xy8_tausweep_params(tau_start, n_tau=10, tau_step=25e-9, xy8_order=800, alternating=True)\n",
    "\n",
    "\n",
    "# larger sweeps\n",
    "#qmeas = setup_xy8_tausweep_params(tau_start, n_tau=75, tau_step=10e-9, xy8_order=4, alternating=True) \n",
    "#qmeas = setup_xy8_tausweep_params(tau_start, n_tau=75, tau_step=3e-9, xy8_order=4, alternating=True) \n",
    "#qmeas = setup_xy8_tausweep_params(tau_start, n_tau=250, tau_step=20e-9, xy8_order=4, alternating=True)\n",
    "#qmeas = setup_xy8_tausweep_params(tau_start, n_tau=75, tau_step=5e-9, xy8_order=8, alternating=True) \n",
    "\n",
    "#qmeas = setup_xy8_tausweep_params(tau_start, n_tau=50, tau_step=100e-9, xy8_order=8, alternating=True)\n",
    "\n",
    "\n",
    "run_xy8_tausweep(qmeas)"
   ]
  },
  {
   "cell_type": "markdown",
   "metadata": {},
   "source": [
    "n sweep"
   ]
  },
  {
   "cell_type": "code",
   "execution_count": 182,
   "metadata": {},
   "outputs": [],
   "source": [
    "tau = 900e-9#440.0e-9\n",
    "tau = 100e-9#440.0e-9\n",
    "#tau = 441.6e-9\n",
    "\n",
    "uglobals.abort.clear()\n",
    "#qmeas = setup_xy8_nsweep_params(tau, n_n=25, xy8_start=4, xy8_step=1, alternating=True)\n",
    "#qmeas = setup_xy8_nsweep_params(tau, n_n=15, xy8_start=4, xy8_step=100, alternating=True)  # long t_evol, mem limit\n",
    "qmeas = setup_xy8_nsweep_params(tau, n_n=10, xy8_start=1, xy8_step=1, alternating=True)  \n",
    "qmeas['name'] = 'xy8_n'\n",
    "run_xy8_nsweep(qmeas)"
   ]
  },
  {
   "cell_type": "code",
   "execution_count": 185,
   "metadata": {},
   "outputs": [
    {
     "data": {
      "text/plain": [
       "OrderedDict([('experiment', 'xy8_nsweep'), ('name', 'xy8_n'), ('rabi_period', 6.65e-08), ('microwave_frequency', 2727900000.0), ('microwave_amplitude', 0.15), ('tau', 1e-07), ('xy8_start', 1), ('xy8_step', 1), ('num_of_points', 10), ('alternating', True), ('from_list', False), ('optimize_time', None), ('fit_experiment', 'sine_decay'), ('gated', False), ('sequence_mode', False), ('ctr_single_sweeps', False), ('ctr_n_sweeps', 0), ('ctr_n_cycles', 0), ('measurement_time', None), ('freq_optimize_time', None), ('analysis_interval', None), ('sampling_freq', 8000000000.0), ('bin_width', 4e-09), ('wait_time', 1e-06), ('laser_delay', 2e-07), ('laser_safety', 2e-07), ('sync_channel', 'd_ch1'), ('gate_channel', ''), ('laser_channel', 'd_ch2'), ('laser_length', 3e-06), ('wait_length', 1e-06), ('trigger_length', 2e-08), ('delay_length', 1.7e-07), ('channel_amp', 1.0), ('microwave_channel', 'a_ch1'), ('optimize_channel', '/Dev1/PFI0'), ('readout_end', 3e-07), ('max_tau', 0.001), ('max_tau_start', 0.001), ('max_rabi_period', 0.001), ('min_microwave_frequency', 1), ('max_microwave_amplitude', 0.25), ('params', {'alternating': True, 'laser_ignore_list': [], 'controlled_variable': array([8.0e-07, 1.6e-06, 2.4e-06, 3.2e-06, 4.0e-06, 4.8e-06, 5.6e-06,\n",
       "       6.4e-06, 7.2e-06, 8.0e-06]), 'units': ('s', ''), 'labels': ('Tau', 'Signal'), 'number_of_lasers': 20, 'counting_length': 0.0001727149999999972})])"
      ]
     },
     "execution_count": 185,
     "metadata": {},
     "output_type": "execute_result"
    }
   ],
   "source": [
    "qmeas"
   ]
  },
  {
   "cell_type": "code",
   "execution_count": null,
   "metadata": {},
   "outputs": [],
   "source": [
    "a few xy8 tau sweeps"
   ]
  },
  {
   "cell_type": "code",
   "execution_count": 54,
   "metadata": {},
   "outputs": [],
   "source": [
    "uglobals.abort.clear()\n",
    "\n",
    "tau_start = 0.5e-6\n",
    "xy_orders = np.arange(5, 16, 1)\n",
    "\n",
    "for i, o in enumerate(xy_orders):\n",
    "    if uglobals.abort.is_set():\n",
    "        break\n",
    "    try:\n",
    "        #pass\n",
    "        #\"\"\"\n",
    "        laser_on()\n",
    "        time.sleep(1)\n",
    "        optimize_position()\n",
    "        optimize_position()\n",
    "        laser_off()\n",
    "        #\"\"\"\n",
    "    except Exception as e:\n",
    "        logger.warning(\"auto XY8 run {}, skipping failed tracking: {}\".format(i, str(e)))\n",
    "    if uglobals.abort.is_set():\n",
    "        break\n",
    "        \n",
    "    qmeas = setup_xy8_tausweep_params(tau_start, n_tau=50, tau_step=20e-9, xy8_order=o, alternating=True)     \n",
    "    qmeas['measurement_time'] = 180\n",
    "    run_xy8_tausweep(qmeas)"
   ]
  },
  {
   "cell_type": "markdown",
   "metadata": {},
   "source": [
    "### DD DQT"
   ]
  },
  {
   "cell_type": "code",
   "execution_count": 167,
   "metadata": {},
   "outputs": [],
   "source": [
    "# drive all HFS lines\n",
    "common.mw_freq = 2727.26e6\n",
    "common.mw_amp = 0.25/1.8\n",
    "\n",
    "\n",
    "t_rabi_dqt = 93.8e-9\n",
    "t_rabi1 = 97.2e-9  # driving in between HFS lines\n",
    "t_rabi1 = 93.56e-9  # driving only central line\n",
    "ampl_mw2 = 0.25#[common.mw_amp]\n",
    "\n",
    "f_mw1_add = [2725.11e6, 2729.41e6]\n",
    "#f_mw1 = sorted([common.mw_freq] + f_mw1_add)\n",
    "f_mw1 = [common.mw_freq] \n",
    "f_mw2 = [2946.45e6, 2948.6e6, 2950.75e6]\n",
    "\n",
    "# drive in left, right middle between 3 HFS lines\n",
    "#f_mw2 = [np.mean(f_mw2[0:2]), np.mean(f_mw2[1:])]\n",
    "#f_mw1 = [np.mean(f_mw1[0:2]), np.mean(f_mw1[1:])]\n",
    "\n"
   ]
  },
  {
   "cell_type": "code",
   "execution_count": 169,
   "metadata": {},
   "outputs": [
    {
     "data": {
      "text/plain": [
       "([2727260000.0], [2946450000.0, 2948600000.0, 2950750000.0])"
      ]
     },
     "execution_count": 169,
     "metadata": {},
     "output_type": "execute_result"
    }
   ],
   "source": [
    "f_mw1, f_mw2"
   ]
  },
  {
   "cell_type": "code",
   "execution_count": 175,
   "metadata": {},
   "outputs": [],
   "source": [
    "# only lower drive (with potential multiple drives for HFS), no DQT\n",
    "qmeas = setup_dd_dqt_sigamp_params(tau=200e-9, n_amp=50, amp_step=5e-3,\n",
    "                                    dd_order=1, t_rabi1=t_rabi1,  \n",
    "                      f_mw1=f_mw1, f_mw2=[], ampl_mw2=0,\n",
    "                      dd_type=DDMethods.XY8, alternating=True)\n",
    "#qmeas['amp_start'] = 20e-3\n",
    "\n",
    "uglobals.abort.clear()\n",
    "run_generic(qmeas)"
   ]
  },
  {
   "cell_type": "code",
   "execution_count": 51,
   "metadata": {},
   "outputs": [],
   "source": [
    "qmeas = setup_dd_dqt_sigamp_params(tau=200e-9, n_amp=50, amp_step=0.002e-3,\n",
    "                                    dd_order=1, t_rabi1=t_rabi_dqt,  \n",
    "                      f_mw1=f_mw1, f_mw2=f_mw2, ampl_mw2=ampl_mw2,\n",
    "                      dd_type=DDMethods.XY8, alternating=True)\n",
    "\n",
    "uglobals.abort.clear()\n",
    "#run_generic(qmeas)"
   ]
  },
  {
   "cell_type": "code",
   "execution_count": 127,
   "metadata": {},
   "outputs": [
    {
     "data": {
      "text/plain": [
       "OrderedDict([('rabi_period', 9.356e-08), ('name', 'dd_dqt_sigamp'), ('experiment', 'dd_dqt_sigamp'), ('microwave_amplitude', 0.1388888888888889), ('tau', 2e-07), ('amp_start', 0.0), ('amp_step', 0.01), ('dd_type', <DDMethods.XY8: [0.0, 90.0, 0.0, 90.0, 90.0, 0.0, 90.0, 0.0]>), ('dd_order', 1), ('alternating', True), ('num_of_points', 50), ('microwave_frequency', 2727260000.0), ('measurement_time', None), ('optimize_time', None), ('freq_optimize_time', None), ('fit_experiment', 'sine'), ('env_type', <EnvelopeMethods.rectangle: 'Sin'>)])"
      ]
     },
     "execution_count": 127,
     "metadata": {},
     "output_type": "execute_result"
    }
   ],
   "source": [
    "qmeas"
   ]
  },
  {
   "cell_type": "markdown",
   "metadata": {},
   "source": [
    "## Hartmann Hahn"
   ]
  },
  {
   "cell_type": "code",
   "execution_count": 509,
   "metadata": {},
   "outputs": [],
   "source": [
    "uglobals.abort.clear()\n",
    "\n",
    "qmeas = setup_hh_tau_params(tau_start=0e-6, tau_step=0.6e-6, n_tau=50, amp_sl=1.35e-3)\n",
    "\n",
    "\n",
    "run_generic(qmeas)"
   ]
  },
  {
   "cell_type": "markdown",
   "metadata": {},
   "source": [
    "### power series"
   ]
  },
  {
   "cell_type": "code",
   "execution_count": 512,
   "metadata": {},
   "outputs": [],
   "source": [
    "uglobals.abort.clear()\n",
    "pscales = np.linspace(1, 0.68, 20)\n",
    "p_start_sl = 1.6e-3  # 1.65 ~ 523 kHz = Lamor\n",
    "\n",
    "for i, p in enumerate(pscales):\n",
    "    if uglobals.abort.is_set():\n",
    "        break\n",
    "    try:\n",
    "\n",
    "        qmeas = setup_hh_tau_params(tau_start=0e-6, tau_step=0.65e-6, n_tau=50, amp_sl=p_start_sl*p)\n",
    "        #qmeas = setup_rabi_params(tau_step=250e-9, p_scale=10)\n",
    "        qmeas['measurement_time'] = 2*60\n",
    "        savetag = f\"hh_tau_idx={i}_ampl_lock={1e3*p_start_sl*p:.2f}mV\"\n",
    "        run_generic(qmeas, save_tag=savetag)\n",
    "    except Exception as e:\n",
    "        stack_trace = traceback.format_exc()\n",
    "        logger.warning(\"auto run {} failed: {}.\\n{}\".format(i, str(e), stack_trace))\n",
    "\n",
    "logger.info(\"Autopilot has landed.\")"
   ]
  },
  {
   "cell_type": "markdown",
   "metadata": {},
   "source": [
    "Double resonance"
   ]
  },
  {
   "cell_type": "markdown",
   "metadata": {},
   "source": [
    "## DEER"
   ]
  },
  {
   "cell_type": "code",
   "execution_count": 483,
   "metadata": {},
   "outputs": [],
   "source": [
    "# deprecated, better use params in common.(..)\n",
    "\n",
    "he_tau = 0.3e-6\n",
    "\n",
    "t_rabi_2 = 100e-9#200.0e-9\n",
    "f_center = 100e6#2.8307e9\n",
    "\n",
    "common"
   ]
  },
  {
   "cell_type": "markdown",
   "metadata": {},
   "source": [
    "### Spectrum"
   ]
  },
  {
   "cell_type": "code",
   "execution_count": 44,
   "metadata": {},
   "outputs": [],
   "source": [
    "uglobals.abort.clear()\n",
    "\n",
    "f_center = 1.407e9\n",
    "f_center = 3.05e9\n",
    "#f_center = 1.305e9\n",
    "#f_center = 0.735e9\n",
    "#f_center = 0.850e9\n",
    "#t_pi_fix = 6000e-9   # if already calibrated by DEER Rabi\n",
    "t_pi_fix = None #138.0e-9/2    # else\n",
    "\n",
    "# wide band\n",
    "#qmeas = setup_deer_f_params(f_center, f_step=5e6, n_f=100, two_deer_pi=True,\n",
    "#                            pi_len=t_pi_fix)\n",
    "#qmeas = setup_deer_f_params(f_center, f_step=3e6, n_f=150, two_deer_pi=True,\n",
    "#                            he_tau=common.he_tau, pi_len=t_pi_fix, read_phases='-90, 90')\n",
    "qmeas = setup_deer_f_params(f_center, f_step=3e6, n_f=50, two_deer_pi=True,\n",
    "                            he_tau=common.he_tau, pi_len=t_pi_fix, read_phases='0, 180')\n",
    "#qmeas = setup_deer_f_params(f_center, f_step=6e6, n_f=75, two_deer_pi=False,\n",
    "#                            he_tau=common.he_tau, pi_len=t_pi_fix, read_phases='-90, 90', deer_ampl=0.25/5.)\n",
    "#qmeas = setup_deer_f_params(f_center, f_step=1e6, n_f=200, two_deer_pi=False,\n",
    "#                            pi_len=t_pi_fix)\n",
    "# high res\n",
    "#qmeas = setup_deer_f_params(f_center, f_step=500e3, n_f=75, two_deer_pi=True,\n",
    "#                           he_tau=common.he_tau, pi_len=t_pi_fix)\n",
    "# wide band\n",
    "#qmeas = setup_deer_f_params(f_center, f_step=2000e3, n_f=120, two_deer_pi=True,\n",
    "#                           he_tau=300e-9)\n",
    "\n",
    "#run_deer_f(qmeas)"
   ]
  },
  {
   "cell_type": "markdown",
   "metadata": {},
   "source": [
    "### DD Spectrum"
   ]
  },
  {
   "cell_type": "markdown",
   "metadata": {},
   "source": [
    "Remember to set common.mw_freq and rabi to the correct NV"
   ]
  },
  {
   "cell_type": "code",
   "execution_count": 171,
   "metadata": {},
   "outputs": [],
   "source": [
    "# main resonance\n",
    "# {'shaped_on':True, 'period': 244.5e-9, 'env_type': Evm.parabola, 'order_P':1}\n",
    "#        self.mw_freq = 3086.1e6 #3026\n",
    "#t_rabi_2 = 2*t_pi_fix if t_pi_fix else None\n",
    "#common.he_tau = 0.2e-6\n",
    "\n",
    "f_center = common.mw_freq_2[0]\n",
    "dd_tau = common.dd_tau\n",
    "dd_order = common.dd_order\n",
    "dd_type = common.dd_type #DDMethods.XY8\n",
    "t_rabi_2 = common.rabi_period_2[0]\n",
    "\n",
    "try:\n",
    "    qmeas = setup_deer_dd_f_params(f_center, dd_tau=dd_tau, f_step=3e6, n_f=50,\n",
    "                                   t_rabi_2=t_rabi_2, dd_type=dd_type, dd_order=dd_order)\n",
    "    #qmeas = setup_deer_dd_f_params(f_center, dd_tau=common.he_tau, f_step=3e6, n_f=2,\n",
    "    #                               t_rabi_2=t_rabi_2, dd_type=DDMethods.SE, dd_order=2)\n",
    "    #qmeas['order_P'] = 10\n",
    "    #qmeas['mw_amp2'] = 0\n",
    "except:\n",
    "    logger.exception(\"\")\n",
    "uglobals.abort.clear()\n",
    "run_generic(qmeas)"
   ]
  },
  {
   "cell_type": "code",
   "execution_count": 165,
   "metadata": {},
   "outputs": [
    {
     "data": {
      "text/plain": [
       "OrderedDict([('experiment', 'DEER_DD_freq'), ('name', 'deer_dd_spectrum'), ('microwave_frequency', 2738400000.0), ('microwave_amplitude', 0.25), ('freq_incr', 3000000.0), ('num_of_points', 50), ('freq_start', 2745500000.0), ('rabi_period', 5.74e-08), ('measurement_time', 150000), ('optimize_time', None), ('alternating', True), ('tau', 3e-07), ('rabi_period2', 1.086e-07), ('mw_amp2', 0.25), ('tau2_rel_to_pi1', True), ('tau2', 0.0), ('DD_type', <DDMethods.XY8: [0.0, 90.0, 0.0, 90.0, 90.0, 0.0, 90.0, 0.0]>), ('order', 15), ('env_type', <EnvelopeMethods.parabola: 'SinEnvelopeParabolaN'>), ('order_P', 1)])"
      ]
     },
     "execution_count": 165,
     "metadata": {},
     "output_type": "execute_result"
    }
   ],
   "source": [
    "qmeas"
   ]
  },
  {
   "cell_type": "markdown",
   "metadata": {},
   "source": [
    "### DD tau / CNOT"
   ]
  },
  {
   "cell_type": "markdown",
   "metadata": {},
   "source": [
    "Implement CNOT by read_phase= 90! Mind that this works better with pulse shaping turned on, especially if nuclei are around.\n",
    "ATTENTION: In mixed rect/shaped mode, for calibration of CNOT shaping must be turned on!"
   ]
  },
  {
   "cell_type": "code",
   "execution_count": 25,
   "metadata": {},
   "outputs": [
    {
     "data": {
      "text/plain": [
       "(5e-07, 1, <DDMethods.XY4: [0.0, 90.0, 0.0, 90.0]>, -1.93375e-07)"
      ]
     },
     "execution_count": 25,
     "metadata": {},
     "output_type": "execute_result"
    }
   ],
   "source": [
    "common.dd_tau, common.dd_order,  common.dd_type, -tau2_pspacing/2"
   ]
  },
  {
   "cell_type": "code",
   "execution_count": 147,
   "metadata": {},
   "outputs": [
    {
     "data": {
      "text/plain": [
       "OrderedDict([('experiment', 'deer_dd_tau'), ('name', 'deer_dd_rect_tau'), ('microwave_frequency', 2736100000.0), ('microwave_amplitude', 0.125), ('rabi_period', 7.29e-08), ('dd_type', <DDMethods.KDD4: [30.0, 0.0, 90.0, 0.0, 30.0, 120.0, 90.0, 180.0, 90.0, 120.0, 30.0, 0.0, 90.0, 0.0, 30.0, 120.0, 90.0, 180.0, 90.0, 120.0]>), ('dd_order', 2), ('num_of_points', 40), ('tau_start', -3.35425e-07), ('tau_step', 1.677125e-08), ('f_mw_2', '2825600000.0'), ('rabi_period_mw_2', '8.54e-08'), ('ampl_mw_2', '0.25'), ('read_phase_deg', 90), ('tau1', 7.5e-07), ('measurement_time', 7200), ('optimize_time', None), ('alternating', True), ('env_type', <EnvelopeMethods.rectangle: 'Sin'>), ('tau2_rel_to_pi1', False), ('init_pix_on_1', 0), ('init_pix_on_2', 0), ('end_pix_on_2', 1), ('savetag', 'deer_dd_rect_tau'), ('gated', False), ('sequence_mode', False), ('ctr_single_sweeps', False), ('ctr_n_sweeps', 0), ('ctr_n_cycles', 0), ('freq_optimize_time', None), ('analysis_interval', None), ('sampling_freq', 12000000000.0), ('bin_width', 4e-09), ('wait_time', 1e-06), ('laser_delay', 2e-07), ('laser_safety', 2e-07), ('sync_channel', 'd_ch1'), ('gate_channel', ''), ('laser_channel', 'd_ch2'), ('laser_length', 3e-06), ('wait_length', 1e-06), ('trigger_length', 2e-08), ('delay_length', 1.7e-07), ('channel_amp', 1.0), ('microwave_channel', 'a_ch1'), ('optimize_channel', '/Dev1/PFI0'), ('readout_end', 3e-07), ('max_tau', 0.001), ('max_tau_start', 0.001), ('max_rabi_period', 0.001), ('min_microwave_frequency', 1), ('max_microwave_amplitude', 0.25), ('params', {'alternating': True, 'laser_ignore_list': [], 'controlled_variable': array([-0., -0., -0., -0., -0., -0., -0., -0., -0., -0., -0., -0., -0.,\n",
       "       -0., -0., -0., -0., -0., -0., -0., -0.,  0.,  0.,  0.,  0.,  0.,\n",
       "        0.,  0.,  0.,  0.,  0.,  0.,  0.,  0.,  0.,  0.,  0.,  0.,  0.,\n",
       "        0.]), 'units': ('s', ''), 'labels': ('tau', 'Signal'), 'number_of_lasers': 80, 'counting_length': 0.0027375079999999966})])"
      ]
     },
     "execution_count": 147,
     "metadata": {},
     "output_type": "execute_result"
    }
   ],
   "source": [
    "#common.he_tau = 0.2e-6\n",
    "#t_rabi_2 = 196.5e-9\n",
    "#f_deer= f_center\n",
    "\n",
    "# to switch between C2NOT1 (order=1,2) and C1NOT2\n",
    "common = common.swap_nvs(order=[1,2])\n",
    "\n",
    "f_deer = common.mw_freq_2[0]\n",
    "ampl_2 = common.mw_amps_2[0]\n",
    "t_rabi_2 = common.rabi_period_2[0]\n",
    "dd_tau = common.dd_tau\n",
    "dd_order = common.dd_order #15\n",
    "dd_type =  common.dd_type #DDMethods.SE   #DDMethods.XY8\n",
    "\n",
    "\n",
    "# Test contrast\n",
    "# may reduce dd_order to see whether coherence is as expected\n",
    "qmeas = setup_deer_dd_tau_params(f_deer, dd_tau=dd_tau, tau2_start=0e-9, tau2_step=-6e-9, n_tau=30,\n",
    "                             t_rabi_2=t_rabi_2, deer_ampl=ampl_2, dd_type=dd_type, dd_order=4,  # dd_order  \n",
    "                             read_phase=0) \n",
    "qmeas['tau2_rel_to_pi1'] = False\n",
    "#qmeas['ampl_mw_2'] = '0'\n",
    "\n",
    "tau2_pspacing = dd_tau-common.rabi_period/2-t_rabi_2/2\n",
    "qmeas = setup_deer_dd_tau_params(f_deer, dd_tau=dd_tau, \n",
    "                                 tau2_start=-tau2_pspacing/2, tau2_step=tau2_pspacing/40, n_tau=40, # 40\n",
    "                             t_rabi_2=t_rabi_2, deer_ampl=ampl_2, dd_type=dd_type, dd_order=dd_order, ## dd_order\n",
    "                             read_phase=90) #90 for CNOT\n",
    "qmeas['tau2_rel_to_pi1'] = False\n",
    "\n",
    "qmeas['init_pix_on_1'] = 0  #1\n",
    "qmeas['init_pix_on_2'] = 0  #1\n",
    "qmeas['end_pix_on_2'] = 1  #1\n",
    "\n",
    "# AC Stark compensation, get values from doing a calibration with AC Stark Ramsey\n",
    "# ATTENTION: adding compensation must not exceed maximum MW amplitude.\n",
    "# Safe to do, if NV1/2 pulses don't overlap.\n",
    "ampl_acstark_comp_2on1 = 0.045\n",
    "ampl_acstark_comp_1on2 = 0#0.075\n",
    "df_calib_offset = -15e6\n",
    "df_offset_2on1 = (ampl_acstark_comp_2on1/common.mw_amp)**2*df_calib_offset\n",
    "df_offset_1on2 = (ampl_acstark_comp_1on2/common.mw_amps_2[0])**2*df_calib_offset\n",
    "fac_comp = 3\n",
    "\n",
    "#qmeas = add_ac_stark_compensation(qmeas, ampl_comp=[ampl_acstark_comp_2on1,ampl_acstark_comp_1on2], \n",
    "#                                 fac_comp=fac_comp, df_offset=[df_offset_2on1,df_offset_1on2])\n",
    "\n",
    "\n",
    "uglobals.abort.clear()\n",
    "\n",
    "qmeas['measurement_time'] = 120*60\n",
    "run_generic(qmeas)\n",
    "\n",
    "#qmeas = setup_deer_dd_tau_params(f_deer, dd_tau=dd_tau, \n",
    "#                                 tau2_start=-tau2_pspacing/2, tau2_step=tau2_pspacing/40, n_tau=40, # 75\n",
    "#                             t_rabi_2=t_rabi_2, deer_ampl=ampl_2, dd_type=DDMethods.XY8, dd_order=4, ## dd_order\n",
    "#                             read_phase=90) #90 for CNOT\n",
    "#qmeas['tau2_rel_to_pi1'] = False\n",
    "#qmeas['end_pix_on_2'] = 1  #1\n",
    "#qmeas['init_pix_on_2'] = 0  #1\n",
    "#run_generic(qmeas)\n",
    "\n",
    "qmeas"
   ]
  },
  {
   "cell_type": "code",
   "execution_count": 1389,
   "metadata": {},
   "outputs": [
    {
     "data": {
      "text/plain": [
       "(-2.7306666666666675, -1.1284897959183673)"
      ]
     },
     "execution_count": 1389,
     "metadata": {},
     "output_type": "execute_result"
    }
   ],
   "source": [
    "df_offset_2on1/1e6, df_offset_1on2/1e6"
   ]
  },
  {
   "cell_type": "code",
   "execution_count": 979,
   "metadata": {},
   "outputs": [
    {
     "data": {
      "text/plain": [
       "OrderedDict([('experiment', 'DEER_DD_tau'), ('name', 'deer_dd_tau_shaped'), ('microwave_frequency', 2736200000.0), ('microwave_amplitude', 0.075), ('rabi_period', 1.863e-07), ('tau2_rel_to_pi1', True), ('DD_type', <DDMethods.XY8: [0.0, 90.0, 0.0, 90.0, 90.0, 0.0, 90.0, 0.0]>), ('order', 4), ('mw_freq2', 2825900000.0), ('num_of_points', 75), ('tau2_start', 0.0), ('tau2_incr', -6.666666666666666e-09), ('tau', 5e-07), ('rabi_period2', 1.84e-07), ('mw_amp2', 0.175), ('read_phase', 0.0), ('measurement_time', 1800), ('optimize_time', None), ('alternating', True), ('env_type', <EnvelopeMethods.parabola: 'SinEnvelopeParabolaN'>), ('order_P', 1), ('end_pix_on_2', 1), ('init_pix_on_2', 1), ('fit_experiment', 'sine'), ('savetag', 'deer_dd_cnot_readphi=0.0_init_on2=1'), ('gated', False), ('sequence_mode', False), ('ctr_single_sweeps', False), ('ctr_n_sweeps', 0), ('ctr_n_cycles', 0), ('freq_optimize_time', None), ('analysis_interval', None)])"
      ]
     },
     "execution_count": 979,
     "metadata": {},
     "output_type": "execute_result"
    }
   ],
   "source": [
    "uglobals.abort.clear()\n",
    "# optimize read phase\n",
    "read_phases = np.linspace(90, 0, 20)\n",
    "debug = []\n",
    "\n",
    "for phi in read_phases:\n",
    "    qmeas = setup_deer_dd_tau_params(f_deer, dd_tau=common.dd_tau, tau2_start= 0e-9, tau2_step=-dd_tau/75, n_tau=75,\n",
    "                             t_rabi_2=t_rabi_2, deer_ampl=ampl_2, dd_type=dd_type, dd_order=dd_order,\n",
    "                             read_phase=phi) #90 for CNOT\n",
    "\n",
    "\n",
    "    qmeas['end_pix_on_2'] = 1  #1\n",
    "    qmeas['init_pix_on_2'] = 0  #1\n",
    "    qmeas['measurement_time'] = 30*60\n",
    "    qmeas['fit_experiment'] = 'sine'   \n",
    "    qmeas['savetag'] = f\"deer_dd_cnot_readphi={phi:.1f}_init_on2={qmeas['init_pix_on_2']}\"\n",
    "    \n",
    "    debug.append(qmeas)\n",
    "    run_generic(qmeas)\n",
    "    \n",
    "    qmeas['end_pix_on_2'] = 1  #1\n",
    "    qmeas['init_pix_on_2'] = 1  #1\n",
    "    qmeas['measurement_time'] = 30*60\n",
    "    qmeas['fit_experiment'] = 'sine'   \n",
    "    qmeas['savetag'] = f\"deer_dd_cnot_readphi={phi:.1f}_init_on2={qmeas['init_pix_on_2']}\"\n",
    "    \n",
    "    run_generic(qmeas)\n",
    "    \n",
    "debug[-1]\n",
    "    "
   ]
  },
  {
   "cell_type": "code",
   "execution_count": 527,
   "metadata": {},
   "outputs": [
    {
     "data": {
      "text/plain": [
       "'1.0'"
      ]
     },
     "execution_count": 527,
     "metadata": {},
     "output_type": "execute_result"
    }
   ],
   "source": [
    "list_2_csv(1.)"
   ]
  },
  {
   "cell_type": "markdown",
   "metadata": {},
   "source": [
    "### DEER Rabi"
   ]
  },
  {
   "cell_type": "code",
   "execution_count": 49,
   "metadata": {},
   "outputs": [],
   "source": [
    "uglobals.abort.clear()\n",
    "\n",
    "f_deer = 1.3989e9\n",
    "f_deer = 1.9e9\n",
    "#f_deer = 0.737e9\n",
    "\n",
    "\n",
    "qmeas = setup_deer_rabi_params(f_deer, tau_start=5e-9, tau_step=25e-9, n_tau=40, he_tau=common.he_tau, \n",
    "                               two_deer_pi=False, read_phases='-90, 90', deer_ampl=0.25)\n",
    "\n",
    "#qmeas = setup_deer_rabi_params(f_deer, tau_start=27.5e-9, tau_step=1e-9, n_tau=1, he_tau=common.he_tau)\n",
    "#qmeas = setup_deer_rabi_params(f_deer, tau_start=5e-9, tau_step=4e-9, n_tau=80, he_tau=300e-9, two_deer_pi=True)\n",
    "\n",
    "#qmeas = setup_deer_rabi_params(f_deer, tau_start=5e-9, tau_step=4e-9, n_tau=80, he_tau=300e-9, two_deer_pi=False)\n",
    "run_deer_rabi(qmeas)\n"
   ]
  },
  {
   "cell_type": "code",
   "execution_count": 197,
   "metadata": {},
   "outputs": [
    {
     "data": {
      "text/plain": [
       "OrderedDict([('name', 'deer_rabi'), ('tau_start', 5e-09), ('num_of_taus', 80), ('tau_step', 4e-09), ('measurement_time', 99999), ('optimize_time', None), ('he_tau', 3e-07), ('two_deer_pi', False), ('deer_amp', 0.25), ('deer_freq', 820000000.0), ('alternating', True), ('experiment', 'deer_rabi'), ('gated', False), ('sequence_mode', False), ('ctr_single_sweeps', False), ('ctr_n_sweeps', 0), ('ctr_n_cycles', 0), ('freq_optimize_time', None), ('analysis_interval', None), ('sampling_freq', 8000000000.0), ('bin_width', 1e-09), ('wait_time', 1e-06), ('laser_delay', 9e-07), ('laser_safety', 2e-07), ('sync_channel', 'd_ch1'), ('gate_channel', ''), ('laser_channel', 'd_ch2'), ('laser_length', 3e-06), ('wait_length', 1e-06), ('trigger_length', 2e-08), ('delay_length', 8.699999999999999e-07), ('channel_amp', 1.0), ('microwave_channel', 'a_ch1'), ('optimize_channel', '/Dev1/PFI0'), ('readout_end', 3e-07), ('max_tau', 0.001), ('max_tau_start', 0.001), ('max_rabi_period', 0.001), ('min_microwave_frequency', 1), ('max_microwave_amplitude', 0.25), ('params', {'alternating': True, 'laser_ignore_list': [], 'controlled_variable': array([5.00e-09, 9.00e-09, 1.30e-08, 1.70e-08, 2.10e-08, 2.50e-08,\n",
       "       2.90e-08, 3.30e-08, 3.70e-08, 4.10e-08, 4.50e-08, 4.90e-08,\n",
       "       5.30e-08, 5.70e-08, 6.10e-08, 6.50e-08, 6.90e-08, 7.30e-08,\n",
       "       7.70e-08, 8.10e-08, 8.50e-08, 8.90e-08, 9.30e-08, 9.70e-08,\n",
       "       1.01e-07, 1.05e-07, 1.09e-07, 1.13e-07, 1.17e-07, 1.21e-07,\n",
       "       1.25e-07, 1.29e-07, 1.33e-07, 1.37e-07, 1.41e-07, 1.45e-07,\n",
       "       1.49e-07, 1.53e-07, 1.57e-07, 1.61e-07, 1.65e-07, 1.69e-07,\n",
       "       1.73e-07, 1.77e-07, 1.81e-07, 1.85e-07, 1.89e-07, 1.93e-07,\n",
       "       1.97e-07, 2.01e-07, 2.05e-07, 2.09e-07, 2.13e-07, 2.17e-07,\n",
       "       2.21e-07, 2.25e-07, 2.29e-07, 2.33e-07, 2.37e-07, 2.41e-07,\n",
       "       2.45e-07, 2.49e-07, 2.53e-07, 2.57e-07, 2.61e-07, 2.65e-07,\n",
       "       2.69e-07, 2.73e-07, 2.77e-07, 2.81e-07, 2.85e-07, 2.89e-07,\n",
       "       2.93e-07, 2.97e-07, 3.01e-07, 3.05e-07, 3.09e-07, 3.13e-07,\n",
       "       3.17e-07, 3.21e-07]), 'units': ('s', ''), 'number_of_lasers': 160, 'counting_length': 0.000881554})])"
      ]
     },
     "execution_count": 197,
     "metadata": {},
     "output_type": "execute_result"
    }
   ],
   "source": [
    "qmeas"
   ]
  },
  {
   "cell_type": "markdown",
   "metadata": {},
   "source": [
    "### time DEER"
   ]
  },
  {
   "cell_type": "code",
   "execution_count": 152,
   "metadata": {},
   "outputs": [],
   "source": [
    "uglobals.abort.clear()\n",
    "\n",
    "f_deer = 1.407e9\n",
    "#f_deer = 1.00e9\n",
    "f_deer = 1.3795e9\n",
    "f_deer = 3026.7e6\n",
    "deer_rabi_period = 138.0e-9\n",
    "\n",
    "# wide band\n",
    "#qmeas = setup_deer_f_params(f_center, f_step=5e6, n_f=50, two_deer_pi=True)\n",
    "# high res\n",
    "\n",
    "qmeas = setup_deer_params(f_deer, tau_start=5e-9, tau_step=100e-9, n_tau=50, \n",
    "                      he_tau=common.he_tau, second_rabi_period=deer_rabi_period,\n",
    "                      two_deer_pi=True)\n",
    "#qmeas = setup_deer_params(f_deer, tau_start=282e-9, tau_step=0e-9, n_tau=1, \n",
    "#                      he_tau=common.he_tau, second_rabi_period=deer_rabi_period,\n",
    "#                      two_deer_pi=True)\n",
    "#qmeas['wait_time'] = 1e-6\n",
    "qmeas['two_deer_pi'] = True\n",
    "\n",
    "\n",
    "run_deer(qmeas)\n",
    "\n",
    "#qmeas['name'] = 'deer_pi_start'\n",
    "#run_deer_pi_start(qmeas)"
   ]
  },
  {
   "cell_type": "code",
   "execution_count": 215,
   "metadata": {},
   "outputs": [
    {
     "data": {
      "text/plain": [
       "OrderedDict([('name', 'DEER'), ('tau_start', 5e-09), ('num_of_points', 40), ('tau_step', 2e-09), ('measurement_time', 99999), ('optimize_time', None), ('he_tau', 3e-07), ('two_deer_pi', True), ('deer_amp', 0.25), ('deer_freq', 1398900000.0), ('second_rabi_period', 2e-07), ('alternating', True), ('wait_time', 1e-06)])"
      ]
     },
     "execution_count": 215,
     "metadata": {},
     "output_type": "execute_result"
    }
   ],
   "source": [
    "qmeas"
   ]
  },
  {
   "cell_type": "markdown",
   "metadata": {},
   "source": [
    "### T1 like DEER"
   ]
  },
  {
   "cell_type": "markdown",
   "metadata": {},
   "source": [
    "If the second electron spin is polarized by the laser pulse and its T1 << T1(NV), we can do the following experiment: increasing the t_wait of the NV initialization won't hurt the NV sensor too much. However, the second electron spin starts to decay right after the laser pulse. If it's an ensemble spin, the lowered polarization due to its T1 decay will lower the effective coupling to the sensor. Thus, the frequency observed in the FFT of deer should lower"
   ]
  },
  {
   "cell_type": "code",
   "execution_count": 38,
   "metadata": {},
   "outputs": [],
   "source": [
    "t_waits = np.linspace(1e-6, 20e-6, 10)[1:]#[::-1]\n",
    "uglobals.abort.clear()\n",
    "\n",
    "for t in t_waits:\n",
    "    qmeas = setup_deer_params(f_deer, tau_start=5e-9, tau_step=2e-9, n_tau=40, \n",
    "                          he_tau=300e-9, second_rabi_period=deer_rabi_period,\n",
    "                          two_deer_pi=True)\n",
    "    qmeas['wait_time'] = t\n",
    "    \n",
    "    qmeas['n_sweeps'] = 1e6\n",
    "    qmeas['name'] = 'deer_pi_start'\n",
    "\n",
    "    qmeas['save_tag'] = f'DEER_pi_start_t_wait={t}'\n",
    "\n",
    "    #run_deer(qmeas, save_tag=qmeas['save_tag'])\n",
    "    qmeas['two_deer_pi'] = False\n",
    "    run_deer_pi_start(qmeas, save_tag=qmeas['save_tag'])"
   ]
  },
  {
   "cell_type": "markdown",
   "metadata": {},
   "source": [
    "### pODMR DEER pi"
   ]
  },
  {
   "cell_type": "code",
   "execution_count": 62,
   "metadata": {},
   "outputs": [
    {
     "data": {
      "text/plain": [
       "OrderedDict([('name', 'pulsedodmr_deer_pi'), ('experiment', 'pulsedodmr_deer_pi'), ('rabi_period', 5.64e-07), ('freq_step', 500000.0), ('num_of_points', 75), ('freq_start', 1431550000.0), ('microwave_amplitude', 0.004166666666666667), ('deer_amplitude', 0.25), ('measurement_time', 1500), ('optimize_time', None), ('fit_experiment', 'lor_dip'), ('f_mw_deer', 737000000.0), ('t_pi_deer', 3.4e-08)])"
      ]
     },
     "execution_count": 62,
     "metadata": {},
     "output_type": "execute_result"
    }
   ],
   "source": [
    "qmeas"
   ]
  },
  {
   "cell_type": "code",
   "execution_count": 71,
   "metadata": {},
   "outputs": [],
   "source": [
    "f_deer = 0.737e9\n",
    "#f_deer = 1.2e9   # off-resonant dummy frequency\n",
    "t_pi_deer = 68e-9 / 2\n",
    "\n",
    "uglobals.abort.clear()\n",
    "\n",
    "qmeas = setup_podmr_deer_pi_params(f_res=common.mw_freq, f_deer=f_deer, t_pi_deer=t_pi_deer,\n",
    "                           p_scale=60, f_step=500e3, n_f=150) # range ~ 1 MHz, lowest AWG power\n",
    "\n",
    "run_generic(qmeas)"
   ]
  },
  {
   "cell_type": "markdown",
   "metadata": {},
   "source": [
    "### Ramsey DEER pi"
   ]
  },
  {
   "cell_type": "markdown",
   "metadata": {},
   "source": [
    "Ramsey with a pi pulse on the 2nd electron spin right after the 1st pi/2 on the NV."
   ]
  },
  {
   "cell_type": "code",
   "execution_count": 71,
   "metadata": {},
   "outputs": [],
   "source": [
    "f_deer = 0.737e9\n",
    "f_deer = 1.2e9   # off-resonant dummy frequency\n",
    "t_pi_deer = 68e-9 / 2\n",
    "\n",
    "\n",
    "uglobals.abort.clear()\n",
    "#qmeas = setup_ramsey_deer_pi_params(f_deer, t_pi_deer, \n",
    "#                                tau_start=50e-9, n_tau=50, tau_step=20e-9,\n",
    "#                                alternating_mode=DeerAltModes.NVPi3Half)\n",
    "qmeas = setup_ramsey_deer_pi_params(f_deer, t_pi_deer, \n",
    "                                tau_start=50e-9, n_tau=160, tau_step=10e-9,\n",
    "                                alternating_mode=DeerAltModes.DeerPiOff_plus_NVPi3Half,\n",
    "                                two_deer_pi=True)\n",
    "\n",
    "\n",
    "run_generic(qmeas)"
   ]
  },
  {
   "cell_type": "code",
   "execution_count": 59,
   "metadata": {},
   "outputs": [
    {
     "data": {
      "text/plain": [
       "1200000000.0"
      ]
     },
     "execution_count": 59,
     "metadata": {},
     "output_type": "execute_result"
    }
   ],
   "source": [
    "f_deer"
   ]
  },
  {
   "cell_type": "markdown",
   "metadata": {},
   "source": [
    "# Entanglement"
   ]
  },
  {
   "cell_type": "markdown",
   "metadata": {},
   "source": [
    "## Tomography"
   ]
  },
  {
   "cell_type": "code",
   "execution_count": 166,
   "metadata": {},
   "outputs": [
    {
     "data": {
      "text/plain": [
       "[(2, 90, <TomoRotations.c1not2: 5>)]"
      ]
     },
     "execution_count": 166,
     "metadata": {},
     "output_type": "execute_result"
    }
   ],
   "source": [
    "\n",
    "f_deer = [common.mw_freq_2[0]]\n",
    "ampl_2 = common.mw_amps_2[0]\n",
    "t_rabi_2 = common.rabi_period_2[0]\n",
    "\n",
    "# tomo rotattions\n",
    "#init = TomoInit.ent_create_bell\n",
    "init = TomoInit.none\n",
    "#init = TomoInit.ux90_on_1\n",
    "\n",
    "phase = 0\n",
    "read_on_nv =1\n",
    "\n",
    "# all needed rotations for full tomography\n",
    "# tuple(on_nv, phase, rotation)\n",
    "tomo_rotations = [\n",
    "                  #(1, 0, TomoRotations.none),\n",
    "                  #(1, 90, TomoRotations.none),\n",
    "                  #(2, 0, TomoRotations.none),\n",
    "                  #(2, 90, TomoRotations.none),\n",
    "\n",
    "                  #(1, 0, TomoRotations.ux180_on_2),\n",
    "                  #(1, 90, TomoRotations.ux180_on_2),\n",
    "                  #(2, 0, TomoRotations.ux180_on_2),\n",
    "                  #(2, 90, TomoRotations.ux180_on_2),\n",
    "                  #(1, 0, TomoRotations.ux180_on_1),\n",
    "                  #(1, 90, TomoRotations.ux180_on_1),\n",
    "                  #(2, 0, TomoRotations.ux180_on_1),\n",
    "                  #(2, 90, TomoRotations.ux180_on_1),\n",
    "                  #(2, 0, TomoRotations.c2not1_ux180_on_1),\n",
    "                  #(2, 90, TomoRotations.c2not1_ux180_on_1),\n",
    "                  #(1, 0, TomoRotations.c2not1_ux180_on_1),\n",
    "                  #(1, 90, TomoRotations.c2not1_ux180_on_1),\n",
    "                  #(1, 0, TomoRotations.c1not2),\n",
    "                  #(1, 90, TomoRotations.c1not2),\n",
    "                  #(2, 0, TomoRotations.c1not2),\n",
    "                  (2, 90, TomoRotations.c1not2),\n",
    "    \n",
    "                  # for debug, not needed for reconstruction\n",
    "                  #(1, 0, TomoRotations.c2not1),\n",
    "                  #(1, 90, TomoRotations.c2not1),\n",
    "                  #(2, 0, TomoRotations.c2not1),\n",
    "                  #(2, 90, TomoRotations.c2not1)\n",
    "                 ]\n",
    "        \n",
    "# for cnot\n",
    "\n",
    "\n",
    "dd_cnot_tau = -100e-9#-75.5e-9\n",
    "dd_cnot_tau = -tau2_pspacing/2   # first data point in calibration mes above\n",
    "dd_cnot_tau_fix = common.dd_tau  # set 'None' for deer_dd_par_tau\n",
    "dd_order = common.dd_order #15\n",
    "dd_type =  common.dd_type #DDMethods.SE   #DDMethods.XY8\n",
    "\n",
    "\n",
    "tomo_rotations = tomo_rotations[::-1]\n",
    "tomo_rotations "
   ]
  },
  {
   "cell_type": "code",
   "execution_count": 235,
   "metadata": {},
   "outputs": [
    {
     "data": {
      "text/plain": [
       "-1e-07"
      ]
     },
     "execution_count": 235,
     "metadata": {},
     "output_type": "execute_result"
    }
   ],
   "source": [
    "dd_cnot_tau"
   ]
  },
  {
   "cell_type": "code",
   "execution_count": 33,
   "metadata": {
    "scrolled": true
   },
   "outputs": [
    {
     "data": {
      "text/plain": [
       "OrderedDict([('name', 'tomo_rot=c2not1'), ('experiment', 'tomography'), ('savetag', 'tomography_on1_rot=c2not1_phi=0'), ('microwave_amplitude', 0.075), ('microwave_frequency', 2735400000.0), ('rabi_period', 1.164e-07), ('tau_start', 0.0), ('tau_step', 5.82e-09), ('rabi_on_nv', 1), ('rabi_phase_deg', 0), ('rotation', <TomoRotations.c2not1: 6>), ('init_state', <TomoInit.none: 0>), ('init_state_kwargs', {}), ('cnot_kwargs', {'tau_dd_fix': 5e-07}), ('tau_cnot', -1.93375e-07), ('dd_type_cnot', <DDMethods.XY4: [0.0, 90.0, 0.0, 90.0]>), ('dd_order', 1), ('alternating', True), ('num_of_points', 1), ('f_mw_2', '2825300000.0'), ('rabi_period_mw_2', '1.101e-07'), ('ampl_mw_2', '0.175'), ('measurement_time', None), ('optimize_time', None), ('freq_optimize_time', None), ('fit_experiment', 'sine'), ('env_type', <EnvelopeMethods.rectangle: 'Sin'>), ('gated', False), ('sequence_mode', False), ('ctr_single_sweeps', False), ('ctr_n_sweeps', 0), ('ctr_n_cycles', 0), ('analysis_interval', None), ('sampling_freq', 12000000000.0), ('bin_width', 4e-09), ('wait_time', 1e-06), ('laser_delay', 2e-07), ('laser_safety', 2e-07), ('sync_channel', 'd_ch1'), ('gate_channel', ''), ('laser_channel', 'd_ch2'), ('laser_length', 3e-06), ('wait_length', 1e-06), ('trigger_length', 2e-08), ('delay_length', 1.7e-07), ('channel_amp', 1.0), ('microwave_channel', 'a_ch1'), ('optimize_channel', '/Dev1/PFI0'), ('readout_end', 3e-07), ('max_tau', 0.001), ('max_tau_start', 0.001), ('max_rabi_period', 0.001), ('min_microwave_frequency', 1), ('max_microwave_amplitude', 0.25), ('params', {'alternating': True, 'laser_ignore_list': [], 'controlled_variable': array([0.]), 'units': ('s', ''), 'labels': ('Tau', 'Signal'), 'number_of_lasers': 2, 'counting_length': 1.2566400001999998e-05})])"
      ]
     },
     "execution_count": 33,
     "metadata": {},
     "output_type": "execute_result"
    }
   ],
   "source": [
    "rotation = TomoRotations.c2not1\n",
    "on_nv=1\n",
    "try:\n",
    "\n",
    "    qmeas = setup_tomography_params(n_tau=1, \n",
    "                                    read_rotation=rotation, init_state=init,\n",
    "                                    rabi_on_nv=on_nv, rabi_phase_deg=phase,\n",
    "                                    f_mw_2=f_deer, ampl_mw_2=ampl_2, rabi_period_mw_2=t_rabi_2,\n",
    "                                     tau_cnot=dd_cnot_tau, dd_type_cnot=dd_type, dd_order=dd_order,\n",
    "                                     use_shaped_cnot=False, tau_dd_fix=dd_cnot_tau_fix,\n",
    "                                     alternating=True)\n",
    "\n",
    "\n",
    "    #qmeas['num_of_points'] = 1\n",
    "\n",
    "    # tomography with rect pulses, but shaped cnot\n",
    "    \"\"\"\n",
    "    cnot_kwargs = {'env_type':Evm.parabola, \n",
    "                   'order_P': 1,\n",
    "                   'tau_dd_fix': 500e-9,\n",
    "                   'rabi_period': common.rabi_shaped['period'],\n",
    "                   'rabi_period_mw_2': list_2_csv(common.t_rabi_2_shaped)}\n",
    "    \"\"\"\n",
    "    #qmeas['cnot_kwargs'] = cnot_kwargs\n",
    "    #qmeas['tau_cnot'] = 70e-9\n",
    "except:\n",
    "    logger.exception(\"\")\n",
    "    \n",
    "uglobals.abort.clear()\n",
    "\n",
    "run_generic(qmeas)\n",
    "qmeas"
   ]
  },
  {
   "cell_type": "code",
   "execution_count": 179,
   "metadata": {},
   "outputs": [
    {
     "data": {
      "text/plain": [
       "<function setup_tomography_params at 0x0000000117743D08>"
      ]
     },
     "execution_count": 179,
     "metadata": {},
     "output_type": "execute_result"
    }
   ],
   "source": [
    "setup_tomography_params"
   ]
  },
  {
   "cell_type": "markdown",
   "metadata": {},
   "source": [
    "### Full tomographic set"
   ]
  },
  {
   "cell_type": "code",
   "execution_count": 154,
   "metadata": {},
   "outputs": [
    {
     "data": {
      "text/plain": [
       "[<TomoInit.none: 0>, <TomoInit.ux180_on_2: 8>]"
      ]
     },
     "execution_count": 154,
     "metadata": {},
     "output_type": "execute_result"
    }
   ],
   "source": [
    "tomo_inits =  [TomoInit(val) for val in TomoInit][:10][::-1][3:]\n",
    "tomo_inits = [init]\n",
    "tomo_inits = []\n",
    "tomo_inits += [TomoInit.none]\n",
    "tomo_inits += [TomoInit.ux180_on_2]\n",
    "#tomo_inits += [TomoInit.ux180_on_1]\n",
    "#tomo_inits += [TomoInit.ux180_on_both]\n",
    "#tomo_inits += [TomoInit.ux90_on_1]\n",
    "#tomo_inits += [TomoInit.ux90_on_1_ux180_on_2]\n",
    "tomo_inits"
   ]
  },
  {
   "cell_type": "markdown",
   "metadata": {},
   "source": [
    "Attention: Need to run 'Tomography' cell above, especiall if changed common params (eg. shaping off/on)."
   ]
  },
  {
   "cell_type": "code",
   "execution_count": 184,
   "metadata": {},
   "outputs": [
    {
     "data": {
      "text/plain": [
       "['tomography_on2_rot=c1not2_phi=90_init_none']"
      ]
     },
     "execution_count": 184,
     "metadata": {},
     "output_type": "execute_result"
    }
   ],
   "source": [
    "uglobals.abort.clear()\n",
    "\n",
    "use_shaped_cnot = False\n",
    "use_ac_stark_comp = False\n",
    "\n",
    "ampl_acstark_comp_2on1 = 0.045\n",
    "ampl_acstark_comp_1on2 = 0#0.053\n",
    "df_calib_offset = -15e6\n",
    "df_offset_2on1 = (ampl_acstark_comp_2on1/common.mw_amp)**2*df_calib_offset\n",
    "df_offset_1on2 = (ampl_acstark_comp_1on2/common.mw_amps_2[0])**2*df_calib_offset\n",
    "fac_comp = 3\n",
    "\n",
    "\n",
    "#tomo_inits =  [TomoInit(val) for val in TomoInit][:10][::-1][\n",
    "debug = []\n",
    "tomo_rots_init = []\n",
    "\n",
    "try:\n",
    "    # Create list of measurements\n",
    "    for init in tomo_inits:\n",
    "        \n",
    "        # reference measurements for init of any state, except 00\n",
    "        if init != TomoInit.none:\n",
    "            tomo_add = [\n",
    "                  (1, 0, TomoRotations.none, TomoInit.none),\n",
    "                  (1, 90, TomoRotations.none, TomoInit.none),  # not needed as ref, but usefull to check init state\n",
    "                  (2, 0, TomoRotations.none, TomoInit.none),\n",
    "                  (2, 90, TomoRotations.none, TomoInit.none)   # not needed as ref, but usefull to check init state\n",
    "            ]\n",
    "            #[tomo_rots_init.append(rot) for rot in tomo_add]\n",
    "        \n",
    "        # for 00, we add again (possibly missing) basic tomo rots. They also server as ref measurements.\n",
    "        elif init == TomoInit.none:\n",
    "            tomo_add = [\n",
    "                  (1, 0, TomoRotations.none, TomoInit.none),\n",
    "                  (1, 90, TomoRotations.none, TomoInit.none),  # must, because not only ref, but also tomography\n",
    "                  (2, 0, TomoRotations.none ,TomoInit.none),\n",
    "                  (2, 90, TomoRotations.none, TomoInit.none)   # must, because not only ref, but also tomography\n",
    "            ]\n",
    "            #[tomo_rots_init.append(rot) for rot in tomo_add if rot[0:-1] not in tomo_rotations]\n",
    "        \n",
    "        for (on_nv, phase,  rot) in tomo_rotations:\n",
    "            tomo_rots_init.append([on_nv, phase, rot, init])\n",
    "        \n",
    "    # do experiments\n",
    "    for (on_nv, phase,  rot, init) in tomo_rots_init:\n",
    "        qmeas = setup_tomography_params(n_tau=2, \n",
    "                                    read_rotation=rot, init_state=init,\n",
    "                                    rabi_on_nv=on_nv, rabi_phase_deg=phase,\n",
    "                                    f_mw_2=f_deer, ampl_mw_2=ampl_2, rabi_period_mw_2=t_rabi_2,\n",
    "                                     tau_cnot=dd_cnot_tau, dd_type_cnot=dd_type, dd_order=dd_order,\n",
    "                                     #tau_cnot=dd_cnot_tau, dd_type_cnot=dd_type, dd_order=1,  # DEBUG ONLY\n",
    "                                     use_shaped_cnot=use_shaped_cnot, tau_dd_fix=dd_cnot_tau_fix,\n",
    "                                     alternating=True)\n",
    "\n",
    "        qmeas['measurement_time'] = 5*60\n",
    "        qmeas['savetag'] += f\"_init_{init.name}\" \n",
    "        \n",
    "        if use_ac_stark_comp:\n",
    "            qmeas = add_ac_stark_compensation(qmeas, ampl_comp=[ampl_acstark_comp_2on1,ampl_acstark_comp_1on2], \n",
    "                                  fac_comp=fac_comp, df_offset=[df_offset_2on1,df_offset_1on2])\n",
    "        \n",
    "        if 'c1not2' in rot.name or 'c2not1' in rot.name:\n",
    "            qmeas['measurement_time'] = 30*60\n",
    "\n",
    "        debug.append((rot, qmeas))\n",
    "        run_generic(qmeas)\n",
    "            \n",
    "\n",
    "except:\n",
    "    logger.exception(\"\")\n",
    "\n",
    "[qm[1]['savetag'] for qm in debug]"
   ]
  },
  {
   "cell_type": "code",
   "execution_count": 2439,
   "metadata": {},
   "outputs": [
    {
     "data": {
      "text/plain": [
       "(<TomoRotations.c2not1: 6>, OrderedDict([('name', 'tomo_rot=c2not1'), ('experiment', 'tomography'), ('savetag', 'tomography_on1_rot=c2not1_phi=0_init_ux180_on_both'), ('microwave_amplitude', 0.075), ('microwave_frequency', 2736500000.0), ('rabi_period', 1.162e-07), ('tau_start', 0.0), ('tau_step', 5.8099999999999996e-09), ('rabi_on_nv', 1), ('rabi_phase_deg', 0), ('rotation', <TomoRotations.c2not1: 6>), ('init_state', <TomoInit.ux180_on_both: 9>), ('init_state_kwargs', {}), ('cnot_kwargs', {'tau_dd_fix': 5e-07}), ('tau_cnot', -7.55e-08), ('dd_type_cnot', <DDMethods.KDD4: [30.0, 0.0, 90.0, 0.0, 30.0, 120.0, 90.0, 180.0, 90.0, 120.0, 30.0, 0.0, 90.0, 0.0, 30.0, 120.0, 90.0, 180.0, 90.0, 120.0]>), ('dd_order', 2), ('alternating', True), ('num_of_points', 50), ('f_mw_2', '2824600000.0'), ('rabi_period_mw_2', '1.098e-07'), ('ampl_mw_2', '0.175'), ('measurement_time', 1800), ('optimize_time', None), ('freq_optimize_time', None), ('fit_experiment', 'sine'), ('env_type', <EnvelopeMethods.rectangle: 'Sin'>)]))"
      ]
     },
     "execution_count": 2439,
     "metadata": {},
     "output_type": "execute_result"
    }
   ],
   "source": [
    "debug[-1]"
   ]
  },
  {
   "cell_type": "markdown",
   "metadata": {},
   "source": [
    "### tomographic set for different tau_cnot"
   ]
  },
  {
   "cell_type": "code",
   "execution_count": 543,
   "metadata": {},
   "outputs": [
    {
     "data": {
      "text/plain": [
       "['tomography_on1_rot=none_phi=0_init_none_tau_cnot=0.0ns', 'tomography_on1_rot=none_phi=90_init_none_tau_cnot=0.0ns', 'tomography_on2_rot=none_phi=0_init_none_tau_cnot=0.0ns', 'tomography_on2_rot=none_phi=90_init_none_tau_cnot=0.0ns', 'tomography_on2_rot=c2not1_phi=90_init_none_tau_cnot=0.0ns', 'tomography_on2_rot=c2not1_phi=0_init_none_tau_cnot=0.0ns', 'tomography_on1_rot=c2not1_phi=90_init_none_tau_cnot=0.0ns', 'tomography_on1_rot=c2not1_phi=0_init_none_tau_cnot=0.0ns', 'tomography_on1_rot=none_phi=0_init_none_tau_cnot=0.0ns', 'tomography_on1_rot=none_phi=90_init_none_tau_cnot=0.0ns', 'tomography_on2_rot=none_phi=0_init_none_tau_cnot=0.0ns', 'tomography_on2_rot=none_phi=90_init_none_tau_cnot=0.0ns', 'tomography_on2_rot=c2not1_phi=90_init_ux180_on_2_tau_cnot=0.0ns', 'tomography_on2_rot=c2not1_phi=0_init_ux180_on_2_tau_cnot=0.0ns', 'tomography_on1_rot=c2not1_phi=90_init_ux180_on_2_tau_cnot=0.0ns', 'tomography_on1_rot=c2not1_phi=0_init_ux180_on_2_tau_cnot=0.0ns', 'tomography_on1_rot=none_phi=0_init_none_tau_cnot=60.0ns', 'tomography_on1_rot=none_phi=90_init_none_tau_cnot=60.0ns', 'tomography_on2_rot=none_phi=0_init_none_tau_cnot=60.0ns', 'tomography_on2_rot=none_phi=90_init_none_tau_cnot=60.0ns', 'tomography_on2_rot=c2not1_phi=90_init_none_tau_cnot=60.0ns', 'tomography_on2_rot=c2not1_phi=0_init_none_tau_cnot=60.0ns', 'tomography_on1_rot=c2not1_phi=90_init_none_tau_cnot=60.0ns', 'tomography_on1_rot=c2not1_phi=0_init_none_tau_cnot=60.0ns', 'tomography_on1_rot=none_phi=0_init_none_tau_cnot=60.0ns', 'tomography_on1_rot=none_phi=90_init_none_tau_cnot=60.0ns', 'tomography_on2_rot=none_phi=0_init_none_tau_cnot=60.0ns', 'tomography_on2_rot=none_phi=90_init_none_tau_cnot=60.0ns', 'tomography_on2_rot=c2not1_phi=90_init_ux180_on_2_tau_cnot=60.0ns', 'tomography_on2_rot=c2not1_phi=0_init_ux180_on_2_tau_cnot=60.0ns', 'tomography_on1_rot=c2not1_phi=90_init_ux180_on_2_tau_cnot=60.0ns', 'tomography_on1_rot=c2not1_phi=0_init_ux180_on_2_tau_cnot=60.0ns', 'tomography_on1_rot=none_phi=0_init_none_tau_cnot=120.0ns', 'tomography_on1_rot=none_phi=90_init_none_tau_cnot=120.0ns', 'tomography_on2_rot=none_phi=0_init_none_tau_cnot=120.0ns', 'tomography_on2_rot=none_phi=90_init_none_tau_cnot=120.0ns', 'tomography_on2_rot=c2not1_phi=90_init_none_tau_cnot=120.0ns', 'tomography_on2_rot=c2not1_phi=0_init_none_tau_cnot=120.0ns', 'tomography_on1_rot=c2not1_phi=90_init_none_tau_cnot=120.0ns', 'tomography_on1_rot=c2not1_phi=0_init_none_tau_cnot=120.0ns', 'tomography_on1_rot=none_phi=0_init_none_tau_cnot=120.0ns', 'tomography_on1_rot=none_phi=90_init_none_tau_cnot=120.0ns', 'tomography_on2_rot=none_phi=0_init_none_tau_cnot=120.0ns', 'tomography_on2_rot=none_phi=90_init_none_tau_cnot=120.0ns', 'tomography_on2_rot=c2not1_phi=90_init_ux180_on_2_tau_cnot=120.0ns', 'tomography_on2_rot=c2not1_phi=0_init_ux180_on_2_tau_cnot=120.0ns', 'tomography_on1_rot=c2not1_phi=90_init_ux180_on_2_tau_cnot=120.0ns', 'tomography_on1_rot=c2not1_phi=0_init_ux180_on_2_tau_cnot=120.0ns', 'tomography_on1_rot=none_phi=0_init_none_tau_cnot=180.0ns', 'tomography_on1_rot=none_phi=90_init_none_tau_cnot=180.0ns', 'tomography_on2_rot=none_phi=0_init_none_tau_cnot=180.0ns', 'tomography_on2_rot=none_phi=90_init_none_tau_cnot=180.0ns', 'tomography_on2_rot=c2not1_phi=90_init_none_tau_cnot=180.0ns', 'tomography_on2_rot=c2not1_phi=0_init_none_tau_cnot=180.0ns', 'tomography_on1_rot=c2not1_phi=90_init_none_tau_cnot=180.0ns', 'tomography_on1_rot=c2not1_phi=0_init_none_tau_cnot=180.0ns', 'tomography_on1_rot=none_phi=0_init_none_tau_cnot=180.0ns', 'tomography_on1_rot=none_phi=90_init_none_tau_cnot=180.0ns', 'tomography_on2_rot=none_phi=0_init_none_tau_cnot=180.0ns', 'tomography_on2_rot=none_phi=90_init_none_tau_cnot=180.0ns', 'tomography_on2_rot=c2not1_phi=90_init_ux180_on_2_tau_cnot=180.0ns', 'tomography_on2_rot=c2not1_phi=0_init_ux180_on_2_tau_cnot=180.0ns', 'tomography_on1_rot=c2not1_phi=90_init_ux180_on_2_tau_cnot=180.0ns', 'tomography_on1_rot=c2not1_phi=0_init_ux180_on_2_tau_cnot=180.0ns', 'tomography_on1_rot=none_phi=0_init_none_tau_cnot=240.0ns']"
      ]
     },
     "execution_count": 543,
     "metadata": {},
     "output_type": "execute_result"
    }
   ],
   "source": [
    "uglobals.abort.clear()\n",
    "\n",
    "use_shaped_cnot = False\n",
    "use_ac_stark_comp = False\n",
    "dd_cnot_taus = np.linspace(0e-9, 300e-9, 6)\n",
    "\n",
    "ampl_acstark_comp_2on1 = 0.045\n",
    "ampl_acstark_comp_1on2 = 0#0.053\n",
    "df_calib_offset = -15e6\n",
    "df_offset_2on1 = (ampl_acstark_comp_2on1/common.mw_amp)**2*df_calib_offset\n",
    "df_offset_1on2 = (ampl_acstark_comp_1on2/common.mw_amps_2[0])**2*df_calib_offset\n",
    "fac_comp = 3\n",
    "\n",
    "\n",
    "#tomo_inits =  [TomoInit(val) for val in TomoInit][:10][::-1][\n",
    "debug = []\n",
    "tomo_rots_init = []\n",
    "\n",
    "try:\n",
    "    # Create list of measurements\n",
    "    for init in tomo_inits:\n",
    "        \n",
    "        # reference measurements for init of any state, except 00\n",
    "        if init != TomoInit.none:\n",
    "            tomo_add = [\n",
    "                  (1, 0, TomoRotations.none, TomoInit.none),\n",
    "                  (1, 90, TomoRotations.none, TomoInit.none),  # not needed as ref, but usefull to check init state\n",
    "                  (2, 0, TomoRotations.none, TomoInit.none),\n",
    "                  (2, 90, TomoRotations.none, TomoInit.none)   # not needed as ref, but usefull to check init state\n",
    "            ]\n",
    "            [tomo_rots_init.append(rot) for rot in tomo_add]\n",
    "        \n",
    "        # for 00, we add again (possibly missing) basic tomo rots. They also server as ref measurements.\n",
    "        elif init == TomoInit.none:\n",
    "            tomo_add = [\n",
    "                  (1, 0, TomoRotations.none, TomoInit.none),\n",
    "                  (1, 90, TomoRotations.none, TomoInit.none),  # must, because not only ref, but also tomography\n",
    "                  (2, 0, TomoRotations.none ,TomoInit.none),\n",
    "                  (2, 90, TomoRotations.none, TomoInit.none)   # must, because not only ref, but also tomography\n",
    "            ]\n",
    "            [tomo_rots_init.append(rot) for rot in tomo_add if rot[0:-1] not in tomo_rotations]\n",
    "        \n",
    "        for (on_nv, phase,  rot) in tomo_rotations:\n",
    "            tomo_rots_init.append([on_nv, phase, rot, init])\n",
    "        \n",
    "    # do experiments\n",
    "    for tau_cnot in dd_cnot_taus:\n",
    "        for (on_nv, phase,  rot, init) in tomo_rots_init:\n",
    "            qmeas = setup_tomography_params(n_tau=50, \n",
    "                                        read_rotation=rot, init_state=init,\n",
    "                                        rabi_on_nv=on_nv, rabi_phase_deg=phase,\n",
    "                                        f_mw_2=f_deer, ampl_mw_2=ampl_2, rabi_period_mw_2=t_rabi_2,\n",
    "                                         tau_cnot=tau_cnot, dd_type_cnot=dd_type, dd_order=dd_order,\n",
    "                                         #tau_cnot=dd_cnot_tau, dd_type_cnot=dd_type, dd_order=1,  # DEBUG ONLY\n",
    "                                         use_shaped_cnot=use_shaped_cnot, tau_dd_fix=dd_cnot_tau_fix,\n",
    "                                         alternating=True)\n",
    "\n",
    "            qmeas['measurement_time'] = 3*60\n",
    "            qmeas['savetag'] += f\"_init_{init.name}_tau_cnot={1e9*tau_cnot:.1f}ns\" \n",
    "\n",
    "            if use_ac_stark_comp:\n",
    "                qmeas = add_ac_stark_compensation(qmeas, ampl_comp=[ampl_acstark_comp_2on1,ampl_acstark_comp_1on2], \n",
    "                                      fac_comp=fac_comp, df_offset=[df_offset_2on1,df_offset_1on2])\n",
    "\n",
    "            if 'c1not2' in rot.name or 'c2not1' in rot.name:\n",
    "                qmeas['measurement_time'] = 20*60\n",
    "\n",
    "            debug.append((rot, qmeas))\n",
    "            \n",
    "            \n",
    "            laser_on()\n",
    "            time.sleep(1)\n",
    "            optimize_position()\n",
    "            optimize_position()\n",
    "            laser_off()\n",
    "            \n",
    "            run_generic(qmeas)\n",
    "            \n",
    "            \n",
    "\n",
    "except:\n",
    "    logger.exception(\"\")\n",
    "\n",
    "[qm[1]['savetag'] for qm in debug]"
   ]
  },
  {
   "cell_type": "markdown",
   "metadata": {},
   "source": [
    "## Create Bell"
   ]
  },
  {
   "cell_type": "code",
   "execution_count": 399,
   "metadata": {},
   "outputs": [
    {
     "data": {
      "text/plain": [
       "0.25240384615384615"
      ]
     },
     "execution_count": 399,
     "metadata": {},
     "output_type": "execute_result"
    }
   ],
   "source": [
    "# drive all HFS lines\n",
    "common.mw_freq = 2736.2e6\n",
    "common.mw_amp = 0.25/(2*1.3)\n",
    "common.rabi_period_rect = 131.42e-9\n",
    "\n",
    "mw_freq_nv2 = 2820.59e6\n",
    "mw_amp_nv2 = 0.25/1.6\n",
    "t_rabi_nv2 = 131.8e-9#common.rabi_period\n",
    "\n",
    "ampl_mw2 = [mw_amp_nv2]#[common.mw_amp]\n",
    "f_mw2 = [mw_freq_nv2]\n",
    "\n",
    "np.sum([common.mw_amp] + ampl_mw2)\n"
   ]
  },
  {
   "cell_type": "code",
   "execution_count": 423,
   "metadata": {},
   "outputs": [
    {
     "data": {
      "text/plain": [
       "7.09e-08"
      ]
     },
     "execution_count": 423,
     "metadata": {},
     "output_type": "execute_result"
    }
   ],
   "source": [
    "common.mw_freq, f_mw2\n",
    "np.max([t_rabi_nv2, common.rabi_period])/2 + 5e-9"
   ]
  },
  {
   "cell_type": "code",
   "execution_count": 449,
   "metadata": {},
   "outputs": [
    {
     "data": {
      "text/plain": [
       "OrderedDict([('name', 'ent_create_bell'), ('experiment', 'ent_create_bell'), ('microwave_amplitude', 0.09615384615384615), ('microwave_frequency', 2736200000.0), ('rabi_period', 1.3142e-07), ('tau_start', 7.09e-08), ('tau_step', 2e-08), ('read_phase_deg', 90), ('dd_type', <DDMethods.XY8: [0.0, 90.0, 0.0, 90.0, 90.0, 0.0, 90.0, 0.0]>), ('dd_order', 4), ('alternating', True), ('num_of_points', 60), ('f_mw_2', '2820590000.0'), ('rabi_period_mw_2', '1.318e-07'), ('ampl_mw_2', '0.15625'), ('measurement_time', None), ('optimize_time', None), ('freq_optimize_time', None), ('fit_experiment', 'sine'), ('env_type', <EnvelopeMethods.rectangle: 'Sin'>), ('savetag', 'ent_create_bell'), ('gated', False), ('sequence_mode', False), ('ctr_single_sweeps', False), ('ctr_n_sweeps', 0), ('ctr_n_cycles', 0), ('analysis_interval', None), ('sampling_freq', 12000000000.0), ('bin_width', 4e-09), ('wait_time', 1e-06), ('laser_delay', 2e-07), ('laser_safety', 2e-07), ('sync_channel', 'd_ch1'), ('gate_channel', ''), ('laser_channel', 'd_ch2'), ('laser_length', 3e-06), ('wait_length', 1e-06), ('trigger_length', 2e-08), ('delay_length', 1.7e-07), ('channel_amp', 1.0), ('microwave_channel', 'a_ch1'), ('optimize_channel', '/Dev1/PFI0'), ('readout_end', 3e-07), ('max_tau', 0.001), ('max_tau_start', 0.001), ('max_rabi_period', 0.001), ('min_microwave_frequency', 1), ('max_microwave_amplitude', 0.25), ('params', {'alternating': True, 'laser_ignore_list': [], 'controlled_variable': array([2.26880e-06, 2.90880e-06, 3.54880e-06, 4.18880e-06, 4.82880e-06,\n",
       "       5.46880e-06, 6.10880e-06, 6.74880e-06, 7.38880e-06, 8.02880e-06,\n",
       "       8.66880e-06, 9.30880e-06, 9.94880e-06, 1.05888e-05, 1.12288e-05,\n",
       "       1.18688e-05, 1.25088e-05, 1.31488e-05, 1.37888e-05, 1.44288e-05,\n",
       "       1.50688e-05, 1.57088e-05, 1.63488e-05, 1.69888e-05, 1.76288e-05,\n",
       "       1.82688e-05, 1.89088e-05, 1.95488e-05, 2.01888e-05, 2.08288e-05,\n",
       "       2.14688e-05, 2.21088e-05, 2.27488e-05, 2.33888e-05, 2.40288e-05,\n",
       "       2.46688e-05, 2.53088e-05, 2.59488e-05, 2.65888e-05, 2.72288e-05,\n",
       "       2.78688e-05, 2.85088e-05, 2.91488e-05, 2.97888e-05, 3.04288e-05,\n",
       "       3.10688e-05, 3.17088e-05, 3.23488e-05, 3.29888e-05, 3.36288e-05,\n",
       "       3.42688e-05, 3.49088e-05, 3.55488e-05, 3.61888e-05, 3.68288e-05,\n",
       "       3.74688e-05, 3.81088e-05, 3.87488e-05, 3.93888e-05, 4.00288e-05]), 'units': ('s', ''), 'labels': ('t_evol', 'Signal'), 'number_of_lasers': 120, 'counting_length': 0.0030663595999999974})])"
      ]
     },
     "execution_count": 449,
     "metadata": {},
     "output_type": "execute_result"
    }
   ],
   "source": [
    "tau_start = np.max([t_rabi_nv2, common.rabi_period])/2 + 5e-9\n",
    "\n",
    "# drive only one, SQT\n",
    "qmeas = setup_ent_create_bell_params(tau_start=tau_start, tau_step=20e-9, n_tau=75,\n",
    "                             f_mw_1=[], f_mw_2=[], ampl_mw_2=[], rabi_period_mw_2=[],\n",
    "                             dd_type=DDMethods.XY8, dd_order=4, alternating=True)\n",
    "\n",
    "# drive two NVs, SQT\n",
    "qmeas = setup_ent_create_bell_params(tau_start=tau_start, tau_step=20e-9, n_tau=60,\n",
    "                             f_mw_1=[], f_mw_2=f_mw2, ampl_mw_2=ampl_mw2, rabi_period_mw_2=[t_rabi_nv2],\n",
    "                             dd_type=DDMethods.XY8, dd_order=4, alternating=True)\n",
    "\n",
    "uglobals.abort.clear()\n",
    "run_generic(qmeas)\n",
    "\n",
    "qmeas"
   ]
  },
  {
   "cell_type": "markdown",
   "metadata": {},
   "source": [
    "## Bell Ramsey"
   ]
  },
  {
   "cell_type": "code",
   "execution_count": 453,
   "metadata": {},
   "outputs": [],
   "source": [
    "t_rabi_bell = 42.9e-6\n",
    "\n",
    "# drive two NVs, SQT\n",
    "qmeas = setup_bell_ramsey_params(tau_start=10e-9, tau_step=2e-9, n_tau=50, t_rabi_bell=t_rabi_bell,\n",
    "                             f_mw_1=[], f_mw_2=f_mw2, ampl_mw_2=ampl_mw2, rabi_period_mw_2=[t_rabi_nv2],\n",
    "                             dd_type=DDMethods.XY8, dd_order=4, alternating=True)\n",
    "\n",
    "uglobals.abort.clear()\n",
    "run_generic(qmeas)"
   ]
  },
  {
   "cell_type": "markdown",
   "metadata": {},
   "source": [
    "# Auto pilot multiple NVs"
   ]
  },
  {
   "cell_type": "markdown",
   "metadata": {},
   "source": [
    "## define pois"
   ]
  },
  {
   "cell_type": "code",
   "execution_count": 78,
   "metadata": {},
   "outputs": [
    {
     "data": {
      "text/plain": [
       "'nv_20220221_80'"
      ]
     },
     "execution_count": 78,
     "metadata": {},
     "output_type": "execute_result"
    }
   ],
   "source": [
    "opt_on_poi =  poimanagerlogic.poi_names[79]  #poimanagerlogic.poi_names[7]\n",
    "opt_on_poi\n",
    "\n"
   ]
  },
  {
   "cell_type": "code",
   "execution_count": 81,
   "metadata": {},
   "outputs": [
    {
     "data": {
      "text/plain": [
       "['nv_20220221_80']"
      ]
     },
     "execution_count": 81,
     "metadata": {},
     "output_type": "execute_result"
    }
   ],
   "source": [
    "pois_double, pois_special = [],[]\n",
    "# south\n",
    "# need to redo xy8\n",
    "for idx in [42, 45, 28, 39, 8, 20, 43, 25, 27, 18]:\n",
    "    pois_double.append(poimanagerlogic.poi_names[int(idx)-1])\n",
    "# north\n",
    "#for idx in [28, 39, 84, 101, 104]:\n",
    "#    pois_double.append(poimanagerlogic.poi_names[int(idx)+53])\n",
    "#pois_double\n",
    "\n",
    "# for DEER\n",
    "pois_special = []\n",
    "# south\n",
    "#25, 43, 20, 8, 53, 2, 30, 29, 24, 31, 47, 14, 26, 33, 23, 58, 60, 48, \n",
    "# 18, 41, 55\n",
    "for idx in [80]:\n",
    "    pois_special.append(poimanagerlogic.poi_names[int(idx)-1])\n",
    "# north\n",
    "#for idx in [90, 108, 67, 84]:\n",
    "#    pois_special.append(poimanagerlogic.poi_names[int(idx)+53])\n",
    "pois_special"
   ]
  },
  {
   "cell_type": "code",
   "execution_count": null,
   "metadata": {},
   "outputs": [],
   "source": [
    "\"21_1\",  \"20_7\", \"20_2\", \"20_4\""
   ]
  },
  {
   "cell_type": "markdown",
   "metadata": {},
   "source": [
    "Rename pois (here swapped day and month in POI string)"
   ]
  },
  {
   "cell_type": "code",
   "execution_count": 35,
   "metadata": {},
   "outputs": [],
   "source": [
    "[poimanagerlogic.rename_poi(p.replace('0301','0103'),p) for p in poimanagerlogic.poi_names[65:]]"
   ]
  },
  {
   "cell_type": "code",
   "execution_count": 209,
   "metadata": {},
   "outputs": [
    {
     "data": {
      "text/plain": [
       "['nv_mayd_20220103_17a', 'nv_mayd_20220103_18a', 'nv_mayd_20220103_19a', 'nv_mayd_20220103_20a', 'nv_mayd_20220103_21a', 'nv_mayd_20220103_22a', 'nv_mayd_20220103_23a', 'nv_mayd_20220103_24a', 'nv_mayd_20220103_25a', 'nv_mayd_20220103_26a']"
      ]
     },
     "execution_count": 209,
     "metadata": {},
     "output_type": "execute_result"
    }
   ],
   "source": [
    "poimanagerlogic.poi_names[-20:-10]"
   ]
  },
  {
   "cell_type": "code",
   "execution_count": 305,
   "metadata": {},
   "outputs": [
    {
     "data": {
      "text/plain": [
       "['nv_20220228_1', 'nv_20220228_2', 'nv_20220228_3', 'nv_20220228_4', 'nv_20220228_5', 'nv_20220228_6', 'nv_20220228_7', 'nv_20220228_8', 'nv_20220228_9', 'nv_20220228_10', 'nv_20220228_11', 'nv_20220228_12', 'nv_20220228_13', 'nv_20220228_14', 'nv_20220228_15', 'nv_20220228_16', 'nv_20220228_17', 'nv_20220228_18', 'nv_20220228_19', 'nv_20220228_20', 'nv_20220228_21', 'nv_20220228_22', 'nv_20220228_23', 'nv_20220228_24', 'nv_20220228_25', 'nv_20220228_26', 'nv_20220228_27', 'nv_20220228_28', 'nv_20220228_29', 'nv_20220228_30', 'nv_20220228_31', 'nv_20220228_32', 'nv_20220228_33', 'nv_20220228_34', 'nv_20220228_35', 'nv_20220228_36', 'nv_20220228_37', 'nv_20220228_38', 'nv_20220228_39', 'nv_20220228_40', 'nv_20220228_41', 'nv_20220228_42', 'nv_20220228_43', 'nv_20220228_44', 'nv_20220228_45', 'nv_20220228_46', 'nv_20220228_47', 'nv_20220228_48', 'nv_20220228_49', 'nv_20220228_50', 'nv_20220228_51', 'nv_20220228_52', 'nv_20220228_53', 'nv_20220228_54', 'nv_20220228_55', 'nv_20220228_56', 'nv_20220228_57', 'nv_20220228_58', 'nv_20220228_59', 'nv_20220228_60', 'nv_20220228_61', 'nv_20220228_62', 'nv_20220228_63', 'nv_20220228_64', 'nv_20220228_65', 'nv_20220228_66']"
      ]
     },
     "execution_count": 305,
     "metadata": {},
     "output_type": "execute_result"
    }
   ],
   "source": [
    "[f\"nv_20220228_{i+1}\" for i, p in enumerate(poimanagerlogic.poi_names) if 'poi' in p]"
   ]
  },
  {
   "cell_type": "code",
   "execution_count": 308,
   "metadata": {},
   "outputs": [
    {
     "data": {
      "text/plain": [
       "[None, None, None, None, None, None, None, None, None, None, None, None, None, None, None, None, None, None, None, None, None, None, None, None, None, None, None, None, None, None, None, None, None, None, None, None, None, None, None, None, None, None, None, None, None, None, None, None, None, None, None, None, None, None, None, None, None, None, None, None, None, None, None, None, None, None]"
      ]
     },
     "execution_count": 308,
     "metadata": {},
     "output_type": "execute_result"
    }
   ],
   "source": [
    "[poimanagerlogic.rename_poi(f\"nv_20220228_{i+1}\",p) for i, p in enumerate(poimanagerlogic.poi_names) if 'poi' in p]"
   ]
  },
  {
   "cell_type": "code",
   "execution_count": 200,
   "metadata": {},
   "outputs": [
    {
     "data": {
      "text/plain": [
       "[None, None, None, None, None, None, None, None, None, None]"
      ]
     },
     "execution_count": 200,
     "metadata": {},
     "output_type": "execute_result"
    }
   ],
   "source": [
    "# CAREFUL: might be buggy\n",
    "[poimanagerlogic.rename_poi(f\"nv_mayd_20220103_{i+17}b\",p) for i, p in enumerate(poimanagerlogic.poi_names[-20:-10])]\n",
    "#[(f\"nv_mayd_20220103_{i+17}a\") for i, p in enumerate(poimanagerlogic.poi_names[80:90])]"
   ]
  },
  {
   "cell_type": "code",
   "execution_count": 33,
   "metadata": {},
   "outputs": [
    {
     "data": {
      "text/plain": [
       "'nv_20220221_08'"
      ]
     },
     "execution_count": 33,
     "metadata": {},
     "output_type": "execute_result"
    }
   ],
   "source": []
  },
  {
   "cell_type": "code",
   "execution_count": 235,
   "metadata": {},
   "outputs": [
    {
     "data": {
      "text/plain": [
       "['nv_20220221_80']"
      ]
     },
     "execution_count": 235,
     "metadata": {},
     "output_type": "execute_result"
    }
   ],
   "source": []
  },
  {
   "cell_type": "markdown",
   "metadata": {},
   "source": [
    "## pODMR (with adjusted Rabi times) for 4 NV orientations"
   ]
  },
  {
   "cell_type": "markdown",
   "metadata": {},
   "source": []
  },
  {
   "cell_type": "code",
   "execution_count": 31,
   "metadata": {},
   "outputs": [
    {
     "data": {
      "text/plain": [
       "['nv_20220221_80']"
      ]
     },
     "execution_count": 31,
     "metadata": {},
     "output_type": "execute_result"
    }
   ],
   "source": []
  },
  {
   "cell_type": "code",
   "execution_count": null,
   "metadata": {},
   "outputs": [],
   "source": []
  },
  {
   "cell_type": "code",
   "execution_count": 35,
   "metadata": {},
   "outputs": [],
   "source": [
    "uglobals.abort.clear()\n",
    "\n",
    "# for pois=None, all experiment will run on the current confocal pos\n",
    "pois = None\n",
    "#pois = poimanagerlogic.poi_names[3:14]\n",
    "pois = [poimanagerlogic.poi_names[120]]#,\n",
    "       # poimanagerlogic.poi_names[3+1],\n",
    "       # poimanagerlogic.poi_names[3+3],\n",
    "       # poimanagerlogic.poi_names[3+5]]\n",
    "opt_on_poi = poimanagerlogic.poi_names[119]\n",
    "\n",
    "logger.info(\"Autopilot is taking of for pois {}\".format(pois))\n",
    "\n",
    "common.rabi_period_rect = 85.0e-9 \n",
    "f_center = 3.05e9\n",
    "f_step_odmr_fine = 2e6\n",
    "n_f_odmr_fine = 150\n",
    "assume_double_nv = True\n",
    "\n",
    "qmeas_list = []\n",
    "\n",
    "#qexp =  setup_podmr_params(f_res=common.mw_freq, p_scale=1, f_step=3000e3, n_f=200)\n",
    "qexp =  setup_podmr_params(f_res=f_center, p_scale=1, f_step=3000e3, n_f=100)\n",
    "qexp['type'] = 'pulsedodmr'\n",
    "qexp['name'] = 'podmr_coarse'\n",
    "qexp['measurement_time'] = 60#200\n",
    "qexp['optimize_time'] = None\n",
    "qexp['freq_optimize_time'] = None\n",
    "qexp['generate_new'] = True\n",
    "qexp['meas_type'] = conventional_measurement\n",
    "qexp['meas_info'] = add_conventional_information\n",
    "# if empty  or commented out, no fit is used\n",
    "qexp['fit_experiment'] = 'lor_dip'\n",
    "qexp['fit_parameter'] = 'Position'\n",
    "if assume_double_nv:\n",
    "    qexp['fit_experiment'] = 'lor_dip_2x'\n",
    "    qexp['fit_parameter'] = 'Position 0'\n",
    "    \n",
    "qexp['update_parameters'] = {'rabi': 'microwave_frequency',\n",
    "                             #'Hahn_Echo': 'microwave_frequency',\n",
    "                             #'Ramsey': 'microwave_frequency',\n",
    "                             #'podmr_fine': {'target_name': 'freq_start',\n",
    "                             #               'func': f\"_x_ - 0.5*({f_step_odmr_fine}*{n_f_odmr_fine})\"\n",
    "                             #              }\n",
    "                            }\n",
    "if assume_double_nv:\n",
    "    qexp['update_parameters'] = {'rabi': {'target_name': 'microwave_frequency',\n",
    "                                         'func': f\"fit_result.result_str_dict['Position 0']['value']\"},\n",
    "                                 'rabi_B': {'target_name': 'microwave_frequency',\n",
    "                                         'func': f\"fit_result.result_str_dict['Position 1']['value']\"},\n",
    "                             #'Hahn_Echo': 'microwave_frequency',\n",
    "                             #'Ramsey': 'microwave_frequency',\n",
    "                             #'podmr_fine': {'target_name': 'freq_start',\n",
    "                             #               'func': f\"_x_ - 0.5*({f_step_odmr_fine}*{n_f_odmr_fine})\"\n",
    "                             #              }\n",
    "                              }\n",
    "\n",
    "qmeas_list.append(copy.deepcopy(qexp))\n",
    "#\"\"\"\n",
    "\n",
    "#Experiment2\n",
    "#\"\"\"\n",
    "qexp = setup_rabi_params(tau_step=2.5*common.rabi_period/50, alternating=False, n_tau=100)\n",
    "qexp['type'] = 'rabi'\n",
    "qexp['measurement_time'] = 60#60#2*60\n",
    "qexp['meas_type'] = conventional_measurement\n",
    "qexp['meas_info'] = add_conventional_information\n",
    "\n",
    "qexp['optimize_time'] = None\n",
    "qexp['freq_optimize_time'] = None\n",
    "\n",
    "# if empty  or commented out, no fit is used\n",
    "qexp['fit_experiment'] = 'sine'\n",
    "qexp['fit_parameter'] = 'Period'\n",
    "qexp['update_parameters'] = {'Ramsey': 'rabi_period',\n",
    "                             'Hahn_Echo': 'rabi_period',\n",
    "                             'podmr_fine': 'rabi_period'}  # feed forware parameters\n",
    "\n",
    "qmeas_list.append(copy.deepcopy(qexp))\n",
    "\n",
    "if assume_double_nv:\n",
    "    qexp = setup_rabi_params(tau_step=2.5*common.rabi_period/50, alternating=False, n_tau=100)\n",
    "    qexp['type'] = 'rabi'\n",
    "    qexp['name'] = 'rabi_B'\n",
    "    qexp['measurement_time'] = 60#60#2*60\n",
    "    qexp['meas_type'] = conventional_measurement\n",
    "    qexp['meas_info'] = add_conventional_information\n",
    "\n",
    "    qexp['optimize_time'] = None\n",
    "    qexp['freq_optimize_time'] = None\n",
    "\n",
    "    # if empty  or commented out, no fit is used\n",
    "    qexp['fit_experiment'] = 'sine'\n",
    "    qexp['fit_parameter'] = 'Period'\n",
    "    qexp['update_parameters'] = {'Ramsey': 'rabi_period',\n",
    "                                 'Hahn_Echo': 'rabi_period',\n",
    "                                 'podmr_fine': 'rabi_period'}  # feed forware parameters\n",
    "\n",
    "    qmeas_list.append(copy.deepcopy(qexp))\n",
    "                                 \n",
    "                                 \n",
    "qexp =  setup_podmr_params(f_res=common.mw_freq, p_scale=1, f_step=f_step_odmr_fine, n_f=n_f_odmr_fine)\n",
    "qexp =  setup_podmr_params(f_res=f_center, p_scale=1, f_step=f_step_odmr_fine, n_f=n_f_odmr_fine)\n",
    "qexp['type'] = 'pulsedodmr'\n",
    "qexp['name'] = 'podmr_fine'\n",
    "qexp['measurement_time'] = 60\n",
    "qexp['optimize_time'] = None\n",
    "qexp['freq_optimize_time'] = None\n",
    "qexp['generate_new'] = True\n",
    "qexp['meas_type'] = conventional_measurement\n",
    "qexp['meas_info'] = add_conventional_information\n",
    "# if empty  or commented out, no fit is used\n",
    "qexp['fit_experiment'] = 'lor_dip'\n",
    "qexp['fit_parameter'] = 'Position'\n",
    "qexp['update_parameters'] = {'Rabi': 'microwave_frequency',\n",
    "                             'Hahn_Echo': 'microwave_frequency',\n",
    "                             'Ramsey': 'microwave_frequency',\n",
    "                              }\n",
    "#qmeas_list.append(copy.deepcopy(qexp))\n",
    "\n",
    "\"\"\"\n",
    "#Experiment3\n",
    "qexp = setup_ramsey_params(tau_start=50e-9, n_tau=400, tau_step=50e-9)  # res= 50 kHz \n",
    "qexp['experiment'] = 'ramsey'\n",
    "qexp['measurement_time'] = 120\n",
    "qexp['generate_new'] = True\n",
    "qexp['meas_type'] = conventional_measurement\n",
    "qexp['meas_info'] = add_conventional_information\n",
    "qexp['fit_experiment'] = 'double_sine_decay'\n",
    "qmeas_list.append(copy.deepcopy(qexp))\n",
    "\n",
    "\"\"\"\n",
    "\n",
    "laser_off()\n",
    "\n",
    "try:\n",
    "    #run_generic_autoexp(qmeas_list,  generate_new=True, optimize_between_exps=False, poi_list=pois)\n",
    "    run_generic_autoexp(qmeas_list,  generate_new=True, optimize_between_exps=True,\n",
    "                        opt_on_poi=opt_on_poi,  # NV as reference\n",
    "    #                    poi_list=pois)\n",
    "    pass\n",
    "\n",
    "except Exception as e:\n",
    "    stack_trace = traceback.format_exc()\n",
    "    logger.exception(\"auto run failed: {}.\\n\".format(stack_trace))\n",
    "\n",
    "\n"
   ]
  },
  {
   "cell_type": "code",
   "execution_count": 31,
   "metadata": {},
   "outputs": [
    {
     "data": {
      "text/plain": [
       "OrderedDict([('name', 'rabi'), ('experiment', 'rabi'), ('rabi_period', 8.5e-08), ('tau_step', 4.249999999999999e-09), ('tau_start', 0.0), ('alternating', False), ('leave_out_tau_idx', ''), ('num_of_points', 100), ('microwave_frequency', 3022400000.0), ('microwave_amplitude', 0.25), ('measurement_time', 60), ('optimize_time', None), ('freq_optimize_time', None), ('fit_experiment', 'sine'), ('env_type', <EnvelopeMethods.rectangle: 'Sin'>), ('type', 'rabi'), ('meas_type', <function conventional_measurement at 0x0000001BC10D5510>), ('meas_info', <function add_conventional_information at 0x0000001BBCB65D90>), ('fit_parameter', 'Period'), ('update_parameters', {'Ramsey': 'rabi_period', 'Hahn_Echo': 'rabi_period', 'podmr_fine': 'rabi_period'})])"
      ]
     },
     "execution_count": 31,
     "metadata": {},
     "output_type": "execute_result"
    }
   ],
   "source": [
    "qmeas_list[1]"
   ]
  },
  {
   "cell_type": "code",
   "execution_count": 99,
   "metadata": {},
   "outputs": [
    {
     "data": {
      "text/plain": [
       "['nv_20220228_43', 'nv_20220228_20', 'nv_20220228_8', 'nv_20220228_19', 'nv_20220228_53', 'nv_20220228_2', 'nv_20220228_30', 'nv_20220228_29', 'nv_20220228_24', 'nv_20220228_31', 'nv_20220228_47', 'nv_20220228_14', 'nv_20220228_26', 'nv_20220228_33', 'nv_20220228_23', 'nv_20220228_58', 'nv_20220228_60', 'nv_20220228_48', 'nv_20220228_66']"
      ]
     },
     "execution_count": 99,
     "metadata": {},
     "output_type": "execute_result"
    }
   ],
   "source": []
  },
  {
   "cell_type": "code",
   "execution_count": 31,
   "metadata": {},
   "outputs": [
    {
     "data": {
      "text/plain": [
       "'nv_20220221_12'"
      ]
     },
     "execution_count": 31,
     "metadata": {},
     "output_type": "execute_result"
    }
   ],
   "source": [
    "opt_on_poi = poimanagerlogic.poi_names[10]\n",
    "opt_on_poi"
   ]
  },
  {
   "cell_type": "code",
   "execution_count": 89,
   "metadata": {},
   "outputs": [
    {
     "data": {
      "text/plain": [
       "['nv_20220228_9', 'nv_20220228_10', 'nv_20220228_11', 'nv_20220228_12', 'nv_20220228_13', 'nv_20220228_14', 'nv_20220228_15', 'nv_20220228_16', 'nv_20220228_17', 'nv_20220228_18', 'nv_20220228_19', 'nv_20220228_20', 'nv_20220228_21', 'nv_20220228_22', 'nv_20220228_23', 'nv_20220228_24', 'nv_20220228_25', 'nv_20220228_26', 'nv_20220228_27', 'nv_20220228_28', 'nv_20220228_29', 'nv_20220228_30', 'nv_20220228_31', 'nv_20220228_32', 'nv_20220228_33', 'nv_20220228_34', 'nv_20220228_35', 'nv_20220228_36', 'nv_20220228_37', 'nv_20220228_38', 'nv_20220228_39', 'nv_20220228_40', 'nv_20220228_41', 'nv_20220228_42', 'nv_20220228_43', 'nv_20220228_44', 'nv_20220228_45', 'nv_20220228_46', 'nv_20220228_47', 'nv_20220228_48', 'nv_20220228_49', 'nv_20220228_50', 'nv_20220228_51', 'nv_20220228_52', 'nv_20220228_53', 'nv_20220228_54', 'nv_20220228_55', 'nv_20220228_56', 'nv_20220228_57', 'nv_20220228_58', 'nv_20220228_59', 'nv_20220228_60', 'nv_20220228_61', 'nv_20220228_62', 'nv_20220228_63', 'nv_20220228_64', 'nv_20220228_65', 'nv_20220228_66', '1', '2_3_', '1_2_4']"
      ]
     },
     "execution_count": 89,
     "metadata": {},
     "output_type": "execute_result"
    }
   ],
   "source": [
    "pois = poimanagerlogic.poi_names[8:]\n",
    "pois"
   ]
  },
  {
   "cell_type": "markdown",
   "metadata": {},
   "source": [
    "## T2 char script"
   ]
  },
  {
   "cell_type": "code",
   "execution_count": null,
   "metadata": {},
   "outputs": [],
   "source": []
  },
  {
   "cell_type": "markdown",
   "metadata": {},
   "source": [
    "If NV counts while pulsed mes low, make sure tilt correction is off before running!"
   ]
  },
  {
   "cell_type": "code",
   "execution_count": 99,
   "metadata": {},
   "outputs": [],
   "source": [
    "# In order to stop the automized measurement insert pulsedmasterlogic.break_variable = True into manager\n",
    "import copy\n",
    "uglobals.abort.clear()\n",
    "\n",
    "# for pois=None, all experiment will run on the current confocal pos\n",
    "pois = None\n",
    "# start from south\n",
    "#pois = poimanagerlogic.poi_names[9:]\n",
    "# start with potential doubles, then rest\n",
    "#pois = (pois_double + poimanagerlogic.poi_names[12+9:])\n",
    "pois = pois_special\n",
    "opt_on_poi = opt_on_poi\n",
    "\n",
    "logger.info(\"Autopilot is taking of for pois {}\".format(pois))\n",
    "\n",
    "common.rabi_period_rect = 50e-9#85.0e-9 \n",
    "common.mw_amp = 0.25\n",
    "\n",
    "# if rabi frequencies are known already and roughly matched \n",
    "#common.rabi_period_rect = 131e-9#85.0e-9 \n",
    "#common.mw_amp = 0.25/(2*1.3)\n",
    "mw_amp_nv2 = None\n",
    "#mw_amp_nv2 = 0.25/1.6\n",
    "\n",
    "f_center = 2.780e9\n",
    "f_step_odmr_fine = 1.0e6  # make tight to avoid fitting the wrong NV\n",
    "n_f_odmr_fine = 50\n",
    "assume_double_nv = True\n",
    "\n",
    "qmeas_list = []\n",
    "\n",
    "#qexp =  setup_podmr_params(f_res=common.mw_freq, p_scale=1, f_step=3000e3, n_f=200)\n",
    "qexp =  setup_podmr_params(f_res=f_center, p_scale=1, f_step=3000e3, n_f=70)\n",
    "qexp['type'] = 'pulsedodmr'\n",
    "qexp['name'] = 'podmr_coarse'\n",
    "qexp['measurement_time'] = 2*60  # 6*60\n",
    "qexp['optimize_time'] = None\n",
    "qexp['freq_optimize_time'] = None\n",
    "qexp['generate_new'] = True\n",
    "qexp['meas_type'] = conventional_measurement\n",
    "qexp['meas_info'] = add_conventional_information\n",
    "# if empty  or commented out, no fit is used\n",
    "qexp['fit_experiment'] = 'lor_dip'\n",
    "qexp['fit_parameter'] = 'Position'\n",
    "if assume_double_nv:\n",
    "    qexp['fit_experiment'] = 'lor_dip_2x'\n",
    "    qexp['fit_parameter'] = 'Position 0'\n",
    "#qexp['fit_experiment'] = 'lor_dip'\n",
    "#qexp['fit_parameter'] = 'Position 0'\n",
    "\n",
    "qexp['update_parameters'] = {'rabi': 'microwave_frequency',\n",
    "                             #'Hahn_Echo': 'microwave_frequency',\n",
    "                             #'Ramsey': 'microwave_frequency',\n",
    "                             #'podmr_fine': {'target_name': 'freq_start',\n",
    "                             #               'func': f\"_x_ - 0.5*({f_step_odmr_fine}*{n_f_odmr_fine})\"\n",
    "                             #              }\n",
    "                            }\n",
    "if assume_double_nv:\n",
    "    qexp['update_parameters'] = {'rabi': {'target_name': 'microwave_frequency',\n",
    "                                         'func': f\"fit_result.result_str_dict['Position 0']['value']\"},\n",
    "                                 'rabi_B': {'target_name': 'microwave_frequency',\n",
    "                                         'func': f\"fit_result.result_str_dict['Position 1']['value']\"},\n",
    "                                 'podmr_fine': {'target_name': 'freq_start',\n",
    "                                          'func': f\"fit_result.result_str_dict['Position 0']['value'] - 0.5*({f_step_odmr_fine}*{n_f_odmr_fine})\"},\n",
    "                                 'podmr_fine_B': {'target_name': 'freq_start',\n",
    "                                  'func': f\"fit_result.result_str_dict['Position 1']['value'] - 0.5*({f_step_odmr_fine}*{n_f_odmr_fine})\"}\n",
    "                                }\n",
    "qmeas_list.append(copy.deepcopy(qexp))\n",
    "#\"\"\"\n",
    "\n",
    "#Experiment2\n",
    "#\"\"\"\n",
    "qexp = setup_rabi_params(tau_step=2.5*common.rabi_period/50, alternating=False, n_tau=100)\n",
    "qexp['type'] = 'rabi'\n",
    "qexp['measurement_time'] = 2*60\n",
    "qexp['meas_type'] = conventional_measurement\n",
    "qexp['meas_info'] = add_conventional_information\n",
    "\n",
    "qexp['optimize_time'] = None\n",
    "qexp['freq_optimize_time'] = None\n",
    "\n",
    "# if empty  or commented out, no fit is used\n",
    "qexp['fit_experiment'] = 'sine'\n",
    "qexp['fit_parameter'] = 'Period'\n",
    "qexp['update_parameters'] = {#'Ramsey': 'rabi_period',\n",
    "                             #'Hahn_Echo': 'rabi_period',\n",
    "                             'podmr_fine': 'rabi_period'}  # feed forware parameters\n",
    "\n",
    "qmeas_list.append(copy.deepcopy(qexp))\n",
    "\n",
    "if assume_double_nv:\n",
    "    qexp = setup_rabi_params(tau_step=2.5*common.rabi_period/50, alternating=False, n_tau=100)\n",
    "    if mw_amp_nv2:\n",
    "        qexp['microwave_amplitude'] = mw_amp_nv2\n",
    "    qexp['type'] = 'rabi'\n",
    "    qexp['name'] = 'rabi_B'\n",
    "    qexp['measurement_time'] = 2*60\n",
    "    qexp['meas_type'] = conventional_measurement\n",
    "    qexp['meas_info'] = add_conventional_information\n",
    "\n",
    "    qexp['optimize_time'] = None\n",
    "    qexp['freq_optimize_time'] = None\n",
    "\n",
    "    # if empty  or commented out, no fit is used\n",
    "    qexp['fit_experiment'] = 'sine'\n",
    "    qexp['fit_parameter'] = 'Period'\n",
    "\n",
    "    qexp['update_parameters'] = {#'Ramsey_B': 'rabi_period',\n",
    "                                 #'Hahn_Echo_B': 'rabi_period',\n",
    "                                 'podmr_fine_B': 'rabi_period'}  # feed forware parameters\n",
    "\n",
    "    \n",
    "    qmeas_list.append(copy.deepcopy(qexp))\n",
    "\n",
    "# next Exp\n",
    "qexp =  setup_podmr_params(f_res=common.mw_freq, p_scale=1, f_step=f_step_odmr_fine, n_f=n_f_odmr_fine)\n",
    "qexp =  setup_podmr_params(f_res=f_center, p_scale=1, f_step=f_step_odmr_fine, n_f=n_f_odmr_fine)\n",
    "qexp['type'] = 'pulsedodmr'\n",
    "qexp['name'] = 'podmr_fine'\n",
    "qexp['measurement_time'] = 2*60\n",
    "qexp['optimize_time'] = None\n",
    "qexp['freq_optimize_time'] = None\n",
    "qexp['generate_new'] = True\n",
    "qexp['meas_type'] = conventional_measurement\n",
    "qexp['meas_info'] = add_conventional_information\n",
    "# if empty  or commented out, no fit is used\n",
    "qexp['fit_experiment'] = 'lor_dip'\n",
    "qexp['fit_parameter'] = 'Position'\n",
    "qexp['update_parameters'] = {'rabi_fine': 'microwave_frequency',\n",
    "                             'hahn_echo': 'microwave_frequency',\n",
    "                             'xy8_n': 'microwave_frequency',\n",
    "                              }\n",
    "qmeas_list.append(copy.deepcopy(qexp))\n",
    "\n",
    "if assume_double_nv:\n",
    "    qexp =  setup_podmr_params(f_res=common.mw_freq, p_scale=1, f_step=f_step_odmr_fine, n_f=n_f_odmr_fine)\n",
    "    qexp =  setup_podmr_params(f_res=f_center, p_scale=1, f_step=f_step_odmr_fine, n_f=n_f_odmr_fine)\n",
    "    if mw_amp_nv2:\n",
    "        qexp['microwave_amplitude'] = mw_amp_nv2\n",
    "    qexp['type'] = 'pulsedodmr'\n",
    "    qexp['name'] = 'podmr_fine_B'\n",
    "    qexp['measurement_time'] = 2*60\n",
    "    qexp['optimize_time'] = None\n",
    "    qexp['freq_optimize_time'] = None\n",
    "    qexp['generate_new'] = True\n",
    "    qexp['meas_type'] = conventional_measurement\n",
    "    qexp['meas_info'] = add_conventional_information\n",
    "    # if empty  or commented out, no fit is used\n",
    "    qexp['fit_experiment'] = 'lor_dip'\n",
    "    qexp['fit_parameter'] = 'Position'\n",
    "    qexp['update_parameters'] = {'rabi_fine_B': 'microwave_frequency',\n",
    "                                 'hahn_echo_B': 'microwave_frequency',\n",
    "                                 'xy8_n_B': 'microwave_frequency',\n",
    "                                  }\n",
    "    qmeas_list.append(copy.deepcopy(qexp))\n",
    "\n",
    "    \n",
    "# next Exp\n",
    "qexp = setup_rabi_params(tau_step=2.5*common.rabi_period/50, alternating=False, n_tau=100)\n",
    "qexp['type'] = 'rabi'\n",
    "qexp['name'] = 'rabi_fine'\n",
    "qexp['measurement_time'] = 2*60\n",
    "qexp['meas_type'] = conventional_measurement\n",
    "qexp['meas_info'] = add_conventional_information\n",
    "\n",
    "qexp['optimize_time'] = None\n",
    "qexp['freq_optimize_time'] = None\n",
    "\n",
    "# if empty  or commented out, no fit is used\n",
    "qexp['fit_experiment'] = 'sine'\n",
    "qexp['fit_parameter'] = 'Period'\n",
    "qexp['update_parameters'] = {#'Ramsey': 'rabi_period',\n",
    "                             'hahn_echo': 'rabi_period',\n",
    "                             'xy8_n': 'rabi_period'  # feed forware parameters\n",
    "                            }\n",
    "qmeas_list.append(copy.deepcopy(qexp))\n",
    "\n",
    "if assume_double_nv:\n",
    "    qexp = setup_rabi_params(tau_step=2.5*common.rabi_period/50, alternating=False, n_tau=100)\n",
    "    if mw_amp_nv2:\n",
    "        qexp['microwave_amplitude'] = mw_amp_nv2\n",
    "    qexp['type'] = 'rabi'\n",
    "    qexp['name'] = 'rabi_fine_B'\n",
    "    qexp['measurement_time'] = 2*60\n",
    "    qexp['meas_type'] = conventional_measurement\n",
    "    qexp['meas_info'] = add_conventional_information\n",
    "\n",
    "    qexp['optimize_time'] = None\n",
    "    qexp['freq_optimize_time'] = None\n",
    "\n",
    "    # if empty  or commented out, no fit is used\n",
    "    qexp['fit_experiment'] = 'sine'\n",
    "    qexp['fit_parameter'] = 'Period'\n",
    "    qexp['update_parameters'] = {#'Ramsey': 'rabi_period',\n",
    "                                 'hahn_echo_B': 'rabi_period',\n",
    "                                 'xy8_n_B': 'rabi_period'  # feed forware parameters\n",
    "                            }\n",
    "    qmeas_list.append(copy.deepcopy(qexp))\n",
    "\n",
    "# next Exp    \n",
    "he_tau_step = 100e-9\n",
    "he_n_tau = 50\n",
    "#he_n_tau = 50\n",
    "qexp = setup_hahn_params(tau_start=10e-9, n_tau=he_n_tau, tau_step=he_tau_step, alternating=True)\n",
    "qexp['type'] = 'hahn_echo'\n",
    "qexp['name'] = 'hahn_echo'\n",
    "qexp['measurement_time'] = 3*60  #15\n",
    "qexp['meas_type'] = conventional_measurement\n",
    "qexp['meas_info'] = add_conventional_information\n",
    "\n",
    "qexp['optimize_time'] = None\n",
    "qexp['freq_optimize_time'] = None\n",
    "\n",
    "qexp['fit_experiment'] = 'decay_exp'\n",
    "qmeas_list.append(copy.deepcopy(qexp))\n",
    "\n",
    "if assume_double_nv:\n",
    "    #he_tau_step = 50e-9 #400e-9\n",
    "    #he_n_tau = 50\n",
    "    #he_n_tau = 50\n",
    "    qexp = setup_hahn_params(tau_start=10e-9, n_tau=he_n_tau, tau_step=he_tau_step, alternating=True)\n",
    "    qexp['type'] = 'hahn_echo'\n",
    "    qexp['name'] = 'hahn_echo_B'\n",
    "    qexp['measurement_time'] = 3*60 #15\n",
    "    qexp['meas_type'] = conventional_measurement\n",
    "    qexp['meas_info'] = add_conventional_information\n",
    "\n",
    "    qexp['optimize_time'] = None\n",
    "    qexp['freq_optimize_time'] = None\n",
    "\n",
    "    qexp['fit_experiment'] = 'decay_exp'\n",
    "    qmeas_list.append(copy.deepcopy(qexp))\n",
    "    \n",
    "\n",
    "# next Exp\n",
    "\n",
    "# MUST not be shorter than any pi pulse!\n",
    "xy_tau = 120e-9 # 200e-9#440.0e-9\n",
    "\n",
    "qexp = setup_xy8_nsweep_params(xy_tau, n_n=40, xy8_start=1, xy8_step=2, alternating=True)  \n",
    "qexp['type'] = 'xy8_nsweep'\n",
    "qexp['name'] = 'xy8_n'\n",
    "qexp['measurement_time'] = 12*60  #15\n",
    "qexp['meas_type'] = conventional_measurement\n",
    "qexp['meas_info'] = add_conventional_information\n",
    "\n",
    "qexp['optimize_time'] = None\n",
    "qexp['freq_optimize_time'] = None\n",
    "\n",
    "qexp['fit_experiment'] = 'decay_exp'\n",
    "qmeas_list.append(copy.deepcopy(qexp))\n",
    "\n",
    "if assume_double_nv:\n",
    "    qexp = setup_xy8_nsweep_params(xy_tau, n_n=40, xy8_start=1, xy8_step=2, alternating=True)  \n",
    "    qexp['type'] = 'xy8_nsweep'\n",
    "    qexp['name'] = 'xy8_n_B'\n",
    "    qexp['measurement_time'] = 12*60 #15\n",
    "    qexp['meas_type'] = conventional_measurement\n",
    "    qexp['meas_info'] = add_conventional_information\n",
    "\n",
    "    qexp['optimize_time'] = None\n",
    "    qexp['freq_optimize_time'] = None\n",
    "\n",
    "    qexp['fit_experiment'] = 'decay_exp'\n",
    "    qmeas_list.append(copy.deepcopy(qexp))\n",
    "\n",
    "# next Exp\n",
    "#\n",
    "\n",
    "    \n",
    "    \n",
    "    \n",
    "laser_off()\n",
    "try:\n",
    "    #run_generic_autoexp(qmeas_list,  generate_new=True, optimize_between_exps=False, poi_list=pois)\n",
    "    run_generic_autoexp(qmeas_list,  generate_new=True, optimize_between_exps=True,\n",
    "                        opt_on_poi=opt_on_poi,  # reference for sample shift (on stable, unique NV)\n",
    "                        poi_list=pois)\n",
    "    #pass\n",
    "except Exception as e:\n",
    "    stack_trace = traceback.format_exc()\n",
    "    logger.exception(\"auto run failed: {}.\\n\".format(stack_trace))\n",
    "\n",
    "\n"
   ]
  },
  {
   "cell_type": "code",
   "execution_count": 71,
   "metadata": {},
   "outputs": [
    {
     "data": {
      "text/plain": [
       "OrderedDict([('name', 'rabi_fine_B'), ('experiment', 'rabi_shaped'), ('rabi_period', 1.83e-08), ('tau_step', 9.149999999999999e-10), ('tau_start', 0.0), ('alternating', False), ('leave_out_tau_idx', ''), ('num_of_points', 100), ('microwave_frequency', 3085400000.0), ('microwave_amplitude', 0.25), ('measurement_time', 120), ('optimize_time', None), ('freq_optimize_time', None), ('fit_experiment', 'sine'), ('env_type', <EnvelopeMethods.parabola: 'SinEnvelopeParabolaN'>), ('order_P', 1), ('type', 'rabi'), ('meas_type', <function conventional_measurement at 0x000000B108E1BB70>), ('meas_info', <function add_conventional_information at 0x000000B108E1B620>), ('fit_parameter', 'Period'), ('update_parameters', {'hahn_echo_B': 'rabi_period', 'xy8_n_B': 'rabi_period'})])"
      ]
     },
     "execution_count": 71,
     "metadata": {},
     "output_type": "execute_result"
    }
   ],
   "source": [
    "qmeas_list[-5]"
   ]
  },
  {
   "cell_type": "markdown",
   "metadata": {},
   "source": [
    "## DEER\n",
    "\n",
    "DEER DD requires shaped pulses that are currently not implemented for xy8 sequences. Thus, we have to run the calibration completly again!"
   ]
  },
  {
   "cell_type": "code",
   "execution_count": 35,
   "metadata": {},
   "outputs": [
    {
     "data": {
      "text/plain": [
       "['nv_20220221_80']"
      ]
     },
     "execution_count": 35,
     "metadata": {},
     "output_type": "execute_result"
    }
   ],
   "source": [
    "pois_special[:]"
   ]
  },
  {
   "cell_type": "code",
   "execution_count": 61,
   "metadata": {},
   "outputs": [],
   "source": [
    "if common.rabi_shaped['shaped_on'] == False:\n",
    "    raise ValueError(\"DEER DD only supports shaped pulses.\")\n",
    "\n",
    "import copy\n",
    "uglobals.abort.clear()\n",
    "\n",
    "# for pois=None, all experiment will run on the current confocal pos\n",
    "pois = None\n",
    "# start from south\n",
    "#pois = poimanagerlogic.poi_names[10:]\n",
    "# start with potential doubles, then rest\n",
    "#pois = (pois_double + poimanagerlogic.poi_names[12+9:])\n",
    "pois = pois_special\n",
    "opt_on_poi = opt_on_poi #poimanagerlogic.poi_names[64]\n",
    "\n",
    "logger.info(\"Autopilot is taking of for pois {}\".format(pois))\n",
    "\n",
    "common.rabi_period_rect = 90e-9#85.0e-9 \n",
    "f_center = 2.780e9\n",
    "f_step_odmr_fine = 0.5e6  # make tight to avoid fitting the wrong NV\n",
    "n_f_odmr_fine = 50\n",
    "common.he_tau = 200e-9\n",
    "assume_double_nv = True\n",
    "\n",
    "qmeas_list = []\n",
    "\n",
    "#qexp =  setup_podmr_params(f_res=common.mw_freq, p_scale=1, f_step=3000e3, n_f=200)\n",
    "qexp =  setup_podmr_params(f_res=f_center, p_scale=1, f_step=3000e3, n_f=70)\n",
    "qexp['type'] = 'pulsedodmr'\n",
    "qexp['name'] = 'podmr_coarse'\n",
    "qexp['measurement_time'] = 6*60\n",
    "qexp['optimize_time'] = None\n",
    "qexp['freq_optimize_time'] = None\n",
    "qexp['generate_new'] = True\n",
    "qexp['meas_type'] = conventional_measurement\n",
    "qexp['meas_info'] = add_conventional_information\n",
    "# if empty  or commented out, no fit is used\n",
    "qexp['fit_experiment'] = 'lor_dip'\n",
    "qexp['fit_parameter'] = 'Position'\n",
    "if assume_double_nv:\n",
    "    qexp['fit_experiment'] = 'lor_dip_2x'\n",
    "    qexp['fit_parameter'] = 'Position 0'\n",
    "#qexp['fit_experiment'] = 'lor_dip'\n",
    "#qexp['fit_parameter'] = 'Position 0'\n",
    "\n",
    "qexp['update_parameters'] = {'rabi': 'microwave_frequency',\n",
    "                             #'Hahn_Echo': 'microwave_frequency',\n",
    "                             #'Ramsey': 'microwave_frequency',\n",
    "                             #'podmr_fine': {'target_name': 'freq_start',\n",
    "                             #               'func': f\"_x_ - 0.5*({f_step_odmr_fine}*{n_f_odmr_fine})\"\n",
    "                             #              }\n",
    "                            }\n",
    "if assume_double_nv:\n",
    "    qexp['update_parameters'] = {'rabi': {'target_name': 'microwave_frequency',\n",
    "                                         'func': f\"fit_result.result_str_dict['Position 0']['value']\"},\n",
    "                                 'rabi_B': {'target_name': 'microwave_frequency',\n",
    "                                         'func': f\"fit_result.result_str_dict['Position 1']['value']\"},\n",
    "                                 'deer_f': {'target_name': 'microwave_frequency',\n",
    "                                         'func': f\"fit_result.result_str_dict['Position 0']['value']\"},\n",
    "                                 'podmr_fine': {'target_name': 'freq_start',\n",
    "                                          'func': f\"fit_result.result_str_dict['Position 0']['value'] - 0.5*({f_step_odmr_fine}*{n_f_odmr_fine})\"},\n",
    "                                 'podmr_fine_B': {'target_name': 'freq_start',\n",
    "                                  'func': f\"fit_result.result_str_dict['Position 1']['value'] - 0.5*({f_step_odmr_fine}*{n_f_odmr_fine})\"}\n",
    "                                }\n",
    "qmeas_list.append(copy.deepcopy(qexp))\n",
    "#\"\"\"\n",
    "\n",
    "#Experiment2\n",
    "#\"\"\"\n",
    "qexp = setup_rabi_params(tau_step=2.5*common.rabi_period/50, alternating=False, n_tau=100)\n",
    "qexp['type'] = 'rabi'\n",
    "qexp['name'] = 'rabi'\n",
    "qexp['measurement_time'] = 2*60\n",
    "qexp['meas_type'] = conventional_measurement\n",
    "qexp['meas_info'] = add_conventional_information\n",
    "\n",
    "qexp['optimize_time'] = None\n",
    "qexp['freq_optimize_time'] = None\n",
    "\n",
    "# if empty  or commented out, no fit is used\n",
    "qexp['fit_experiment'] = 'sine'\n",
    "qexp['fit_parameter'] = 'Period'\n",
    "qexp['update_parameters'] = {#'Ramsey': 'rabi_period',\n",
    "                             #'Hahn_Echo': 'rabi_period',\n",
    "                             'podmr_fine': 'rabi_period',\n",
    "                             'deer_f':'rabi_period',\n",
    "                             'deer_t':'rabi_period'}  \n",
    "\n",
    "qmeas_list.append(copy.deepcopy(qexp))\n",
    "\n",
    "if assume_double_nv:\n",
    "    qexp = setup_rabi_params(tau_step=2.5*common.rabi_period/50, alternating=False, n_tau=100)\n",
    "    qexp['type'] = 'rabi'\n",
    "    qexp['name'] = 'rabi_B'\n",
    "    qexp['measurement_time'] = 2*60\n",
    "    qexp['meas_type'] = conventional_measurement\n",
    "    qexp['meas_info'] = add_conventional_information\n",
    "\n",
    "    qexp['optimize_time'] = None\n",
    "    qexp['freq_optimize_time'] = None\n",
    "\n",
    "    # if empty  or commented out, no fit is used\n",
    "    qexp['fit_experiment'] = 'sine'\n",
    "    qexp['fit_parameter'] = 'Period'\n",
    "\n",
    "    qexp['update_parameters'] = {#'Ramsey_B': 'rabi_period',\n",
    "                                 #'Hahn_Echo_B': 'rabi_period',\n",
    "                                 'podmr_fine_B': 'rabi_period',\n",
    "                                 }\n",
    "    \n",
    "    qmeas_list.append(copy.deepcopy(qexp))\n",
    "\n",
    "# next Exp\n",
    "qexp =  setup_podmr_params(f_res=common.mw_freq, p_scale=1, f_step=f_step_odmr_fine, n_f=n_f_odmr_fine)\n",
    "qexp =  setup_podmr_params(f_res=f_center, p_scale=2, f_step=f_step_odmr_fine, n_f=n_f_odmr_fine)\n",
    "qexp['type'] = 'pulsedodmr'\n",
    "qexp['name'] = 'podmr_fine'\n",
    "qexp['measurement_time'] = 2*60\n",
    "qexp['optimize_time'] = None\n",
    "qexp['freq_optimize_time'] = None\n",
    "qexp['generate_new'] = True\n",
    "qexp['meas_type'] = conventional_measurement\n",
    "qexp['meas_info'] = add_conventional_information\n",
    "# if empty  or commented out, no fit is used\n",
    "qexp['fit_experiment'] = 'lor_dip'\n",
    "qexp['fit_parameter'] = 'Position'\n",
    "qexp['update_parameters'] = {'rabi_fine': 'microwave_frequency',\n",
    "                             'hahn_echo': 'microwave_frequency',\n",
    "                             'xy8_n': 'microwave_frequency',\n",
    "                             'deer_f':'microwave_frequency',\n",
    "                             'deer_t':'microwave_frequency'\n",
    "                              }\n",
    "qmeas_list.append(copy.deepcopy(qexp))\n",
    "\n",
    "if assume_double_nv:\n",
    "    qexp =  setup_podmr_params(f_res=common.mw_freq, p_scale=1, f_step=f_step_odmr_fine, n_f=n_f_odmr_fine)\n",
    "    qexp =  setup_podmr_params(f_res=f_center, p_scale=2, f_step=f_step_odmr_fine, n_f=n_f_odmr_fine)\n",
    "    qexp['type'] = 'pulsedodmr'\n",
    "    qexp['name'] = 'podmr_fine_B'\n",
    "    qexp['measurement_time'] = 2*60\n",
    "    qexp['optimize_time'] = None\n",
    "    qexp['freq_optimize_time'] = None\n",
    "    qexp['generate_new'] = True\n",
    "    qexp['meas_type'] = conventional_measurement\n",
    "    qexp['meas_info'] = add_conventional_information\n",
    "    # if empty  or commented out, no fit is used\n",
    "    qexp['fit_experiment'] = 'lor_dip'\n",
    "    qexp['fit_parameter'] = 'Position'\n",
    "    qexp['update_parameters'] = {'rabi_fine_B': 'microwave_frequency',\n",
    "                                 'hahn_echo_B': 'microwave_frequency',\n",
    "                                 'xy8_n_B': 'microwave_frequency',\n",
    "                                 'deer_t':'mw_freq2'\n",
    "                                  }\n",
    "    qmeas_list.append(copy.deepcopy(qexp))\n",
    "\n",
    "    \n",
    "# next Exp\n",
    "qexp = setup_rabi_params(tau_step=2.5*common.rabi_period/50, alternating=False, n_tau=100)\n",
    "qexp['type'] = 'rabi'\n",
    "qexp['name'] = 'rabi_fine'\n",
    "qexp['measurement_time'] = 2*60\n",
    "qexp['meas_type'] = conventional_measurement\n",
    "qexp['meas_info'] = add_conventional_information\n",
    "\n",
    "qexp['optimize_time'] = None\n",
    "qexp['freq_optimize_time'] = None\n",
    "\n",
    "# if empty  or commented out, no fit is used\n",
    "qexp['fit_experiment'] = 'sine'\n",
    "qexp['fit_parameter'] = 'Period'\n",
    "qexp['update_parameters'] = {#'Ramsey': 'rabi_period',\n",
    "                             'hahn_echo': 'rabi_period',\n",
    "                             'xy8_n': 'rabi_period',\n",
    "                             'deer_f':'rabi_period',\n",
    "                             'deer_t': 'rabi_period'\n",
    "                            }\n",
    "qmeas_list.append(copy.deepcopy(qexp))\n",
    "\n",
    "if assume_double_nv:\n",
    "    qexp = setup_rabi_params(tau_step=2.5*common.rabi_period/50, alternating=False, n_tau=100)\n",
    "    qexp['type'] = 'rabi'\n",
    "    qexp['name'] = 'rabi_fine_B'\n",
    "    qexp['measurement_time'] = 2*60\n",
    "    qexp['meas_type'] = conventional_measurement\n",
    "    qexp['meas_info'] = add_conventional_information\n",
    "\n",
    "    qexp['optimize_time'] = None\n",
    "    qexp['freq_optimize_time'] = None\n",
    "\n",
    "    # if empty  or commented out, no fit is used\n",
    "    qexp['fit_experiment'] = 'sine'\n",
    "    qexp['fit_parameter'] = 'Period'\n",
    "    qexp['update_parameters'] = {#'Ramsey': 'rabi_period',\n",
    "                                 'hahn_echo_B': 'rabi_period',\n",
    "                                 'xy8_n_B': 'rabi_period',\n",
    "                                 'deer_f': 'rabi_period2',\n",
    "                                 'deer_t': 'rabi_period2'\n",
    "                            }\n",
    "    qmeas_list.append(copy.deepcopy(qexp))\n",
    "\n",
    "# next Exp\n",
    "#\n",
    "\n",
    "qexp = setup_deer_dd_f_params(f_center, dd_tau=common.he_tau, f_step=3e6, n_f=70,\n",
    "                               t_rabi_2=None, dd_type=DDMethods.XY8, dd_order=30)\n",
    "qexp['type'] = 'DEER_DD_freq'\n",
    "qexp['name'] = 'deer_f'\n",
    "qexp['measurement_time'] = 25*60  #15\n",
    "qexp['meas_type'] = conventional_measurement\n",
    "qexp['meas_info'] = add_conventional_information\n",
    "\n",
    "qexp['optimize_time'] = None\n",
    "qexp['freq_optimize_time'] = None\n",
    "\n",
    "qexp['fit_experiment'] = 'lor_dip_2x'\n",
    "#qmeas_list.append(copy.deepcopy(qexp))\n",
    "\n",
    "\n",
    "t_rabi_2 = 196.5e-9\n",
    "f_deer = 1500e6\n",
    "# range of tau2: 0 to (tau/2-t_pi_1/2-t_pi_2/2)\n",
    "# highest g= n_pi*1/tau_2\n",
    "# lowest  g= n_pi*n_tau/tau_2\n",
    "# T2= 8*order*he_tau\n",
    "qexp = setup_deer_dd_tau_params(f_deer, dd_tau=common.he_tau, tau2_step=-2e-9, n_tau=50,\n",
    "                                t_rabi_2=t_rabi_2, dd_type=DDMethods.XY8, dd_order=45)\n",
    "qexp['type'] = 'DEER_DD_tau'\n",
    "qexp['name'] = 'deer_t'\n",
    "qexp['measurement_time'] = 15*60  #15\n",
    "qexp['meas_type'] = conventional_measurement\n",
    "qexp['meas_info'] = add_conventional_information\n",
    "\n",
    "qexp['optimize_time'] = None\n",
    "qexp['freq_optimize_time'] = None\n",
    "qmeas_list.append(copy.deepcopy(qexp))\n",
    "    \n",
    "    \n",
    "laser_off()\n",
    "try:\n",
    "    #run_generic_autoexp(qmeas_list,  generate_new=True, optimize_between_exps=False, poi_list=pois)\n",
    "    run_generic_autoexp(qmeas_list,  generate_new=True, optimize_between_exps=True,\n",
    "                        opt_on_poi=opt_on_poi,  # reference for sample shift (on stable, unique NV)\n",
    "                        poi_list=pois)\n",
    "    #pass\n",
    "except Exception as e:\n",
    "    stack_trace = traceback.format_exc()\n",
    "    logger.exception(\"auto run failed: {}.\\n\".format(stack_trace))\n",
    "\n",
    "\n"
   ]
  },
  {
   "cell_type": "code",
   "execution_count": 176,
   "metadata": {},
   "outputs": [
    {
     "data": {
      "text/plain": [
       "OrderedDict([('experiment', 'DEER_DD_tau'), ('name', 'deer_dd_tau'), ('microwave_frequency', 2765000000.0), ('microwave_amplitude', 0.15), ('rabi_period', 1.3676809838312765e-07), ('mw_freq2', 1500000000.0), ('num_of_points', 50), ('tau2_start', 0.0), ('tau2_incr', 3e-09), ('measurement_time', 150000), ('optimize_time', None), ('alternating', True), ('tau', 2e-07), ('rabi_period2', 1.3158247448460443e-07), ('mw_amp2', 0.15), ('tau2_rel_to_pi1', True), ('DD_type', <DDMethods.XY8: [0.0, 90.0, 0.0, 90.0, 90.0, 0.0, 90.0, 0.0]>), ('order', 10), ('env_type', <EnvelopeMethods.parabola: 'SinEnvelopeParabolaN'>), ('order_P', 1), ('savetag', 'deer_dd_tau'), ('gated', False), ('sequence_mode', False), ('ctr_single_sweeps', False), ('ctr_n_sweeps', 0), ('ctr_n_cycles', 0), ('freq_optimize_time', None), ('analysis_interval', None)])"
      ]
     },
     "execution_count": 176,
     "metadata": {},
     "output_type": "execute_result"
    }
   ],
   "source": [
    "qexp"
   ]
  },
  {
   "cell_type": "code",
   "execution_count": 26,
   "metadata": {
    "scrolled": true
   },
   "outputs": [],
   "source": [
    "common.he_tau = 0.2e-6\n",
    "t_rabi_2 = 10e-9\n",
    "qexp = setup_deer_dd_tau_params(1e9, dd_tau=common.he_tau, tau2_step=-5e-9, n_tau=50,\n",
    "                                t_rabi_2=t_rabi_2, dd_type=DDMethods.XY8, dd_order=10)\n",
    "qexp['rabi_period'] = 1.3676809838312765e-07\n",
    "qexp['rabi_period2'] = 1.3158247448460443e-07\n",
    "\n",
    "uglobals.abort.clear()\n",
    "run_generic(qexp)"
   ]
  },
  {
   "cell_type": "code",
   "execution_count": 68,
   "metadata": {},
   "outputs": [
    {
     "data": {
      "text/plain": [
       "OrderedDict([('experiment', 'DEER_DD_tau'), ('name', 'deer_dd_tau'), ('microwave_frequency', 2765000000.0), ('microwave_amplitude', 0.15), ('rabi_period', 1.3676809838312765e-07), ('mw_freq2', 1000000000.0), ('num_of_points', 50), ('tau2_start', 0.0), ('tau2_incr', 6e-10), ('measurement_time', 150000), ('optimize_time', None), ('alternating', True), ('tau', 2e-07), ('rabi_period2', 1.3158247448460443e-07), ('mw_amp2', 0.15), ('tau2_rel_to_pi1', True), ('DD_type', <DDMethods.XY8: [0.0, 90.0, 0.0, 90.0, 90.0, 0.0, 90.0, 0.0]>), ('order', 10), ('env_type', <EnvelopeMethods.parabola: 'SinEnvelopeParabolaN'>), ('order_P', 1), ('savetag', 'deer_dd_tau'), ('gated', False), ('sequence_mode', False), ('ctr_single_sweeps', False), ('ctr_n_sweeps', 0), ('ctr_n_cycles', 0), ('freq_optimize_time', None), ('analysis_interval', None), ('sampling_freq', 8000000000.0), ('bin_width', 4e-09), ('wait_time', 1e-06), ('laser_delay', 2e-07), ('laser_safety', 2e-07), ('sync_channel', 'd_ch1'), ('gate_channel', ''), ('laser_channel', 'd_ch2'), ('laser_length', 3e-06), ('wait_length', 1e-06), ('trigger_length', 2e-08), ('delay_length', 1.7e-07), ('channel_amp', 1.0), ('microwave_channel', 'a_ch1'), ('optimize_channel', '/Dev1/PFI0'), ('readout_end', 3e-07), ('max_tau', 0.001), ('max_tau_start', 0.001), ('max_rabi_period', 0.001), ('min_microwave_frequency', 1), ('max_microwave_amplitude', 0.25)])"
      ]
     },
     "execution_count": 68,
     "metadata": {},
     "output_type": "execute_result"
    }
   ],
   "source": [
    "qexp"
   ]
  },
  {
   "cell_type": "markdown",
   "metadata": {},
   "source": [
    "## OLD auto logic"
   ]
  },
  {
   "cell_type": "code",
   "execution_count": 43,
   "metadata": {},
   "outputs": [],
   "source": [
    "# In order to stop the automized measurement insert pulsedmasterlogic.break_variable = True into manager\n",
    "\n",
    "uglobals.abort.clear()\n",
    "qmeas=OrderedDict()\n",
    "# Either specify a list with points of interest or take all poi from the current ROI (use empty list)\n",
    "#qmeas['list_pois'] = []\n",
    "qmeas['list_pois'] = poimanagerlogic.poi_names[10:]\n",
    "qmeas['generate_new'] = True\n",
    "qmeas['no_optimize'] = True\n",
    "logger.info(\"Autopilot is taking of for pois {}\".format(qmeas['list_pois']))\n",
    "# Create another dictionary for the experiments and parameters\n",
    "autoexp=OrderedDict()\n",
    "# Then specify all necessary experiment and parameters\n",
    "\n",
    "\n",
    "# optional parameters \n",
    "qmeas['optimize_between_experiments'] = False\n",
    "\n",
    "\n",
    "#Experiment1\n",
    "# need to specify for the automatic update\n",
    "f_step_odmr_fine=100e3\n",
    "n_f_odmr_fine=100\n",
    "\n",
    "#\"\"\"\n",
    "experiment1 = 'pODMR'\n",
    "qexp =  setup_podmr_params(f_res=common.mw_freq, p_scale=1, f_step=3000e3, n_f=150)\n",
    "\n",
    "qexp['type'] = 'pulsedodmr'\n",
    "qexp['measurement_time'] = 60\n",
    "qexp['optimize_time'] = None\n",
    "qexp['freq_optimize_time'] = None\n",
    "qexp['generate_new'] = True\n",
    "qexp['meas_type'] = conventional_measurement\n",
    "qexp['meas_info'] = add_conventional_information\n",
    "# if empty  or commented out, no fit is used\n",
    "qexp['fit_experiment'] = 'lor_dip'\n",
    "qexp['fit_parameter'] = 'Position'\n",
    "qexp['update_parameters'] = {'Rabi': 'microwave_frequency',\n",
    "                             'Hahn_Echo': 'microwave_frequency',\n",
    "                             'Ramsey': 'microwave_frequency',\n",
    "                             'pODMR_fine': {'target_name': 'freq_start',\n",
    "                                            'func': f\"_x_ - 0.5*({f_step_odmr_fine}*{n_f_odmr_fine})\"}\n",
    "                            }\n",
    "autoexp[experiment1] = copy.deepcopy(qexp)\n",
    "\n",
    "#\"\"\"\n",
    "#Experiment2\n",
    "#\"\"\"\n",
    "\n",
    "experiment2 = 'Rabi'\n",
    "qexp = setup_rabi_params(tau_step=2.5*common.rabi_period/50)\n",
    "qexp['type'] = 'rabi'\n",
    "qexp['measurement_time'] = 60#2*60\n",
    "qexp['meas_type'] = conventional_measurement\n",
    "qexp['meas_info'] = add_conventional_information\n",
    "\n",
    "qexp['optimize_time'] = None\n",
    "qexp['freq_optimize_time'] = None\n",
    "\n",
    "# if empty  or commented out, no fit is used\n",
    "qexp['fit_experiment'] = 'sine'\n",
    "qexp['fit_parameter'] = 'Period'\n",
    "qexp['update_parameters'] = {'Ramsey': 'rabi_period',\n",
    "                             'Hahn_Echo': 'rabi_period',\n",
    "                             'pODMR_fine': 'rabi_period'}  # feed forware parameters\n",
    "\n",
    "autoexp[experiment2] = copy.deepcopy(qexp)\n",
    "\n",
    "\n",
    "#\"\"\"\n",
    "#Experiment2\n",
    "#\"\"\"\n",
    "\"\"\"\n",
    "experiment3 = 'Hahn_Echo'\n",
    "#qexp = setup_hahn_params(tau_start=10e-9, n_tau=50, tau_step=0.2e-6, alternating=True)\n",
    "#\n",
    "#qexp = setup_hahn_params(tau_start=10e-9, n_tau=150, tau_step=125e-9, alternating=True)\n",
    "qexp = setup_hahn_params(tau_start=10e-9, n_tau=75, tau_step=500e-9, alternating=True)\n",
    "qexp['type'] = 'hahnecho'\n",
    "qexp['measurement_time'] = 10*60\n",
    "qexp['meas_type'] = conventional_measurement\n",
    "qexp['meas_info'] = add_conventional_information\n",
    "\n",
    "qexp['optimize_time'] = None\n",
    "qexp['freq_optimize_time'] = None\n",
    "\n",
    "# if empty  or commented out, no fit is used\n",
    "qexp['fit_experiment'] = 'decay'\n",
    "qexp['fit_parameter'] = 'Lifetime'\n",
    "\n",
    "autoexp[experiment3] = copy.deepcopy(qexp)\n",
    "\"\"\"\n",
    "\n",
    "\n",
    "\n",
    "#Experiment4\n",
    "#\"\"\"\n",
    "experiment4 = 'Ramsey'\n",
    "qexp = setup_ramsey_params(tau_start=50e-9, n_tau=200, tau_step=10e-9)  # res= 50 kHz \n",
    "qexp['type'] = 'ramsey'\n",
    "qexp['measurement_time'] = 240\n",
    "qexp['alternating'] = True\n",
    "qexp['generate_new'] = True\n",
    "qexp['meas_type'] = conventional_measurement\n",
    "qexp['meas_info'] = add_conventional_information\n",
    "qexp['fit_experiment'] = 'sine_2x'\n",
    "autoexp[experiment4] = copy.deepcopy(qexp)\n",
    "\n",
    "#\"\"\"\n",
    "\n",
    "\"\"\"\n",
    "experiment3 = 'pODMR_fine'\n",
    "qexp =  setup_podmr_params(f_res=common.mw_freq, p_scale=15, f_step=100e3, n_f=100)\n",
    "\n",
    "qexp['type'] = 'pulsedodmr'\n",
    "qexp['measurement_time'] = 15\n",
    "qexp['optimize_time'] = None\n",
    "qexp['freq_optimize_time'] = None\n",
    "qexp['generate_new'] = True\n",
    "qexp['meas_type'] = conventional_measurement\n",
    "qexp['meas_info'] = add_conventional_information\n",
    "# if empty  or commented out, no fit is used\n",
    "qexp['fit_experiment'] = 'lor_n15'\n",
    "qexp['fit_parameter'] = 'Position'\n",
    "qexp['update_parameters'] = {'Rabi': 'microwave_frequency',\n",
    "                             'pODMR_fine':'microwave_frequency',\n",
    "                             'xy8': 'microwave_frequency',\n",
    "                             'xy8_2': 'microwave_frequency'}\n",
    "\n",
    "autoexp[experiment3] = copy.deepcopy(qexp)\n",
    "\"\"\"\n",
    "# create another dictionary for the parameters\n",
    "\"\"\"\n",
    "autoexp[experiment1]=OrderedDict()\n",
    "autoexp[experiment1]['type'] = 'pulsed_odmr'\n",
    "autoexp[experiment1]['name'] = experiment1\n",
    "autoexp[experiment1]['rabi_period'] = common.rabi_period\n",
    "autoexp[experiment1]['freq_start'] = common.mw_freq -25e6\n",
    "autoexp[experiment1]['freq_step'] = 1e6\n",
    "autoexp[experiment1]['num_of_points'] = 50\n",
    "autoexp[experiment1]['microwave_amplitude'] = common.mw_amp\n",
    "autoexp[experiment1]['measurement_time'] = 10\n",
    "autoexp[experiment1]['optimize_time'] = None\n",
    "autoexp[experiment1]['freq_optimize_time'] = None\n",
    "autoexp[experiment1]['generate_new'] = False\n",
    "autoexp[experiment1]['meas_type'] = conventional_measurement\n",
    "autoexp[experiment1]['meas_info'] = add_conventional_information\n",
    "# if empty  or commented out, no fit is used\n",
    "autoexp[experiment1]['fit_experiment'] = 'lor_neg'\n",
    "autoexp[experiment1]['fit_parameter'] = 'Position'\n",
    "autoexp[experiment1]['update_parameters'] = {'Rabi': 'microwave_frequency', 'xy8': 'microwave_frequency', 'xy8_2': 'microwave_frequency'}\n",
    "\"\"\"\n",
    "\n",
    "# broken to add experiments in loop\n",
    "#autoexp[experiment1] = copy.deepcopy(qexp)\n",
    "#\"\"\"\n",
    "\n",
    "#Experiment2\n",
    "\"\"\"\n",
    "experiment2 = 'Rabi'\n",
    "qexp = setup_rabi_params(tau_step=10e-9)\n",
    "qexp['type'] = 'rabi'\n",
    "qexp['measurement_time'] = 30\n",
    "qexp['optimize_time'] = None\n",
    "qexp['freq_optimize_time'] = None\n",
    "qexp['generate_new'] = True\n",
    "qexp['meas_type'] = conventional_measurement\n",
    "qexp['meas_info'] = add_conventional_information\n",
    "# if empty  or commented out, no fit is used\n",
    "qexp['fit_experiment'] = 'sine'\n",
    "qexp['fit_parameter'] = 'Period'\n",
    "qexp['update_parameters'] = {'ramsey': 'rabi_period'}  # feed forware parameters\n",
    "autoexp[experiment2] = copy.deepcopy(qexp)\n",
    "\n",
    "#Experiment3\n",
    "experiment3 = 'ramsey'\n",
    "qexp = setup_ramsey_params(tau_start=50e-9, n_tau=400, tau_step=50e-9)  # res= 50 kHz \n",
    "qexp['type'] = 'ramsey'\n",
    "qexp['measurement_time'] = 120\n",
    "qexp['generate_new'] = True\n",
    "qexp['meas_type'] = conventional_measurement\n",
    "qexp['meas_info'] = add_conventional_information\n",
    "qexp['fit_experiment'] = 'double_sine_decay'\n",
    "autoexp[experiment3] = copy.deepcopy(qexp)\n",
    "\n",
    "\n",
    "\"\"\"\n",
    "\n",
    "laser_off()\n",
    "do_automized_measurements(qm_dict=qmeas, autoexp=autoexp)\n",
    "\n",
    "\n"
   ]
  },
  {
   "cell_type": "code",
   "execution_count": 320,
   "metadata": {},
   "outputs": [
    {
     "data": {
      "text/plain": [
       "'poi_20210720135257025577'"
      ]
     },
     "execution_count": 320,
     "metadata": {},
     "output_type": "execute_result"
    }
   ],
   "source": [
    "poimanagerlogic.poi_names[-1]"
   ]
  },
  {
   "cell_type": "code",
   "execution_count": 434,
   "metadata": {},
   "outputs": [
    {
     "data": {
      "text/plain": [
       "OrderedDict([('name', 'hahnecho'), ('rabi_period', 5.35e-08), ('microwave_frequency', 2776000000.0), ('microwave_amplitude', 0.25), ('tau_start', 1e-08), ('tau_step', 2e-07), ('num_of_points', 50), ('alternating', True), ('optimize_time', None), ('fit_experiment', 'exp')])"
      ]
     },
     "execution_count": 434,
     "metadata": {},
     "output_type": "execute_result"
    }
   ],
   "source": [
    "qmeas"
   ]
  },
  {
   "cell_type": "code",
   "execution_count": null,
   "metadata": {},
   "outputs": [],
   "source": []
  }
 ],
 "metadata": {
  "celltoolbar": "Raw Cell Format",
  "kernelspec": {
   "display_name": "qudi",
   "language": "python",
   "name": "qudi"
  },
  "language_info": {
   "codemirror_mode": {
    "name": "ipython",
    "version": 3
   },
   "file_extension": ".py",
   "mimetype": "text/x-python",
   "name": "python",
   "nbconvert_exporter": "python",
   "pygments_lexer": "ipython3",
   "version": "3.8.12"
  },
  "pycharm": {
   "stem_cell": {
    "cell_type": "raw",
    "metadata": {
     "collapsed": false
    },
    "source": []
   }
  },
  "toc": {
   "base_numbering": 1,
   "nav_menu": {},
   "number_sections": true,
   "sideBar": true,
   "skip_h1_title": false,
   "title_cell": "Table of Contents",
   "title_sidebar": "Contents",
   "toc_cell": false,
   "toc_position": {
    "height": "875px",
    "left": "36px",
    "top": "111.133px",
    "width": "288px"
   },
   "toc_section_display": true,
   "toc_window_display": true
  },
  "varInspector": {
   "cols": {
    "lenName": 16,
    "lenType": 16,
    "lenVar": 40
   },
   "kernels_config": {
    "python": {
     "delete_cmd_postfix": "",
     "delete_cmd_prefix": "del ",
     "library": "var_list.py",
     "varRefreshCmd": "print(var_dic_list())"
    },
    "r": {
     "delete_cmd_postfix": ") ",
     "delete_cmd_prefix": "rm(",
     "library": "var_list.r",
     "varRefreshCmd": "cat(var_dic_list()) "
    }
   },
   "position": {
    "height": "807px",
    "left": "2887px",
    "right": "20px",
    "top": "197px",
    "width": "350px"
   },
   "types_to_exclude": [
    "module",
    "function",
    "builtin_function_or_method",
    "instance",
    "_Feature"
   ],
   "window_display": true
  }
 },
 "nbformat": 4,
 "nbformat_minor": 1
}
