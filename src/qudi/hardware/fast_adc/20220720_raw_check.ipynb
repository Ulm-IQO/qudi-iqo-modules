{
 "cells": [
  {
   "cell_type": "code",
   "execution_count": 1,
   "id": "554d07eb-9f5a-4e0e-b729-cb7475af771b",
   "metadata": {},
   "outputs": [],
   "source": [
    "binwidth_s = 4e-9\n",
    "record_length = 1e-6\n",
    "number_of_gates = 0"
   ]
  },
  {
   "cell_type": "code",
   "execution_count": 2,
   "id": "3ea5156c-3b6b-45d2-83d1-1dfa2c73c9f6",
   "metadata": {},
   "outputs": [],
   "source": [
    "si.cs.acq_mode = 'STD_MULTI'\n",
    "si.ms.gated = False\n",
    "si.ms.reps = 10"
   ]
  },
  {
   "cell_type": "code",
   "execution_count": 3,
   "id": "8b4832ac-777d-4f8d-85dd-f864810843e1",
   "metadata": {},
   "outputs": [
    {
     "data": {
      "text/plain": [
       "(4e-09, 1e-06, 0)"
      ]
     },
     "execution_count": 3,
     "metadata": {},
     "output_type": "execute_result"
    }
   ],
   "source": [
    "si.configure(binwidth_s, record_length, number_of_gates)"
   ]
  },
  {
   "cell_type": "code",
   "execution_count": 4,
   "id": "16f3a60a-f86f-4888-abcc-8a827ece3a96",
   "metadata": {},
   "outputs": [
    {
     "data": {
      "text/plain": [
       "Card_settings(card=<ctypes.wintypes.LP_c_ulonglong object at 0x000001B901D76DC0>, ai_range_mV=2000, ai_offset_mV=0, ai_term='50Ohm', ai_coupling='DC', acq_mode='STD_MULTI', acq_HW_avg_num=1, acq_pre_trigs_S=16, acq_post_trigs_S=240, acq_mem_size_S=0, acq_seg_size_S=256, acq_loops=10, buf_size_B=2000000000, buf_notify_size_B=4096, clk_samplerate_Hz=250000000, clk_ref_Hz=10000000, trig_mode='EXT', trig_level_mV=1000)"
      ]
     },
     "execution_count": 4,
     "metadata": {},
     "output_type": "execute_result"
    }
   ],
   "source": [
    "si.cs"
   ]
  },
  {
   "cell_type": "code",
   "execution_count": 5,
   "id": "325b24df-4549-43ae-9825-a881a4cf4178",
   "metadata": {},
   "outputs": [
    {
     "data": {
      "text/plain": [
       "Measurement_settings(c_buf_ptr=<spcm_tools.c_char_Array_2000000000 object at 0x000001B901DAB340>, gated=False, init_buf_size_S=1000000000, reps=10, binwidth_s=4e-09, record_length_s=1e-06, number_of_gates=0, seg_size_S=256, seq_size_S=256, seq_size_B=512, reps_per_buf=3906250, actual_length_s=1.024e-06, data_bits=16)"
      ]
     },
     "execution_count": 5,
     "metadata": {},
     "output_type": "execute_result"
    }
   ],
   "source": [
    "si.ms"
   ]
  },
  {
   "cell_type": "code",
   "execution_count": 6,
   "id": "5dd793fc-d48c-4391-be95-59a623b91485",
   "metadata": {},
   "outputs": [],
   "source": [
    "si.cfg.reg.check_cs_registers()"
   ]
  },
  {
   "cell_type": "code",
   "execution_count": 7,
   "id": "57c5e909-c999-4751-9ef4-ba3038e67f58",
   "metadata": {},
   "outputs": [
    {
     "data": {
      "text/plain": [
       "Card_settings(card='', ai_range_mV=2000, ai_offset_mV=0, ai_term='50Ohm', ai_coupling='DC', acq_mode=2, acq_HW_avg_num=1, acq_pre_trigs_S=32, acq_post_trigs_S=240, acq_mem_size_S=2560, acq_seg_size_S=256, acq_loops=0, buf_size_B=0, buf_notify_size_B=4096, clk_samplerate_Hz=250000000, clk_ref_Hz=10000000, trig_mode=1, trig_level_mV=1000)"
      ]
     },
     "execution_count": 7,
     "metadata": {},
     "output_type": "execute_result"
    }
   ],
   "source": [
    "si.cfg.reg.csr"
   ]
  },
  {
   "cell_type": "code",
   "execution_count": 8,
   "id": "00e4940c-ec8e-4c37-9995-0df86315e068",
   "metadata": {},
   "outputs": [],
   "source": [
    "si.ccmd.start_all()\n",
    "si.ccmd.wait_DMA()"
   ]
  },
  {
   "cell_type": "code",
   "execution_count": 9,
   "id": "2d8147bc-e6c1-4e61-a2da-8bed79e33c24",
   "metadata": {},
   "outputs": [],
   "source": [
    "si.pl.cp.dcmd.check_dp_status()"
   ]
  },
  {
   "cell_type": "markdown",
   "id": "e1a73730-f09f-439d-84a9-07b4cdc8a0f2",
   "metadata": {},
   "source": [
    "# check data"
   ]
  },
  {
   "cell_type": "code",
   "execution_count": 10,
   "id": "360c72ef-e272-45b9-a015-30a842ec6218",
   "metadata": {},
   "outputs": [],
   "source": [
    "user_pos_B = 0\n",
    "sample_S = si.ms.seq_size_S * si.ms.reps"
   ]
  },
  {
   "cell_type": "code",
   "execution_count": 11,
   "id": "e4e9ff2f-64c9-447a-b354-8ee7925f8b1f",
   "metadata": {},
   "outputs": [
    {
     "data": {
      "text/plain": [
       "2560"
      ]
     },
     "execution_count": 11,
     "metadata": {},
     "output_type": "execute_result"
    }
   ],
   "source": [
    "sample_S"
   ]
  },
  {
   "cell_type": "code",
   "execution_count": 12,
   "id": "bfd4b106-ce18-456d-af5b-c9a2ec40a2a1",
   "metadata": {},
   "outputs": [],
   "source": [
    "data = si.pl.dp.df.hw_dt._fetch_from_buf(user_pos_B, sample_S)"
   ]
  },
  {
   "cell_type": "code",
   "execution_count": 13,
   "id": "64e351f5-e083-4c1c-b2ab-521a6c3292dc",
   "metadata": {},
   "outputs": [
    {
     "name": "stdout",
     "output_type": "stream",
     "text": [
      "[  116   137   133 ... 15719 15704 15715]\n"
     ]
    }
   ],
   "source": [
    "print(data)"
   ]
  },
  {
   "cell_type": "code",
   "execution_count": null,
   "id": "2e90bdd5-79f1-4861-aa4e-7f3d8740ec8b",
   "metadata": {},
   "outputs": [],
   "source": []
  }
 ],
 "metadata": {
  "kernelspec": {
   "display_name": "qudi",
   "language": "python",
   "name": "qudi"
  },
  "language_info": {
   "codemirror_mode": {
    "name": "ipython",
    "version": 3
   },
   "file_extension": ".py",
   "mimetype": "text/x-python",
   "name": "python",
   "nbconvert_exporter": "python",
   "pygments_lexer": "ipython3",
   "version": "3.8.10"
  }
 },
 "nbformat": 4,
 "nbformat_minor": 5
}
